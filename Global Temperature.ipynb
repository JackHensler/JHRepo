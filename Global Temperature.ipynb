{
  "cells": [
    {
      "cell_type": "code",
      "source": [
        "\"\"\"\n",
        "Day 1\n",
        "Jack and I figured out a platform where we can use realtime collaboration to simultaneously work on our Python code. It's a pretty epic combination between Jupyter Notebooka and Google Docs TBH\n",
        "\"\"\""
      ],
      "outputs": [
        {
          "output_type": "execute_result",
          "execution_count": null,
          "data": {
            "text/plain": "\"\\nDay 1\\nJack and I figured out a platform where we can use realtime collaboration to simultaneously work on our Python code. It's a pretty epic combination between Jupyter Notebooka and Google Docs TBH\\n\""
          },
          "metadata": {}
        }
      ],
      "execution_count": null,
      "metadata": {
        "noteable": {
          "cell_type": "python"
        },
        "ExecuteTime": {
          "end_time": "2023-04-24T19:12:01.534083+00:00",
          "start_time": "2023-04-24T19:12:01.371695+00:00"
        },
        "tags": [
          "show_line_numbers"
        ]
      },
      "id": "8c128b24-2755-4ec6-8e2c-94fe16139689"
    },
    {
      "cell_type": "code",
      "source": [
        "#GAS\n",
        "import numpy as np\n",
        "import pandas as pd\n",
        "import matplotlib.pyplot as plt\n",
        "\n",
        "temps = pd.read_csv('yearly_global_temp.csv')\n",
        "temps"
      ],
      "outputs": [
        {
          "output_type": "display_data",
          "data": {
            "application/vnd.dataresource+json": {
              "schema": {
                "fields": [
                  {
                    "name": "index",
                    "type": "integer"
                  },
                  {
                    "name": "Year",
                    "type": "integer"
                  },
                  {
                    "name": "Value",
                    "type": "number"
                  }
                ],
                "primaryKey": [
                  "index"
                ],
                "pandas_version": "1.4.0"
              },
              "data": [
                {
                  "index": 0,
                  "Year": 1850,
                  "Value": -0.52
                },
                {
                  "index": 1,
                  "Year": 1851,
                  "Value": -0.65
                },
                {
                  "index": 2,
                  "Year": 1852,
                  "Value": -0.55
                },
                {
                  "index": 3,
                  "Year": 1853,
                  "Value": -0.58
                },
                {
                  "index": 4,
                  "Year": 1854,
                  "Value": -0.26
                },
                {
                  "index": 5,
                  "Year": 1855,
                  "Value": -0.51
                },
                {
                  "index": 6,
                  "Year": 1856,
                  "Value": -0.8
                },
                {
                  "index": 7,
                  "Year": 1857,
                  "Value": -0.43
                },
                {
                  "index": 8,
                  "Year": 1858,
                  "Value": -0.44
                },
                {
                  "index": 9,
                  "Year": 1859,
                  "Value": -0.15
                },
                {
                  "index": 10,
                  "Year": 1860,
                  "Value": -0.75
                },
                {
                  "index": 11,
                  "Year": 1861,
                  "Value": -0.25
                },
                {
                  "index": 12,
                  "Year": 1862,
                  "Value": -0.52
                },
                {
                  "index": 13,
                  "Year": 1863,
                  "Value": -0.26
                },
                {
                  "index": 14,
                  "Year": 1864,
                  "Value": -0.32
                },
                {
                  "index": 15,
                  "Year": 1865,
                  "Value": -0.64
                },
                {
                  "index": 16,
                  "Year": 1866,
                  "Value": -0.46
                },
                {
                  "index": 17,
                  "Year": 1867,
                  "Value": -0.65
                },
                {
                  "index": 18,
                  "Year": 1868,
                  "Value": -0.32
                },
                {
                  "index": 19,
                  "Year": 1869,
                  "Value": -0.5
                },
                {
                  "index": 20,
                  "Year": 1870,
                  "Value": -0.28
                },
                {
                  "index": 21,
                  "Year": 1871,
                  "Value": -0.11
                },
                {
                  "index": 22,
                  "Year": 1872,
                  "Value": -0.48
                },
                {
                  "index": 23,
                  "Year": 1873,
                  "Value": -0.39
                },
                {
                  "index": 24,
                  "Year": 1874,
                  "Value": -0.48
                },
                {
                  "index": 25,
                  "Year": 1875,
                  "Value": -0.51
                },
                {
                  "index": 26,
                  "Year": 1876,
                  "Value": -0.27
                },
                {
                  "index": 27,
                  "Year": 1877,
                  "Value": -0.11
                },
                {
                  "index": 28,
                  "Year": 1878,
                  "Value": 0.26
                },
                {
                  "index": 29,
                  "Year": 1879,
                  "Value": -0.25
                },
                {
                  "index": 30,
                  "Year": 1880,
                  "Value": -0.5
                },
                {
                  "index": 31,
                  "Year": 1881,
                  "Value": -0.48
                },
                {
                  "index": 32,
                  "Year": 1882,
                  "Value": -0.2
                },
                {
                  "index": 33,
                  "Year": 1883,
                  "Value": -0.43
                },
                {
                  "index": 34,
                  "Year": 1884,
                  "Value": -0.75
                },
                {
                  "index": 35,
                  "Year": 1885,
                  "Value": -0.45
                },
                {
                  "index": 36,
                  "Year": 1886,
                  "Value": -0.53
                },
                {
                  "index": 37,
                  "Year": 1887,
                  "Value": -0.39
                },
                {
                  "index": 38,
                  "Year": 1888,
                  "Value": -0.74
                },
                {
                  "index": 39,
                  "Year": 1889,
                  "Value": -0.09
                },
                {
                  "index": 40,
                  "Year": 1890,
                  "Value": -0.21
                },
                {
                  "index": 41,
                  "Year": 1891,
                  "Value": -0.39
                },
                {
                  "index": 42,
                  "Year": 1892,
                  "Value": -0.58
                },
                {
                  "index": 43,
                  "Year": 1893,
                  "Value": -0.42
                },
                {
                  "index": 44,
                  "Year": 1894,
                  "Value": 0.1
                },
                {
                  "index": 45,
                  "Year": 1895,
                  "Value": -0.54
                },
                {
                  "index": 46,
                  "Year": 1896,
                  "Value": -0.56
                },
                {
                  "index": 47,
                  "Year": 1897,
                  "Value": -0.7
                },
                {
                  "index": 48,
                  "Year": 1898,
                  "Value": -1.1
                },
                {
                  "index": 49,
                  "Year": 1899,
                  "Value": -0.55
                },
                {
                  "index": 50,
                  "Year": 1900,
                  "Value": -0.08
                },
                {
                  "index": 51,
                  "Year": 1901,
                  "Value": 0.21
                },
                {
                  "index": 52,
                  "Year": 1902,
                  "Value": -0.47
                },
                {
                  "index": 53,
                  "Year": 1903,
                  "Value": 0.05
                },
                {
                  "index": 54,
                  "Year": 1904,
                  "Value": -0.6
                },
                {
                  "index": 55,
                  "Year": 1905,
                  "Value": -0.72
                },
                {
                  "index": 56,
                  "Year": 1906,
                  "Value": -0.31
                },
                {
                  "index": 57,
                  "Year": 1907,
                  "Value": -0.34
                },
                {
                  "index": 58,
                  "Year": 1908,
                  "Value": -0.8
                },
                {
                  "index": 59,
                  "Year": 1909,
                  "Value": -0.75
                },
                {
                  "index": 60,
                  "Year": 1910,
                  "Value": -0.56
                },
                {
                  "index": 61,
                  "Year": 1911,
                  "Value": -0.83
                },
                {
                  "index": 62,
                  "Year": 1912,
                  "Value": -0.77
                },
                {
                  "index": 63,
                  "Year": 1913,
                  "Value": -0.49
                },
                {
                  "index": 64,
                  "Year": 1914,
                  "Value": -0.19
                },
                {
                  "index": 65,
                  "Year": 1915,
                  "Value": -0.2
                },
                {
                  "index": 66,
                  "Year": 1916,
                  "Value": -0.5
                },
                {
                  "index": 67,
                  "Year": 1917,
                  "Value": -1.03
                },
                {
                  "index": 68,
                  "Year": 1918,
                  "Value": -0.37
                },
                {
                  "index": 69,
                  "Year": 1919,
                  "Value": -0.51
                },
                {
                  "index": 70,
                  "Year": 1920,
                  "Value": 0.05
                },
                {
                  "index": 71,
                  "Year": 1921,
                  "Value": -0.17
                },
                {
                  "index": 72,
                  "Year": 1922,
                  "Value": -0.08
                },
                {
                  "index": 73,
                  "Year": 1923,
                  "Value": -0.39
                },
                {
                  "index": 74,
                  "Year": 1924,
                  "Value": 0.01
                },
                {
                  "index": 75,
                  "Year": 1925,
                  "Value": -0.23
                },
                {
                  "index": 76,
                  "Year": 1926,
                  "Value": 0.53
                },
                {
                  "index": 77,
                  "Year": 1927,
                  "Value": -0.61
                },
                {
                  "index": 78,
                  "Year": 1928,
                  "Value": -0.29
                },
                {
                  "index": 79,
                  "Year": 1929,
                  "Value": -0.3
                },
                {
                  "index": 80,
                  "Year": 1930,
                  "Value": 0.21
                },
                {
                  "index": 81,
                  "Year": 1931,
                  "Value": -0.13
                },
                {
                  "index": 82,
                  "Year": 1932,
                  "Value": -0.18
                },
                {
                  "index": 83,
                  "Year": 1933,
                  "Value": -0.36
                },
                {
                  "index": 84,
                  "Year": 1934,
                  "Value": -0.35
                },
                {
                  "index": 85,
                  "Year": 1935,
                  "Value": 0.13
                },
                {
                  "index": 86,
                  "Year": 1936,
                  "Value": -0.3
                },
                {
                  "index": 87,
                  "Year": 1937,
                  "Value": -0.46
                },
                {
                  "index": 88,
                  "Year": 1938,
                  "Value": 0.38
                },
                {
                  "index": 89,
                  "Year": 1939,
                  "Value": -0.28
                },
                {
                  "index": 90,
                  "Year": 1940,
                  "Value": 0.06
                },
                {
                  "index": 91,
                  "Year": 1941,
                  "Value": -0.16
                },
                {
                  "index": 92,
                  "Year": 1942,
                  "Value": -0.17
                },
                {
                  "index": 93,
                  "Year": 1943,
                  "Value": -0.04
                },
                {
                  "index": 94,
                  "Year": 1944,
                  "Value": 0.36
                },
                {
                  "index": 95,
                  "Year": 1945,
                  "Value": -0.05
                },
                {
                  "index": 96,
                  "Year": 1946,
                  "Value": 0
                },
                {
                  "index": 97,
                  "Year": 1947,
                  "Value": 0.32
                },
                {
                  "index": 98,
                  "Year": 1948,
                  "Value": -0.3
                },
                {
                  "index": 99,
                  "Year": 1949,
                  "Value": 0.24
                },
                {
                  "index": 100,
                  "Year": 1950,
                  "Value": -0.02
                },
                {
                  "index": 101,
                  "Year": 1951,
                  "Value": -0.23
                },
                {
                  "index": 102,
                  "Year": 1952,
                  "Value": -0.34
                },
                {
                  "index": 103,
                  "Year": 1953,
                  "Value": 0.33
                },
                {
                  "index": 104,
                  "Year": 1954,
                  "Value": -0.3
                },
                {
                  "index": 105,
                  "Year": 1955,
                  "Value": -0.66
                },
                {
                  "index": 106,
                  "Year": 1956,
                  "Value": -0.27
                },
                {
                  "index": 107,
                  "Year": 1957,
                  "Value": -0.37
                },
                {
                  "index": 108,
                  "Year": 1958,
                  "Value": 0.03
                },
                {
                  "index": 109,
                  "Year": 1959,
                  "Value": 0.49
                },
                {
                  "index": 110,
                  "Year": 1960,
                  "Value": -0.91
                },
                {
                  "index": 111,
                  "Year": 1961,
                  "Value": 0.08
                },
                {
                  "index": 112,
                  "Year": 1962,
                  "Value": 0.36
                },
                {
                  "index": 113,
                  "Year": 1963,
                  "Value": -0.44
                },
                {
                  "index": 114,
                  "Year": 1964,
                  "Value": -0.36
                },
                {
                  "index": 115,
                  "Year": 1965,
                  "Value": -0.15
                },
                {
                  "index": 116,
                  "Year": 1966,
                  "Value": -0.15
                },
                {
                  "index": 117,
                  "Year": 1967,
                  "Value": 0.19
                },
                {
                  "index": 118,
                  "Year": 1968,
                  "Value": 0.8
                },
                {
                  "index": 119,
                  "Year": 1969,
                  "Value": -0.29
                },
                {
                  "index": 120,
                  "Year": 1970,
                  "Value": -0.03
                },
                {
                  "index": 121,
                  "Year": 1971,
                  "Value": -0.07
                },
                {
                  "index": 122,
                  "Year": 1972,
                  "Value": 0.13
                },
                {
                  "index": 123,
                  "Year": 1973,
                  "Value": 0.61
                },
                {
                  "index": 124,
                  "Year": 1974,
                  "Value": 0.18
                },
                {
                  "index": 125,
                  "Year": 1975,
                  "Value": 0.32
                },
                {
                  "index": 126,
                  "Year": 1976,
                  "Value": -0.28
                },
                {
                  "index": 127,
                  "Year": 1977,
                  "Value": 0.29
                },
                {
                  "index": 128,
                  "Year": 1978,
                  "Value": 0.37
                },
                {
                  "index": 129,
                  "Year": 1979,
                  "Value": 0.1
                },
                {
                  "index": 130,
                  "Year": 1980,
                  "Value": 0.19
                },
                {
                  "index": 131,
                  "Year": 1981,
                  "Value": 0.85
                },
                {
                  "index": 132,
                  "Year": 1982,
                  "Value": -0.06
                },
                {
                  "index": 133,
                  "Year": 1983,
                  "Value": 0.64
                },
                {
                  "index": 134,
                  "Year": 1984,
                  "Value": 0.36
                },
                {
                  "index": 135,
                  "Year": 1985,
                  "Value": 0.42
                },
                {
                  "index": 136,
                  "Year": 1986,
                  "Value": 0.67
                },
                {
                  "index": 137,
                  "Year": 1987,
                  "Value": -0.25
                },
                {
                  "index": 138,
                  "Year": 1988,
                  "Value": 0.51
                },
                {
                  "index": 139,
                  "Year": 1989,
                  "Value": 0.66
                },
                {
                  "index": 140,
                  "Year": 1990,
                  "Value": 1.61
                },
                {
                  "index": 141,
                  "Year": 1991,
                  "Value": 0.45
                },
                {
                  "index": 142,
                  "Year": 1992,
                  "Value": 0.78
                },
                {
                  "index": 143,
                  "Year": 1993,
                  "Value": 0.64
                },
                {
                  "index": 144,
                  "Year": 1994,
                  "Value": 0.41
                },
                {
                  "index": 145,
                  "Year": 1995,
                  "Value": 0.75
                },
                {
                  "index": 146,
                  "Year": 1996,
                  "Value": 0.44
                },
                {
                  "index": 147,
                  "Year": 1997,
                  "Value": 0.81
                },
                {
                  "index": 148,
                  "Year": 1998,
                  "Value": 0.94
                },
                {
                  "index": 149,
                  "Year": 1999,
                  "Value": 0.36
                },
                {
                  "index": 150,
                  "Year": 2000,
                  "Value": 1.14
                },
                {
                  "index": 151,
                  "Year": 2001,
                  "Value": 0.85
                },
                {
                  "index": 152,
                  "Year": 2002,
                  "Value": 1.58
                },
                {
                  "index": 153,
                  "Year": 2003,
                  "Value": 0.84
                },
                {
                  "index": 154,
                  "Year": 2004,
                  "Value": 1.02
                },
                {
                  "index": 155,
                  "Year": 2005,
                  "Value": 1.36
                },
                {
                  "index": 156,
                  "Year": 2006,
                  "Value": 1.2
                },
                {
                  "index": 157,
                  "Year": 2007,
                  "Value": 1.27
                },
                {
                  "index": 158,
                  "Year": 2008,
                  "Value": 1.65
                },
                {
                  "index": 159,
                  "Year": 2009,
                  "Value": 0.83
                },
                {
                  "index": 160,
                  "Year": 2010,
                  "Value": 1.54
                },
                {
                  "index": 161,
                  "Year": 2011,
                  "Value": 1.27
                },
                {
                  "index": 162,
                  "Year": 2012,
                  "Value": 0.93
                },
                {
                  "index": 163,
                  "Year": 2013,
                  "Value": 1.1
                },
                {
                  "index": 164,
                  "Year": 2014,
                  "Value": 1.52
                },
                {
                  "index": 165,
                  "Year": 2015,
                  "Value": 1.76
                },
                {
                  "index": 166,
                  "Year": 2016,
                  "Value": 2.5
                },
                {
                  "index": 167,
                  "Year": 2017,
                  "Value": 2.15
                },
                {
                  "index": 168,
                  "Year": 2018,
                  "Value": 1.63
                },
                {
                  "index": 169,
                  "Year": 2019,
                  "Value": 2.14
                },
                {
                  "index": 170,
                  "Year": 2020,
                  "Value": 1.95
                },
                {
                  "index": 171,
                  "Year": 2021,
                  "Value": 1.58
                },
                {
                  "index": 172,
                  "Year": 2022,
                  "Value": 2.13
                },
                {
                  "index": 173,
                  "Year": 2023,
                  "Value": 2.26
                }
              ],
              "datalink": {
                "display_id": "6e367a1d-8adf-43e5-9f89-4bccb02b41da"
              }
            }
          },
          "metadata": {
            "application/vnd.dataresource+json": {
              "datalink": {
                "dataframe_info": {
                  "default_index_used": true,
                  "orig_size_bytes": 2912,
                  "orig_num_rows": 174,
                  "orig_num_cols": 2,
                  "truncated_string_columns": [],
                  "truncated_size_bytes": 2912,
                  "truncated_num_rows": 174,
                  "truncated_num_cols": 2
                },
                "dx_settings": {
                  "NUM_PAST_SAMPLES_TRACKED": 3,
                  "ENABLE_DATALINK": true,
                  "DISPLAY_MODE": "simple",
                  "GENERATE_DEX_METADATA": false,
                  "STRINGIFY_INDEX_VALUES": false,
                  "ALLOW_NOTEABLE_ATTRS": true,
                  "DISPLAY_MAX_COLUMNS": 100,
                  "HTML_TABLE_SCHEMA": false,
                  "SAMPLING_FACTOR": 0.1,
                  "LOG_LEVEL": 30,
                  "ENABLE_ASSIGNMENT": true,
                  "FLATTEN_INDEX_VALUES": false,
                  "DEV_MODE": false,
                  "COLUMN_SAMPLING_METHOD": "outer",
                  "FLATTEN_COLUMN_VALUES": true,
                  "DISPLAY_MAX_ROWS": 50000,
                  "ROW_SAMPLING_METHOD": "random",
                  "RANDOM_STATE": 12648430,
                  "DB_LOCATION": ":memory:",
                  "STRINGIFY_COLUMN_VALUES": true,
                  "SAMPLING_METHOD": "random",
                  "MAX_STRING_LENGTH": 250,
                  "MAX_RENDER_SIZE_BYTES": 104857600,
                  "RESET_INDEX_VALUES": false
                },
                "display_id": "6e367a1d-8adf-43e5-9f89-4bccb02b41da",
                "applied_filters": [],
                "sample_history": [],
                "sampling_time": "2023-04-30T17:45:36.717842",
                "variable_name": "temps",
                "user_variable_name": "temps"
              },
              "display_id": "6e367a1d-8adf-43e5-9f89-4bccb02b41da"
            }
          }
        }
      ],
      "execution_count": null,
      "metadata": {
        "jupyter": {
          "outputs_hidden": false,
          "source_hidden": false
        },
        "noteable": {
          "cell_type": "code"
        },
        "ExecuteTime": {
          "end_time": "2023-04-30T17:45:36.874161+00:00",
          "start_time": "2023-04-30T17:45:35.233069+00:00"
        },
        "tags": [
          "show_line_numbers"
        ],
        "datalink": {
          "40ed15b7-5d59-49d0-bb68-03464e0e8b0d": {
            "applied_filters": [],
            "dataframe_info": {
              "default_index_used": true,
              "orig_num_cols": 2,
              "orig_num_rows": 2820,
              "orig_size_bytes": 45248,
              "truncated_num_cols": 2,
              "truncated_num_rows": 2820,
              "truncated_size_bytes": 45248,
              "truncated_string_columns": []
            },
            "display_id": "40ed15b7-5d59-49d0-bb68-03464e0e8b0d",
            "dx_settings": {
              "ALLOW_NOTEABLE_ATTRS": true,
              "COLUMN_SAMPLING_METHOD": "outer",
              "DB_LOCATION": ":memory:",
              "DEV_MODE": false,
              "DISPLAY_MAX_COLUMNS": 100,
              "DISPLAY_MAX_ROWS": 50000,
              "DISPLAY_MODE": "simple",
              "ENABLE_ASSIGNMENT": true,
              "ENABLE_DATALINK": true,
              "FLATTEN_COLUMN_VALUES": true,
              "FLATTEN_INDEX_VALUES": false,
              "GENERATE_DEX_METADATA": false,
              "HTML_TABLE_SCHEMA": false,
              "LOG_LEVEL": 30,
              "MAX_RENDER_SIZE_BYTES": 104857600,
              "MAX_STRING_LENGTH": 250,
              "NUM_PAST_SAMPLES_TRACKED": 3,
              "RANDOM_STATE": 12648430,
              "RESET_INDEX_VALUES": false,
              "ROW_SAMPLING_METHOD": "random",
              "SAMPLING_FACTOR": 0.1,
              "SAMPLING_METHOD": "random",
              "STRINGIFY_COLUMN_VALUES": true,
              "STRINGIFY_INDEX_VALUES": false
            },
            "sample_history": [],
            "sampling_time": "2023-04-26T18:38:51.036431",
            "user_variable_name": "sunspots",
            "variable_name": "sunspots"
          },
          "9632954c-588a-4c80-99fc-82955d4fd736": {
            "applied_filters": [],
            "dataframe_info": {
              "default_index_used": true,
              "orig_num_cols": 2,
              "orig_num_rows": 2820,
              "orig_size_bytes": 45248,
              "truncated_num_cols": 2,
              "truncated_num_rows": 2820,
              "truncated_size_bytes": 45248,
              "truncated_string_columns": []
            },
            "display_id": "9632954c-588a-4c80-99fc-82955d4fd736",
            "dx_settings": {
              "ALLOW_NOTEABLE_ATTRS": true,
              "COLUMN_SAMPLING_METHOD": "outer",
              "DB_LOCATION": ":memory:",
              "DEV_MODE": false,
              "DISPLAY_MAX_COLUMNS": 100,
              "DISPLAY_MAX_ROWS": 50000,
              "DISPLAY_MODE": "simple",
              "ENABLE_ASSIGNMENT": true,
              "ENABLE_DATALINK": true,
              "FLATTEN_COLUMN_VALUES": true,
              "FLATTEN_INDEX_VALUES": false,
              "GENERATE_DEX_METADATA": false,
              "HTML_TABLE_SCHEMA": false,
              "LOG_LEVEL": 30,
              "MAX_RENDER_SIZE_BYTES": 104857600,
              "MAX_STRING_LENGTH": 250,
              "NUM_PAST_SAMPLES_TRACKED": 3,
              "RANDOM_STATE": 12648430,
              "RESET_INDEX_VALUES": false,
              "ROW_SAMPLING_METHOD": "random",
              "SAMPLING_FACTOR": 0.1,
              "SAMPLING_METHOD": "random",
              "STRINGIFY_COLUMN_VALUES": true,
              "STRINGIFY_INDEX_VALUES": false
            },
            "sample_history": [],
            "sampling_time": "2023-04-28T18:55:54.349489",
            "user_variable_name": "sunspots",
            "variable_name": "sunspots"
          },
          "dc82a868-cf62-41ee-938e-a25f637d871a": {
            "applied_filters": [],
            "dataframe_info": {
              "default_index_used": true,
              "orig_num_cols": 2,
              "orig_num_rows": 2820,
              "orig_size_bytes": 45248,
              "truncated_num_cols": 2,
              "truncated_num_rows": 2820,
              "truncated_size_bytes": 45248,
              "truncated_string_columns": []
            },
            "display_id": "dc82a868-cf62-41ee-938e-a25f637d871a",
            "dx_settings": {
              "ALLOW_NOTEABLE_ATTRS": true,
              "COLUMN_SAMPLING_METHOD": "outer",
              "DB_LOCATION": ":memory:",
              "DEV_MODE": false,
              "DISPLAY_MAX_COLUMNS": 100,
              "DISPLAY_MAX_ROWS": 50000,
              "DISPLAY_MODE": "simple",
              "ENABLE_ASSIGNMENT": true,
              "ENABLE_DATALINK": true,
              "FLATTEN_COLUMN_VALUES": true,
              "FLATTEN_INDEX_VALUES": false,
              "GENERATE_DEX_METADATA": false,
              "HTML_TABLE_SCHEMA": false,
              "LOG_LEVEL": 30,
              "MAX_RENDER_SIZE_BYTES": 104857600,
              "MAX_STRING_LENGTH": 250,
              "NUM_PAST_SAMPLES_TRACKED": 3,
              "RANDOM_STATE": 12648430,
              "RESET_INDEX_VALUES": false,
              "ROW_SAMPLING_METHOD": "random",
              "SAMPLING_FACTOR": 0.1,
              "SAMPLING_METHOD": "random",
              "STRINGIFY_COLUMN_VALUES": true,
              "STRINGIFY_INDEX_VALUES": false
            },
            "sample_history": [],
            "sampling_time": "2023-04-28T19:47:03.442977",
            "user_variable_name": "sunspots",
            "variable_name": "sunspots"
          },
          "b713d808-a7bb-4c6a-a578-fd881889dede": {
            "applied_filters": [],
            "dataframe_info": {
              "default_index_used": true,
              "orig_num_cols": 2,
              "orig_num_rows": 5953,
              "orig_size_bytes": 95376,
              "truncated_num_cols": 2,
              "truncated_num_rows": 5953,
              "truncated_size_bytes": 95376,
              "truncated_string_columns": []
            },
            "display_id": "b713d808-a7bb-4c6a-a578-fd881889dede",
            "dx_settings": {
              "ALLOW_NOTEABLE_ATTRS": true,
              "COLUMN_SAMPLING_METHOD": "outer",
              "DB_LOCATION": ":memory:",
              "DEV_MODE": false,
              "DISPLAY_MAX_COLUMNS": 100,
              "DISPLAY_MAX_ROWS": 50000,
              "DISPLAY_MODE": "simple",
              "ENABLE_ASSIGNMENT": true,
              "ENABLE_DATALINK": true,
              "FLATTEN_COLUMN_VALUES": true,
              "FLATTEN_INDEX_VALUES": false,
              "GENERATE_DEX_METADATA": false,
              "HTML_TABLE_SCHEMA": false,
              "LOG_LEVEL": 30,
              "MAX_RENDER_SIZE_BYTES": 104857600,
              "MAX_STRING_LENGTH": 250,
              "NUM_PAST_SAMPLES_TRACKED": 3,
              "RANDOM_STATE": 12648430,
              "RESET_INDEX_VALUES": false,
              "ROW_SAMPLING_METHOD": "random",
              "SAMPLING_FACTOR": 0.1,
              "SAMPLING_METHOD": "random",
              "STRINGIFY_COLUMN_VALUES": true,
              "STRINGIFY_INDEX_VALUES": false
            },
            "sample_history": [],
            "sampling_time": "2023-04-28T21:04:18.946043",
            "user_variable_name": "gas_daily",
            "variable_name": "gas_daily"
          },
          "e0023850-ed64-49aa-a9fb-c43f3e0e601c": {
            "applied_filters": [],
            "dataframe_info": {
              "default_index_used": true,
              "orig_num_cols": 2,
              "orig_num_rows": 5953,
              "orig_size_bytes": 95376,
              "truncated_num_cols": 2,
              "truncated_num_rows": 5953,
              "truncated_size_bytes": 95376,
              "truncated_string_columns": []
            },
            "display_id": "e0023850-ed64-49aa-a9fb-c43f3e0e601c",
            "dx_settings": {
              "ALLOW_NOTEABLE_ATTRS": true,
              "COLUMN_SAMPLING_METHOD": "outer",
              "DB_LOCATION": ":memory:",
              "DEV_MODE": false,
              "DISPLAY_MAX_COLUMNS": 100,
              "DISPLAY_MAX_ROWS": 50000,
              "DISPLAY_MODE": "simple",
              "ENABLE_ASSIGNMENT": true,
              "ENABLE_DATALINK": true,
              "FLATTEN_COLUMN_VALUES": true,
              "FLATTEN_INDEX_VALUES": false,
              "GENERATE_DEX_METADATA": false,
              "HTML_TABLE_SCHEMA": false,
              "LOG_LEVEL": 30,
              "MAX_RENDER_SIZE_BYTES": 104857600,
              "MAX_STRING_LENGTH": 250,
              "NUM_PAST_SAMPLES_TRACKED": 3,
              "RANDOM_STATE": 12648430,
              "RESET_INDEX_VALUES": false,
              "ROW_SAMPLING_METHOD": "random",
              "SAMPLING_FACTOR": 0.1,
              "SAMPLING_METHOD": "random",
              "STRINGIFY_COLUMN_VALUES": true,
              "STRINGIFY_INDEX_VALUES": false
            },
            "sample_history": [],
            "sampling_time": "2023-04-28T21:04:19.627000",
            "user_variable_name": "gas_daily",
            "variable_name": "gas_daily"
          },
          "2c68f6bb-6e6f-4a2c-b5b1-98e2f9d6751f": {
            "applied_filters": [],
            "dataframe_info": {
              "default_index_used": true,
              "orig_num_cols": 2,
              "orig_num_rows": 284,
              "orig_size_bytes": 4672,
              "truncated_num_cols": 2,
              "truncated_num_rows": 284,
              "truncated_size_bytes": 4672,
              "truncated_string_columns": []
            },
            "display_id": "2c68f6bb-6e6f-4a2c-b5b1-98e2f9d6751f",
            "dx_settings": {
              "ALLOW_NOTEABLE_ATTRS": true,
              "COLUMN_SAMPLING_METHOD": "outer",
              "DB_LOCATION": ":memory:",
              "DEV_MODE": false,
              "DISPLAY_MAX_COLUMNS": 100,
              "DISPLAY_MAX_ROWS": 50000,
              "DISPLAY_MODE": "simple",
              "ENABLE_ASSIGNMENT": true,
              "ENABLE_DATALINK": true,
              "FLATTEN_COLUMN_VALUES": true,
              "FLATTEN_INDEX_VALUES": false,
              "GENERATE_DEX_METADATA": false,
              "HTML_TABLE_SCHEMA": false,
              "LOG_LEVEL": 30,
              "MAX_RENDER_SIZE_BYTES": 104857600,
              "MAX_STRING_LENGTH": 250,
              "NUM_PAST_SAMPLES_TRACKED": 3,
              "RANDOM_STATE": 12648430,
              "RESET_INDEX_VALUES": false,
              "ROW_SAMPLING_METHOD": "random",
              "SAMPLING_FACTOR": 0.1,
              "SAMPLING_METHOD": "random",
              "STRINGIFY_COLUMN_VALUES": true,
              "STRINGIFY_INDEX_VALUES": false
            },
            "sample_history": [],
            "sampling_time": "2023-04-28T21:07:31.038178",
            "user_variable_name": "gas_monthly",
            "variable_name": "gas_monthly"
          },
          "c321fd86-9f21-4f74-b84c-396329149282": {
            "applied_filters": [],
            "dataframe_info": {
              "default_index_used": true,
              "orig_num_cols": 2,
              "orig_num_rows": 284,
              "orig_size_bytes": 4672,
              "truncated_num_cols": 2,
              "truncated_num_rows": 284,
              "truncated_size_bytes": 4672,
              "truncated_string_columns": []
            },
            "display_id": "c321fd86-9f21-4f74-b84c-396329149282",
            "dx_settings": {
              "ALLOW_NOTEABLE_ATTRS": true,
              "COLUMN_SAMPLING_METHOD": "outer",
              "DB_LOCATION": ":memory:",
              "DEV_MODE": false,
              "DISPLAY_MAX_COLUMNS": 100,
              "DISPLAY_MAX_ROWS": 50000,
              "DISPLAY_MODE": "simple",
              "ENABLE_ASSIGNMENT": true,
              "ENABLE_DATALINK": true,
              "FLATTEN_COLUMN_VALUES": true,
              "FLATTEN_INDEX_VALUES": false,
              "GENERATE_DEX_METADATA": false,
              "HTML_TABLE_SCHEMA": false,
              "LOG_LEVEL": 30,
              "MAX_RENDER_SIZE_BYTES": 104857600,
              "MAX_STRING_LENGTH": 250,
              "NUM_PAST_SAMPLES_TRACKED": 3,
              "RANDOM_STATE": 12648430,
              "RESET_INDEX_VALUES": false,
              "ROW_SAMPLING_METHOD": "random",
              "SAMPLING_FACTOR": 0.1,
              "SAMPLING_METHOD": "random",
              "STRINGIFY_COLUMN_VALUES": true,
              "STRINGIFY_INDEX_VALUES": false
            },
            "sample_history": [],
            "sampling_time": "2023-04-28T21:07:41.206865",
            "user_variable_name": "gas_monthly",
            "variable_name": "gas_monthly"
          },
          "c567d619-866a-4535-9b0d-81238c7b29dc": {
            "applied_filters": [],
            "dataframe_info": {
              "default_index_used": true,
              "orig_num_cols": 2,
              "orig_num_rows": 315,
              "orig_size_bytes": 5168,
              "truncated_num_cols": 2,
              "truncated_num_rows": 315,
              "truncated_size_bytes": 5168,
              "truncated_string_columns": []
            },
            "display_id": "c567d619-866a-4535-9b0d-81238c7b29dc",
            "dx_settings": {
              "ALLOW_NOTEABLE_ATTRS": true,
              "COLUMN_SAMPLING_METHOD": "outer",
              "DB_LOCATION": ":memory:",
              "DEV_MODE": false,
              "DISPLAY_MAX_COLUMNS": 100,
              "DISPLAY_MAX_ROWS": 50000,
              "DISPLAY_MODE": "simple",
              "ENABLE_ASSIGNMENT": true,
              "ENABLE_DATALINK": true,
              "FLATTEN_COLUMN_VALUES": true,
              "FLATTEN_INDEX_VALUES": false,
              "GENERATE_DEX_METADATA": false,
              "HTML_TABLE_SCHEMA": false,
              "LOG_LEVEL": 30,
              "MAX_RENDER_SIZE_BYTES": 104857600,
              "MAX_STRING_LENGTH": 250,
              "NUM_PAST_SAMPLES_TRACKED": 3,
              "RANDOM_STATE": 12648430,
              "RESET_INDEX_VALUES": false,
              "ROW_SAMPLING_METHOD": "random",
              "SAMPLING_FACTOR": 0.1,
              "SAMPLING_METHOD": "random",
              "STRINGIFY_COLUMN_VALUES": true,
              "STRINGIFY_INDEX_VALUES": false
            },
            "sample_history": [],
            "sampling_time": "2023-04-28T21:43:22.126671",
            "user_variable_name": "gas_monthly",
            "variable_name": "gas_monthly"
          },
          "0739026c-a9da-42eb-b3e0-4e0c7b5a61de": {
            "applied_filters": [],
            "dataframe_info": {
              "default_index_used": true,
              "orig_num_cols": 2,
              "orig_num_rows": 174,
              "orig_size_bytes": 2912,
              "truncated_num_cols": 2,
              "truncated_num_rows": 174,
              "truncated_size_bytes": 2912,
              "truncated_string_columns": []
            },
            "display_id": "0739026c-a9da-42eb-b3e0-4e0c7b5a61de",
            "dx_settings": {
              "ALLOW_NOTEABLE_ATTRS": true,
              "COLUMN_SAMPLING_METHOD": "outer",
              "DB_LOCATION": ":memory:",
              "DEV_MODE": false,
              "DISPLAY_MAX_COLUMNS": 100,
              "DISPLAY_MAX_ROWS": 50000,
              "DISPLAY_MODE": "simple",
              "ENABLE_ASSIGNMENT": true,
              "ENABLE_DATALINK": true,
              "FLATTEN_COLUMN_VALUES": true,
              "FLATTEN_INDEX_VALUES": false,
              "GENERATE_DEX_METADATA": false,
              "HTML_TABLE_SCHEMA": false,
              "LOG_LEVEL": 30,
              "MAX_RENDER_SIZE_BYTES": 104857600,
              "MAX_STRING_LENGTH": 250,
              "NUM_PAST_SAMPLES_TRACKED": 3,
              "RANDOM_STATE": 12648430,
              "RESET_INDEX_VALUES": false,
              "ROW_SAMPLING_METHOD": "random",
              "SAMPLING_FACTOR": 0.1,
              "SAMPLING_METHOD": "random",
              "STRINGIFY_COLUMN_VALUES": true,
              "STRINGIFY_INDEX_VALUES": false
            },
            "sample_history": [],
            "sampling_time": "2023-04-28T22:10:42.371684",
            "user_variable_name": "temps",
            "variable_name": "temps"
          },
          "6e367a1d-8adf-43e5-9f89-4bccb02b41da": {
            "applied_filters": [],
            "dataframe_info": {
              "default_index_used": true,
              "orig_num_cols": 2,
              "orig_num_rows": 174,
              "orig_size_bytes": 2912,
              "truncated_num_cols": 2,
              "truncated_num_rows": 174,
              "truncated_size_bytes": 2912,
              "truncated_string_columns": []
            },
            "display_id": "6e367a1d-8adf-43e5-9f89-4bccb02b41da",
            "dx_settings": {
              "ALLOW_NOTEABLE_ATTRS": true,
              "COLUMN_SAMPLING_METHOD": "outer",
              "DB_LOCATION": ":memory:",
              "DEV_MODE": false,
              "DISPLAY_MAX_COLUMNS": 100,
              "DISPLAY_MAX_ROWS": 50000,
              "DISPLAY_MODE": "simple",
              "ENABLE_ASSIGNMENT": true,
              "ENABLE_DATALINK": true,
              "FLATTEN_COLUMN_VALUES": true,
              "FLATTEN_INDEX_VALUES": false,
              "GENERATE_DEX_METADATA": false,
              "HTML_TABLE_SCHEMA": false,
              "LOG_LEVEL": 30,
              "MAX_RENDER_SIZE_BYTES": 104857600,
              "MAX_STRING_LENGTH": 250,
              "NUM_PAST_SAMPLES_TRACKED": 3,
              "RANDOM_STATE": 12648430,
              "RESET_INDEX_VALUES": false,
              "ROW_SAMPLING_METHOD": "random",
              "SAMPLING_FACTOR": 0.1,
              "SAMPLING_METHOD": "random",
              "STRINGIFY_COLUMN_VALUES": true,
              "STRINGIFY_INDEX_VALUES": false
            },
            "sample_history": [],
            "sampling_time": "2023-04-30T17:45:36.717842",
            "user_variable_name": "temps",
            "variable_name": "temps"
          }
        },
        "dx": {
          "dashboard": {
            "multiViews": []
          },
          "fieldMetadata": {
            "Month": {
              "columnPosition": 2
            },
            "Sunspots": {
              "aggregation": "MAX",
              "columnPosition": 3
            },
            "index": {
              "columnPosition": 1
            }
          },
          "updated": 1682716037269,
          "views": [
            {
              "annotationRules": [],
              "chart": {},
              "chartMode": "grid",
              "confoRules": [],
              "decoration": {
                "footer": "",
                "subtitle": "",
                "title": "Table"
              },
              "facets": [],
              "filterSettings": {
                "SHOW_FILTER_PANEL": true,
                "filters": []
              },
              "id": "first-view",
              "isDefault": true,
              "type": "public",
              "userID": ""
            },
            {
              "annotationRules": [],
              "chart": {},
              "chartMode": "grid",
              "confoRules": [],
              "decoration": {
                "footer": "",
                "subtitle": "",
                "title": "Table"
              },
              "facets": [],
              "filterSettings": {
                "SHOW_FILTER_PANEL": true,
                "filters": []
              },
              "id": "first-view",
              "isDefault": true,
              "isTransitory": true,
              "type": "public",
              "userID": ""
            }
          ]
        }
      },
      "id": "587cd11f-7ce5-4b17-a533-642ab427798f"
    },
    {
      "cell_type": "code",
      "source": [
        "x = np.linspace(1850, 2018, 168).reshape(-1, 1)\n",
        "y = temps['Value'][0:168].to_numpy()\n",
        "print(np.size(x), np.size(y))"
      ],
      "outputs": [
        {
          "output_type": "stream",
          "name": "stdout",
          "text": [
            "168 168\n"
          ]
        }
      ],
      "execution_count": null,
      "metadata": {
        "jupyter": {
          "outputs_hidden": false,
          "source_hidden": false
        },
        "noteable": {
          "cell_type": "code"
        },
        "ExecuteTime": {
          "end_time": "2023-04-30T17:57:15.827931+00:00",
          "start_time": "2023-04-30T17:57:15.671091+00:00"
        }
      },
      "id": "ccb60354-fb13-4044-8d81-11b9981ee24b"
    },
    {
      "cell_type": "code",
      "source": [
        "y"
      ],
      "outputs": [
        {
          "output_type": "execute_result",
          "execution_count": null,
          "data": {
            "text/plain": "array([-0.52, -0.65, -0.55, -0.58, -0.26, -0.51, -0.8 , -0.43, -0.44,\n       -0.15, -0.75, -0.25, -0.52, -0.26, -0.32, -0.64, -0.46, -0.65,\n       -0.32, -0.5 , -0.28, -0.11, -0.48, -0.39, -0.48, -0.51, -0.27,\n       -0.11,  0.26, -0.25, -0.5 , -0.48, -0.2 , -0.43, -0.75, -0.45,\n       -0.53, -0.39, -0.74, -0.09, -0.21, -0.39, -0.58, -0.42,  0.1 ,\n       -0.54, -0.56, -0.7 , -1.1 , -0.55, -0.08,  0.21, -0.47,  0.05,\n       -0.6 , -0.72, -0.31, -0.34, -0.8 , -0.75, -0.56, -0.83, -0.77,\n       -0.49, -0.19, -0.2 , -0.5 , -1.03, -0.37, -0.51,  0.05, -0.17,\n       -0.08, -0.39,  0.01, -0.23,  0.53, -0.61, -0.29, -0.3 ,  0.21,\n       -0.13, -0.18, -0.36, -0.35,  0.13, -0.3 , -0.46,  0.38, -0.28,\n        0.06, -0.16, -0.17, -0.04,  0.36, -0.05,  0.  ,  0.32, -0.3 ,\n        0.24, -0.02, -0.23, -0.34,  0.33, -0.3 , -0.66, -0.27, -0.37,\n        0.03,  0.49, -0.91,  0.08,  0.36, -0.44, -0.36, -0.15, -0.15,\n        0.19,  0.8 , -0.29, -0.03, -0.07,  0.13,  0.61,  0.18,  0.32,\n       -0.28,  0.29,  0.37,  0.1 ,  0.19,  0.85, -0.06,  0.64,  0.36,\n        0.42,  0.67, -0.25,  0.51,  0.66,  1.61,  0.45,  0.78,  0.64,\n        0.41,  0.75,  0.44,  0.81,  0.94,  0.36,  1.14,  0.85,  1.58,\n        0.84,  1.02,  1.36,  1.2 ,  1.27,  1.65,  0.83,  1.54,  1.27,\n        0.93,  1.1 ,  1.52,  1.76,  2.5 ,  2.15])"
          },
          "metadata": {}
        }
      ],
      "execution_count": null,
      "metadata": {
        "jupyter": {
          "outputs_hidden": false,
          "source_hidden": false
        },
        "noteable": {
          "cell_type": "code"
        },
        "ExecuteTime": {
          "end_time": "2023-04-30T17:53:11.815289+00:00",
          "start_time": "2023-04-30T17:53:11.655661+00:00"
        }
      },
      "id": "ec55fad7-b45a-49e9-8648-700d0c05ba8e"
    },
    {
      "cell_type": "code",
      "source": [
        "plt.scatter(x, y, c='k', s = 0.8)\n",
        "plt.xticks()"
      ],
      "outputs": [
        {
          "output_type": "execute_result",
          "execution_count": null,
          "data": {
            "text/plain": "(array([1825., 1850., 1875., 1900., 1925., 1950., 1975., 2000., 2025.,\n        2050.]),\n [Text(1825.0, 0, '1825'),\n  Text(1850.0, 0, '1850'),\n  Text(1875.0, 0, '1875'),\n  Text(1900.0, 0, '1900'),\n  Text(1925.0, 0, '1925'),\n  Text(1950.0, 0, '1950'),\n  Text(1975.0, 0, '1975'),\n  Text(2000.0, 0, '2000'),\n  Text(2025.0, 0, '2025'),\n  Text(2050.0, 0, '2050')])"
          },
          "metadata": {}
        },
        {
          "output_type": "display_data",
          "data": {
            "image/png": "[encoded data removed]"
          },
          "metadata": {}
        }
      ],
      "execution_count": null,
      "metadata": {
        "jupyter": {
          "outputs_hidden": false,
          "source_hidden": false
        },
        "noteable": {
          "cell_type": "code"
        },
        "ExecuteTime": {
          "end_time": "2023-04-30T17:53:13.801364+00:00",
          "start_time": "2023-04-30T17:53:13.310446+00:00"
        }
      },
      "id": "a06e27e5-012a-487c-8e4d-a32fd3d0d657"
    },
    {
      "cell_type": "code",
      "source": [
        "'''from sklearn.gaussian_process.kernels import RBF\n",
        "\n",
        "long_term_trend_kernel = 50.0**2 * RBF(length_scale=50.0)'''"
      ],
      "outputs": [
        {
          "output_type": "execute_result",
          "execution_count": null,
          "data": {
            "text/plain": "'from sklearn.gaussian_process.kernels import RBF\\n\\nlong_term_trend_kernel = 50.0**2 * RBF(length_scale=50.0)'"
          },
          "metadata": {}
        }
      ],
      "execution_count": null,
      "metadata": {
        "jupyter": {
          "outputs_hidden": false,
          "source_hidden": false
        },
        "noteable": {
          "cell_type": "code"
        },
        "ExecuteTime": {
          "end_time": "2023-04-30T17:53:15.531733+00:00",
          "start_time": "2023-04-30T17:53:15.374298+00:00"
        }
      },
      "id": "593c6d4c-7771-4dbf-8d8d-bc96516c77a3"
    },
    {
      "cell_type": "code",
      "source": [
        "from sklearn.gaussian_process.kernels import RBF\n",
        "\n",
        "long_term_trend_kernel = 10.0**2 * RBF(length_scale=10.0)"
      ],
      "outputs": [],
      "execution_count": null,
      "metadata": {
        "jupyter": {
          "outputs_hidden": false,
          "source_hidden": false
        },
        "noteable": {
          "cell_type": "code"
        },
        "ExecuteTime": {
          "end_time": "2023-04-30T18:03:33.346994+00:00",
          "start_time": "2023-04-30T18:03:33.190383+00:00"
        }
      },
      "id": "48117633-ad22-49ca-b470-8e42f21272b2"
    },
    {
      "cell_type": "code",
      "source": [
        "'''from sklearn.gaussian_process.kernels import ExpSineSquared\n",
        "sub_kernel = (\n",
        "    2.0**2\n",
        "    * RBF(length_scale=100.0)\n",
        "    * ExpSineSquared(length_scale=15.0, periodicity=15.0)\n",
        ")'''"
      ],
      "outputs": [
        {
          "output_type": "execute_result",
          "execution_count": null,
          "data": {
            "text/plain": "'from sklearn.gaussian_process.kernels import ExpSineSquared\\nsub_kernel = (\\n    2.0**2\\n    * RBF(length_scale=100.0)\\n    * ExpSineSquared(length_scale=15.0, periodicity=15.0)\\n)'"
          },
          "metadata": {}
        }
      ],
      "execution_count": null,
      "metadata": {
        "jupyter": {
          "outputs_hidden": false,
          "source_hidden": false
        },
        "noteable": {
          "cell_type": "code"
        },
        "ExecuteTime": {
          "end_time": "2023-04-30T18:03:34.338250+00:00",
          "start_time": "2023-04-30T18:03:34.178538+00:00"
        }
      },
      "id": "81cc32b1-5a40-4c93-98c5-29de2a777651"
    },
    {
      "cell_type": "code",
      "source": [
        "from sklearn.gaussian_process.kernels import RationalQuadratic\n",
        "\n",
        "irregularities_kernel = 0.5**2 * RationalQuadratic(length_scale=1.0, alpha=1.0)"
      ],
      "outputs": [],
      "execution_count": null,
      "metadata": {
        "jupyter": {
          "outputs_hidden": false,
          "source_hidden": false
        },
        "noteable": {
          "cell_type": "code"
        },
        "ExecuteTime": {
          "end_time": "2023-04-30T18:03:35.028581+00:00",
          "start_time": "2023-04-30T18:03:34.872875+00:00"
        }
      },
      "id": "512f529c-c667-47ae-b89b-56848d8e51a0"
    },
    {
      "cell_type": "code",
      "source": [
        "from sklearn.gaussian_process.kernels import WhiteKernel\n",
        "\n",
        "noise_kernel = 0.1**2 * RBF(length_scale=0.1) + WhiteKernel(\n",
        "    noise_level=0.1**2, noise_level_bounds=(1e-5, 1e5)\n",
        ")"
      ],
      "outputs": [],
      "execution_count": null,
      "metadata": {
        "jupyter": {
          "outputs_hidden": false,
          "source_hidden": false
        },
        "noteable": {
          "cell_type": "code"
        },
        "ExecuteTime": {
          "end_time": "2023-04-30T18:03:35.191555+00:00",
          "start_time": "2023-04-30T18:03:35.035575+00:00"
        }
      },
      "id": "5b0ca923-4406-44b9-abcf-d33f540bd50c"
    },
    {
      "cell_type": "code",
      "source": [
        "main_kernel = (\n",
        "    long_term_trend_kernel + irregularities_kernel + noise_kernel\n",
        ")"
      ],
      "outputs": [],
      "execution_count": null,
      "metadata": {
        "jupyter": {
          "outputs_hidden": false,
          "source_hidden": false
        },
        "noteable": {
          "cell_type": "code"
        },
        "ExecuteTime": {
          "end_time": "2023-04-30T18:03:35.356180+00:00",
          "start_time": "2023-04-30T18:03:35.200368+00:00"
        }
      },
      "id": "0c461344-81e4-492b-97df-f7f7a27ab7c8"
    },
    {
      "cell_type": "code",
      "source": [
        "from sklearn.gaussian_process import GaussianProcessRegressor\n",
        "\n",
        "y_mean = y.mean()\n",
        "gaussian_process = GaussianProcessRegressor(kernel=main_kernel, normalize_y=False)\n",
        "gaussian_process.fit(x, y - y_mean)"
      ],
      "outputs": [
        {
          "output_type": "execute_result",
          "execution_count": null,
          "data": {
            "text/html": "<style>#sk-container-id-10 {color: black;background-color: white;}#sk-container-id-10 pre{padding: 0;}#sk-container-id-10 div.sk-toggleable {background-color: white;}#sk-container-id-10 label.sk-toggleable__label {cursor: pointer;display: block;width: 100%;margin-bottom: 0;padding: 0.3em;box-sizing: border-box;text-align: center;}#sk-container-id-10 label.sk-toggleable__label-arrow:before {content: \"▸\";float: left;margin-right: 0.25em;color: #696969;}#sk-container-id-10 label.sk-toggleable__label-arrow:hover:before {color: black;}#sk-container-id-10 div.sk-estimator:hover label.sk-toggleable__label-arrow:before {color: black;}#sk-container-id-10 div.sk-toggleable__content {max-height: 0;max-width: 0;overflow: hidden;text-align: left;background-color: #f0f8ff;}#sk-container-id-10 div.sk-toggleable__content pre {margin: 0.2em;color: black;border-radius: 0.25em;background-color: #f0f8ff;}#sk-container-id-10 input.sk-toggleable__control:checked~div.sk-toggleable__content {max-height: 200px;max-width: 100%;overflow: auto;}#sk-container-id-10 input.sk-toggleable__control:checked~label.sk-toggleable__label-arrow:before {content: \"▾\";}#sk-container-id-10 div.sk-estimator input.sk-toggleable__control:checked~label.sk-toggleable__label {background-color: #d4ebff;}#sk-container-id-10 div.sk-label input.sk-toggleable__control:checked~label.sk-toggleable__label {background-color: #d4ebff;}#sk-container-id-10 input.sk-hidden--visually {border: 0;clip: rect(1px 1px 1px 1px);clip: rect(1px, 1px, 1px, 1px);height: 1px;margin: -1px;overflow: hidden;padding: 0;position: absolute;width: 1px;}#sk-container-id-10 div.sk-estimator {font-family: monospace;background-color: #f0f8ff;border: 1px dotted black;border-radius: 0.25em;box-sizing: border-box;margin-bottom: 0.5em;}#sk-container-id-10 div.sk-estimator:hover {background-color: #d4ebff;}#sk-container-id-10 div.sk-parallel-item::after {content: \"\";width: 100%;border-bottom: 1px solid gray;flex-grow: 1;}#sk-container-id-10 div.sk-label:hover label.sk-toggleable__label {background-color: #d4ebff;}#sk-container-id-10 div.sk-serial::before {content: \"\";position: absolute;border-left: 1px solid gray;box-sizing: border-box;top: 0;bottom: 0;left: 50%;z-index: 0;}#sk-container-id-10 div.sk-serial {display: flex;flex-direction: column;align-items: center;background-color: white;padding-right: 0.2em;padding-left: 0.2em;position: relative;}#sk-container-id-10 div.sk-item {position: relative;z-index: 1;}#sk-container-id-10 div.sk-parallel {display: flex;align-items: stretch;justify-content: center;background-color: white;position: relative;}#sk-container-id-10 div.sk-item::before, #sk-container-id-10 div.sk-parallel-item::before {content: \"\";position: absolute;border-left: 1px solid gray;box-sizing: border-box;top: 0;bottom: 0;left: 50%;z-index: -1;}#sk-container-id-10 div.sk-parallel-item {display: flex;flex-direction: column;z-index: 1;position: relative;background-color: white;}#sk-container-id-10 div.sk-parallel-item:first-child::after {align-self: flex-end;width: 50%;}#sk-container-id-10 div.sk-parallel-item:last-child::after {align-self: flex-start;width: 50%;}#sk-container-id-10 div.sk-parallel-item:only-child::after {width: 0;}#sk-container-id-10 div.sk-dashed-wrapped {border: 1px dashed gray;margin: 0 0.4em 0.5em 0.4em;box-sizing: border-box;padding-bottom: 0.4em;background-color: white;}#sk-container-id-10 div.sk-label label {font-family: monospace;font-weight: bold;display: inline-block;line-height: 1.2em;}#sk-container-id-10 div.sk-label-container {text-align: center;}#sk-container-id-10 div.sk-container {/* jupyter's `normalize.less` sets `[hidden] { display: none; }` but bootstrap.min.css set `[hidden] { display: none !important; }` so we also need the `!important` here to be able to override the default hidden behavior on the sphinx rendered scikit-learn.org. See: https://github.com/scikit-learn/scikit-learn/issues/21755 */display: inline-block !important;position: relative;}#sk-container-id-10 div.sk-text-repr-fallback {display: none;}</style><div id=\"sk-container-id-10\" class=\"sk-top-container\"><div class=\"sk-text-repr-fallback\"><pre>GaussianProcessRegressor(kernel=10**2 * RBF(length_scale=10) + 0.5**2 * RationalQuadratic(alpha=1, length_scale=1) + 0.1**2 * RBF(length_scale=0.1) + WhiteKernel(noise_level=0.01))</pre><b>In a Jupyter environment, please rerun this cell to show the HTML representation or trust the notebook. <br />On GitHub, the HTML representation is unable to render, please try loading this page with nbviewer.org.</b></div><div class=\"sk-container\" hidden><div class=\"sk-item\"><div class=\"sk-estimator sk-toggleable\"><input class=\"sk-toggleable__control sk-hidden--visually\" id=\"sk-estimator-id-10\" type=\"checkbox\" checked><label for=\"sk-estimator-id-10\" class=\"sk-toggleable__label sk-toggleable__label-arrow\">GaussianProcessRegressor</label><div class=\"sk-toggleable__content\"><pre>GaussianProcessRegressor(kernel=10**2 * RBF(length_scale=10) + 0.5**2 * RationalQuadratic(alpha=1, length_scale=1) + 0.1**2 * RBF(length_scale=0.1) + WhiteKernel(noise_level=0.01))</pre></div></div></div></div></div>"
          },
          "metadata": {}
        }
      ],
      "execution_count": null,
      "metadata": {
        "jupyter": {
          "outputs_hidden": false,
          "source_hidden": false
        },
        "noteable": {
          "cell_type": "code"
        },
        "ExecuteTime": {
          "end_time": "2023-04-30T18:03:44.778266+00:00",
          "start_time": "2023-04-30T18:03:35.368191+00:00"
        },
        "scrolled": true
      },
      "id": "c6476368-77e5-4747-ae45-3123b1751066"
    },
    {
      "cell_type": "code",
      "source": [
        "import datetime\n",
        "import numpy as np\n",
        "\n",
        "X_test = np.linspace(start=1850, stop=2023, num=168).reshape(-1, 1)\n",
        "sunnum_pred, std_sunnum_pred = gaussian_process.predict(X_test, return_std=True)"
      ],
      "outputs": [],
      "execution_count": null,
      "metadata": {
        "jupyter": {
          "outputs_hidden": false,
          "source_hidden": false
        },
        "noteable": {
          "cell_type": "code"
        },
        "ExecuteTime": {
          "end_time": "2023-04-30T18:03:48.577107+00:00",
          "start_time": "2023-04-30T18:03:48.289614+00:00"
        }
      },
      "id": "30c2d376-5ecd-45b0-a3f9-6cc20b42d508"
    },
    {
      "cell_type": "code",
      "source": [
        "plt.scatter(x, y, color=\"black\", s=0.2, label=\"Training Data\")\n",
        "plt.plot(X_test, sunnum_pred + y_mean, color=\"red\", alpha=0.6, label=\"Gaussian Regressor Model\", linewidth = 0.5)\n",
        "plt.fill_between(\n",
        "    X_test.ravel(),\n",
        "    sunnum_pred - std_sunnum_pred + y_mean,\n",
        "    sunnum_pred + std_sunnum_pred + y_mean, \n",
        "    color=\"tab:blue\",\n",
        "    alpha=0.2,\n",
        "    label = \"Deviation Bounds\"\n",
        ")\n",
        "plt.scatter(np.linspace(2018, 2023, 5), temps[\"Value\"][169:], c = 'green', label = \"Real Data\", marker = \"1\")\n",
        "plt.legend()\n",
        "plt.title(\"Global Temperature Predictive Modelling\")\n",
        "plt.xlabel(\"Year\")\n",
        "plt.ylabel(\"Temperature Anomoly (Celsius)\")"
      ],
      "outputs": [
        {
          "output_type": "execute_result",
          "execution_count": null,
          "data": {
            "text/plain": "Text(0, 0.5, 'Temperature Anomoly (Celsius)')"
          },
          "metadata": {}
        },
        {
          "output_type": "display_data",
          "data": {
            "image/png": "[encoded data removed]"
          },
          "metadata": {}
        }
      ],
      "execution_count": null,
      "metadata": {
        "jupyter": {
          "outputs_hidden": false,
          "source_hidden": false
        },
        "noteable": {
          "cell_type": "code"
        },
        "ExecuteTime": {
          "end_time": "2023-04-30T18:44:34.420378+00:00",
          "start_time": "2023-04-30T18:44:33.793573+00:00"
        },
        "scrolled": true
      },
      "id": "1538a952-81cf-44ba-9a77-c6532bbb348a"
    },
    {
      "cell_type": "code",
      "source": [],
      "outputs": [
        {
          "output_type": "execute_result",
          "execution_count": null,
          "data": {
            "text/plain": "array([2012., 2013., 2014., 2015., 2016., 2017., 2018., 2019., 2020.,\n       2021., 2022., 2023.])"
          },
          "metadata": {}
        }
      ],
      "execution_count": null,
      "metadata": {
        "jupyter": {
          "outputs_hidden": false,
          "source_hidden": false
        },
        "noteable": {
          "cell_type": "code"
        },
        "ExecuteTime": {
          "end_time": "2023-04-28T22:23:29.965718+00:00",
          "start_time": "2023-04-28T22:23:29.806988+00:00"
        }
      },
      "id": "5356c926-e0d0-4ce4-bc8c-8e3fa95dd2d7"
    }
  ],
  "metadata": {
    "selected_hardware_size": "small",
    "noteable": {
      "db_connection": "@noteable",
      "last_transaction_id": "44f0dde7-ffc3-445b-94a8-b91415a30c68",
      "last_delta_id": "44f0dde7-ffc3-445b-94a8-b91415a30c68"
    },
    "nteract": {
      "version": "noteable@2.9.0"
    }
  },
  "nbformat": 4,
  "nbformat_minor": 5
}