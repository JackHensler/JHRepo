{
  "cells": [
    {
      "cell_type": "code",
      "source": [
        "\"\"\"\n",
        "Day 1\n",
        "Jack and I figured out a platform where we can use realtime collaboration to simultaneously work on our Python code. It's a pretty epic combination between Jupyter Notebooka and Google Docs TBH\n",
        "\"\"\""
      ],
      "outputs": [
        {
          "output_type": "execute_result",
          "execution_count": null,
          "data": {
            "text/plain": "\"\\nDay 1\\nJack and I figured out a platform where we can use realtime collaboration to simultaneously work on our Python code. It's a pretty epic combination between Jupyter Notebooka and Google Docs TBH\\n\""
          },
          "metadata": {}
        }
      ],
      "execution_count": null,
      "metadata": {
        "noteable": {
          "cell_type": "python"
        },
        "ExecuteTime": {
          "end_time": "2023-04-24T19:12:01.534083+00:00",
          "start_time": "2023-04-24T19:12:01.371695+00:00"
        },
        "tags": [
          "show_line_numbers"
        ]
      },
      "id": "8c128b24-2755-4ec6-8e2c-94fe16139689"
    },
    {
      "cell_type": "code",
      "source": [
        "#GAS\n",
        "import numpy as np\n",
        "import pandas as pd\n",
        "import matplotlib.pyplot as plt\n",
        "\n",
        "gas_monthly = pd.read_csv('Henry_Hub_Natural_Gas_Spot_Price.csv')\n",
        "gas_monthly"
      ],
      "outputs": [
        {
          "output_type": "display_data",
          "data": {
            "application/vnd.dataresource+json": {
              "schema": {
                "fields": [
                  {
                    "name": "index",
                    "type": "integer"
                  },
                  {
                    "name": "Month",
                    "type": "string"
                  },
                  {
                    "name": "Price",
                    "type": "number"
                  }
                ],
                "primaryKey": [
                  "index"
                ],
                "pandas_version": "1.4.0"
              },
              "data": [
                {
                  "index": 0,
                  "Month": "23-Mar",
                  "Price": 2.31
                },
                {
                  "index": 1,
                  "Month": "23-Feb",
                  "Price": 2.38
                },
                {
                  "index": 2,
                  "Month": "23-Jan",
                  "Price": 3.27
                },
                {
                  "index": 3,
                  "Month": "22-Dec",
                  "Price": 5.53
                },
                {
                  "index": 4,
                  "Month": "22-Nov",
                  "Price": 5.45
                },
                {
                  "index": 5,
                  "Month": "22-Oct",
                  "Price": 5.66
                },
                {
                  "index": 6,
                  "Month": "22-Sep",
                  "Price": 7.88
                },
                {
                  "index": 7,
                  "Month": "22-Aug",
                  "Price": 8.81
                },
                {
                  "index": 8,
                  "Month": "22-Jul",
                  "Price": 7.28
                },
                {
                  "index": 9,
                  "Month": "22-Jun",
                  "Price": 7.7
                },
                {
                  "index": 10,
                  "Month": "22-May",
                  "Price": 8.14
                },
                {
                  "index": 11,
                  "Month": "22-Apr",
                  "Price": 6.6
                },
                {
                  "index": 12,
                  "Month": "22-Mar",
                  "Price": 4.9
                },
                {
                  "index": 13,
                  "Month": "22-Feb",
                  "Price": 4.69
                },
                {
                  "index": 14,
                  "Month": "22-Jan",
                  "Price": 4.38
                },
                {
                  "index": 15,
                  "Month": "21-Dec",
                  "Price": 3.76
                },
                {
                  "index": 16,
                  "Month": "21-Nov",
                  "Price": 5.05
                },
                {
                  "index": 17,
                  "Month": "21-Oct",
                  "Price": 5.51
                },
                {
                  "index": 18,
                  "Month": "21-Sep",
                  "Price": 5.16
                },
                {
                  "index": 19,
                  "Month": "21-Aug",
                  "Price": 4.07
                },
                {
                  "index": 20,
                  "Month": "21-Jul",
                  "Price": 3.84
                },
                {
                  "index": 21,
                  "Month": "21-Jun",
                  "Price": 3.26
                },
                {
                  "index": 22,
                  "Month": "21-May",
                  "Price": 2.91
                },
                {
                  "index": 23,
                  "Month": "21-Apr",
                  "Price": 2.66
                },
                {
                  "index": 24,
                  "Month": "21-Mar",
                  "Price": 2.62
                },
                {
                  "index": 25,
                  "Month": "21-Feb",
                  "Price": 5.35
                },
                {
                  "index": 26,
                  "Month": "21-Jan",
                  "Price": 2.71
                },
                {
                  "index": 27,
                  "Month": "20-Dec",
                  "Price": 2.59
                },
                {
                  "index": 28,
                  "Month": "20-Nov",
                  "Price": 2.61
                },
                {
                  "index": 29,
                  "Month": "20-Oct",
                  "Price": 2.39
                },
                {
                  "index": 30,
                  "Month": "20-Sep",
                  "Price": 1.92
                },
                {
                  "index": 31,
                  "Month": "20-Aug",
                  "Price": 2.3
                },
                {
                  "index": 32,
                  "Month": "20-Jul",
                  "Price": 1.77
                },
                {
                  "index": 33,
                  "Month": "20-Jun",
                  "Price": 1.63
                },
                {
                  "index": 34,
                  "Month": "20-May",
                  "Price": 1.75
                },
                {
                  "index": 35,
                  "Month": "20-Apr",
                  "Price": 1.74
                },
                {
                  "index": 36,
                  "Month": "20-Mar",
                  "Price": 1.79
                },
                {
                  "index": 37,
                  "Month": "20-Feb",
                  "Price": 1.91
                },
                {
                  "index": 38,
                  "Month": "20-Jan",
                  "Price": 2.02
                },
                {
                  "index": 39,
                  "Month": "19-Dec",
                  "Price": 2.22
                },
                {
                  "index": 40,
                  "Month": "19-Nov",
                  "Price": 2.65
                },
                {
                  "index": 41,
                  "Month": "19-Oct",
                  "Price": 2.33
                },
                {
                  "index": 42,
                  "Month": "19-Sep",
                  "Price": 2.56
                },
                {
                  "index": 43,
                  "Month": "19-Aug",
                  "Price": 2.22
                },
                {
                  "index": 44,
                  "Month": "19-Jul",
                  "Price": 2.37
                },
                {
                  "index": 45,
                  "Month": "19-Jun",
                  "Price": 2.4
                },
                {
                  "index": 46,
                  "Month": "19-May",
                  "Price": 2.64
                },
                {
                  "index": 47,
                  "Month": "19-Apr",
                  "Price": 2.65
                },
                {
                  "index": 48,
                  "Month": "19-Mar",
                  "Price": 2.95
                },
                {
                  "index": 49,
                  "Month": "19-Feb",
                  "Price": 2.69
                },
                {
                  "index": 50,
                  "Month": "19-Jan",
                  "Price": 3.11
                },
                {
                  "index": 51,
                  "Month": "18-Dec",
                  "Price": 4.04
                },
                {
                  "index": 52,
                  "Month": "18-Nov",
                  "Price": 4.09
                },
                {
                  "index": 53,
                  "Month": "18-Oct",
                  "Price": 3.28
                },
                {
                  "index": 54,
                  "Month": "18-Sep",
                  "Price": 3
                },
                {
                  "index": 55,
                  "Month": "18-Aug",
                  "Price": 2.96
                },
                {
                  "index": 56,
                  "Month": "18-Jul",
                  "Price": 2.83
                },
                {
                  "index": 57,
                  "Month": "18-Jun",
                  "Price": 2.97
                },
                {
                  "index": 58,
                  "Month": "18-May",
                  "Price": 2.8
                },
                {
                  "index": 59,
                  "Month": "18-Apr",
                  "Price": 2.8
                },
                {
                  "index": 60,
                  "Month": "18-Mar",
                  "Price": 2.69
                },
                {
                  "index": 61,
                  "Month": "18-Feb",
                  "Price": 2.67
                },
                {
                  "index": 62,
                  "Month": "18-Jan",
                  "Price": 3.87
                },
                {
                  "index": 63,
                  "Month": "17-Dec",
                  "Price": 2.82
                },
                {
                  "index": 64,
                  "Month": "17-Nov",
                  "Price": 3.01
                },
                {
                  "index": 65,
                  "Month": "17-Oct",
                  "Price": 2.88
                },
                {
                  "index": 66,
                  "Month": "17-Sep",
                  "Price": 2.98
                },
                {
                  "index": 67,
                  "Month": "17-Aug",
                  "Price": 2.9
                },
                {
                  "index": 68,
                  "Month": "17-Jul",
                  "Price": 2.98
                },
                {
                  "index": 69,
                  "Month": "17-Jun",
                  "Price": 2.98
                },
                {
                  "index": 70,
                  "Month": "17-May",
                  "Price": 3.15
                },
                {
                  "index": 71,
                  "Month": "17-Apr",
                  "Price": 3.1
                },
                {
                  "index": 72,
                  "Month": "17-Mar",
                  "Price": 2.88
                },
                {
                  "index": 73,
                  "Month": "17-Feb",
                  "Price": 2.85
                },
                {
                  "index": 74,
                  "Month": "17-Jan",
                  "Price": 3.3
                },
                {
                  "index": 75,
                  "Month": "16-Dec",
                  "Price": 3.59
                },
                {
                  "index": 76,
                  "Month": "16-Nov",
                  "Price": 2.55
                },
                {
                  "index": 77,
                  "Month": "16-Oct",
                  "Price": 2.98
                },
                {
                  "index": 78,
                  "Month": "16-Sep",
                  "Price": 2.99
                },
                {
                  "index": 79,
                  "Month": "16-Aug",
                  "Price": 2.82
                },
                {
                  "index": 80,
                  "Month": "16-Jul",
                  "Price": 2.82
                },
                {
                  "index": 81,
                  "Month": "16-Jun",
                  "Price": 2.59
                },
                {
                  "index": 82,
                  "Month": "16-May",
                  "Price": 1.92
                },
                {
                  "index": 83,
                  "Month": "16-Apr",
                  "Price": 1.92
                },
                {
                  "index": 84,
                  "Month": "16-Mar",
                  "Price": 1.73
                },
                {
                  "index": 85,
                  "Month": "16-Feb",
                  "Price": 1.99
                },
                {
                  "index": 86,
                  "Month": "16-Jan",
                  "Price": 2.28
                },
                {
                  "index": 87,
                  "Month": "15-Dec",
                  "Price": 1.93
                },
                {
                  "index": 88,
                  "Month": "15-Nov",
                  "Price": 2.09
                },
                {
                  "index": 89,
                  "Month": "15-Oct",
                  "Price": 2.34
                },
                {
                  "index": 90,
                  "Month": "15-Sep",
                  "Price": 2.66
                },
                {
                  "index": 91,
                  "Month": "15-Aug",
                  "Price": 2.77
                },
                {
                  "index": 92,
                  "Month": "15-Jul",
                  "Price": 2.84
                },
                {
                  "index": 93,
                  "Month": "15-Jun",
                  "Price": 2.78
                },
                {
                  "index": 94,
                  "Month": "15-May",
                  "Price": 2.85
                },
                {
                  "index": 95,
                  "Month": "15-Apr",
                  "Price": 2.61
                },
                {
                  "index": 96,
                  "Month": "15-Mar",
                  "Price": 2.83
                },
                {
                  "index": 97,
                  "Month": "15-Feb",
                  "Price": 2.87
                },
                {
                  "index": 98,
                  "Month": "15-Jan",
                  "Price": 2.99
                },
                {
                  "index": 99,
                  "Month": "14-Dec",
                  "Price": 3.48
                },
                {
                  "index": 100,
                  "Month": "14-Nov",
                  "Price": 4.12
                },
                {
                  "index": 101,
                  "Month": "14-Oct",
                  "Price": 3.78
                },
                {
                  "index": 102,
                  "Month": "14-Sep",
                  "Price": 3.92
                },
                {
                  "index": 103,
                  "Month": "14-Aug",
                  "Price": 3.91
                },
                {
                  "index": 104,
                  "Month": "14-Jul",
                  "Price": 4.05
                },
                {
                  "index": 105,
                  "Month": "14-Jun",
                  "Price": 4.59
                },
                {
                  "index": 106,
                  "Month": "14-May",
                  "Price": 4.58
                },
                {
                  "index": 107,
                  "Month": "14-Apr",
                  "Price": 4.66
                },
                {
                  "index": 108,
                  "Month": "14-Mar",
                  "Price": 4.9
                },
                {
                  "index": 109,
                  "Month": "14-Feb",
                  "Price": 6
                },
                {
                  "index": 110,
                  "Month": "14-Jan",
                  "Price": 4.71
                },
                {
                  "index": 111,
                  "Month": "13-Dec",
                  "Price": 4.24
                },
                {
                  "index": 112,
                  "Month": "13-Nov",
                  "Price": 3.64
                },
                {
                  "index": 113,
                  "Month": "13-Oct",
                  "Price": 3.68
                },
                {
                  "index": 114,
                  "Month": "13-Sep",
                  "Price": 3.62
                },
                {
                  "index": 115,
                  "Month": "13-Aug",
                  "Price": 3.43
                },
                {
                  "index": 116,
                  "Month": "13-Jul",
                  "Price": 3.62
                },
                {
                  "index": 117,
                  "Month": "13-Jun",
                  "Price": 3.83
                },
                {
                  "index": 118,
                  "Month": "13-May",
                  "Price": 4.04
                },
                {
                  "index": 119,
                  "Month": "13-Apr",
                  "Price": 4.17
                },
                {
                  "index": 120,
                  "Month": "13-Mar",
                  "Price": 3.81
                },
                {
                  "index": 121,
                  "Month": "13-Feb",
                  "Price": 3.33
                },
                {
                  "index": 122,
                  "Month": "13-Jan",
                  "Price": 3.33
                },
                {
                  "index": 123,
                  "Month": "12-Dec",
                  "Price": 3.34
                },
                {
                  "index": 124,
                  "Month": "12-Nov",
                  "Price": 3.54
                },
                {
                  "index": 125,
                  "Month": "12-Oct",
                  "Price": 3.32
                },
                {
                  "index": 126,
                  "Month": "12-Sep",
                  "Price": 2.85
                },
                {
                  "index": 127,
                  "Month": "12-Aug",
                  "Price": 2.84
                },
                {
                  "index": 128,
                  "Month": "12-Jul",
                  "Price": 2.95
                },
                {
                  "index": 129,
                  "Month": "12-Jun",
                  "Price": 2.46
                },
                {
                  "index": 130,
                  "Month": "12-May",
                  "Price": 2.43
                },
                {
                  "index": 131,
                  "Month": "12-Apr",
                  "Price": 1.95
                },
                {
                  "index": 132,
                  "Month": "12-Mar",
                  "Price": 2.17
                },
                {
                  "index": 133,
                  "Month": "12-Feb",
                  "Price": 2.51
                },
                {
                  "index": 134,
                  "Month": "12-Jan",
                  "Price": 2.67
                },
                {
                  "index": 135,
                  "Month": "11-Dec",
                  "Price": 3.17
                },
                {
                  "index": 136,
                  "Month": "11-Nov",
                  "Price": 3.24
                },
                {
                  "index": 137,
                  "Month": "11-Oct",
                  "Price": 3.57
                },
                {
                  "index": 138,
                  "Month": "11-Sep",
                  "Price": 3.9
                },
                {
                  "index": 139,
                  "Month": "11-Aug",
                  "Price": 4.06
                },
                {
                  "index": 140,
                  "Month": "11-Jul",
                  "Price": 4.42
                },
                {
                  "index": 141,
                  "Month": "11-Jun",
                  "Price": 4.54
                },
                {
                  "index": 142,
                  "Month": "11-May",
                  "Price": 4.31
                },
                {
                  "index": 143,
                  "Month": "11-Apr",
                  "Price": 4.24
                },
                {
                  "index": 144,
                  "Month": "11-Mar",
                  "Price": 3.97
                },
                {
                  "index": 145,
                  "Month": "11-Feb",
                  "Price": 4.09
                },
                {
                  "index": 146,
                  "Month": "11-Jan",
                  "Price": 4.49
                },
                {
                  "index": 147,
                  "Month": "10-Dec",
                  "Price": 4.25
                },
                {
                  "index": 148,
                  "Month": "10-Nov",
                  "Price": 3.71
                },
                {
                  "index": 149,
                  "Month": "10-Oct",
                  "Price": 3.43
                },
                {
                  "index": 150,
                  "Month": "10-Sep",
                  "Price": 3.89
                },
                {
                  "index": 151,
                  "Month": "10-Aug",
                  "Price": 4.32
                },
                {
                  "index": 152,
                  "Month": "10-Jul",
                  "Price": 4.63
                },
                {
                  "index": 153,
                  "Month": "10-Jun",
                  "Price": 4.8
                },
                {
                  "index": 154,
                  "Month": "10-May",
                  "Price": 4.14
                },
                {
                  "index": 155,
                  "Month": "10-Apr",
                  "Price": 4.03
                },
                {
                  "index": 156,
                  "Month": "10-Mar",
                  "Price": 4.29
                },
                {
                  "index": 157,
                  "Month": "10-Feb",
                  "Price": 5.32
                },
                {
                  "index": 158,
                  "Month": "10-Jan",
                  "Price": 5.83
                },
                {
                  "index": 159,
                  "Month": "9-Dec",
                  "Price": 5.35
                },
                {
                  "index": 160,
                  "Month": "9-Nov",
                  "Price": 3.66
                },
                {
                  "index": 161,
                  "Month": "9-Oct",
                  "Price": 4.01
                },
                {
                  "index": 162,
                  "Month": "9-Sep",
                  "Price": 2.99
                },
                {
                  "index": 163,
                  "Month": "9-Aug",
                  "Price": 3.14
                },
                {
                  "index": 164,
                  "Month": "9-Jul",
                  "Price": 3.38
                },
                {
                  "index": 165,
                  "Month": "9-Jun",
                  "Price": 3.8
                },
                {
                  "index": 166,
                  "Month": "9-May",
                  "Price": 3.83
                },
                {
                  "index": 167,
                  "Month": "9-Apr",
                  "Price": 3.5
                },
                {
                  "index": 168,
                  "Month": "9-Mar",
                  "Price": 3.96
                },
                {
                  "index": 169,
                  "Month": "9-Feb",
                  "Price": 4.52
                },
                {
                  "index": 170,
                  "Month": "9-Jan",
                  "Price": 5.24
                },
                {
                  "index": 171,
                  "Month": "8-Dec",
                  "Price": 5.82
                },
                {
                  "index": 172,
                  "Month": "8-Nov",
                  "Price": 6.68
                },
                {
                  "index": 173,
                  "Month": "8-Oct",
                  "Price": 6.74
                },
                {
                  "index": 174,
                  "Month": "8-Sep",
                  "Price": 7.67
                },
                {
                  "index": 175,
                  "Month": "8-Aug",
                  "Price": 8.26
                },
                {
                  "index": 176,
                  "Month": "8-Jul",
                  "Price": 11.09
                },
                {
                  "index": 177,
                  "Month": "8-Jun",
                  "Price": 12.69
                },
                {
                  "index": 178,
                  "Month": "8-May",
                  "Price": 11.27
                },
                {
                  "index": 179,
                  "Month": "8-Apr",
                  "Price": 10.18
                },
                {
                  "index": 180,
                  "Month": "8-Mar",
                  "Price": 9.41
                },
                {
                  "index": 181,
                  "Month": "8-Feb",
                  "Price": 8.54
                },
                {
                  "index": 182,
                  "Month": "8-Jan",
                  "Price": 7.99
                },
                {
                  "index": 183,
                  "Month": "7-Dec",
                  "Price": 7.11
                },
                {
                  "index": 184,
                  "Month": "7-Nov",
                  "Price": 7.1
                },
                {
                  "index": 185,
                  "Month": "7-Oct",
                  "Price": 6.74
                },
                {
                  "index": 186,
                  "Month": "7-Sep",
                  "Price": 6.08
                },
                {
                  "index": 187,
                  "Month": "7-Aug",
                  "Price": 6.22
                },
                {
                  "index": 188,
                  "Month": "7-Jul",
                  "Price": 6.22
                },
                {
                  "index": 189,
                  "Month": "7-Jun",
                  "Price": 7.35
                },
                {
                  "index": 190,
                  "Month": "7-May",
                  "Price": 7.64
                },
                {
                  "index": 191,
                  "Month": "7-Apr",
                  "Price": 7.6
                },
                {
                  "index": 192,
                  "Month": "7-Mar",
                  "Price": 7.11
                },
                {
                  "index": 193,
                  "Month": "7-Feb",
                  "Price": 8
                },
                {
                  "index": 194,
                  "Month": "7-Jan",
                  "Price": 6.55
                },
                {
                  "index": 195,
                  "Month": "6-Dec",
                  "Price": 6.73
                },
                {
                  "index": 196,
                  "Month": "6-Nov",
                  "Price": 7.41
                },
                {
                  "index": 197,
                  "Month": "6-Oct",
                  "Price": 5.85
                },
                {
                  "index": 198,
                  "Month": "6-Sep",
                  "Price": 4.9
                },
                {
                  "index": 199,
                  "Month": "6-Aug",
                  "Price": 7.14
                },
                {
                  "index": 200,
                  "Month": "6-Jul",
                  "Price": 6.17
                },
                {
                  "index": 201,
                  "Month": "6-Jun",
                  "Price": 6.21
                },
                {
                  "index": 202,
                  "Month": "6-May",
                  "Price": 6.25
                },
                {
                  "index": 203,
                  "Month": "6-Apr",
                  "Price": 7.16
                },
                {
                  "index": 204,
                  "Month": "6-Mar",
                  "Price": 6.89
                },
                {
                  "index": 205,
                  "Month": "6-Feb",
                  "Price": 7.54
                },
                {
                  "index": 206,
                  "Month": "6-Jan",
                  "Price": 8.69
                },
                {
                  "index": 207,
                  "Month": "5-Dec",
                  "Price": 13.05
                },
                {
                  "index": 208,
                  "Month": "5-Nov",
                  "Price": 10.3
                },
                {
                  "index": 209,
                  "Month": "5-Oct",
                  "Price": 13.42
                },
                {
                  "index": 210,
                  "Month": "5-Sep",
                  "Price": 11.75
                },
                {
                  "index": 211,
                  "Month": "5-Aug",
                  "Price": 9.53
                },
                {
                  "index": 212,
                  "Month": "5-Jul",
                  "Price": 7.63
                },
                {
                  "index": 213,
                  "Month": "5-Jun",
                  "Price": 7.18
                },
                {
                  "index": 214,
                  "Month": "5-May",
                  "Price": 6.47
                },
                {
                  "index": 215,
                  "Month": "5-Apr",
                  "Price": 7.16
                },
                {
                  "index": 216,
                  "Month": "5-Mar",
                  "Price": 6.96
                },
                {
                  "index": 217,
                  "Month": "5-Feb",
                  "Price": 6.14
                },
                {
                  "index": 218,
                  "Month": "5-Jan",
                  "Price": 6.15
                },
                {
                  "index": 219,
                  "Month": "4-Dec",
                  "Price": 6.58
                },
                {
                  "index": 220,
                  "Month": "4-Nov",
                  "Price": 6.17
                },
                {
                  "index": 221,
                  "Month": "4-Oct",
                  "Price": 6.35
                },
                {
                  "index": 222,
                  "Month": "4-Sep",
                  "Price": 5.15
                },
                {
                  "index": 223,
                  "Month": "4-Aug",
                  "Price": 5.41
                },
                {
                  "index": 224,
                  "Month": "4-Jul",
                  "Price": 5.93
                },
                {
                  "index": 225,
                  "Month": "4-Jun",
                  "Price": 6.27
                },
                {
                  "index": 226,
                  "Month": "4-May",
                  "Price": 6.33
                },
                {
                  "index": 227,
                  "Month": "4-Apr",
                  "Price": 5.71
                },
                {
                  "index": 228,
                  "Month": "4-Mar",
                  "Price": 5.39
                },
                {
                  "index": 229,
                  "Month": "4-Feb",
                  "Price": 5.37
                },
                {
                  "index": 230,
                  "Month": "4-Jan",
                  "Price": 6.14
                },
                {
                  "index": 231,
                  "Month": "3-Dec",
                  "Price": 6.13
                },
                {
                  "index": 232,
                  "Month": "3-Nov",
                  "Price": 4.47
                },
                {
                  "index": 233,
                  "Month": "3-Oct",
                  "Price": 4.63
                },
                {
                  "index": 234,
                  "Month": "3-Sep",
                  "Price": 4.62
                },
                {
                  "index": 235,
                  "Month": "3-Aug",
                  "Price": 4.99
                },
                {
                  "index": 236,
                  "Month": "3-Jul",
                  "Price": 5.03
                },
                {
                  "index": 237,
                  "Month": "3-Jun",
                  "Price": 5.82
                },
                {
                  "index": 238,
                  "Month": "3-May",
                  "Price": 5.81
                },
                {
                  "index": 239,
                  "Month": "3-Apr",
                  "Price": 5.26
                },
                {
                  "index": 240,
                  "Month": "3-Mar",
                  "Price": 5.93
                },
                {
                  "index": 241,
                  "Month": "3-Feb",
                  "Price": 7.71
                },
                {
                  "index": 242,
                  "Month": "3-Jan",
                  "Price": 5.43
                },
                {
                  "index": 243,
                  "Month": "2-Dec",
                  "Price": 4.74
                },
                {
                  "index": 244,
                  "Month": "2-Nov",
                  "Price": 4.04
                },
                {
                  "index": 245,
                  "Month": "2-Oct",
                  "Price": 4.13
                },
                {
                  "index": 246,
                  "Month": "2-Sep",
                  "Price": 3.55
                },
                {
                  "index": 247,
                  "Month": "2-Aug",
                  "Price": 3.09
                },
                {
                  "index": 248,
                  "Month": "2-Jul",
                  "Price": 2.99
                },
                {
                  "index": 249,
                  "Month": "2-Jun",
                  "Price": 3.26
                },
                {
                  "index": 250,
                  "Month": "2-May",
                  "Price": 3.5
                },
                {
                  "index": 251,
                  "Month": "2-Apr",
                  "Price": 3.43
                },
                {
                  "index": 252,
                  "Month": "2-Mar",
                  "Price": 3.03
                },
                {
                  "index": 253,
                  "Month": "2-Feb",
                  "Price": 2.32
                },
                {
                  "index": 254,
                  "Month": "2-Jan",
                  "Price": 2.32
                },
                {
                  "index": 255,
                  "Month": "1-Dec",
                  "Price": 2.3
                },
                {
                  "index": 256,
                  "Month": "1-Nov",
                  "Price": 2.34
                },
                {
                  "index": 257,
                  "Month": "1-Oct",
                  "Price": 2.46
                },
                {
                  "index": 258,
                  "Month": "1-Sep",
                  "Price": 2.19
                },
                {
                  "index": 259,
                  "Month": "1-Aug",
                  "Price": 2.97
                },
                {
                  "index": 260,
                  "Month": "1-Jul",
                  "Price": 3.11
                },
                {
                  "index": 261,
                  "Month": "1-Jun",
                  "Price": 3.72
                },
                {
                  "index": 262,
                  "Month": "1-May",
                  "Price": 4.19
                },
                {
                  "index": 263,
                  "Month": "1-Apr",
                  "Price": 5.19
                },
                {
                  "index": 264,
                  "Month": "1-Mar",
                  "Price": 5.23
                },
                {
                  "index": 265,
                  "Month": "1-Feb",
                  "Price": 5.61
                },
                {
                  "index": 266,
                  "Month": "1-Jan",
                  "Price": 8.17
                },
                {
                  "index": 267,
                  "Month": "Dec-00",
                  "Price": 8.9
                },
                {
                  "index": 268,
                  "Month": "Nov-00",
                  "Price": 5.52
                },
                {
                  "index": 269,
                  "Month": "Oct-00",
                  "Price": 5.02
                },
                {
                  "index": 270,
                  "Month": "Sep-00",
                  "Price": 5.06
                },
                {
                  "index": 271,
                  "Month": "Aug-00",
                  "Price": 4.43
                },
                {
                  "index": 272,
                  "Month": "Jul-00",
                  "Price": 3.99
                },
                {
                  "index": 273,
                  "Month": "Jun-00",
                  "Price": 4.29
                },
                {
                  "index": 274,
                  "Month": "May-00",
                  "Price": 3.59
                },
                {
                  "index": 275,
                  "Month": "Apr-00",
                  "Price": 3.04
                },
                {
                  "index": 276,
                  "Month": "Mar-00",
                  "Price": 2.79
                },
                {
                  "index": 277,
                  "Month": "Feb-00",
                  "Price": 2.66
                },
                {
                  "index": 278,
                  "Month": "Jan-00",
                  "Price": 2.42
                },
                {
                  "index": 279,
                  "Month": "Dec-99",
                  "Price": 2.36
                },
                {
                  "index": 280,
                  "Month": "Nov-99",
                  "Price": 2.37
                },
                {
                  "index": 281,
                  "Month": "Oct-99",
                  "Price": 2.73
                },
                {
                  "index": 282,
                  "Month": "Sep-99",
                  "Price": 2.55
                },
                {
                  "index": 283,
                  "Month": "Aug-99",
                  "Price": 2.8
                },
                {
                  "index": 284,
                  "Month": "Jul-99",
                  "Price": 2.31
                },
                {
                  "index": 285,
                  "Month": "Jun-99",
                  "Price": 2.3
                },
                {
                  "index": 286,
                  "Month": "May-99",
                  "Price": 2.26
                },
                {
                  "index": 287,
                  "Month": "Apr-99",
                  "Price": 2.15
                },
                {
                  "index": 288,
                  "Month": "Mar-99",
                  "Price": 1.79
                },
                {
                  "index": 289,
                  "Month": "Feb-99",
                  "Price": 1.77
                },
                {
                  "index": 290,
                  "Month": "Jan-99",
                  "Price": 1.85
                },
                {
                  "index": 291,
                  "Month": "Dec-98",
                  "Price": 1.72
                },
                {
                  "index": 292,
                  "Month": "Nov-98",
                  "Price": 2.12
                },
                {
                  "index": 293,
                  "Month": "Oct-98",
                  "Price": 1.91
                },
                {
                  "index": 294,
                  "Month": "Sep-98",
                  "Price": 2.02
                },
                {
                  "index": 295,
                  "Month": "Aug-98",
                  "Price": 1.85
                },
                {
                  "index": 296,
                  "Month": "Jul-98",
                  "Price": 2.17
                },
                {
                  "index": 297,
                  "Month": "Jun-98",
                  "Price": 2.17
                },
                {
                  "index": 298,
                  "Month": "May-98",
                  "Price": 2.14
                },
                {
                  "index": 299,
                  "Month": "Apr-98",
                  "Price": 2.43
                },
                {
                  "index": 300,
                  "Month": "Mar-98",
                  "Price": 2.24
                },
                {
                  "index": 301,
                  "Month": "Feb-98",
                  "Price": 2.23
                },
                {
                  "index": 302,
                  "Month": "Jan-98",
                  "Price": 2.09
                },
                {
                  "index": 303,
                  "Month": "Dec-97",
                  "Price": 2.35
                },
                {
                  "index": 304,
                  "Month": "Nov-97",
                  "Price": 3.01
                },
                {
                  "index": 305,
                  "Month": "Oct-97",
                  "Price": 3.07
                },
                {
                  "index": 306,
                  "Month": "Sep-97",
                  "Price": 2.88
                },
                {
                  "index": 307,
                  "Month": "Aug-97",
                  "Price": 2.49
                },
                {
                  "index": 308,
                  "Month": "Jul-97",
                  "Price": 2.19
                },
                {
                  "index": 309,
                  "Month": "Jun-97",
                  "Price": 2.2
                },
                {
                  "index": 310,
                  "Month": "May-97",
                  "Price": 2.25
                },
                {
                  "index": 311,
                  "Month": "Apr-97",
                  "Price": 2.03
                },
                {
                  "index": 312,
                  "Month": "Mar-97",
                  "Price": 1.89
                },
                {
                  "index": 313,
                  "Month": "Feb-97",
                  "Price": 2.15
                },
                {
                  "index": 314,
                  "Month": "Jan-97",
                  "Price": 3.45
                }
              ],
              "datalink": {
                "display_id": "7e068038-b6c8-4761-8d9a-99b97f12a460"
              }
            }
          },
          "metadata": {
            "application/vnd.dataresource+json": {
              "datalink": {
                "dataframe_info": {
                  "default_index_used": true,
                  "orig_size_bytes": 5168,
                  "orig_num_rows": 315,
                  "orig_num_cols": 2,
                  "truncated_string_columns": [],
                  "truncated_size_bytes": 5168,
                  "truncated_num_rows": 315,
                  "truncated_num_cols": 2
                },
                "dx_settings": {
                  "NUM_PAST_SAMPLES_TRACKED": 3,
                  "ENABLE_DATALINK": true,
                  "DISPLAY_MODE": "simple",
                  "GENERATE_DEX_METADATA": false,
                  "STRINGIFY_INDEX_VALUES": false,
                  "ALLOW_NOTEABLE_ATTRS": true,
                  "DISPLAY_MAX_COLUMNS": 100,
                  "HTML_TABLE_SCHEMA": false,
                  "SAMPLING_FACTOR": 0.1,
                  "LOG_LEVEL": 30,
                  "ENABLE_ASSIGNMENT": true,
                  "FLATTEN_INDEX_VALUES": false,
                  "DEV_MODE": false,
                  "COLUMN_SAMPLING_METHOD": "outer",
                  "FLATTEN_COLUMN_VALUES": true,
                  "DISPLAY_MAX_ROWS": 50000,
                  "ROW_SAMPLING_METHOD": "random",
                  "RANDOM_STATE": 12648430,
                  "DB_LOCATION": ":memory:",
                  "STRINGIFY_COLUMN_VALUES": true,
                  "SAMPLING_METHOD": "random",
                  "MAX_STRING_LENGTH": 250,
                  "MAX_RENDER_SIZE_BYTES": 104857600,
                  "RESET_INDEX_VALUES": false
                },
                "display_id": "7e068038-b6c8-4761-8d9a-99b97f12a460",
                "applied_filters": [],
                "sample_history": [],
                "sampling_time": "2023-04-30T18:11:33.723216",
                "variable_name": "gas_monthly",
                "user_variable_name": "gas_monthly"
              },
              "display_id": "7e068038-b6c8-4761-8d9a-99b97f12a460"
            }
          }
        }
      ],
      "execution_count": null,
      "metadata": {
        "jupyter": {
          "outputs_hidden": false,
          "source_hidden": false
        },
        "noteable": {
          "cell_type": "code"
        },
        "ExecuteTime": {
          "end_time": "2023-04-30T18:11:33.881119+00:00",
          "start_time": "2023-04-30T18:11:32.108298+00:00"
        },
        "tags": [
          "show_line_numbers"
        ],
        "datalink": {
          "40ed15b7-5d59-49d0-bb68-03464e0e8b0d": {
            "applied_filters": [],
            "dataframe_info": {
              "default_index_used": true,
              "orig_num_cols": 2,
              "orig_num_rows": 2820,
              "orig_size_bytes": 45248,
              "truncated_num_cols": 2,
              "truncated_num_rows": 2820,
              "truncated_size_bytes": 45248,
              "truncated_string_columns": []
            },
            "display_id": "40ed15b7-5d59-49d0-bb68-03464e0e8b0d",
            "dx_settings": {
              "ALLOW_NOTEABLE_ATTRS": true,
              "COLUMN_SAMPLING_METHOD": "outer",
              "DB_LOCATION": ":memory:",
              "DEV_MODE": false,
              "DISPLAY_MAX_COLUMNS": 100,
              "DISPLAY_MAX_ROWS": 50000,
              "DISPLAY_MODE": "simple",
              "ENABLE_ASSIGNMENT": true,
              "ENABLE_DATALINK": true,
              "FLATTEN_COLUMN_VALUES": true,
              "FLATTEN_INDEX_VALUES": false,
              "GENERATE_DEX_METADATA": false,
              "HTML_TABLE_SCHEMA": false,
              "LOG_LEVEL": 30,
              "MAX_RENDER_SIZE_BYTES": 104857600,
              "MAX_STRING_LENGTH": 250,
              "NUM_PAST_SAMPLES_TRACKED": 3,
              "RANDOM_STATE": 12648430,
              "RESET_INDEX_VALUES": false,
              "ROW_SAMPLING_METHOD": "random",
              "SAMPLING_FACTOR": 0.1,
              "SAMPLING_METHOD": "random",
              "STRINGIFY_COLUMN_VALUES": true,
              "STRINGIFY_INDEX_VALUES": false
            },
            "sample_history": [],
            "sampling_time": "2023-04-26T18:38:51.036431",
            "user_variable_name": "sunspots",
            "variable_name": "sunspots"
          },
          "9632954c-588a-4c80-99fc-82955d4fd736": {
            "applied_filters": [],
            "dataframe_info": {
              "default_index_used": true,
              "orig_num_cols": 2,
              "orig_num_rows": 2820,
              "orig_size_bytes": 45248,
              "truncated_num_cols": 2,
              "truncated_num_rows": 2820,
              "truncated_size_bytes": 45248,
              "truncated_string_columns": []
            },
            "display_id": "9632954c-588a-4c80-99fc-82955d4fd736",
            "dx_settings": {
              "ALLOW_NOTEABLE_ATTRS": true,
              "COLUMN_SAMPLING_METHOD": "outer",
              "DB_LOCATION": ":memory:",
              "DEV_MODE": false,
              "DISPLAY_MAX_COLUMNS": 100,
              "DISPLAY_MAX_ROWS": 50000,
              "DISPLAY_MODE": "simple",
              "ENABLE_ASSIGNMENT": true,
              "ENABLE_DATALINK": true,
              "FLATTEN_COLUMN_VALUES": true,
              "FLATTEN_INDEX_VALUES": false,
              "GENERATE_DEX_METADATA": false,
              "HTML_TABLE_SCHEMA": false,
              "LOG_LEVEL": 30,
              "MAX_RENDER_SIZE_BYTES": 104857600,
              "MAX_STRING_LENGTH": 250,
              "NUM_PAST_SAMPLES_TRACKED": 3,
              "RANDOM_STATE": 12648430,
              "RESET_INDEX_VALUES": false,
              "ROW_SAMPLING_METHOD": "random",
              "SAMPLING_FACTOR": 0.1,
              "SAMPLING_METHOD": "random",
              "STRINGIFY_COLUMN_VALUES": true,
              "STRINGIFY_INDEX_VALUES": false
            },
            "sample_history": [],
            "sampling_time": "2023-04-28T18:55:54.349489",
            "user_variable_name": "sunspots",
            "variable_name": "sunspots"
          },
          "dc82a868-cf62-41ee-938e-a25f637d871a": {
            "applied_filters": [],
            "dataframe_info": {
              "default_index_used": true,
              "orig_num_cols": 2,
              "orig_num_rows": 2820,
              "orig_size_bytes": 45248,
              "truncated_num_cols": 2,
              "truncated_num_rows": 2820,
              "truncated_size_bytes": 45248,
              "truncated_string_columns": []
            },
            "display_id": "dc82a868-cf62-41ee-938e-a25f637d871a",
            "dx_settings": {
              "ALLOW_NOTEABLE_ATTRS": true,
              "COLUMN_SAMPLING_METHOD": "outer",
              "DB_LOCATION": ":memory:",
              "DEV_MODE": false,
              "DISPLAY_MAX_COLUMNS": 100,
              "DISPLAY_MAX_ROWS": 50000,
              "DISPLAY_MODE": "simple",
              "ENABLE_ASSIGNMENT": true,
              "ENABLE_DATALINK": true,
              "FLATTEN_COLUMN_VALUES": true,
              "FLATTEN_INDEX_VALUES": false,
              "GENERATE_DEX_METADATA": false,
              "HTML_TABLE_SCHEMA": false,
              "LOG_LEVEL": 30,
              "MAX_RENDER_SIZE_BYTES": 104857600,
              "MAX_STRING_LENGTH": 250,
              "NUM_PAST_SAMPLES_TRACKED": 3,
              "RANDOM_STATE": 12648430,
              "RESET_INDEX_VALUES": false,
              "ROW_SAMPLING_METHOD": "random",
              "SAMPLING_FACTOR": 0.1,
              "SAMPLING_METHOD": "random",
              "STRINGIFY_COLUMN_VALUES": true,
              "STRINGIFY_INDEX_VALUES": false
            },
            "sample_history": [],
            "sampling_time": "2023-04-28T19:47:03.442977",
            "user_variable_name": "sunspots",
            "variable_name": "sunspots"
          },
          "b713d808-a7bb-4c6a-a578-fd881889dede": {
            "applied_filters": [],
            "dataframe_info": {
              "default_index_used": true,
              "orig_num_cols": 2,
              "orig_num_rows": 5953,
              "orig_size_bytes": 95376,
              "truncated_num_cols": 2,
              "truncated_num_rows": 5953,
              "truncated_size_bytes": 95376,
              "truncated_string_columns": []
            },
            "display_id": "b713d808-a7bb-4c6a-a578-fd881889dede",
            "dx_settings": {
              "ALLOW_NOTEABLE_ATTRS": true,
              "COLUMN_SAMPLING_METHOD": "outer",
              "DB_LOCATION": ":memory:",
              "DEV_MODE": false,
              "DISPLAY_MAX_COLUMNS": 100,
              "DISPLAY_MAX_ROWS": 50000,
              "DISPLAY_MODE": "simple",
              "ENABLE_ASSIGNMENT": true,
              "ENABLE_DATALINK": true,
              "FLATTEN_COLUMN_VALUES": true,
              "FLATTEN_INDEX_VALUES": false,
              "GENERATE_DEX_METADATA": false,
              "HTML_TABLE_SCHEMA": false,
              "LOG_LEVEL": 30,
              "MAX_RENDER_SIZE_BYTES": 104857600,
              "MAX_STRING_LENGTH": 250,
              "NUM_PAST_SAMPLES_TRACKED": 3,
              "RANDOM_STATE": 12648430,
              "RESET_INDEX_VALUES": false,
              "ROW_SAMPLING_METHOD": "random",
              "SAMPLING_FACTOR": 0.1,
              "SAMPLING_METHOD": "random",
              "STRINGIFY_COLUMN_VALUES": true,
              "STRINGIFY_INDEX_VALUES": false
            },
            "sample_history": [],
            "sampling_time": "2023-04-28T21:04:18.946043",
            "user_variable_name": "gas_daily",
            "variable_name": "gas_daily"
          },
          "e0023850-ed64-49aa-a9fb-c43f3e0e601c": {
            "applied_filters": [],
            "dataframe_info": {
              "default_index_used": true,
              "orig_num_cols": 2,
              "orig_num_rows": 5953,
              "orig_size_bytes": 95376,
              "truncated_num_cols": 2,
              "truncated_num_rows": 5953,
              "truncated_size_bytes": 95376,
              "truncated_string_columns": []
            },
            "display_id": "e0023850-ed64-49aa-a9fb-c43f3e0e601c",
            "dx_settings": {
              "ALLOW_NOTEABLE_ATTRS": true,
              "COLUMN_SAMPLING_METHOD": "outer",
              "DB_LOCATION": ":memory:",
              "DEV_MODE": false,
              "DISPLAY_MAX_COLUMNS": 100,
              "DISPLAY_MAX_ROWS": 50000,
              "DISPLAY_MODE": "simple",
              "ENABLE_ASSIGNMENT": true,
              "ENABLE_DATALINK": true,
              "FLATTEN_COLUMN_VALUES": true,
              "FLATTEN_INDEX_VALUES": false,
              "GENERATE_DEX_METADATA": false,
              "HTML_TABLE_SCHEMA": false,
              "LOG_LEVEL": 30,
              "MAX_RENDER_SIZE_BYTES": 104857600,
              "MAX_STRING_LENGTH": 250,
              "NUM_PAST_SAMPLES_TRACKED": 3,
              "RANDOM_STATE": 12648430,
              "RESET_INDEX_VALUES": false,
              "ROW_SAMPLING_METHOD": "random",
              "SAMPLING_FACTOR": 0.1,
              "SAMPLING_METHOD": "random",
              "STRINGIFY_COLUMN_VALUES": true,
              "STRINGIFY_INDEX_VALUES": false
            },
            "sample_history": [],
            "sampling_time": "2023-04-28T21:04:19.627000",
            "user_variable_name": "gas_daily",
            "variable_name": "gas_daily"
          },
          "2c68f6bb-6e6f-4a2c-b5b1-98e2f9d6751f": {
            "applied_filters": [],
            "dataframe_info": {
              "default_index_used": true,
              "orig_num_cols": 2,
              "orig_num_rows": 284,
              "orig_size_bytes": 4672,
              "truncated_num_cols": 2,
              "truncated_num_rows": 284,
              "truncated_size_bytes": 4672,
              "truncated_string_columns": []
            },
            "display_id": "2c68f6bb-6e6f-4a2c-b5b1-98e2f9d6751f",
            "dx_settings": {
              "ALLOW_NOTEABLE_ATTRS": true,
              "COLUMN_SAMPLING_METHOD": "outer",
              "DB_LOCATION": ":memory:",
              "DEV_MODE": false,
              "DISPLAY_MAX_COLUMNS": 100,
              "DISPLAY_MAX_ROWS": 50000,
              "DISPLAY_MODE": "simple",
              "ENABLE_ASSIGNMENT": true,
              "ENABLE_DATALINK": true,
              "FLATTEN_COLUMN_VALUES": true,
              "FLATTEN_INDEX_VALUES": false,
              "GENERATE_DEX_METADATA": false,
              "HTML_TABLE_SCHEMA": false,
              "LOG_LEVEL": 30,
              "MAX_RENDER_SIZE_BYTES": 104857600,
              "MAX_STRING_LENGTH": 250,
              "NUM_PAST_SAMPLES_TRACKED": 3,
              "RANDOM_STATE": 12648430,
              "RESET_INDEX_VALUES": false,
              "ROW_SAMPLING_METHOD": "random",
              "SAMPLING_FACTOR": 0.1,
              "SAMPLING_METHOD": "random",
              "STRINGIFY_COLUMN_VALUES": true,
              "STRINGIFY_INDEX_VALUES": false
            },
            "sample_history": [],
            "sampling_time": "2023-04-28T21:07:31.038178",
            "user_variable_name": "gas_monthly",
            "variable_name": "gas_monthly"
          },
          "c321fd86-9f21-4f74-b84c-396329149282": {
            "applied_filters": [],
            "dataframe_info": {
              "default_index_used": true,
              "orig_num_cols": 2,
              "orig_num_rows": 284,
              "orig_size_bytes": 4672,
              "truncated_num_cols": 2,
              "truncated_num_rows": 284,
              "truncated_size_bytes": 4672,
              "truncated_string_columns": []
            },
            "display_id": "c321fd86-9f21-4f74-b84c-396329149282",
            "dx_settings": {
              "ALLOW_NOTEABLE_ATTRS": true,
              "COLUMN_SAMPLING_METHOD": "outer",
              "DB_LOCATION": ":memory:",
              "DEV_MODE": false,
              "DISPLAY_MAX_COLUMNS": 100,
              "DISPLAY_MAX_ROWS": 50000,
              "DISPLAY_MODE": "simple",
              "ENABLE_ASSIGNMENT": true,
              "ENABLE_DATALINK": true,
              "FLATTEN_COLUMN_VALUES": true,
              "FLATTEN_INDEX_VALUES": false,
              "GENERATE_DEX_METADATA": false,
              "HTML_TABLE_SCHEMA": false,
              "LOG_LEVEL": 30,
              "MAX_RENDER_SIZE_BYTES": 104857600,
              "MAX_STRING_LENGTH": 250,
              "NUM_PAST_SAMPLES_TRACKED": 3,
              "RANDOM_STATE": 12648430,
              "RESET_INDEX_VALUES": false,
              "ROW_SAMPLING_METHOD": "random",
              "SAMPLING_FACTOR": 0.1,
              "SAMPLING_METHOD": "random",
              "STRINGIFY_COLUMN_VALUES": true,
              "STRINGIFY_INDEX_VALUES": false
            },
            "sample_history": [],
            "sampling_time": "2023-04-28T21:07:41.206865",
            "user_variable_name": "gas_monthly",
            "variable_name": "gas_monthly"
          },
          "c567d619-866a-4535-9b0d-81238c7b29dc": {
            "applied_filters": [],
            "dataframe_info": {
              "default_index_used": true,
              "orig_num_cols": 2,
              "orig_num_rows": 315,
              "orig_size_bytes": 5168,
              "truncated_num_cols": 2,
              "truncated_num_rows": 315,
              "truncated_size_bytes": 5168,
              "truncated_string_columns": []
            },
            "display_id": "c567d619-866a-4535-9b0d-81238c7b29dc",
            "dx_settings": {
              "ALLOW_NOTEABLE_ATTRS": true,
              "COLUMN_SAMPLING_METHOD": "outer",
              "DB_LOCATION": ":memory:",
              "DEV_MODE": false,
              "DISPLAY_MAX_COLUMNS": 100,
              "DISPLAY_MAX_ROWS": 50000,
              "DISPLAY_MODE": "simple",
              "ENABLE_ASSIGNMENT": true,
              "ENABLE_DATALINK": true,
              "FLATTEN_COLUMN_VALUES": true,
              "FLATTEN_INDEX_VALUES": false,
              "GENERATE_DEX_METADATA": false,
              "HTML_TABLE_SCHEMA": false,
              "LOG_LEVEL": 30,
              "MAX_RENDER_SIZE_BYTES": 104857600,
              "MAX_STRING_LENGTH": 250,
              "NUM_PAST_SAMPLES_TRACKED": 3,
              "RANDOM_STATE": 12648430,
              "RESET_INDEX_VALUES": false,
              "ROW_SAMPLING_METHOD": "random",
              "SAMPLING_FACTOR": 0.1,
              "SAMPLING_METHOD": "random",
              "STRINGIFY_COLUMN_VALUES": true,
              "STRINGIFY_INDEX_VALUES": false
            },
            "sample_history": [],
            "sampling_time": "2023-04-28T21:43:22.126671",
            "user_variable_name": "gas_monthly",
            "variable_name": "gas_monthly"
          },
          "7e068038-b6c8-4761-8d9a-99b97f12a460": {
            "applied_filters": [],
            "dataframe_info": {
              "default_index_used": true,
              "orig_num_cols": 2,
              "orig_num_rows": 315,
              "orig_size_bytes": 5168,
              "truncated_num_cols": 2,
              "truncated_num_rows": 315,
              "truncated_size_bytes": 5168,
              "truncated_string_columns": []
            },
            "display_id": "7e068038-b6c8-4761-8d9a-99b97f12a460",
            "dx_settings": {
              "ALLOW_NOTEABLE_ATTRS": true,
              "COLUMN_SAMPLING_METHOD": "outer",
              "DB_LOCATION": ":memory:",
              "DEV_MODE": false,
              "DISPLAY_MAX_COLUMNS": 100,
              "DISPLAY_MAX_ROWS": 50000,
              "DISPLAY_MODE": "simple",
              "ENABLE_ASSIGNMENT": true,
              "ENABLE_DATALINK": true,
              "FLATTEN_COLUMN_VALUES": true,
              "FLATTEN_INDEX_VALUES": false,
              "GENERATE_DEX_METADATA": false,
              "HTML_TABLE_SCHEMA": false,
              "LOG_LEVEL": 30,
              "MAX_RENDER_SIZE_BYTES": 104857600,
              "MAX_STRING_LENGTH": 250,
              "NUM_PAST_SAMPLES_TRACKED": 3,
              "RANDOM_STATE": 12648430,
              "RESET_INDEX_VALUES": false,
              "ROW_SAMPLING_METHOD": "random",
              "SAMPLING_FACTOR": 0.1,
              "SAMPLING_METHOD": "random",
              "STRINGIFY_COLUMN_VALUES": true,
              "STRINGIFY_INDEX_VALUES": false
            },
            "sample_history": [],
            "sampling_time": "2023-04-30T18:11:33.723216",
            "user_variable_name": "gas_monthly",
            "variable_name": "gas_monthly"
          }
        },
        "dx": {
          "dashboard": {
            "multiViews": []
          },
          "fieldMetadata": {
            "Month": {
              "columnPosition": 2
            },
            "Sunspots": {
              "aggregation": "MAX",
              "columnPosition": 3
            },
            "index": {
              "columnPosition": 1
            }
          },
          "updated": 1682716037269,
          "views": [
            {
              "annotationRules": [],
              "chart": {},
              "chartMode": "grid",
              "confoRules": [],
              "decoration": {
                "footer": "",
                "subtitle": "",
                "title": "Table"
              },
              "facets": [],
              "filterSettings": {
                "SHOW_FILTER_PANEL": true,
                "filters": []
              },
              "id": "first-view",
              "isDefault": true,
              "type": "public",
              "userID": ""
            },
            {
              "annotationRules": [],
              "chart": {},
              "chartMode": "grid",
              "confoRules": [],
              "decoration": {
                "footer": "",
                "subtitle": "",
                "title": "Table"
              },
              "facets": [],
              "filterSettings": {
                "SHOW_FILTER_PANEL": true,
                "filters": []
              },
              "id": "first-view",
              "isDefault": true,
              "isTransitory": true,
              "type": "public",
              "userID": ""
            }
          ]
        }
      },
      "id": "587cd11f-7ce5-4b17-a533-642ab427798f"
    },
    {
      "cell_type": "code",
      "source": [
        "x = np.linspace(2023 + 3/12, 1997 + 1/12, 315, -1/12).reshape(-1, 1)\n",
        "y = gas_monthly['Price'].to_numpy()"
      ],
      "outputs": [],
      "execution_count": null,
      "metadata": {
        "jupyter": {
          "outputs_hidden": false,
          "source_hidden": false
        },
        "noteable": {
          "cell_type": "code"
        },
        "ExecuteTime": {
          "end_time": "2023-04-30T18:11:34.061377+00:00",
          "start_time": "2023-04-30T18:11:33.905080+00:00"
        }
      },
      "id": "ccb60354-fb13-4044-8d81-11b9981ee24b"
    },
    {
      "cell_type": "code",
      "source": [
        "plt.scatter(x, y, c='k', s = 0.8)\n",
        "plt.xticks()"
      ],
      "outputs": [
        {
          "output_type": "execute_result",
          "execution_count": null,
          "data": {
            "text/plain": "(array([1995., 2000., 2005., 2010., 2015., 2020., 2025.]),\n [Text(1995.0, 0, '1995'),\n  Text(2000.0, 0, '2000'),\n  Text(2005.0, 0, '2005'),\n  Text(2010.0, 0, '2010'),\n  Text(2015.0, 0, '2015'),\n  Text(2020.0, 0, '2020'),\n  Text(2025.0, 0, '2025')])"
          },
          "metadata": {}
        },
        {
          "output_type": "display_data",
          "data": {
            "image/png": "[encoded data removed]"
          },
          "metadata": {}
        }
      ],
      "execution_count": null,
      "metadata": {
        "jupyter": {
          "outputs_hidden": false,
          "source_hidden": false
        },
        "noteable": {
          "cell_type": "code"
        },
        "ExecuteTime": {
          "end_time": "2023-04-30T18:11:34.610196+00:00",
          "start_time": "2023-04-30T18:11:34.070310+00:00"
        }
      },
      "id": "a06e27e5-012a-487c-8e4d-a32fd3d0d657"
    },
    {
      "cell_type": "code",
      "source": [
        "'''from sklearn.gaussian_process.kernels import RBF\n",
        "\n",
        "long_term_trend_kernel = 50.0**2 * RBF(length_scale=50.0)'''"
      ],
      "outputs": [
        {
          "output_type": "execute_result",
          "execution_count": null,
          "data": {
            "text/plain": "'from sklearn.gaussian_process.kernels import RBF\\n\\nlong_term_trend_kernel = 50.0**2 * RBF(length_scale=50.0)'"
          },
          "metadata": {}
        }
      ],
      "execution_count": null,
      "metadata": {
        "jupyter": {
          "outputs_hidden": false,
          "source_hidden": false
        },
        "noteable": {
          "cell_type": "code"
        },
        "ExecuteTime": {
          "end_time": "2023-04-30T18:11:34.824047+00:00",
          "start_time": "2023-04-30T18:11:34.664817+00:00"
        }
      },
      "id": "593c6d4c-7771-4dbf-8d8d-bc96516c77a3"
    },
    {
      "cell_type": "code",
      "source": [
        "from sklearn.gaussian_process.kernels import RBF\n",
        "\n",
        "long_term_trend_kernel = 1.0**2 * RBF(length_scale=1.0)"
      ],
      "outputs": [],
      "execution_count": null,
      "metadata": {
        "jupyter": {
          "outputs_hidden": false,
          "source_hidden": false
        },
        "noteable": {
          "cell_type": "code"
        },
        "ExecuteTime": {
          "end_time": "2023-04-30T18:11:35.416532+00:00",
          "start_time": "2023-04-30T18:11:34.830626+00:00"
        }
      },
      "id": "48117633-ad22-49ca-b470-8e42f21272b2"
    },
    {
      "cell_type": "code",
      "source": [
        "from sklearn.gaussian_process.kernels import ExpSineSquared\n",
        "sub_kernel = (\n",
        "    2.0**2\n",
        "    * RBF(length_scale=72.0)\n",
        "    * ExpSineSquared(length_scale=5.0, periodicity=5.0)\n",
        ")"
      ],
      "outputs": [],
      "execution_count": null,
      "metadata": {
        "jupyter": {
          "outputs_hidden": false,
          "source_hidden": false
        },
        "noteable": {
          "cell_type": "code"
        },
        "ExecuteTime": {
          "end_time": "2023-04-30T18:11:35.581191+00:00",
          "start_time": "2023-04-30T18:11:35.425660+00:00"
        }
      },
      "id": "81cc32b1-5a40-4c93-98c5-29de2a777651"
    },
    {
      "cell_type": "code",
      "source": [
        "from sklearn.gaussian_process.kernels import RationalQuadratic\n",
        "\n",
        "irregularities_kernel = 0.5**2 * RationalQuadratic(length_scale=1.0, alpha=1.0)"
      ],
      "outputs": [],
      "execution_count": null,
      "metadata": {
        "jupyter": {
          "outputs_hidden": false,
          "source_hidden": false
        },
        "noteable": {
          "cell_type": "code"
        },
        "ExecuteTime": {
          "end_time": "2023-04-30T18:11:35.745582+00:00",
          "start_time": "2023-04-30T18:11:35.590004+00:00"
        }
      },
      "id": "512f529c-c667-47ae-b89b-56848d8e51a0"
    },
    {
      "cell_type": "code",
      "source": [
        "from sklearn.gaussian_process.kernels import WhiteKernel\n",
        "\n",
        "noise_kernel = 0.1**2 * RBF(length_scale=0.1) + WhiteKernel(\n",
        "    noise_level=0.1**2, noise_level_bounds=(1e-5, 1e5)\n",
        ")"
      ],
      "outputs": [],
      "execution_count": null,
      "metadata": {
        "jupyter": {
          "outputs_hidden": false,
          "source_hidden": false
        },
        "noteable": {
          "cell_type": "code"
        },
        "ExecuteTime": {
          "end_time": "2023-04-30T18:11:35.909721+00:00",
          "start_time": "2023-04-30T18:11:35.754165+00:00"
        }
      },
      "id": "5b0ca923-4406-44b9-abcf-d33f540bd50c"
    },
    {
      "cell_type": "code",
      "source": [
        "main_kernel = (\n",
        "    sub_kernel + long_term_trend_kernel + irregularities_kernel + noise_kernel\n",
        ")"
      ],
      "outputs": [],
      "execution_count": null,
      "metadata": {
        "jupyter": {
          "outputs_hidden": false,
          "source_hidden": false
        },
        "noteable": {
          "cell_type": "code"
        },
        "ExecuteTime": {
          "end_time": "2023-04-30T18:11:36.073843+00:00",
          "start_time": "2023-04-30T18:11:35.918972+00:00"
        }
      },
      "id": "0c461344-81e4-492b-97df-f7f7a27ab7c8"
    },
    {
      "cell_type": "code",
      "source": [
        "from sklearn.gaussian_process import GaussianProcessRegressor\n",
        "\n",
        "y_mean = y.mean()\n",
        "gaussian_process = GaussianProcessRegressor(kernel=main_kernel, normalize_y=False)\n",
        "gaussian_process.fit(x, y - y_mean)"
      ],
      "outputs": [
        {
          "output_type": "execute_result",
          "execution_count": null,
          "data": {
            "text/html": "<style>#sk-container-id-1 {color: black;background-color: white;}#sk-container-id-1 pre{padding: 0;}#sk-container-id-1 div.sk-toggleable {background-color: white;}#sk-container-id-1 label.sk-toggleable__label {cursor: pointer;display: block;width: 100%;margin-bottom: 0;padding: 0.3em;box-sizing: border-box;text-align: center;}#sk-container-id-1 label.sk-toggleable__label-arrow:before {content: \"▸\";float: left;margin-right: 0.25em;color: #696969;}#sk-container-id-1 label.sk-toggleable__label-arrow:hover:before {color: black;}#sk-container-id-1 div.sk-estimator:hover label.sk-toggleable__label-arrow:before {color: black;}#sk-container-id-1 div.sk-toggleable__content {max-height: 0;max-width: 0;overflow: hidden;text-align: left;background-color: #f0f8ff;}#sk-container-id-1 div.sk-toggleable__content pre {margin: 0.2em;color: black;border-radius: 0.25em;background-color: #f0f8ff;}#sk-container-id-1 input.sk-toggleable__control:checked~div.sk-toggleable__content {max-height: 200px;max-width: 100%;overflow: auto;}#sk-container-id-1 input.sk-toggleable__control:checked~label.sk-toggleable__label-arrow:before {content: \"▾\";}#sk-container-id-1 div.sk-estimator input.sk-toggleable__control:checked~label.sk-toggleable__label {background-color: #d4ebff;}#sk-container-id-1 div.sk-label input.sk-toggleable__control:checked~label.sk-toggleable__label {background-color: #d4ebff;}#sk-container-id-1 input.sk-hidden--visually {border: 0;clip: rect(1px 1px 1px 1px);clip: rect(1px, 1px, 1px, 1px);height: 1px;margin: -1px;overflow: hidden;padding: 0;position: absolute;width: 1px;}#sk-container-id-1 div.sk-estimator {font-family: monospace;background-color: #f0f8ff;border: 1px dotted black;border-radius: 0.25em;box-sizing: border-box;margin-bottom: 0.5em;}#sk-container-id-1 div.sk-estimator:hover {background-color: #d4ebff;}#sk-container-id-1 div.sk-parallel-item::after {content: \"\";width: 100%;border-bottom: 1px solid gray;flex-grow: 1;}#sk-container-id-1 div.sk-label:hover label.sk-toggleable__label {background-color: #d4ebff;}#sk-container-id-1 div.sk-serial::before {content: \"\";position: absolute;border-left: 1px solid gray;box-sizing: border-box;top: 0;bottom: 0;left: 50%;z-index: 0;}#sk-container-id-1 div.sk-serial {display: flex;flex-direction: column;align-items: center;background-color: white;padding-right: 0.2em;padding-left: 0.2em;position: relative;}#sk-container-id-1 div.sk-item {position: relative;z-index: 1;}#sk-container-id-1 div.sk-parallel {display: flex;align-items: stretch;justify-content: center;background-color: white;position: relative;}#sk-container-id-1 div.sk-item::before, #sk-container-id-1 div.sk-parallel-item::before {content: \"\";position: absolute;border-left: 1px solid gray;box-sizing: border-box;top: 0;bottom: 0;left: 50%;z-index: -1;}#sk-container-id-1 div.sk-parallel-item {display: flex;flex-direction: column;z-index: 1;position: relative;background-color: white;}#sk-container-id-1 div.sk-parallel-item:first-child::after {align-self: flex-end;width: 50%;}#sk-container-id-1 div.sk-parallel-item:last-child::after {align-self: flex-start;width: 50%;}#sk-container-id-1 div.sk-parallel-item:only-child::after {width: 0;}#sk-container-id-1 div.sk-dashed-wrapped {border: 1px dashed gray;margin: 0 0.4em 0.5em 0.4em;box-sizing: border-box;padding-bottom: 0.4em;background-color: white;}#sk-container-id-1 div.sk-label label {font-family: monospace;font-weight: bold;display: inline-block;line-height: 1.2em;}#sk-container-id-1 div.sk-label-container {text-align: center;}#sk-container-id-1 div.sk-container {/* jupyter's `normalize.less` sets `[hidden] { display: none; }` but bootstrap.min.css set `[hidden] { display: none !important; }` so we also need the `!important` here to be able to override the default hidden behavior on the sphinx rendered scikit-learn.org. See: https://github.com/scikit-learn/scikit-learn/issues/21755 */display: inline-block !important;position: relative;}#sk-container-id-1 div.sk-text-repr-fallback {display: none;}</style><div id=\"sk-container-id-1\" class=\"sk-top-container\"><div class=\"sk-text-repr-fallback\"><pre>GaussianProcessRegressor(kernel=2**2 * RBF(length_scale=72) * ExpSineSquared(length_scale=5, periodicity=5) + 1**2 * RBF(length_scale=1) + 0.5**2 * RationalQuadratic(alpha=1, length_scale=1) + 0.1**2 * RBF(length_scale=0.1) + WhiteKernel(noise_level=0.01))</pre><b>In a Jupyter environment, please rerun this cell to show the HTML representation or trust the notebook. <br />On GitHub, the HTML representation is unable to render, please try loading this page with nbviewer.org.</b></div><div class=\"sk-container\" hidden><div class=\"sk-item\"><div class=\"sk-estimator sk-toggleable\"><input class=\"sk-toggleable__control sk-hidden--visually\" id=\"sk-estimator-id-1\" type=\"checkbox\" checked><label for=\"sk-estimator-id-1\" class=\"sk-toggleable__label sk-toggleable__label-arrow\">GaussianProcessRegressor</label><div class=\"sk-toggleable__content\"><pre>GaussianProcessRegressor(kernel=2**2 * RBF(length_scale=72) * ExpSineSquared(length_scale=5, periodicity=5) + 1**2 * RBF(length_scale=1) + 0.5**2 * RationalQuadratic(alpha=1, length_scale=1) + 0.1**2 * RBF(length_scale=0.1) + WhiteKernel(noise_level=0.01))</pre></div></div></div></div></div>"
          },
          "metadata": {}
        }
      ],
      "execution_count": null,
      "metadata": {
        "jupyter": {
          "outputs_hidden": false,
          "source_hidden": false
        },
        "noteable": {
          "cell_type": "code"
        },
        "ExecuteTime": {
          "end_time": "2023-04-30T18:12:32.956301+00:00",
          "start_time": "2023-04-30T18:11:36.082154+00:00"
        },
        "scrolled": true
      },
      "id": "c6476368-77e5-4747-ae45-3123b1751066"
    },
    {
      "cell_type": "code",
      "source": [
        "import datetime\n",
        "import numpy as np\n",
        "\n",
        "today = datetime.datetime.now()\n",
        "current_month = (today.year + 3) + today.month / 12\n",
        "X_test = np.linspace(start=1997+1/12, stop=current_month, num=500).reshape(-1, 1)\n",
        "sunnum_pred, std_sunnum_pred = gaussian_process.predict(X_test, return_std=True)"
      ],
      "outputs": [],
      "execution_count": null,
      "metadata": {
        "jupyter": {
          "outputs_hidden": false,
          "source_hidden": false
        },
        "noteable": {
          "cell_type": "code"
        },
        "ExecuteTime": {
          "end_time": "2023-04-30T18:12:33.356301+00:00",
          "start_time": "2023-04-30T18:12:32.965349+00:00"
        }
      },
      "id": "30c2d376-5ecd-45b0-a3f9-6cc20b42d508"
    },
    {
      "cell_type": "code",
      "source": [
        "plt.scatter(x, y, color=\"black\", s=0.2, label=\"Data\")\n",
        "plt.plot(X_test, sunnum_pred + y_mean, color=\"red\", alpha=0.6, label=\"Gaussian process\", linewidth = 0.5)\n",
        "plt.fill_between(\n",
        "    X_test.ravel(),\n",
        "    sunnum_pred - std_sunnum_pred + y_mean,\n",
        "    sunnum_pred + std_sunnum_pred + y_mean, \n",
        "    color=\"tab:blue\",\n",
        "    alpha=0.2,\n",
        "    label = \"Deviation Bounds\"\n",
        ")\n",
        "plt.legend()\n",
        "plt.title(\"Predictive Gas Price Modelling\")\n",
        "plt.ylabel(\"Dollars per Million BTU\")\n",
        "plt.xlabel(\"Year\")"
      ],
      "outputs": [
        {
          "output_type": "execute_result",
          "execution_count": null,
          "data": {
            "text/plain": "Text(0.5, 0, 'Year')"
          },
          "metadata": {}
        },
        {
          "output_type": "display_data",
          "data": {
            "image/png": "[encoded data removed]"
          },
          "metadata": {}
        }
      ],
      "execution_count": null,
      "metadata": {
        "jupyter": {
          "outputs_hidden": false,
          "source_hidden": false
        },
        "noteable": {
          "cell_type": "code"
        },
        "ExecuteTime": {
          "end_time": "2023-04-30T18:43:14.173925+00:00",
          "start_time": "2023-04-30T18:43:13.632200+00:00"
        },
        "scrolled": true
      },
      "id": "1538a952-81cf-44ba-9a77-c6532bbb348a"
    },
    {
      "cell_type": "code",
      "source": [],
      "outputs": [],
      "execution_count": null,
      "metadata": {
        "jupyter": {
          "outputs_hidden": false,
          "source_hidden": false
        },
        "noteable": {
          "cell_type": "code"
        }
      },
      "id": "5356c926-e0d0-4ce4-bc8c-8e3fa95dd2d7"
    }
  ],
  "metadata": {
    "selected_hardware_size": "small",
    "noteable": {
      "db_connection": "@noteable",
      "last_transaction_id": "6da2ee23-5f7a-4b00-9073-75fd92da876b"
    },
    "nteract": {
      "version": "noteable@2.9.0"
    }
  },
  "nbformat": 4,
  "nbformat_minor": 5
}