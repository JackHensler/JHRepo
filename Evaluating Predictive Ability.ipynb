{
  "cells": [
    {
      "cell_type": "code",
      "source": [
        "\"\"\"\n",
        "Day 1\n",
        "Jack and I figured out a platform where we can use realtime collaboration to simultaneously work on our Python code. It's a pretty epic combination between Jupyter Notebooka and Google Docs TBH\n",
        "\"\"\""
      ],
      "outputs": [
        {
          "output_type": "execute_result",
          "execution_count": null,
          "data": {
            "text/plain": "\"\\nDay 1\\nJack and I figured out a platform where we can use realtime collaboration to simultaneously work on our Python code. It's a pretty epic combination between Jupyter Notebooka and Google Docs TBH\\n\""
          },
          "metadata": {}
        }
      ],
      "execution_count": null,
      "metadata": {
        "noteable": {
          "cell_type": "python"
        },
        "ExecuteTime": {
          "end_time": "2023-04-30T18:41:06.026609+00:00",
          "start_time": "2023-04-30T18:41:05.868077+00:00"
        },
        "tags": [
          "show_line_numbers"
        ]
      },
      "id": "8c128b24-2755-4ec6-8e2c-94fe16139689"
    },
    {
      "cell_type": "code",
      "source": [
        "#GAS\n",
        "import numpy as np\n",
        "import pandas as pd\n",
        "import matplotlib.pyplot as plt\n",
        "\n",
        "gas_monthly = pd.read_csv('gasmonthly_csv.csv')\n",
        "gas_monthly"
      ],
      "outputs": [
        {
          "output_type": "display_data",
          "data": {
            "application/vnd.dataresource+json": {
              "schema": {
                "fields": [
                  {
                    "name": "index",
                    "type": "integer"
                  },
                  {
                    "name": "Month",
                    "type": "string"
                  },
                  {
                    "name": "Price",
                    "type": "number"
                  }
                ],
                "primaryKey": [
                  "index"
                ],
                "pandas_version": "1.4.0"
              },
              "data": [
                {
                  "index": 0,
                  "Month": "1997-01",
                  "Price": 3.45
                },
                {
                  "index": 1,
                  "Month": "1997-02",
                  "Price": 2.15
                },
                {
                  "index": 2,
                  "Month": "1997-03",
                  "Price": 1.89
                },
                {
                  "index": 3,
                  "Month": "1997-04",
                  "Price": 2.03
                },
                {
                  "index": 4,
                  "Month": "1997-05",
                  "Price": 2.25
                },
                {
                  "index": 5,
                  "Month": "1997-06",
                  "Price": 2.2
                },
                {
                  "index": 6,
                  "Month": "1997-07",
                  "Price": 2.19
                },
                {
                  "index": 7,
                  "Month": "1997-08",
                  "Price": 2.49
                },
                {
                  "index": 8,
                  "Month": "1997-09",
                  "Price": 2.88
                },
                {
                  "index": 9,
                  "Month": "1997-10",
                  "Price": 3.07
                },
                {
                  "index": 10,
                  "Month": "1997-11",
                  "Price": 3.01
                },
                {
                  "index": 11,
                  "Month": "1997-12",
                  "Price": 2.35
                },
                {
                  "index": 12,
                  "Month": "1998-01",
                  "Price": 2.09
                },
                {
                  "index": 13,
                  "Month": "1998-02",
                  "Price": 2.23
                },
                {
                  "index": 14,
                  "Month": "1998-03",
                  "Price": 2.24
                },
                {
                  "index": 15,
                  "Month": "1998-04",
                  "Price": 2.43
                },
                {
                  "index": 16,
                  "Month": "1998-05",
                  "Price": 2.14
                },
                {
                  "index": 17,
                  "Month": "1998-06",
                  "Price": 2.17
                },
                {
                  "index": 18,
                  "Month": "1998-07",
                  "Price": 2.17
                },
                {
                  "index": 19,
                  "Month": "1998-08",
                  "Price": 1.85
                },
                {
                  "index": 20,
                  "Month": "1998-09",
                  "Price": 2.02
                },
                {
                  "index": 21,
                  "Month": "1998-10",
                  "Price": 1.91
                },
                {
                  "index": 22,
                  "Month": "1998-11",
                  "Price": 2.12
                },
                {
                  "index": 23,
                  "Month": "1998-12",
                  "Price": 1.72
                },
                {
                  "index": 24,
                  "Month": "1999-01",
                  "Price": 1.85
                },
                {
                  "index": 25,
                  "Month": "1999-02",
                  "Price": 1.77
                },
                {
                  "index": 26,
                  "Month": "1999-03",
                  "Price": 1.79
                },
                {
                  "index": 27,
                  "Month": "1999-04",
                  "Price": 2.15
                },
                {
                  "index": 28,
                  "Month": "1999-05",
                  "Price": 2.26
                },
                {
                  "index": 29,
                  "Month": "1999-06",
                  "Price": 2.3
                },
                {
                  "index": 30,
                  "Month": "1999-07",
                  "Price": 2.31
                },
                {
                  "index": 31,
                  "Month": "1999-08",
                  "Price": 2.8
                },
                {
                  "index": 32,
                  "Month": "1999-09",
                  "Price": 2.55
                },
                {
                  "index": 33,
                  "Month": "1999-10",
                  "Price": 2.73
                },
                {
                  "index": 34,
                  "Month": "1999-11",
                  "Price": 2.37
                },
                {
                  "index": 35,
                  "Month": "1999-12",
                  "Price": 2.36
                },
                {
                  "index": 36,
                  "Month": "2000-01",
                  "Price": 2.42
                },
                {
                  "index": 37,
                  "Month": "2000-02",
                  "Price": 2.66
                },
                {
                  "index": 38,
                  "Month": "2000-03",
                  "Price": 2.79
                },
                {
                  "index": 39,
                  "Month": "2000-04",
                  "Price": 3.04
                },
                {
                  "index": 40,
                  "Month": "2000-05",
                  "Price": 3.59
                },
                {
                  "index": 41,
                  "Month": "2000-06",
                  "Price": 4.29
                },
                {
                  "index": 42,
                  "Month": "2000-07",
                  "Price": 3.99
                },
                {
                  "index": 43,
                  "Month": "2000-08",
                  "Price": 4.43
                },
                {
                  "index": 44,
                  "Month": "2000-09",
                  "Price": 5.06
                },
                {
                  "index": 45,
                  "Month": "2000-10",
                  "Price": 5.02
                },
                {
                  "index": 46,
                  "Month": "2000-11",
                  "Price": 5.52
                },
                {
                  "index": 47,
                  "Month": "2000-12",
                  "Price": 8.9
                },
                {
                  "index": 48,
                  "Month": "2001-01",
                  "Price": 8.17
                },
                {
                  "index": 49,
                  "Month": "2001-02",
                  "Price": 5.61
                },
                {
                  "index": 50,
                  "Month": "2001-03",
                  "Price": 5.23
                },
                {
                  "index": 51,
                  "Month": "2001-04",
                  "Price": 5.19
                },
                {
                  "index": 52,
                  "Month": "2001-05",
                  "Price": 4.19
                },
                {
                  "index": 53,
                  "Month": "2001-06",
                  "Price": 3.72
                },
                {
                  "index": 54,
                  "Month": "2001-07",
                  "Price": 3.11
                },
                {
                  "index": 55,
                  "Month": "2001-08",
                  "Price": 2.97
                },
                {
                  "index": 56,
                  "Month": "2001-09",
                  "Price": 2.19
                },
                {
                  "index": 57,
                  "Month": "2001-10",
                  "Price": 2.46
                },
                {
                  "index": 58,
                  "Month": "2001-11",
                  "Price": 2.34
                },
                {
                  "index": 59,
                  "Month": "2001-12",
                  "Price": 2.3
                },
                {
                  "index": 60,
                  "Month": "2002-01",
                  "Price": 2.32
                },
                {
                  "index": 61,
                  "Month": "2002-02",
                  "Price": 2.32
                },
                {
                  "index": 62,
                  "Month": "2002-03",
                  "Price": 3.03
                },
                {
                  "index": 63,
                  "Month": "2002-04",
                  "Price": 3.43
                },
                {
                  "index": 64,
                  "Month": "2002-05",
                  "Price": 3.5
                },
                {
                  "index": 65,
                  "Month": "2002-06",
                  "Price": 3.26
                },
                {
                  "index": 66,
                  "Month": "2002-07",
                  "Price": 2.99
                },
                {
                  "index": 67,
                  "Month": "2002-08",
                  "Price": 3.09
                },
                {
                  "index": 68,
                  "Month": "2002-09",
                  "Price": 3.55
                },
                {
                  "index": 69,
                  "Month": "2002-10",
                  "Price": 4.13
                },
                {
                  "index": 70,
                  "Month": "2002-11",
                  "Price": 4.04
                },
                {
                  "index": 71,
                  "Month": "2002-12",
                  "Price": 4.74
                },
                {
                  "index": 72,
                  "Month": "2003-01",
                  "Price": 5.43
                },
                {
                  "index": 73,
                  "Month": "2003-02",
                  "Price": 7.71
                },
                {
                  "index": 74,
                  "Month": "2003-03",
                  "Price": 5.93
                },
                {
                  "index": 75,
                  "Month": "2003-04",
                  "Price": 5.26
                },
                {
                  "index": 76,
                  "Month": "2003-05",
                  "Price": 5.81
                },
                {
                  "index": 77,
                  "Month": "2003-06",
                  "Price": 5.82
                },
                {
                  "index": 78,
                  "Month": "2003-07",
                  "Price": 5.03
                },
                {
                  "index": 79,
                  "Month": "2003-08",
                  "Price": 4.99
                },
                {
                  "index": 80,
                  "Month": "2003-09",
                  "Price": 4.62
                },
                {
                  "index": 81,
                  "Month": "2003-10",
                  "Price": 4.63
                },
                {
                  "index": 82,
                  "Month": "2003-11",
                  "Price": 4.47
                },
                {
                  "index": 83,
                  "Month": "2003-12",
                  "Price": 6.13
                },
                {
                  "index": 84,
                  "Month": "2004-01",
                  "Price": 6.14
                },
                {
                  "index": 85,
                  "Month": "2004-02",
                  "Price": 5.37
                },
                {
                  "index": 86,
                  "Month": "2004-03",
                  "Price": 5.39
                },
                {
                  "index": 87,
                  "Month": "2004-04",
                  "Price": 5.71
                },
                {
                  "index": 88,
                  "Month": "2004-05",
                  "Price": 6.33
                },
                {
                  "index": 89,
                  "Month": "2004-06",
                  "Price": 6.27
                },
                {
                  "index": 90,
                  "Month": "2004-07",
                  "Price": 5.93
                },
                {
                  "index": 91,
                  "Month": "2004-08",
                  "Price": 5.41
                },
                {
                  "index": 92,
                  "Month": "2004-09",
                  "Price": 5.15
                },
                {
                  "index": 93,
                  "Month": "2004-10",
                  "Price": 6.35
                },
                {
                  "index": 94,
                  "Month": "2004-11",
                  "Price": 6.17
                },
                {
                  "index": 95,
                  "Month": "2004-12",
                  "Price": 6.58
                },
                {
                  "index": 96,
                  "Month": "2005-01",
                  "Price": 6.15
                },
                {
                  "index": 97,
                  "Month": "2005-02",
                  "Price": 6.14
                },
                {
                  "index": 98,
                  "Month": "2005-03",
                  "Price": 6.96
                },
                {
                  "index": 99,
                  "Month": "2005-04",
                  "Price": 7.16
                },
                {
                  "index": 100,
                  "Month": "2005-05",
                  "Price": 6.47
                },
                {
                  "index": 101,
                  "Month": "2005-06",
                  "Price": 7.18
                },
                {
                  "index": 102,
                  "Month": "2005-07",
                  "Price": 7.63
                },
                {
                  "index": 103,
                  "Month": "2005-08",
                  "Price": 9.53
                },
                {
                  "index": 104,
                  "Month": "2005-09",
                  "Price": 11.75
                },
                {
                  "index": 105,
                  "Month": "2005-10",
                  "Price": 13.42
                },
                {
                  "index": 106,
                  "Month": "2005-11",
                  "Price": 10.3
                },
                {
                  "index": 107,
                  "Month": "2005-12",
                  "Price": 13.05
                },
                {
                  "index": 108,
                  "Month": "2006-01",
                  "Price": 8.689999999999998
                },
                {
                  "index": 109,
                  "Month": "2006-02",
                  "Price": 7.54
                },
                {
                  "index": 110,
                  "Month": "2006-03",
                  "Price": 6.89
                },
                {
                  "index": 111,
                  "Month": "2006-04",
                  "Price": 7.16
                },
                {
                  "index": 112,
                  "Month": "2006-05",
                  "Price": 6.25
                },
                {
                  "index": 113,
                  "Month": "2006-06",
                  "Price": 6.21
                },
                {
                  "index": 114,
                  "Month": "2006-07",
                  "Price": 6.17
                },
                {
                  "index": 115,
                  "Month": "2006-08",
                  "Price": 7.14
                },
                {
                  "index": 116,
                  "Month": "2006-09",
                  "Price": 4.9
                },
                {
                  "index": 117,
                  "Month": "2006-10",
                  "Price": 5.85
                },
                {
                  "index": 118,
                  "Month": "2006-11",
                  "Price": 7.41
                },
                {
                  "index": 119,
                  "Month": "2006-12",
                  "Price": 6.73
                },
                {
                  "index": 120,
                  "Month": "2007-01",
                  "Price": 6.55
                },
                {
                  "index": 121,
                  "Month": "2007-02",
                  "Price": 8
                },
                {
                  "index": 122,
                  "Month": "2007-03",
                  "Price": 7.11
                },
                {
                  "index": 123,
                  "Month": "2007-04",
                  "Price": 7.599999999999999
                },
                {
                  "index": 124,
                  "Month": "2007-05",
                  "Price": 7.639999999999999
                },
                {
                  "index": 125,
                  "Month": "2007-06",
                  "Price": 7.349999999999999
                },
                {
                  "index": 126,
                  "Month": "2007-07",
                  "Price": 6.22
                },
                {
                  "index": 127,
                  "Month": "2007-08",
                  "Price": 6.22
                },
                {
                  "index": 128,
                  "Month": "2007-09",
                  "Price": 6.08
                },
                {
                  "index": 129,
                  "Month": "2007-10",
                  "Price": 6.74
                },
                {
                  "index": 130,
                  "Month": "2007-11",
                  "Price": 7.1
                },
                {
                  "index": 131,
                  "Month": "2007-12",
                  "Price": 7.11
                },
                {
                  "index": 132,
                  "Month": "2008-01",
                  "Price": 7.99
                },
                {
                  "index": 133,
                  "Month": "2008-02",
                  "Price": 8.54
                },
                {
                  "index": 134,
                  "Month": "2008-03",
                  "Price": 9.41
                },
                {
                  "index": 135,
                  "Month": "2008-04",
                  "Price": 10.18
                },
                {
                  "index": 136,
                  "Month": "2008-05",
                  "Price": 11.27
                },
                {
                  "index": 137,
                  "Month": "2008-06",
                  "Price": 12.69
                },
                {
                  "index": 138,
                  "Month": "2008-07",
                  "Price": 11.09
                },
                {
                  "index": 139,
                  "Month": "2008-08",
                  "Price": 8.259999999999998
                },
                {
                  "index": 140,
                  "Month": "2008-09",
                  "Price": 7.67
                },
                {
                  "index": 141,
                  "Month": "2008-10",
                  "Price": 6.74
                },
                {
                  "index": 142,
                  "Month": "2008-11",
                  "Price": 6.68
                },
                {
                  "index": 143,
                  "Month": "2008-12",
                  "Price": 5.82
                },
                {
                  "index": 144,
                  "Month": "2009-01",
                  "Price": 5.24
                },
                {
                  "index": 145,
                  "Month": "2009-02",
                  "Price": 4.52
                },
                {
                  "index": 146,
                  "Month": "2009-03",
                  "Price": 3.96
                },
                {
                  "index": 147,
                  "Month": "2009-04",
                  "Price": 3.5
                },
                {
                  "index": 148,
                  "Month": "2009-05",
                  "Price": 3.83
                },
                {
                  "index": 149,
                  "Month": "2009-06",
                  "Price": 3.8
                },
                {
                  "index": 150,
                  "Month": "2009-07",
                  "Price": 3.38
                },
                {
                  "index": 151,
                  "Month": "2009-08",
                  "Price": 3.14
                },
                {
                  "index": 152,
                  "Month": "2009-09",
                  "Price": 2.99
                },
                {
                  "index": 153,
                  "Month": "2009-10",
                  "Price": 4.01
                },
                {
                  "index": 154,
                  "Month": "2009-11",
                  "Price": 3.66
                },
                {
                  "index": 155,
                  "Month": "2009-12",
                  "Price": 5.35
                },
                {
                  "index": 156,
                  "Month": "2010-01",
                  "Price": 5.83
                },
                {
                  "index": 157,
                  "Month": "2010-02",
                  "Price": 5.32
                },
                {
                  "index": 158,
                  "Month": "2010-03",
                  "Price": 4.29
                },
                {
                  "index": 159,
                  "Month": "2010-04",
                  "Price": 4.03
                },
                {
                  "index": 160,
                  "Month": "2010-05",
                  "Price": 4.14
                },
                {
                  "index": 161,
                  "Month": "2010-06",
                  "Price": 4.8
                },
                {
                  "index": 162,
                  "Month": "2010-07",
                  "Price": 4.63
                },
                {
                  "index": 163,
                  "Month": "2010-08",
                  "Price": 4.32
                },
                {
                  "index": 164,
                  "Month": "2010-09",
                  "Price": 3.89
                },
                {
                  "index": 165,
                  "Month": "2010-10",
                  "Price": 3.43
                },
                {
                  "index": 166,
                  "Month": "2010-11",
                  "Price": 3.71
                },
                {
                  "index": 167,
                  "Month": "2010-12",
                  "Price": 4.25
                },
                {
                  "index": 168,
                  "Month": "2011-01",
                  "Price": 4.49
                },
                {
                  "index": 169,
                  "Month": "2011-02",
                  "Price": 4.09
                },
                {
                  "index": 170,
                  "Month": "2011-03",
                  "Price": 3.97
                },
                {
                  "index": 171,
                  "Month": "2011-04",
                  "Price": 4.24
                },
                {
                  "index": 172,
                  "Month": "2011-05",
                  "Price": 4.31
                },
                {
                  "index": 173,
                  "Month": "2011-06",
                  "Price": 4.54
                },
                {
                  "index": 174,
                  "Month": "2011-07",
                  "Price": 4.42
                },
                {
                  "index": 175,
                  "Month": "2011-08",
                  "Price": 4.06
                },
                {
                  "index": 176,
                  "Month": "2011-09",
                  "Price": 3.9
                },
                {
                  "index": 177,
                  "Month": "2011-10",
                  "Price": 3.57
                },
                {
                  "index": 178,
                  "Month": "2011-11",
                  "Price": 3.24
                },
                {
                  "index": 179,
                  "Month": "2011-12",
                  "Price": 3.17
                },
                {
                  "index": 180,
                  "Month": "2012-01",
                  "Price": 2.67
                },
                {
                  "index": 181,
                  "Month": "2012-02",
                  "Price": 2.51
                },
                {
                  "index": 182,
                  "Month": "2012-03",
                  "Price": 2.17
                },
                {
                  "index": 183,
                  "Month": "2012-04",
                  "Price": 1.95
                },
                {
                  "index": 184,
                  "Month": "2012-05",
                  "Price": 2.43
                },
                {
                  "index": 185,
                  "Month": "2012-06",
                  "Price": 2.46
                },
                {
                  "index": 186,
                  "Month": "2012-07",
                  "Price": 2.95
                },
                {
                  "index": 187,
                  "Month": "2012-08",
                  "Price": 2.84
                },
                {
                  "index": 188,
                  "Month": "2012-09",
                  "Price": 2.85
                },
                {
                  "index": 189,
                  "Month": "2012-10",
                  "Price": 3.32
                },
                {
                  "index": 190,
                  "Month": "2012-11",
                  "Price": 3.54
                },
                {
                  "index": 191,
                  "Month": "2012-12",
                  "Price": 3.34
                },
                {
                  "index": 192,
                  "Month": "2013-01",
                  "Price": 3.33
                },
                {
                  "index": 193,
                  "Month": "2013-02",
                  "Price": 3.33
                },
                {
                  "index": 194,
                  "Month": "2013-03",
                  "Price": 3.81
                },
                {
                  "index": 195,
                  "Month": "2013-04",
                  "Price": 4.17
                },
                {
                  "index": 196,
                  "Month": "2013-05",
                  "Price": 4.04
                },
                {
                  "index": 197,
                  "Month": "2013-06",
                  "Price": 3.83
                },
                {
                  "index": 198,
                  "Month": "2013-07",
                  "Price": 3.62
                },
                {
                  "index": 199,
                  "Month": "2013-08",
                  "Price": 3.43
                },
                {
                  "index": 200,
                  "Month": "2013-09",
                  "Price": 3.62
                },
                {
                  "index": 201,
                  "Month": "2013-10",
                  "Price": 3.68
                },
                {
                  "index": 202,
                  "Month": "2013-11",
                  "Price": 3.64
                },
                {
                  "index": 203,
                  "Month": "2013-12",
                  "Price": 4.24
                },
                {
                  "index": 204,
                  "Month": "2014-01",
                  "Price": 4.71
                },
                {
                  "index": 205,
                  "Month": "2014-02",
                  "Price": 6
                },
                {
                  "index": 206,
                  "Month": "2014-03",
                  "Price": 4.9
                },
                {
                  "index": 207,
                  "Month": "2014-04",
                  "Price": 4.66
                },
                {
                  "index": 208,
                  "Month": "2014-05",
                  "Price": 4.58
                },
                {
                  "index": 209,
                  "Month": "2014-06",
                  "Price": 4.59
                },
                {
                  "index": 210,
                  "Month": "2014-07",
                  "Price": 4.05
                },
                {
                  "index": 211,
                  "Month": "2014-08",
                  "Price": 3.91
                },
                {
                  "index": 212,
                  "Month": "2014-09",
                  "Price": 3.92
                },
                {
                  "index": 213,
                  "Month": "2014-10",
                  "Price": 3.78
                },
                {
                  "index": 214,
                  "Month": "2014-11",
                  "Price": 4.12
                },
                {
                  "index": 215,
                  "Month": "2014-12",
                  "Price": 3.48
                },
                {
                  "index": 216,
                  "Month": "2015-01",
                  "Price": 2.99
                },
                {
                  "index": 217,
                  "Month": "2015-02",
                  "Price": 2.87
                },
                {
                  "index": 218,
                  "Month": "2015-03",
                  "Price": 2.83
                },
                {
                  "index": 219,
                  "Month": "2015-04",
                  "Price": 2.61
                },
                {
                  "index": 220,
                  "Month": "2015-05",
                  "Price": 2.85
                },
                {
                  "index": 221,
                  "Month": "2015-06",
                  "Price": 2.78
                },
                {
                  "index": 222,
                  "Month": "2015-07",
                  "Price": 2.84
                },
                {
                  "index": 223,
                  "Month": "2015-08",
                  "Price": 2.77
                },
                {
                  "index": 224,
                  "Month": "2015-09",
                  "Price": 2.66
                },
                {
                  "index": 225,
                  "Month": "2015-10",
                  "Price": 2.34
                },
                {
                  "index": 226,
                  "Month": "2015-11",
                  "Price": 2.09
                },
                {
                  "index": 227,
                  "Month": "2015-12",
                  "Price": 1.93
                },
                {
                  "index": 228,
                  "Month": "2016-01",
                  "Price": 2.28
                },
                {
                  "index": 229,
                  "Month": "2016-02",
                  "Price": 1.99
                },
                {
                  "index": 230,
                  "Month": "2016-03",
                  "Price": 1.73
                },
                {
                  "index": 231,
                  "Month": "2016-04",
                  "Price": 1.92
                },
                {
                  "index": 232,
                  "Month": "2016-05",
                  "Price": 1.92
                },
                {
                  "index": 233,
                  "Month": "2016-06",
                  "Price": 2.59
                },
                {
                  "index": 234,
                  "Month": "2016-07",
                  "Price": 2.82
                },
                {
                  "index": 235,
                  "Month": "2016-08",
                  "Price": 2.82
                },
                {
                  "index": 236,
                  "Month": "2016-09",
                  "Price": 2.99
                },
                {
                  "index": 237,
                  "Month": "2016-10",
                  "Price": 2.98
                },
                {
                  "index": 238,
                  "Month": "2016-11",
                  "Price": 2.55
                },
                {
                  "index": 239,
                  "Month": "2016-12",
                  "Price": 3.59
                },
                {
                  "index": 240,
                  "Month": "2017-01",
                  "Price": 3.3
                },
                {
                  "index": 241,
                  "Month": "2017-02",
                  "Price": 2.85
                },
                {
                  "index": 242,
                  "Month": "2017-03",
                  "Price": 2.88
                },
                {
                  "index": 243,
                  "Month": "2017-04",
                  "Price": 3.1
                },
                {
                  "index": 244,
                  "Month": "2017-05",
                  "Price": 3.15
                },
                {
                  "index": 245,
                  "Month": "2017-06",
                  "Price": 2.98
                },
                {
                  "index": 246,
                  "Month": "2017-07",
                  "Price": 2.98
                },
                {
                  "index": 247,
                  "Month": "2017-08",
                  "Price": 2.9
                },
                {
                  "index": 248,
                  "Month": "2017-09",
                  "Price": 2.98
                },
                {
                  "index": 249,
                  "Month": "2017-10",
                  "Price": 2.88
                },
                {
                  "index": 250,
                  "Month": "2017-11",
                  "Price": 3.01
                },
                {
                  "index": 251,
                  "Month": "2017-12",
                  "Price": 2.82
                },
                {
                  "index": 252,
                  "Month": "2018-01",
                  "Price": 3.87
                },
                {
                  "index": 253,
                  "Month": "2018-02",
                  "Price": 2.67
                },
                {
                  "index": 254,
                  "Month": "2018-03",
                  "Price": 2.69
                },
                {
                  "index": 255,
                  "Month": "2018-04",
                  "Price": 2.8
                },
                {
                  "index": 256,
                  "Month": "2018-05",
                  "Price": 2.8
                },
                {
                  "index": 257,
                  "Month": "2018-06",
                  "Price": 2.97
                },
                {
                  "index": 258,
                  "Month": "2018-07",
                  "Price": 2.83
                },
                {
                  "index": 259,
                  "Month": "2018-08",
                  "Price": 2.96
                },
                {
                  "index": 260,
                  "Month": "2018-09",
                  "Price": 3
                },
                {
                  "index": 261,
                  "Month": "2018-10",
                  "Price": 3.28
                },
                {
                  "index": 262,
                  "Month": "2018-11",
                  "Price": 4.09
                },
                {
                  "index": 263,
                  "Month": "2018-12",
                  "Price": 4.04
                },
                {
                  "index": 264,
                  "Month": "2019-01",
                  "Price": 3.11
                },
                {
                  "index": 265,
                  "Month": "2019-02",
                  "Price": 2.69
                },
                {
                  "index": 266,
                  "Month": "2019-03",
                  "Price": 2.95
                },
                {
                  "index": 267,
                  "Month": "2019-04",
                  "Price": 2.65
                },
                {
                  "index": 268,
                  "Month": "2019-05",
                  "Price": 2.64
                },
                {
                  "index": 269,
                  "Month": "2019-06",
                  "Price": 2.4
                },
                {
                  "index": 270,
                  "Month": "2019-07",
                  "Price": 2.37
                },
                {
                  "index": 271,
                  "Month": "2019-08",
                  "Price": 2.22
                },
                {
                  "index": 272,
                  "Month": "2019-09",
                  "Price": 2.56
                },
                {
                  "index": 273,
                  "Month": "2019-10",
                  "Price": 2.33
                },
                {
                  "index": 274,
                  "Month": "2019-11",
                  "Price": 2.65
                },
                {
                  "index": 275,
                  "Month": "2019-12",
                  "Price": 2.22
                },
                {
                  "index": 276,
                  "Month": "2020-01",
                  "Price": 2.02
                },
                {
                  "index": 277,
                  "Month": "2020-02",
                  "Price": 1.91
                },
                {
                  "index": 278,
                  "Month": "2020-03",
                  "Price": 1.79
                },
                {
                  "index": 279,
                  "Month": "2020-04",
                  "Price": 1.74
                },
                {
                  "index": 280,
                  "Month": "2020-05",
                  "Price": 1.75
                },
                {
                  "index": 281,
                  "Month": "2020-06",
                  "Price": 1.63
                },
                {
                  "index": 282,
                  "Month": "2020-07",
                  "Price": 1.77
                },
                {
                  "index": 283,
                  "Month": "2020-08",
                  "Price": 2.3
                }
              ],
              "datalink": {
                "display_id": "b4040709-6932-44c8-be53-f1a1f5a26d10"
              }
            }
          },
          "metadata": {
            "application/vnd.dataresource+json": {
              "datalink": {
                "dataframe_info": {
                  "default_index_used": true,
                  "orig_size_bytes": 4672,
                  "orig_num_rows": 284,
                  "orig_num_cols": 2,
                  "truncated_string_columns": [],
                  "truncated_size_bytes": 4672,
                  "truncated_num_rows": 284,
                  "truncated_num_cols": 2
                },
                "dx_settings": {
                  "NUM_PAST_SAMPLES_TRACKED": 3,
                  "ENABLE_DATALINK": true,
                  "DISPLAY_MODE": "simple",
                  "GENERATE_DEX_METADATA": false,
                  "STRINGIFY_INDEX_VALUES": false,
                  "ALLOW_NOTEABLE_ATTRS": true,
                  "DISPLAY_MAX_COLUMNS": 100,
                  "HTML_TABLE_SCHEMA": false,
                  "SAMPLING_FACTOR": 0.1,
                  "LOG_LEVEL": 30,
                  "ENABLE_ASSIGNMENT": true,
                  "FLATTEN_INDEX_VALUES": false,
                  "DEV_MODE": false,
                  "COLUMN_SAMPLING_METHOD": "outer",
                  "FLATTEN_COLUMN_VALUES": true,
                  "DISPLAY_MAX_ROWS": 50000,
                  "ROW_SAMPLING_METHOD": "random",
                  "RANDOM_STATE": 12648430,
                  "DB_LOCATION": ":memory:",
                  "STRINGIFY_COLUMN_VALUES": true,
                  "SAMPLING_METHOD": "random",
                  "MAX_STRING_LENGTH": 250,
                  "MAX_RENDER_SIZE_BYTES": 104857600,
                  "RESET_INDEX_VALUES": false
                },
                "display_id": "b4040709-6932-44c8-be53-f1a1f5a26d10",
                "applied_filters": [],
                "sample_history": [],
                "sampling_time": "2023-04-30T18:41:07.682078",
                "variable_name": "gas_monthly",
                "user_variable_name": "gas_monthly"
              },
              "display_id": "b4040709-6932-44c8-be53-f1a1f5a26d10"
            }
          }
        }
      ],
      "execution_count": null,
      "metadata": {
        "jupyter": {
          "outputs_hidden": false,
          "source_hidden": false
        },
        "noteable": {
          "cell_type": "code"
        },
        "ExecuteTime": {
          "end_time": "2023-04-30T18:41:07.840044+00:00",
          "start_time": "2023-04-30T18:41:06.253971+00:00"
        },
        "tags": [
          "show_line_numbers"
        ],
        "datalink": {
          "40ed15b7-5d59-49d0-bb68-03464e0e8b0d": {
            "applied_filters": [],
            "dataframe_info": {
              "default_index_used": true,
              "orig_num_cols": 2,
              "orig_num_rows": 2820,
              "orig_size_bytes": 45248,
              "truncated_num_cols": 2,
              "truncated_num_rows": 2820,
              "truncated_size_bytes": 45248,
              "truncated_string_columns": []
            },
            "display_id": "40ed15b7-5d59-49d0-bb68-03464e0e8b0d",
            "dx_settings": {
              "ALLOW_NOTEABLE_ATTRS": true,
              "COLUMN_SAMPLING_METHOD": "outer",
              "DB_LOCATION": ":memory:",
              "DEV_MODE": false,
              "DISPLAY_MAX_COLUMNS": 100,
              "DISPLAY_MAX_ROWS": 50000,
              "DISPLAY_MODE": "simple",
              "ENABLE_ASSIGNMENT": true,
              "ENABLE_DATALINK": true,
              "FLATTEN_COLUMN_VALUES": true,
              "FLATTEN_INDEX_VALUES": false,
              "GENERATE_DEX_METADATA": false,
              "HTML_TABLE_SCHEMA": false,
              "LOG_LEVEL": 30,
              "MAX_RENDER_SIZE_BYTES": 104857600,
              "MAX_STRING_LENGTH": 250,
              "NUM_PAST_SAMPLES_TRACKED": 3,
              "RANDOM_STATE": 12648430,
              "RESET_INDEX_VALUES": false,
              "ROW_SAMPLING_METHOD": "random",
              "SAMPLING_FACTOR": 0.1,
              "SAMPLING_METHOD": "random",
              "STRINGIFY_COLUMN_VALUES": true,
              "STRINGIFY_INDEX_VALUES": false
            },
            "sample_history": [],
            "sampling_time": "2023-04-26T18:38:51.036431",
            "user_variable_name": "sunspots",
            "variable_name": "sunspots"
          },
          "9632954c-588a-4c80-99fc-82955d4fd736": {
            "applied_filters": [],
            "dataframe_info": {
              "default_index_used": true,
              "orig_num_cols": 2,
              "orig_num_rows": 2820,
              "orig_size_bytes": 45248,
              "truncated_num_cols": 2,
              "truncated_num_rows": 2820,
              "truncated_size_bytes": 45248,
              "truncated_string_columns": []
            },
            "display_id": "9632954c-588a-4c80-99fc-82955d4fd736",
            "dx_settings": {
              "ALLOW_NOTEABLE_ATTRS": true,
              "COLUMN_SAMPLING_METHOD": "outer",
              "DB_LOCATION": ":memory:",
              "DEV_MODE": false,
              "DISPLAY_MAX_COLUMNS": 100,
              "DISPLAY_MAX_ROWS": 50000,
              "DISPLAY_MODE": "simple",
              "ENABLE_ASSIGNMENT": true,
              "ENABLE_DATALINK": true,
              "FLATTEN_COLUMN_VALUES": true,
              "FLATTEN_INDEX_VALUES": false,
              "GENERATE_DEX_METADATA": false,
              "HTML_TABLE_SCHEMA": false,
              "LOG_LEVEL": 30,
              "MAX_RENDER_SIZE_BYTES": 104857600,
              "MAX_STRING_LENGTH": 250,
              "NUM_PAST_SAMPLES_TRACKED": 3,
              "RANDOM_STATE": 12648430,
              "RESET_INDEX_VALUES": false,
              "ROW_SAMPLING_METHOD": "random",
              "SAMPLING_FACTOR": 0.1,
              "SAMPLING_METHOD": "random",
              "STRINGIFY_COLUMN_VALUES": true,
              "STRINGIFY_INDEX_VALUES": false
            },
            "sample_history": [],
            "sampling_time": "2023-04-28T18:55:54.349489",
            "user_variable_name": "sunspots",
            "variable_name": "sunspots"
          },
          "dc82a868-cf62-41ee-938e-a25f637d871a": {
            "applied_filters": [],
            "dataframe_info": {
              "default_index_used": true,
              "orig_num_cols": 2,
              "orig_num_rows": 2820,
              "orig_size_bytes": 45248,
              "truncated_num_cols": 2,
              "truncated_num_rows": 2820,
              "truncated_size_bytes": 45248,
              "truncated_string_columns": []
            },
            "display_id": "dc82a868-cf62-41ee-938e-a25f637d871a",
            "dx_settings": {
              "ALLOW_NOTEABLE_ATTRS": true,
              "COLUMN_SAMPLING_METHOD": "outer",
              "DB_LOCATION": ":memory:",
              "DEV_MODE": false,
              "DISPLAY_MAX_COLUMNS": 100,
              "DISPLAY_MAX_ROWS": 50000,
              "DISPLAY_MODE": "simple",
              "ENABLE_ASSIGNMENT": true,
              "ENABLE_DATALINK": true,
              "FLATTEN_COLUMN_VALUES": true,
              "FLATTEN_INDEX_VALUES": false,
              "GENERATE_DEX_METADATA": false,
              "HTML_TABLE_SCHEMA": false,
              "LOG_LEVEL": 30,
              "MAX_RENDER_SIZE_BYTES": 104857600,
              "MAX_STRING_LENGTH": 250,
              "NUM_PAST_SAMPLES_TRACKED": 3,
              "RANDOM_STATE": 12648430,
              "RESET_INDEX_VALUES": false,
              "ROW_SAMPLING_METHOD": "random",
              "SAMPLING_FACTOR": 0.1,
              "SAMPLING_METHOD": "random",
              "STRINGIFY_COLUMN_VALUES": true,
              "STRINGIFY_INDEX_VALUES": false
            },
            "sample_history": [],
            "sampling_time": "2023-04-28T19:47:03.442977",
            "user_variable_name": "sunspots",
            "variable_name": "sunspots"
          },
          "b713d808-a7bb-4c6a-a578-fd881889dede": {
            "applied_filters": [],
            "dataframe_info": {
              "default_index_used": true,
              "orig_num_cols": 2,
              "orig_num_rows": 5953,
              "orig_size_bytes": 95376,
              "truncated_num_cols": 2,
              "truncated_num_rows": 5953,
              "truncated_size_bytes": 95376,
              "truncated_string_columns": []
            },
            "display_id": "b713d808-a7bb-4c6a-a578-fd881889dede",
            "dx_settings": {
              "ALLOW_NOTEABLE_ATTRS": true,
              "COLUMN_SAMPLING_METHOD": "outer",
              "DB_LOCATION": ":memory:",
              "DEV_MODE": false,
              "DISPLAY_MAX_COLUMNS": 100,
              "DISPLAY_MAX_ROWS": 50000,
              "DISPLAY_MODE": "simple",
              "ENABLE_ASSIGNMENT": true,
              "ENABLE_DATALINK": true,
              "FLATTEN_COLUMN_VALUES": true,
              "FLATTEN_INDEX_VALUES": false,
              "GENERATE_DEX_METADATA": false,
              "HTML_TABLE_SCHEMA": false,
              "LOG_LEVEL": 30,
              "MAX_RENDER_SIZE_BYTES": 104857600,
              "MAX_STRING_LENGTH": 250,
              "NUM_PAST_SAMPLES_TRACKED": 3,
              "RANDOM_STATE": 12648430,
              "RESET_INDEX_VALUES": false,
              "ROW_SAMPLING_METHOD": "random",
              "SAMPLING_FACTOR": 0.1,
              "SAMPLING_METHOD": "random",
              "STRINGIFY_COLUMN_VALUES": true,
              "STRINGIFY_INDEX_VALUES": false
            },
            "sample_history": [],
            "sampling_time": "2023-04-28T21:04:18.946043",
            "user_variable_name": "gas_daily",
            "variable_name": "gas_daily"
          },
          "e0023850-ed64-49aa-a9fb-c43f3e0e601c": {
            "applied_filters": [],
            "dataframe_info": {
              "default_index_used": true,
              "orig_num_cols": 2,
              "orig_num_rows": 5953,
              "orig_size_bytes": 95376,
              "truncated_num_cols": 2,
              "truncated_num_rows": 5953,
              "truncated_size_bytes": 95376,
              "truncated_string_columns": []
            },
            "display_id": "e0023850-ed64-49aa-a9fb-c43f3e0e601c",
            "dx_settings": {
              "ALLOW_NOTEABLE_ATTRS": true,
              "COLUMN_SAMPLING_METHOD": "outer",
              "DB_LOCATION": ":memory:",
              "DEV_MODE": false,
              "DISPLAY_MAX_COLUMNS": 100,
              "DISPLAY_MAX_ROWS": 50000,
              "DISPLAY_MODE": "simple",
              "ENABLE_ASSIGNMENT": true,
              "ENABLE_DATALINK": true,
              "FLATTEN_COLUMN_VALUES": true,
              "FLATTEN_INDEX_VALUES": false,
              "GENERATE_DEX_METADATA": false,
              "HTML_TABLE_SCHEMA": false,
              "LOG_LEVEL": 30,
              "MAX_RENDER_SIZE_BYTES": 104857600,
              "MAX_STRING_LENGTH": 250,
              "NUM_PAST_SAMPLES_TRACKED": 3,
              "RANDOM_STATE": 12648430,
              "RESET_INDEX_VALUES": false,
              "ROW_SAMPLING_METHOD": "random",
              "SAMPLING_FACTOR": 0.1,
              "SAMPLING_METHOD": "random",
              "STRINGIFY_COLUMN_VALUES": true,
              "STRINGIFY_INDEX_VALUES": false
            },
            "sample_history": [],
            "sampling_time": "2023-04-28T21:04:19.627000",
            "user_variable_name": "gas_daily",
            "variable_name": "gas_daily"
          },
          "2c68f6bb-6e6f-4a2c-b5b1-98e2f9d6751f": {
            "applied_filters": [],
            "dataframe_info": {
              "default_index_used": true,
              "orig_num_cols": 2,
              "orig_num_rows": 284,
              "orig_size_bytes": 4672,
              "truncated_num_cols": 2,
              "truncated_num_rows": 284,
              "truncated_size_bytes": 4672,
              "truncated_string_columns": []
            },
            "display_id": "2c68f6bb-6e6f-4a2c-b5b1-98e2f9d6751f",
            "dx_settings": {
              "ALLOW_NOTEABLE_ATTRS": true,
              "COLUMN_SAMPLING_METHOD": "outer",
              "DB_LOCATION": ":memory:",
              "DEV_MODE": false,
              "DISPLAY_MAX_COLUMNS": 100,
              "DISPLAY_MAX_ROWS": 50000,
              "DISPLAY_MODE": "simple",
              "ENABLE_ASSIGNMENT": true,
              "ENABLE_DATALINK": true,
              "FLATTEN_COLUMN_VALUES": true,
              "FLATTEN_INDEX_VALUES": false,
              "GENERATE_DEX_METADATA": false,
              "HTML_TABLE_SCHEMA": false,
              "LOG_LEVEL": 30,
              "MAX_RENDER_SIZE_BYTES": 104857600,
              "MAX_STRING_LENGTH": 250,
              "NUM_PAST_SAMPLES_TRACKED": 3,
              "RANDOM_STATE": 12648430,
              "RESET_INDEX_VALUES": false,
              "ROW_SAMPLING_METHOD": "random",
              "SAMPLING_FACTOR": 0.1,
              "SAMPLING_METHOD": "random",
              "STRINGIFY_COLUMN_VALUES": true,
              "STRINGIFY_INDEX_VALUES": false
            },
            "sample_history": [],
            "sampling_time": "2023-04-28T21:07:31.038178",
            "user_variable_name": "gas_monthly",
            "variable_name": "gas_monthly"
          },
          "c321fd86-9f21-4f74-b84c-396329149282": {
            "applied_filters": [],
            "dataframe_info": {
              "default_index_used": true,
              "orig_num_cols": 2,
              "orig_num_rows": 284,
              "orig_size_bytes": 4672,
              "truncated_num_cols": 2,
              "truncated_num_rows": 284,
              "truncated_size_bytes": 4672,
              "truncated_string_columns": []
            },
            "display_id": "c321fd86-9f21-4f74-b84c-396329149282",
            "dx_settings": {
              "ALLOW_NOTEABLE_ATTRS": true,
              "COLUMN_SAMPLING_METHOD": "outer",
              "DB_LOCATION": ":memory:",
              "DEV_MODE": false,
              "DISPLAY_MAX_COLUMNS": 100,
              "DISPLAY_MAX_ROWS": 50000,
              "DISPLAY_MODE": "simple",
              "ENABLE_ASSIGNMENT": true,
              "ENABLE_DATALINK": true,
              "FLATTEN_COLUMN_VALUES": true,
              "FLATTEN_INDEX_VALUES": false,
              "GENERATE_DEX_METADATA": false,
              "HTML_TABLE_SCHEMA": false,
              "LOG_LEVEL": 30,
              "MAX_RENDER_SIZE_BYTES": 104857600,
              "MAX_STRING_LENGTH": 250,
              "NUM_PAST_SAMPLES_TRACKED": 3,
              "RANDOM_STATE": 12648430,
              "RESET_INDEX_VALUES": false,
              "ROW_SAMPLING_METHOD": "random",
              "SAMPLING_FACTOR": 0.1,
              "SAMPLING_METHOD": "random",
              "STRINGIFY_COLUMN_VALUES": true,
              "STRINGIFY_INDEX_VALUES": false
            },
            "sample_history": [],
            "sampling_time": "2023-04-28T21:07:41.206865",
            "user_variable_name": "gas_monthly",
            "variable_name": "gas_monthly"
          },
          "b4040709-6932-44c8-be53-f1a1f5a26d10": {
            "applied_filters": [],
            "dataframe_info": {
              "default_index_used": true,
              "orig_num_cols": 2,
              "orig_num_rows": 284,
              "orig_size_bytes": 4672,
              "truncated_num_cols": 2,
              "truncated_num_rows": 284,
              "truncated_size_bytes": 4672,
              "truncated_string_columns": []
            },
            "display_id": "b4040709-6932-44c8-be53-f1a1f5a26d10",
            "dx_settings": {
              "ALLOW_NOTEABLE_ATTRS": true,
              "COLUMN_SAMPLING_METHOD": "outer",
              "DB_LOCATION": ":memory:",
              "DEV_MODE": false,
              "DISPLAY_MAX_COLUMNS": 100,
              "DISPLAY_MAX_ROWS": 50000,
              "DISPLAY_MODE": "simple",
              "ENABLE_ASSIGNMENT": true,
              "ENABLE_DATALINK": true,
              "FLATTEN_COLUMN_VALUES": true,
              "FLATTEN_INDEX_VALUES": false,
              "GENERATE_DEX_METADATA": false,
              "HTML_TABLE_SCHEMA": false,
              "LOG_LEVEL": 30,
              "MAX_RENDER_SIZE_BYTES": 104857600,
              "MAX_STRING_LENGTH": 250,
              "NUM_PAST_SAMPLES_TRACKED": 3,
              "RANDOM_STATE": 12648430,
              "RESET_INDEX_VALUES": false,
              "ROW_SAMPLING_METHOD": "random",
              "SAMPLING_FACTOR": 0.1,
              "SAMPLING_METHOD": "random",
              "STRINGIFY_COLUMN_VALUES": true,
              "STRINGIFY_INDEX_VALUES": false
            },
            "sample_history": [],
            "sampling_time": "2023-04-30T18:41:07.682078",
            "user_variable_name": "gas_monthly",
            "variable_name": "gas_monthly"
          }
        },
        "dx": {
          "dashboard": {
            "multiViews": []
          },
          "fieldMetadata": {
            "Month": {
              "columnPosition": 2
            },
            "Sunspots": {
              "aggregation": "MAX",
              "columnPosition": 3
            },
            "index": {
              "columnPosition": 1
            }
          },
          "updated": 1682716037269,
          "views": [
            {
              "annotationRules": [],
              "chart": {},
              "chartMode": "grid",
              "confoRules": [],
              "decoration": {
                "footer": "",
                "subtitle": "",
                "title": "Table"
              },
              "facets": [],
              "filterSettings": {
                "SHOW_FILTER_PANEL": true,
                "filters": []
              },
              "id": "first-view",
              "isDefault": true,
              "type": "public",
              "userID": ""
            },
            {
              "annotationRules": [],
              "chart": {},
              "chartMode": "grid",
              "confoRules": [],
              "decoration": {
                "footer": "",
                "subtitle": "",
                "title": "Table"
              },
              "facets": [],
              "filterSettings": {
                "SHOW_FILTER_PANEL": true,
                "filters": []
              },
              "id": "first-view",
              "isDefault": true,
              "isTransitory": true,
              "type": "public",
              "userID": ""
            }
          ]
        }
      },
      "id": "587cd11f-7ce5-4b17-a533-642ab427798f"
    },
    {
      "cell_type": "code",
      "source": [
        "x = np.linspace(1997 + 1/12, 2020 + 8/12, 284, 1/12).reshape(-1, 1)\n",
        "y = gas_monthly['Price'].to_numpy()"
      ],
      "outputs": [],
      "execution_count": null,
      "metadata": {
        "jupyter": {
          "outputs_hidden": false,
          "source_hidden": false
        },
        "noteable": {
          "cell_type": "code"
        },
        "ExecuteTime": {
          "end_time": "2023-04-30T18:41:08.268637+00:00",
          "start_time": "2023-04-30T18:41:08.111091+00:00"
        }
      },
      "id": "ccb60354-fb13-4044-8d81-11b9981ee24b"
    },
    {
      "cell_type": "code",
      "source": [
        "plt.scatter(x, y, c='k', s = 0.8)\n",
        "plt.xticks()"
      ],
      "outputs": [
        {
          "output_type": "execute_result",
          "execution_count": null,
          "data": {
            "text/plain": "(array([1995., 2000., 2005., 2010., 2015., 2020., 2025.]),\n [Text(1995.0, 0, '1995'),\n  Text(2000.0, 0, '2000'),\n  Text(2005.0, 0, '2005'),\n  Text(2010.0, 0, '2010'),\n  Text(2015.0, 0, '2015'),\n  Text(2020.0, 0, '2020'),\n  Text(2025.0, 0, '2025')])"
          },
          "metadata": {}
        },
        {
          "output_type": "display_data",
          "data": {
            "image/png": "[encoded data removed]"
          },
          "metadata": {}
        }
      ],
      "execution_count": null,
      "metadata": {
        "jupyter": {
          "outputs_hidden": false,
          "source_hidden": false
        },
        "noteable": {
          "cell_type": "code"
        },
        "ExecuteTime": {
          "end_time": "2023-04-30T18:41:08.739643+00:00",
          "start_time": "2023-04-30T18:41:08.275331+00:00"
        },
        "scrolled": true
      },
      "id": "a06e27e5-012a-487c-8e4d-a32fd3d0d657"
    },
    {
      "cell_type": "code",
      "source": [
        "'''from sklearn.gaussian_process.kernels import RBF\n",
        "\n",
        "long_term_trend_kernel = 50.0**2 * RBF(length_scale=50.0)'''"
      ],
      "outputs": [
        {
          "output_type": "execute_result",
          "execution_count": null,
          "data": {
            "text/plain": "'from sklearn.gaussian_process.kernels import RBF\\n\\nlong_term_trend_kernel = 50.0**2 * RBF(length_scale=50.0)'"
          },
          "metadata": {}
        }
      ],
      "execution_count": null,
      "metadata": {
        "jupyter": {
          "outputs_hidden": false,
          "source_hidden": false
        },
        "noteable": {
          "cell_type": "code"
        },
        "ExecuteTime": {
          "end_time": "2023-04-30T18:41:09.014744+00:00",
          "start_time": "2023-04-30T18:41:08.856223+00:00"
        }
      },
      "id": "593c6d4c-7771-4dbf-8d8d-bc96516c77a3"
    },
    {
      "cell_type": "code",
      "source": [
        "from sklearn.gaussian_process.kernels import RBF\n",
        "\n",
        "long_term_trend_kernel = 1.0**2 * RBF(length_scale=1.0)"
      ],
      "outputs": [],
      "execution_count": null,
      "metadata": {
        "jupyter": {
          "outputs_hidden": false,
          "source_hidden": false
        },
        "noteable": {
          "cell_type": "code"
        },
        "ExecuteTime": {
          "end_time": "2023-04-30T18:41:09.621961+00:00",
          "start_time": "2023-04-30T18:41:09.025391+00:00"
        }
      },
      "id": "48117633-ad22-49ca-b470-8e42f21272b2"
    },
    {
      "cell_type": "code",
      "source": [
        "from sklearn.gaussian_process.kernels import ExpSineSquared\n",
        "sub_kernel = (\n",
        "    2.0**2\n",
        "    * RBF(length_scale=50.0)\n",
        "    * ExpSineSquared(length_scale=12.5, periodicity=12.5)\n",
        ")"
      ],
      "outputs": [],
      "execution_count": null,
      "metadata": {
        "jupyter": {
          "outputs_hidden": false,
          "source_hidden": false
        },
        "noteable": {
          "cell_type": "code"
        },
        "ExecuteTime": {
          "end_time": "2023-04-30T18:41:09.785692+00:00",
          "start_time": "2023-04-30T18:41:09.629893+00:00"
        }
      },
      "id": "81cc32b1-5a40-4c93-98c5-29de2a777651"
    },
    {
      "cell_type": "code",
      "source": [
        "from sklearn.gaussian_process.kernels import RationalQuadratic\n",
        "\n",
        "irregularities_kernel = 0.5**2 * RationalQuadratic(length_scale=1.0, alpha=1.0)"
      ],
      "outputs": [],
      "execution_count": null,
      "metadata": {
        "jupyter": {
          "outputs_hidden": false,
          "source_hidden": false
        },
        "noteable": {
          "cell_type": "code"
        },
        "ExecuteTime": {
          "end_time": "2023-04-30T18:41:09.950301+00:00",
          "start_time": "2023-04-30T18:41:09.794762+00:00"
        }
      },
      "id": "512f529c-c667-47ae-b89b-56848d8e51a0"
    },
    {
      "cell_type": "code",
      "source": [
        "from sklearn.gaussian_process.kernels import WhiteKernel\n",
        "\n",
        "noise_kernel = 0.1**2 * RBF(length_scale=0.1) + WhiteKernel(\n",
        "    noise_level=0.1**2, noise_level_bounds=(1e-5, 1e5)\n",
        ")"
      ],
      "outputs": [],
      "execution_count": null,
      "metadata": {
        "jupyter": {
          "outputs_hidden": false,
          "source_hidden": false
        },
        "noteable": {
          "cell_type": "code"
        },
        "ExecuteTime": {
          "end_time": "2023-04-30T18:41:10.117092+00:00",
          "start_time": "2023-04-30T18:41:09.960170+00:00"
        }
      },
      "id": "5b0ca923-4406-44b9-abcf-d33f540bd50c"
    },
    {
      "cell_type": "code",
      "source": [
        "main_kernel = (\n",
        "    sub_kernel + long_term_trend_kernel + irregularities_kernel + noise_kernel\n",
        ")"
      ],
      "outputs": [],
      "execution_count": null,
      "metadata": {
        "jupyter": {
          "outputs_hidden": false,
          "source_hidden": false
        },
        "noteable": {
          "cell_type": "code"
        },
        "ExecuteTime": {
          "end_time": "2023-04-30T18:41:10.280992+00:00",
          "start_time": "2023-04-30T18:41:10.124630+00:00"
        }
      },
      "id": "0c461344-81e4-492b-97df-f7f7a27ab7c8"
    },
    {
      "cell_type": "code",
      "source": [
        "from sklearn.gaussian_process import GaussianProcessRegressor\n",
        "\n",
        "y_mean = y.mean()\n",
        "gaussian_process = GaussianProcessRegressor(kernel=main_kernel, normalize_y=False)\n",
        "gaussian_process.fit(x, y - y_mean)"
      ],
      "outputs": [
        {
          "output_type": "execute_result",
          "execution_count": null,
          "data": {
            "text/html": "<style>#sk-container-id-1 {color: black;background-color: white;}#sk-container-id-1 pre{padding: 0;}#sk-container-id-1 div.sk-toggleable {background-color: white;}#sk-container-id-1 label.sk-toggleable__label {cursor: pointer;display: block;width: 100%;margin-bottom: 0;padding: 0.3em;box-sizing: border-box;text-align: center;}#sk-container-id-1 label.sk-toggleable__label-arrow:before {content: \"▸\";float: left;margin-right: 0.25em;color: #696969;}#sk-container-id-1 label.sk-toggleable__label-arrow:hover:before {color: black;}#sk-container-id-1 div.sk-estimator:hover label.sk-toggleable__label-arrow:before {color: black;}#sk-container-id-1 div.sk-toggleable__content {max-height: 0;max-width: 0;overflow: hidden;text-align: left;background-color: #f0f8ff;}#sk-container-id-1 div.sk-toggleable__content pre {margin: 0.2em;color: black;border-radius: 0.25em;background-color: #f0f8ff;}#sk-container-id-1 input.sk-toggleable__control:checked~div.sk-toggleable__content {max-height: 200px;max-width: 100%;overflow: auto;}#sk-container-id-1 input.sk-toggleable__control:checked~label.sk-toggleable__label-arrow:before {content: \"▾\";}#sk-container-id-1 div.sk-estimator input.sk-toggleable__control:checked~label.sk-toggleable__label {background-color: #d4ebff;}#sk-container-id-1 div.sk-label input.sk-toggleable__control:checked~label.sk-toggleable__label {background-color: #d4ebff;}#sk-container-id-1 input.sk-hidden--visually {border: 0;clip: rect(1px 1px 1px 1px);clip: rect(1px, 1px, 1px, 1px);height: 1px;margin: -1px;overflow: hidden;padding: 0;position: absolute;width: 1px;}#sk-container-id-1 div.sk-estimator {font-family: monospace;background-color: #f0f8ff;border: 1px dotted black;border-radius: 0.25em;box-sizing: border-box;margin-bottom: 0.5em;}#sk-container-id-1 div.sk-estimator:hover {background-color: #d4ebff;}#sk-container-id-1 div.sk-parallel-item::after {content: \"\";width: 100%;border-bottom: 1px solid gray;flex-grow: 1;}#sk-container-id-1 div.sk-label:hover label.sk-toggleable__label {background-color: #d4ebff;}#sk-container-id-1 div.sk-serial::before {content: \"\";position: absolute;border-left: 1px solid gray;box-sizing: border-box;top: 0;bottom: 0;left: 50%;z-index: 0;}#sk-container-id-1 div.sk-serial {display: flex;flex-direction: column;align-items: center;background-color: white;padding-right: 0.2em;padding-left: 0.2em;position: relative;}#sk-container-id-1 div.sk-item {position: relative;z-index: 1;}#sk-container-id-1 div.sk-parallel {display: flex;align-items: stretch;justify-content: center;background-color: white;position: relative;}#sk-container-id-1 div.sk-item::before, #sk-container-id-1 div.sk-parallel-item::before {content: \"\";position: absolute;border-left: 1px solid gray;box-sizing: border-box;top: 0;bottom: 0;left: 50%;z-index: -1;}#sk-container-id-1 div.sk-parallel-item {display: flex;flex-direction: column;z-index: 1;position: relative;background-color: white;}#sk-container-id-1 div.sk-parallel-item:first-child::after {align-self: flex-end;width: 50%;}#sk-container-id-1 div.sk-parallel-item:last-child::after {align-self: flex-start;width: 50%;}#sk-container-id-1 div.sk-parallel-item:only-child::after {width: 0;}#sk-container-id-1 div.sk-dashed-wrapped {border: 1px dashed gray;margin: 0 0.4em 0.5em 0.4em;box-sizing: border-box;padding-bottom: 0.4em;background-color: white;}#sk-container-id-1 div.sk-label label {font-family: monospace;font-weight: bold;display: inline-block;line-height: 1.2em;}#sk-container-id-1 div.sk-label-container {text-align: center;}#sk-container-id-1 div.sk-container {/* jupyter's `normalize.less` sets `[hidden] { display: none; }` but bootstrap.min.css set `[hidden] { display: none !important; }` so we also need the `!important` here to be able to override the default hidden behavior on the sphinx rendered scikit-learn.org. See: https://github.com/scikit-learn/scikit-learn/issues/21755 */display: inline-block !important;position: relative;}#sk-container-id-1 div.sk-text-repr-fallback {display: none;}</style><div id=\"sk-container-id-1\" class=\"sk-top-container\"><div class=\"sk-text-repr-fallback\"><pre>GaussianProcessRegressor(kernel=2**2 * RBF(length_scale=50) * ExpSineSquared(length_scale=12.5, periodicity=12.5) + 1**2 * RBF(length_scale=1) + 0.5**2 * RationalQuadratic(alpha=1, length_scale=1) + 0.1**2 * RBF(length_scale=0.1) + WhiteKernel(noise_level=0.01))</pre><b>In a Jupyter environment, please rerun this cell to show the HTML representation or trust the notebook. <br />On GitHub, the HTML representation is unable to render, please try loading this page with nbviewer.org.</b></div><div class=\"sk-container\" hidden><div class=\"sk-item\"><div class=\"sk-estimator sk-toggleable\"><input class=\"sk-toggleable__control sk-hidden--visually\" id=\"sk-estimator-id-1\" type=\"checkbox\" checked><label for=\"sk-estimator-id-1\" class=\"sk-toggleable__label sk-toggleable__label-arrow\">GaussianProcessRegressor</label><div class=\"sk-toggleable__content\"><pre>GaussianProcessRegressor(kernel=2**2 * RBF(length_scale=50) * ExpSineSquared(length_scale=12.5, periodicity=12.5) + 1**2 * RBF(length_scale=1) + 0.5**2 * RationalQuadratic(alpha=1, length_scale=1) + 0.1**2 * RBF(length_scale=0.1) + WhiteKernel(noise_level=0.01))</pre></div></div></div></div></div>"
          },
          "metadata": {}
        }
      ],
      "execution_count": null,
      "metadata": {
        "jupyter": {
          "outputs_hidden": false,
          "source_hidden": false
        },
        "noteable": {
          "cell_type": "code"
        },
        "ExecuteTime": {
          "end_time": "2023-04-30T18:41:49.385194+00:00",
          "start_time": "2023-04-30T18:41:10.288394+00:00"
        },
        "scrolled": true
      },
      "id": "c6476368-77e5-4747-ae45-3123b1751066"
    },
    {
      "cell_type": "code",
      "source": [
        "import datetime\n",
        "import numpy as np\n",
        "\n",
        "today = datetime.datetime.now()\n",
        "current_month = today.year + today.month / 12\n",
        "X_test = np.linspace(start=1997+1/12, stop=current_month, num=500).reshape(-1, 1)\n",
        "sunnum_pred, std_sunnum_pred = gaussian_process.predict(X_test, return_std=True)"
      ],
      "outputs": [],
      "execution_count": null,
      "metadata": {
        "jupyter": {
          "outputs_hidden": false,
          "source_hidden": false
        },
        "noteable": {
          "cell_type": "code"
        },
        "ExecuteTime": {
          "end_time": "2023-04-30T18:41:49.784495+00:00",
          "start_time": "2023-04-30T18:41:49.393598+00:00"
        }
      },
      "id": "30c2d376-5ecd-45b0-a3f9-6cc20b42d508"
    },
    {
      "cell_type": "code",
      "source": [
        "recent_gas_monthly = pd.read_csv('Henry_Hub_Natural_Gas_Spot_Price.csv')\n",
        "\n",
        "\n",
        "i = np.linspace(2023 + 3/12, 1997 + 1/12, 315, -1/12)\n",
        "j = recent_gas_monthly[\"Price\"]\n",
        "\n",
        "recent_gas_monthly"
      ],
      "outputs": [
        {
          "output_type": "display_data",
          "data": {
            "application/vnd.dataresource+json": {
              "schema": {
                "fields": [
                  {
                    "name": "index",
                    "type": "integer"
                  },
                  {
                    "name": "Month",
                    "type": "string"
                  },
                  {
                    "name": "Price",
                    "type": "number"
                  }
                ],
                "primaryKey": [
                  "index"
                ],
                "pandas_version": "1.4.0"
              },
              "data": [
                {
                  "index": 0,
                  "Month": "23-Mar",
                  "Price": 2.31
                },
                {
                  "index": 1,
                  "Month": "23-Feb",
                  "Price": 2.38
                },
                {
                  "index": 2,
                  "Month": "23-Jan",
                  "Price": 3.27
                },
                {
                  "index": 3,
                  "Month": "22-Dec",
                  "Price": 5.53
                },
                {
                  "index": 4,
                  "Month": "22-Nov",
                  "Price": 5.45
                },
                {
                  "index": 5,
                  "Month": "22-Oct",
                  "Price": 5.66
                },
                {
                  "index": 6,
                  "Month": "22-Sep",
                  "Price": 7.88
                },
                {
                  "index": 7,
                  "Month": "22-Aug",
                  "Price": 8.81
                },
                {
                  "index": 8,
                  "Month": "22-Jul",
                  "Price": 7.28
                },
                {
                  "index": 9,
                  "Month": "22-Jun",
                  "Price": 7.7
                },
                {
                  "index": 10,
                  "Month": "22-May",
                  "Price": 8.14
                },
                {
                  "index": 11,
                  "Month": "22-Apr",
                  "Price": 6.6
                },
                {
                  "index": 12,
                  "Month": "22-Mar",
                  "Price": 4.9
                },
                {
                  "index": 13,
                  "Month": "22-Feb",
                  "Price": 4.69
                },
                {
                  "index": 14,
                  "Month": "22-Jan",
                  "Price": 4.38
                },
                {
                  "index": 15,
                  "Month": "21-Dec",
                  "Price": 3.76
                },
                {
                  "index": 16,
                  "Month": "21-Nov",
                  "Price": 5.05
                },
                {
                  "index": 17,
                  "Month": "21-Oct",
                  "Price": 5.51
                },
                {
                  "index": 18,
                  "Month": "21-Sep",
                  "Price": 5.16
                },
                {
                  "index": 19,
                  "Month": "21-Aug",
                  "Price": 4.07
                },
                {
                  "index": 20,
                  "Month": "21-Jul",
                  "Price": 3.84
                },
                {
                  "index": 21,
                  "Month": "21-Jun",
                  "Price": 3.26
                },
                {
                  "index": 22,
                  "Month": "21-May",
                  "Price": 2.91
                },
                {
                  "index": 23,
                  "Month": "21-Apr",
                  "Price": 2.66
                },
                {
                  "index": 24,
                  "Month": "21-Mar",
                  "Price": 2.62
                },
                {
                  "index": 25,
                  "Month": "21-Feb",
                  "Price": 5.35
                },
                {
                  "index": 26,
                  "Month": "21-Jan",
                  "Price": 2.71
                },
                {
                  "index": 27,
                  "Month": "20-Dec",
                  "Price": 2.59
                },
                {
                  "index": 28,
                  "Month": "20-Nov",
                  "Price": 2.61
                },
                {
                  "index": 29,
                  "Month": "20-Oct",
                  "Price": 2.39
                },
                {
                  "index": 30,
                  "Month": "20-Sep",
                  "Price": 1.92
                },
                {
                  "index": 31,
                  "Month": "20-Aug",
                  "Price": 2.3
                },
                {
                  "index": 32,
                  "Month": "20-Jul",
                  "Price": 1.77
                },
                {
                  "index": 33,
                  "Month": "20-Jun",
                  "Price": 1.63
                },
                {
                  "index": 34,
                  "Month": "20-May",
                  "Price": 1.75
                },
                {
                  "index": 35,
                  "Month": "20-Apr",
                  "Price": 1.74
                },
                {
                  "index": 36,
                  "Month": "20-Mar",
                  "Price": 1.79
                },
                {
                  "index": 37,
                  "Month": "20-Feb",
                  "Price": 1.91
                },
                {
                  "index": 38,
                  "Month": "20-Jan",
                  "Price": 2.02
                },
                {
                  "index": 39,
                  "Month": "19-Dec",
                  "Price": 2.22
                },
                {
                  "index": 40,
                  "Month": "19-Nov",
                  "Price": 2.65
                },
                {
                  "index": 41,
                  "Month": "19-Oct",
                  "Price": 2.33
                },
                {
                  "index": 42,
                  "Month": "19-Sep",
                  "Price": 2.56
                },
                {
                  "index": 43,
                  "Month": "19-Aug",
                  "Price": 2.22
                },
                {
                  "index": 44,
                  "Month": "19-Jul",
                  "Price": 2.37
                },
                {
                  "index": 45,
                  "Month": "19-Jun",
                  "Price": 2.4
                },
                {
                  "index": 46,
                  "Month": "19-May",
                  "Price": 2.64
                },
                {
                  "index": 47,
                  "Month": "19-Apr",
                  "Price": 2.65
                },
                {
                  "index": 48,
                  "Month": "19-Mar",
                  "Price": 2.95
                },
                {
                  "index": 49,
                  "Month": "19-Feb",
                  "Price": 2.69
                },
                {
                  "index": 50,
                  "Month": "19-Jan",
                  "Price": 3.11
                },
                {
                  "index": 51,
                  "Month": "18-Dec",
                  "Price": 4.04
                },
                {
                  "index": 52,
                  "Month": "18-Nov",
                  "Price": 4.09
                },
                {
                  "index": 53,
                  "Month": "18-Oct",
                  "Price": 3.28
                },
                {
                  "index": 54,
                  "Month": "18-Sep",
                  "Price": 3
                },
                {
                  "index": 55,
                  "Month": "18-Aug",
                  "Price": 2.96
                },
                {
                  "index": 56,
                  "Month": "18-Jul",
                  "Price": 2.83
                },
                {
                  "index": 57,
                  "Month": "18-Jun",
                  "Price": 2.97
                },
                {
                  "index": 58,
                  "Month": "18-May",
                  "Price": 2.8
                },
                {
                  "index": 59,
                  "Month": "18-Apr",
                  "Price": 2.8
                },
                {
                  "index": 60,
                  "Month": "18-Mar",
                  "Price": 2.69
                },
                {
                  "index": 61,
                  "Month": "18-Feb",
                  "Price": 2.67
                },
                {
                  "index": 62,
                  "Month": "18-Jan",
                  "Price": 3.87
                },
                {
                  "index": 63,
                  "Month": "17-Dec",
                  "Price": 2.82
                },
                {
                  "index": 64,
                  "Month": "17-Nov",
                  "Price": 3.01
                },
                {
                  "index": 65,
                  "Month": "17-Oct",
                  "Price": 2.88
                },
                {
                  "index": 66,
                  "Month": "17-Sep",
                  "Price": 2.98
                },
                {
                  "index": 67,
                  "Month": "17-Aug",
                  "Price": 2.9
                },
                {
                  "index": 68,
                  "Month": "17-Jul",
                  "Price": 2.98
                },
                {
                  "index": 69,
                  "Month": "17-Jun",
                  "Price": 2.98
                },
                {
                  "index": 70,
                  "Month": "17-May",
                  "Price": 3.15
                },
                {
                  "index": 71,
                  "Month": "17-Apr",
                  "Price": 3.1
                },
                {
                  "index": 72,
                  "Month": "17-Mar",
                  "Price": 2.88
                },
                {
                  "index": 73,
                  "Month": "17-Feb",
                  "Price": 2.85
                },
                {
                  "index": 74,
                  "Month": "17-Jan",
                  "Price": 3.3
                },
                {
                  "index": 75,
                  "Month": "16-Dec",
                  "Price": 3.59
                },
                {
                  "index": 76,
                  "Month": "16-Nov",
                  "Price": 2.55
                },
                {
                  "index": 77,
                  "Month": "16-Oct",
                  "Price": 2.98
                },
                {
                  "index": 78,
                  "Month": "16-Sep",
                  "Price": 2.99
                },
                {
                  "index": 79,
                  "Month": "16-Aug",
                  "Price": 2.82
                },
                {
                  "index": 80,
                  "Month": "16-Jul",
                  "Price": 2.82
                },
                {
                  "index": 81,
                  "Month": "16-Jun",
                  "Price": 2.59
                },
                {
                  "index": 82,
                  "Month": "16-May",
                  "Price": 1.92
                },
                {
                  "index": 83,
                  "Month": "16-Apr",
                  "Price": 1.92
                },
                {
                  "index": 84,
                  "Month": "16-Mar",
                  "Price": 1.73
                },
                {
                  "index": 85,
                  "Month": "16-Feb",
                  "Price": 1.99
                },
                {
                  "index": 86,
                  "Month": "16-Jan",
                  "Price": 2.28
                },
                {
                  "index": 87,
                  "Month": "15-Dec",
                  "Price": 1.93
                },
                {
                  "index": 88,
                  "Month": "15-Nov",
                  "Price": 2.09
                },
                {
                  "index": 89,
                  "Month": "15-Oct",
                  "Price": 2.34
                },
                {
                  "index": 90,
                  "Month": "15-Sep",
                  "Price": 2.66
                },
                {
                  "index": 91,
                  "Month": "15-Aug",
                  "Price": 2.77
                },
                {
                  "index": 92,
                  "Month": "15-Jul",
                  "Price": 2.84
                },
                {
                  "index": 93,
                  "Month": "15-Jun",
                  "Price": 2.78
                },
                {
                  "index": 94,
                  "Month": "15-May",
                  "Price": 2.85
                },
                {
                  "index": 95,
                  "Month": "15-Apr",
                  "Price": 2.61
                },
                {
                  "index": 96,
                  "Month": "15-Mar",
                  "Price": 2.83
                },
                {
                  "index": 97,
                  "Month": "15-Feb",
                  "Price": 2.87
                },
                {
                  "index": 98,
                  "Month": "15-Jan",
                  "Price": 2.99
                },
                {
                  "index": 99,
                  "Month": "14-Dec",
                  "Price": 3.48
                },
                {
                  "index": 100,
                  "Month": "14-Nov",
                  "Price": 4.12
                },
                {
                  "index": 101,
                  "Month": "14-Oct",
                  "Price": 3.78
                },
                {
                  "index": 102,
                  "Month": "14-Sep",
                  "Price": 3.92
                },
                {
                  "index": 103,
                  "Month": "14-Aug",
                  "Price": 3.91
                },
                {
                  "index": 104,
                  "Month": "14-Jul",
                  "Price": 4.05
                },
                {
                  "index": 105,
                  "Month": "14-Jun",
                  "Price": 4.59
                },
                {
                  "index": 106,
                  "Month": "14-May",
                  "Price": 4.58
                },
                {
                  "index": 107,
                  "Month": "14-Apr",
                  "Price": 4.66
                },
                {
                  "index": 108,
                  "Month": "14-Mar",
                  "Price": 4.9
                },
                {
                  "index": 109,
                  "Month": "14-Feb",
                  "Price": 6
                },
                {
                  "index": 110,
                  "Month": "14-Jan",
                  "Price": 4.71
                },
                {
                  "index": 111,
                  "Month": "13-Dec",
                  "Price": 4.24
                },
                {
                  "index": 112,
                  "Month": "13-Nov",
                  "Price": 3.64
                },
                {
                  "index": 113,
                  "Month": "13-Oct",
                  "Price": 3.68
                },
                {
                  "index": 114,
                  "Month": "13-Sep",
                  "Price": 3.62
                },
                {
                  "index": 115,
                  "Month": "13-Aug",
                  "Price": 3.43
                },
                {
                  "index": 116,
                  "Month": "13-Jul",
                  "Price": 3.62
                },
                {
                  "index": 117,
                  "Month": "13-Jun",
                  "Price": 3.83
                },
                {
                  "index": 118,
                  "Month": "13-May",
                  "Price": 4.04
                },
                {
                  "index": 119,
                  "Month": "13-Apr",
                  "Price": 4.17
                },
                {
                  "index": 120,
                  "Month": "13-Mar",
                  "Price": 3.81
                },
                {
                  "index": 121,
                  "Month": "13-Feb",
                  "Price": 3.33
                },
                {
                  "index": 122,
                  "Month": "13-Jan",
                  "Price": 3.33
                },
                {
                  "index": 123,
                  "Month": "12-Dec",
                  "Price": 3.34
                },
                {
                  "index": 124,
                  "Month": "12-Nov",
                  "Price": 3.54
                },
                {
                  "index": 125,
                  "Month": "12-Oct",
                  "Price": 3.32
                },
                {
                  "index": 126,
                  "Month": "12-Sep",
                  "Price": 2.85
                },
                {
                  "index": 127,
                  "Month": "12-Aug",
                  "Price": 2.84
                },
                {
                  "index": 128,
                  "Month": "12-Jul",
                  "Price": 2.95
                },
                {
                  "index": 129,
                  "Month": "12-Jun",
                  "Price": 2.46
                },
                {
                  "index": 130,
                  "Month": "12-May",
                  "Price": 2.43
                },
                {
                  "index": 131,
                  "Month": "12-Apr",
                  "Price": 1.95
                },
                {
                  "index": 132,
                  "Month": "12-Mar",
                  "Price": 2.17
                },
                {
                  "index": 133,
                  "Month": "12-Feb",
                  "Price": 2.51
                },
                {
                  "index": 134,
                  "Month": "12-Jan",
                  "Price": 2.67
                },
                {
                  "index": 135,
                  "Month": "11-Dec",
                  "Price": 3.17
                },
                {
                  "index": 136,
                  "Month": "11-Nov",
                  "Price": 3.24
                },
                {
                  "index": 137,
                  "Month": "11-Oct",
                  "Price": 3.57
                },
                {
                  "index": 138,
                  "Month": "11-Sep",
                  "Price": 3.9
                },
                {
                  "index": 139,
                  "Month": "11-Aug",
                  "Price": 4.06
                },
                {
                  "index": 140,
                  "Month": "11-Jul",
                  "Price": 4.42
                },
                {
                  "index": 141,
                  "Month": "11-Jun",
                  "Price": 4.54
                },
                {
                  "index": 142,
                  "Month": "11-May",
                  "Price": 4.31
                },
                {
                  "index": 143,
                  "Month": "11-Apr",
                  "Price": 4.24
                },
                {
                  "index": 144,
                  "Month": "11-Mar",
                  "Price": 3.97
                },
                {
                  "index": 145,
                  "Month": "11-Feb",
                  "Price": 4.09
                },
                {
                  "index": 146,
                  "Month": "11-Jan",
                  "Price": 4.49
                },
                {
                  "index": 147,
                  "Month": "10-Dec",
                  "Price": 4.25
                },
                {
                  "index": 148,
                  "Month": "10-Nov",
                  "Price": 3.71
                },
                {
                  "index": 149,
                  "Month": "10-Oct",
                  "Price": 3.43
                },
                {
                  "index": 150,
                  "Month": "10-Sep",
                  "Price": 3.89
                },
                {
                  "index": 151,
                  "Month": "10-Aug",
                  "Price": 4.32
                },
                {
                  "index": 152,
                  "Month": "10-Jul",
                  "Price": 4.63
                },
                {
                  "index": 153,
                  "Month": "10-Jun",
                  "Price": 4.8
                },
                {
                  "index": 154,
                  "Month": "10-May",
                  "Price": 4.14
                },
                {
                  "index": 155,
                  "Month": "10-Apr",
                  "Price": 4.03
                },
                {
                  "index": 156,
                  "Month": "10-Mar",
                  "Price": 4.29
                },
                {
                  "index": 157,
                  "Month": "10-Feb",
                  "Price": 5.32
                },
                {
                  "index": 158,
                  "Month": "10-Jan",
                  "Price": 5.83
                },
                {
                  "index": 159,
                  "Month": "9-Dec",
                  "Price": 5.35
                },
                {
                  "index": 160,
                  "Month": "9-Nov",
                  "Price": 3.66
                },
                {
                  "index": 161,
                  "Month": "9-Oct",
                  "Price": 4.01
                },
                {
                  "index": 162,
                  "Month": "9-Sep",
                  "Price": 2.99
                },
                {
                  "index": 163,
                  "Month": "9-Aug",
                  "Price": 3.14
                },
                {
                  "index": 164,
                  "Month": "9-Jul",
                  "Price": 3.38
                },
                {
                  "index": 165,
                  "Month": "9-Jun",
                  "Price": 3.8
                },
                {
                  "index": 166,
                  "Month": "9-May",
                  "Price": 3.83
                },
                {
                  "index": 167,
                  "Month": "9-Apr",
                  "Price": 3.5
                },
                {
                  "index": 168,
                  "Month": "9-Mar",
                  "Price": 3.96
                },
                {
                  "index": 169,
                  "Month": "9-Feb",
                  "Price": 4.52
                },
                {
                  "index": 170,
                  "Month": "9-Jan",
                  "Price": 5.24
                },
                {
                  "index": 171,
                  "Month": "8-Dec",
                  "Price": 5.82
                },
                {
                  "index": 172,
                  "Month": "8-Nov",
                  "Price": 6.68
                },
                {
                  "index": 173,
                  "Month": "8-Oct",
                  "Price": 6.74
                },
                {
                  "index": 174,
                  "Month": "8-Sep",
                  "Price": 7.67
                },
                {
                  "index": 175,
                  "Month": "8-Aug",
                  "Price": 8.26
                },
                {
                  "index": 176,
                  "Month": "8-Jul",
                  "Price": 11.09
                },
                {
                  "index": 177,
                  "Month": "8-Jun",
                  "Price": 12.69
                },
                {
                  "index": 178,
                  "Month": "8-May",
                  "Price": 11.27
                },
                {
                  "index": 179,
                  "Month": "8-Apr",
                  "Price": 10.18
                },
                {
                  "index": 180,
                  "Month": "8-Mar",
                  "Price": 9.41
                },
                {
                  "index": 181,
                  "Month": "8-Feb",
                  "Price": 8.54
                },
                {
                  "index": 182,
                  "Month": "8-Jan",
                  "Price": 7.99
                },
                {
                  "index": 183,
                  "Month": "7-Dec",
                  "Price": 7.11
                },
                {
                  "index": 184,
                  "Month": "7-Nov",
                  "Price": 7.1
                },
                {
                  "index": 185,
                  "Month": "7-Oct",
                  "Price": 6.74
                },
                {
                  "index": 186,
                  "Month": "7-Sep",
                  "Price": 6.08
                },
                {
                  "index": 187,
                  "Month": "7-Aug",
                  "Price": 6.22
                },
                {
                  "index": 188,
                  "Month": "7-Jul",
                  "Price": 6.22
                },
                {
                  "index": 189,
                  "Month": "7-Jun",
                  "Price": 7.35
                },
                {
                  "index": 190,
                  "Month": "7-May",
                  "Price": 7.64
                },
                {
                  "index": 191,
                  "Month": "7-Apr",
                  "Price": 7.6
                },
                {
                  "index": 192,
                  "Month": "7-Mar",
                  "Price": 7.11
                },
                {
                  "index": 193,
                  "Month": "7-Feb",
                  "Price": 8
                },
                {
                  "index": 194,
                  "Month": "7-Jan",
                  "Price": 6.55
                },
                {
                  "index": 195,
                  "Month": "6-Dec",
                  "Price": 6.73
                },
                {
                  "index": 196,
                  "Month": "6-Nov",
                  "Price": 7.41
                },
                {
                  "index": 197,
                  "Month": "6-Oct",
                  "Price": 5.85
                },
                {
                  "index": 198,
                  "Month": "6-Sep",
                  "Price": 4.9
                },
                {
                  "index": 199,
                  "Month": "6-Aug",
                  "Price": 7.14
                },
                {
                  "index": 200,
                  "Month": "6-Jul",
                  "Price": 6.17
                },
                {
                  "index": 201,
                  "Month": "6-Jun",
                  "Price": 6.21
                },
                {
                  "index": 202,
                  "Month": "6-May",
                  "Price": 6.25
                },
                {
                  "index": 203,
                  "Month": "6-Apr",
                  "Price": 7.16
                },
                {
                  "index": 204,
                  "Month": "6-Mar",
                  "Price": 6.89
                },
                {
                  "index": 205,
                  "Month": "6-Feb",
                  "Price": 7.54
                },
                {
                  "index": 206,
                  "Month": "6-Jan",
                  "Price": 8.69
                },
                {
                  "index": 207,
                  "Month": "5-Dec",
                  "Price": 13.05
                },
                {
                  "index": 208,
                  "Month": "5-Nov",
                  "Price": 10.3
                },
                {
                  "index": 209,
                  "Month": "5-Oct",
                  "Price": 13.42
                },
                {
                  "index": 210,
                  "Month": "5-Sep",
                  "Price": 11.75
                },
                {
                  "index": 211,
                  "Month": "5-Aug",
                  "Price": 9.53
                },
                {
                  "index": 212,
                  "Month": "5-Jul",
                  "Price": 7.63
                },
                {
                  "index": 213,
                  "Month": "5-Jun",
                  "Price": 7.18
                },
                {
                  "index": 214,
                  "Month": "5-May",
                  "Price": 6.47
                },
                {
                  "index": 215,
                  "Month": "5-Apr",
                  "Price": 7.16
                },
                {
                  "index": 216,
                  "Month": "5-Mar",
                  "Price": 6.96
                },
                {
                  "index": 217,
                  "Month": "5-Feb",
                  "Price": 6.14
                },
                {
                  "index": 218,
                  "Month": "5-Jan",
                  "Price": 6.15
                },
                {
                  "index": 219,
                  "Month": "4-Dec",
                  "Price": 6.58
                },
                {
                  "index": 220,
                  "Month": "4-Nov",
                  "Price": 6.17
                },
                {
                  "index": 221,
                  "Month": "4-Oct",
                  "Price": 6.35
                },
                {
                  "index": 222,
                  "Month": "4-Sep",
                  "Price": 5.15
                },
                {
                  "index": 223,
                  "Month": "4-Aug",
                  "Price": 5.41
                },
                {
                  "index": 224,
                  "Month": "4-Jul",
                  "Price": 5.93
                },
                {
                  "index": 225,
                  "Month": "4-Jun",
                  "Price": 6.27
                },
                {
                  "index": 226,
                  "Month": "4-May",
                  "Price": 6.33
                },
                {
                  "index": 227,
                  "Month": "4-Apr",
                  "Price": 5.71
                },
                {
                  "index": 228,
                  "Month": "4-Mar",
                  "Price": 5.39
                },
                {
                  "index": 229,
                  "Month": "4-Feb",
                  "Price": 5.37
                },
                {
                  "index": 230,
                  "Month": "4-Jan",
                  "Price": 6.14
                },
                {
                  "index": 231,
                  "Month": "3-Dec",
                  "Price": 6.13
                },
                {
                  "index": 232,
                  "Month": "3-Nov",
                  "Price": 4.47
                },
                {
                  "index": 233,
                  "Month": "3-Oct",
                  "Price": 4.63
                },
                {
                  "index": 234,
                  "Month": "3-Sep",
                  "Price": 4.62
                },
                {
                  "index": 235,
                  "Month": "3-Aug",
                  "Price": 4.99
                },
                {
                  "index": 236,
                  "Month": "3-Jul",
                  "Price": 5.03
                },
                {
                  "index": 237,
                  "Month": "3-Jun",
                  "Price": 5.82
                },
                {
                  "index": 238,
                  "Month": "3-May",
                  "Price": 5.81
                },
                {
                  "index": 239,
                  "Month": "3-Apr",
                  "Price": 5.26
                },
                {
                  "index": 240,
                  "Month": "3-Mar",
                  "Price": 5.93
                },
                {
                  "index": 241,
                  "Month": "3-Feb",
                  "Price": 7.71
                },
                {
                  "index": 242,
                  "Month": "3-Jan",
                  "Price": 5.43
                },
                {
                  "index": 243,
                  "Month": "2-Dec",
                  "Price": 4.74
                },
                {
                  "index": 244,
                  "Month": "2-Nov",
                  "Price": 4.04
                },
                {
                  "index": 245,
                  "Month": "2-Oct",
                  "Price": 4.13
                },
                {
                  "index": 246,
                  "Month": "2-Sep",
                  "Price": 3.55
                },
                {
                  "index": 247,
                  "Month": "2-Aug",
                  "Price": 3.09
                },
                {
                  "index": 248,
                  "Month": "2-Jul",
                  "Price": 2.99
                },
                {
                  "index": 249,
                  "Month": "2-Jun",
                  "Price": 3.26
                },
                {
                  "index": 250,
                  "Month": "2-May",
                  "Price": 3.5
                },
                {
                  "index": 251,
                  "Month": "2-Apr",
                  "Price": 3.43
                },
                {
                  "index": 252,
                  "Month": "2-Mar",
                  "Price": 3.03
                },
                {
                  "index": 253,
                  "Month": "2-Feb",
                  "Price": 2.32
                },
                {
                  "index": 254,
                  "Month": "2-Jan",
                  "Price": 2.32
                },
                {
                  "index": 255,
                  "Month": "1-Dec",
                  "Price": 2.3
                },
                {
                  "index": 256,
                  "Month": "1-Nov",
                  "Price": 2.34
                },
                {
                  "index": 257,
                  "Month": "1-Oct",
                  "Price": 2.46
                },
                {
                  "index": 258,
                  "Month": "1-Sep",
                  "Price": 2.19
                },
                {
                  "index": 259,
                  "Month": "1-Aug",
                  "Price": 2.97
                },
                {
                  "index": 260,
                  "Month": "1-Jul",
                  "Price": 3.11
                },
                {
                  "index": 261,
                  "Month": "1-Jun",
                  "Price": 3.72
                },
                {
                  "index": 262,
                  "Month": "1-May",
                  "Price": 4.19
                },
                {
                  "index": 263,
                  "Month": "1-Apr",
                  "Price": 5.19
                },
                {
                  "index": 264,
                  "Month": "1-Mar",
                  "Price": 5.23
                },
                {
                  "index": 265,
                  "Month": "1-Feb",
                  "Price": 5.61
                },
                {
                  "index": 266,
                  "Month": "1-Jan",
                  "Price": 8.17
                },
                {
                  "index": 267,
                  "Month": "Dec-00",
                  "Price": 8.9
                },
                {
                  "index": 268,
                  "Month": "Nov-00",
                  "Price": 5.52
                },
                {
                  "index": 269,
                  "Month": "Oct-00",
                  "Price": 5.02
                },
                {
                  "index": 270,
                  "Month": "Sep-00",
                  "Price": 5.06
                },
                {
                  "index": 271,
                  "Month": "Aug-00",
                  "Price": 4.43
                },
                {
                  "index": 272,
                  "Month": "Jul-00",
                  "Price": 3.99
                },
                {
                  "index": 273,
                  "Month": "Jun-00",
                  "Price": 4.29
                },
                {
                  "index": 274,
                  "Month": "May-00",
                  "Price": 3.59
                },
                {
                  "index": 275,
                  "Month": "Apr-00",
                  "Price": 3.04
                },
                {
                  "index": 276,
                  "Month": "Mar-00",
                  "Price": 2.79
                },
                {
                  "index": 277,
                  "Month": "Feb-00",
                  "Price": 2.66
                },
                {
                  "index": 278,
                  "Month": "Jan-00",
                  "Price": 2.42
                },
                {
                  "index": 279,
                  "Month": "Dec-99",
                  "Price": 2.36
                },
                {
                  "index": 280,
                  "Month": "Nov-99",
                  "Price": 2.37
                },
                {
                  "index": 281,
                  "Month": "Oct-99",
                  "Price": 2.73
                },
                {
                  "index": 282,
                  "Month": "Sep-99",
                  "Price": 2.55
                },
                {
                  "index": 283,
                  "Month": "Aug-99",
                  "Price": 2.8
                },
                {
                  "index": 284,
                  "Month": "Jul-99",
                  "Price": 2.31
                },
                {
                  "index": 285,
                  "Month": "Jun-99",
                  "Price": 2.3
                },
                {
                  "index": 286,
                  "Month": "May-99",
                  "Price": 2.26
                },
                {
                  "index": 287,
                  "Month": "Apr-99",
                  "Price": 2.15
                },
                {
                  "index": 288,
                  "Month": "Mar-99",
                  "Price": 1.79
                },
                {
                  "index": 289,
                  "Month": "Feb-99",
                  "Price": 1.77
                },
                {
                  "index": 290,
                  "Month": "Jan-99",
                  "Price": 1.85
                },
                {
                  "index": 291,
                  "Month": "Dec-98",
                  "Price": 1.72
                },
                {
                  "index": 292,
                  "Month": "Nov-98",
                  "Price": 2.12
                },
                {
                  "index": 293,
                  "Month": "Oct-98",
                  "Price": 1.91
                },
                {
                  "index": 294,
                  "Month": "Sep-98",
                  "Price": 2.02
                },
                {
                  "index": 295,
                  "Month": "Aug-98",
                  "Price": 1.85
                },
                {
                  "index": 296,
                  "Month": "Jul-98",
                  "Price": 2.17
                },
                {
                  "index": 297,
                  "Month": "Jun-98",
                  "Price": 2.17
                },
                {
                  "index": 298,
                  "Month": "May-98",
                  "Price": 2.14
                },
                {
                  "index": 299,
                  "Month": "Apr-98",
                  "Price": 2.43
                },
                {
                  "index": 300,
                  "Month": "Mar-98",
                  "Price": 2.24
                },
                {
                  "index": 301,
                  "Month": "Feb-98",
                  "Price": 2.23
                },
                {
                  "index": 302,
                  "Month": "Jan-98",
                  "Price": 2.09
                },
                {
                  "index": 303,
                  "Month": "Dec-97",
                  "Price": 2.35
                },
                {
                  "index": 304,
                  "Month": "Nov-97",
                  "Price": 3.01
                },
                {
                  "index": 305,
                  "Month": "Oct-97",
                  "Price": 3.07
                },
                {
                  "index": 306,
                  "Month": "Sep-97",
                  "Price": 2.88
                },
                {
                  "index": 307,
                  "Month": "Aug-97",
                  "Price": 2.49
                },
                {
                  "index": 308,
                  "Month": "Jul-97",
                  "Price": 2.19
                },
                {
                  "index": 309,
                  "Month": "Jun-97",
                  "Price": 2.2
                },
                {
                  "index": 310,
                  "Month": "May-97",
                  "Price": 2.25
                },
                {
                  "index": 311,
                  "Month": "Apr-97",
                  "Price": 2.03
                },
                {
                  "index": 312,
                  "Month": "Mar-97",
                  "Price": 1.89
                },
                {
                  "index": 313,
                  "Month": "Feb-97",
                  "Price": 2.15
                },
                {
                  "index": 314,
                  "Month": "Jan-97",
                  "Price": 3.45
                }
              ],
              "datalink": {
                "display_id": "aea1e67d-853a-4649-a1c1-8f60b63ecf29"
              }
            }
          },
          "metadata": {
            "application/vnd.dataresource+json": {
              "datalink": {
                "dataframe_info": {
                  "default_index_used": true,
                  "orig_size_bytes": 5168,
                  "orig_num_rows": 315,
                  "orig_num_cols": 2,
                  "truncated_string_columns": [],
                  "truncated_size_bytes": 5168,
                  "truncated_num_rows": 315,
                  "truncated_num_cols": 2
                },
                "dx_settings": {
                  "NUM_PAST_SAMPLES_TRACKED": 3,
                  "ENABLE_DATALINK": true,
                  "DISPLAY_MODE": "simple",
                  "GENERATE_DEX_METADATA": false,
                  "STRINGIFY_INDEX_VALUES": false,
                  "ALLOW_NOTEABLE_ATTRS": true,
                  "DISPLAY_MAX_COLUMNS": 100,
                  "HTML_TABLE_SCHEMA": false,
                  "SAMPLING_FACTOR": 0.1,
                  "LOG_LEVEL": 30,
                  "ENABLE_ASSIGNMENT": true,
                  "FLATTEN_INDEX_VALUES": false,
                  "DEV_MODE": false,
                  "COLUMN_SAMPLING_METHOD": "outer",
                  "FLATTEN_COLUMN_VALUES": true,
                  "DISPLAY_MAX_ROWS": 50000,
                  "ROW_SAMPLING_METHOD": "random",
                  "RANDOM_STATE": 12648430,
                  "DB_LOCATION": ":memory:",
                  "STRINGIFY_COLUMN_VALUES": true,
                  "SAMPLING_METHOD": "random",
                  "MAX_STRING_LENGTH": 250,
                  "MAX_RENDER_SIZE_BYTES": 104857600,
                  "RESET_INDEX_VALUES": false
                },
                "display_id": "aea1e67d-853a-4649-a1c1-8f60b63ecf29",
                "applied_filters": [],
                "sample_history": [],
                "sampling_time": "2023-04-30T18:41:49.834295",
                "variable_name": "recent_gas_monthly",
                "user_variable_name": "recent_gas_monthly"
              },
              "display_id": "aea1e67d-853a-4649-a1c1-8f60b63ecf29"
            }
          }
        }
      ],
      "execution_count": null,
      "metadata": {
        "jupyter": {
          "outputs_hidden": false,
          "source_hidden": false
        },
        "noteable": {
          "cell_type": "code"
        },
        "ExecuteTime": {
          "end_time": "2023-04-30T18:41:49.991010+00:00",
          "start_time": "2023-04-30T18:41:49.792563+00:00"
        },
        "datalink": {
          "4547ed0c-8f22-4d81-b07e-1ee236baffde": {
            "applied_filters": [],
            "dataframe_info": {
              "default_index_used": true,
              "orig_num_cols": 2,
              "orig_num_rows": 361,
              "orig_size_bytes": 5904,
              "truncated_num_cols": 2,
              "truncated_num_rows": 361,
              "truncated_size_bytes": 5904,
              "truncated_string_columns": []
            },
            "display_id": "4547ed0c-8f22-4d81-b07e-1ee236baffde",
            "dx_settings": {
              "ALLOW_NOTEABLE_ATTRS": true,
              "COLUMN_SAMPLING_METHOD": "outer",
              "DB_LOCATION": ":memory:",
              "DEV_MODE": false,
              "DISPLAY_MAX_COLUMNS": 100,
              "DISPLAY_MAX_ROWS": 50000,
              "DISPLAY_MODE": "simple",
              "ENABLE_ASSIGNMENT": true,
              "ENABLE_DATALINK": true,
              "FLATTEN_COLUMN_VALUES": true,
              "FLATTEN_INDEX_VALUES": false,
              "GENERATE_DEX_METADATA": false,
              "HTML_TABLE_SCHEMA": false,
              "LOG_LEVEL": 30,
              "MAX_RENDER_SIZE_BYTES": 104857600,
              "MAX_STRING_LENGTH": 250,
              "NUM_PAST_SAMPLES_TRACKED": 3,
              "RANDOM_STATE": 12648430,
              "RESET_INDEX_VALUES": false,
              "ROW_SAMPLING_METHOD": "random",
              "SAMPLING_FACTOR": 0.1,
              "SAMPLING_METHOD": "random",
              "STRINGIFY_COLUMN_VALUES": true,
              "STRINGIFY_INDEX_VALUES": false
            },
            "sample_history": [],
            "sampling_time": "2023-04-28T21:23:31.640154",
            "user_variable_name": "recent_gas_monthly",
            "variable_name": "recent_gas_monthly"
          },
          "c106c169-a8f3-4348-9fb6-be6c65197623": {
            "applied_filters": [],
            "dataframe_info": {
              "default_index_used": true,
              "orig_num_cols": 2,
              "orig_num_rows": 361,
              "orig_size_bytes": 5904,
              "truncated_num_cols": 2,
              "truncated_num_rows": 361,
              "truncated_size_bytes": 5904,
              "truncated_string_columns": []
            },
            "display_id": "c106c169-a8f3-4348-9fb6-be6c65197623",
            "dx_settings": {
              "ALLOW_NOTEABLE_ATTRS": true,
              "COLUMN_SAMPLING_METHOD": "outer",
              "DB_LOCATION": ":memory:",
              "DEV_MODE": false,
              "DISPLAY_MAX_COLUMNS": 100,
              "DISPLAY_MAX_ROWS": 50000,
              "DISPLAY_MODE": "simple",
              "ENABLE_ASSIGNMENT": true,
              "ENABLE_DATALINK": true,
              "FLATTEN_COLUMN_VALUES": true,
              "FLATTEN_INDEX_VALUES": false,
              "GENERATE_DEX_METADATA": false,
              "HTML_TABLE_SCHEMA": false,
              "LOG_LEVEL": 30,
              "MAX_RENDER_SIZE_BYTES": 104857600,
              "MAX_STRING_LENGTH": 250,
              "NUM_PAST_SAMPLES_TRACKED": 3,
              "RANDOM_STATE": 12648430,
              "RESET_INDEX_VALUES": false,
              "ROW_SAMPLING_METHOD": "random",
              "SAMPLING_FACTOR": 0.1,
              "SAMPLING_METHOD": "random",
              "STRINGIFY_COLUMN_VALUES": true,
              "STRINGIFY_INDEX_VALUES": false
            },
            "sample_history": [],
            "sampling_time": "2023-04-28T21:24:46.759754",
            "user_variable_name": "recent_gas_monthly",
            "variable_name": "recent_gas_monthly"
          },
          "6331f625-6646-4c26-998e-187a134a7a82": {
            "applied_filters": [],
            "dataframe_info": {
              "default_index_used": true,
              "orig_num_cols": 2,
              "orig_num_rows": 361,
              "orig_size_bytes": 5904,
              "truncated_num_cols": 2,
              "truncated_num_rows": 361,
              "truncated_size_bytes": 5904,
              "truncated_string_columns": []
            },
            "display_id": "6331f625-6646-4c26-998e-187a134a7a82",
            "dx_settings": {
              "ALLOW_NOTEABLE_ATTRS": true,
              "COLUMN_SAMPLING_METHOD": "outer",
              "DB_LOCATION": ":memory:",
              "DEV_MODE": false,
              "DISPLAY_MAX_COLUMNS": 100,
              "DISPLAY_MAX_ROWS": 50000,
              "DISPLAY_MODE": "simple",
              "ENABLE_ASSIGNMENT": true,
              "ENABLE_DATALINK": true,
              "FLATTEN_COLUMN_VALUES": true,
              "FLATTEN_INDEX_VALUES": false,
              "GENERATE_DEX_METADATA": false,
              "HTML_TABLE_SCHEMA": false,
              "LOG_LEVEL": 30,
              "MAX_RENDER_SIZE_BYTES": 104857600,
              "MAX_STRING_LENGTH": 250,
              "NUM_PAST_SAMPLES_TRACKED": 3,
              "RANDOM_STATE": 12648430,
              "RESET_INDEX_VALUES": false,
              "ROW_SAMPLING_METHOD": "random",
              "SAMPLING_FACTOR": 0.1,
              "SAMPLING_METHOD": "random",
              "STRINGIFY_COLUMN_VALUES": true,
              "STRINGIFY_INDEX_VALUES": false
            },
            "sample_history": [],
            "sampling_time": "2023-04-28T21:25:51.618390",
            "user_variable_name": "recent_gas_monthly",
            "variable_name": "recent_gas_monthly"
          },
          "0ebb1981-60c6-4115-8b68-2d2e951bce66": {
            "applied_filters": [],
            "dataframe_info": {
              "default_index_used": true,
              "orig_num_cols": 2,
              "orig_num_rows": 315,
              "orig_size_bytes": 5168,
              "truncated_num_cols": 2,
              "truncated_num_rows": 315,
              "truncated_size_bytes": 5168,
              "truncated_string_columns": []
            },
            "display_id": "0ebb1981-60c6-4115-8b68-2d2e951bce66",
            "dx_settings": {
              "ALLOW_NOTEABLE_ATTRS": true,
              "COLUMN_SAMPLING_METHOD": "outer",
              "DB_LOCATION": ":memory:",
              "DEV_MODE": false,
              "DISPLAY_MAX_COLUMNS": 100,
              "DISPLAY_MAX_ROWS": 50000,
              "DISPLAY_MODE": "simple",
              "ENABLE_ASSIGNMENT": true,
              "ENABLE_DATALINK": true,
              "FLATTEN_COLUMN_VALUES": true,
              "FLATTEN_INDEX_VALUES": false,
              "GENERATE_DEX_METADATA": false,
              "HTML_TABLE_SCHEMA": false,
              "LOG_LEVEL": 30,
              "MAX_RENDER_SIZE_BYTES": 104857600,
              "MAX_STRING_LENGTH": 250,
              "NUM_PAST_SAMPLES_TRACKED": 3,
              "RANDOM_STATE": 12648430,
              "RESET_INDEX_VALUES": false,
              "ROW_SAMPLING_METHOD": "random",
              "SAMPLING_FACTOR": 0.1,
              "SAMPLING_METHOD": "random",
              "STRINGIFY_COLUMN_VALUES": true,
              "STRINGIFY_INDEX_VALUES": false
            },
            "sample_history": [],
            "sampling_time": "2023-04-28T21:29:52.178491",
            "user_variable_name": "recent_gas_monthly",
            "variable_name": "recent_gas_monthly"
          },
          "e5a6a2dd-67c0-4da6-aa28-5e0fa287885a": {
            "applied_filters": [],
            "dataframe_info": {
              "default_index_used": true,
              "orig_num_cols": 2,
              "orig_num_rows": 315,
              "orig_size_bytes": 5168,
              "truncated_num_cols": 2,
              "truncated_num_rows": 315,
              "truncated_size_bytes": 5168,
              "truncated_string_columns": []
            },
            "display_id": "e5a6a2dd-67c0-4da6-aa28-5e0fa287885a",
            "dx_settings": {
              "ALLOW_NOTEABLE_ATTRS": true,
              "COLUMN_SAMPLING_METHOD": "outer",
              "DB_LOCATION": ":memory:",
              "DEV_MODE": false,
              "DISPLAY_MAX_COLUMNS": 100,
              "DISPLAY_MAX_ROWS": 50000,
              "DISPLAY_MODE": "simple",
              "ENABLE_ASSIGNMENT": true,
              "ENABLE_DATALINK": true,
              "FLATTEN_COLUMN_VALUES": true,
              "FLATTEN_INDEX_VALUES": false,
              "GENERATE_DEX_METADATA": false,
              "HTML_TABLE_SCHEMA": false,
              "LOG_LEVEL": 30,
              "MAX_RENDER_SIZE_BYTES": 104857600,
              "MAX_STRING_LENGTH": 250,
              "NUM_PAST_SAMPLES_TRACKED": 3,
              "RANDOM_STATE": 12648430,
              "RESET_INDEX_VALUES": false,
              "ROW_SAMPLING_METHOD": "random",
              "SAMPLING_FACTOR": 0.1,
              "SAMPLING_METHOD": "random",
              "STRINGIFY_COLUMN_VALUES": true,
              "STRINGIFY_INDEX_VALUES": false
            },
            "sample_history": [],
            "sampling_time": "2023-04-28T21:31:57.934142",
            "user_variable_name": "recent_gas_monthly",
            "variable_name": "recent_gas_monthly"
          },
          "a986257b-a429-4322-9eac-5ad84550265f": {
            "applied_filters": [],
            "dataframe_info": {
              "default_index_used": true,
              "orig_num_cols": 2,
              "orig_num_rows": 315,
              "orig_size_bytes": 5168,
              "truncated_num_cols": 2,
              "truncated_num_rows": 315,
              "truncated_size_bytes": 5168,
              "truncated_string_columns": []
            },
            "display_id": "a986257b-a429-4322-9eac-5ad84550265f",
            "dx_settings": {
              "ALLOW_NOTEABLE_ATTRS": true,
              "COLUMN_SAMPLING_METHOD": "outer",
              "DB_LOCATION": ":memory:",
              "DEV_MODE": false,
              "DISPLAY_MAX_COLUMNS": 100,
              "DISPLAY_MAX_ROWS": 50000,
              "DISPLAY_MODE": "simple",
              "ENABLE_ASSIGNMENT": true,
              "ENABLE_DATALINK": true,
              "FLATTEN_COLUMN_VALUES": true,
              "FLATTEN_INDEX_VALUES": false,
              "GENERATE_DEX_METADATA": false,
              "HTML_TABLE_SCHEMA": false,
              "LOG_LEVEL": 30,
              "MAX_RENDER_SIZE_BYTES": 104857600,
              "MAX_STRING_LENGTH": 250,
              "NUM_PAST_SAMPLES_TRACKED": 3,
              "RANDOM_STATE": 12648430,
              "RESET_INDEX_VALUES": false,
              "ROW_SAMPLING_METHOD": "random",
              "SAMPLING_FACTOR": 0.1,
              "SAMPLING_METHOD": "random",
              "STRINGIFY_COLUMN_VALUES": true,
              "STRINGIFY_INDEX_VALUES": false
            },
            "sample_history": [],
            "sampling_time": "2023-04-28T21:32:28.413097",
            "user_variable_name": "recent_gas_monthly",
            "variable_name": "recent_gas_monthly"
          },
          "aea1e67d-853a-4649-a1c1-8f60b63ecf29": {
            "applied_filters": [],
            "dataframe_info": {
              "default_index_used": true,
              "orig_num_cols": 2,
              "orig_num_rows": 315,
              "orig_size_bytes": 5168,
              "truncated_num_cols": 2,
              "truncated_num_rows": 315,
              "truncated_size_bytes": 5168,
              "truncated_string_columns": []
            },
            "display_id": "aea1e67d-853a-4649-a1c1-8f60b63ecf29",
            "dx_settings": {
              "ALLOW_NOTEABLE_ATTRS": true,
              "COLUMN_SAMPLING_METHOD": "outer",
              "DB_LOCATION": ":memory:",
              "DEV_MODE": false,
              "DISPLAY_MAX_COLUMNS": 100,
              "DISPLAY_MAX_ROWS": 50000,
              "DISPLAY_MODE": "simple",
              "ENABLE_ASSIGNMENT": true,
              "ENABLE_DATALINK": true,
              "FLATTEN_COLUMN_VALUES": true,
              "FLATTEN_INDEX_VALUES": false,
              "GENERATE_DEX_METADATA": false,
              "HTML_TABLE_SCHEMA": false,
              "LOG_LEVEL": 30,
              "MAX_RENDER_SIZE_BYTES": 104857600,
              "MAX_STRING_LENGTH": 250,
              "NUM_PAST_SAMPLES_TRACKED": 3,
              "RANDOM_STATE": 12648430,
              "RESET_INDEX_VALUES": false,
              "ROW_SAMPLING_METHOD": "random",
              "SAMPLING_FACTOR": 0.1,
              "SAMPLING_METHOD": "random",
              "STRINGIFY_COLUMN_VALUES": true,
              "STRINGIFY_INDEX_VALUES": false
            },
            "sample_history": [],
            "sampling_time": "2023-04-30T18:41:49.834295",
            "user_variable_name": "recent_gas_monthly",
            "variable_name": "recent_gas_monthly"
          }
        }
      },
      "id": "7a5e0fae-8027-4df8-b3c5-ad577f92a45b"
    },
    {
      "cell_type": "code",
      "source": [
        "plt.scatter(x, y, color=\"red\", s = 20, alpha = 0.6, label = \"Modelling Data\")\n",
        "plt.plot(X_test, sunnum_pred + y_mean, color=\"blue\", alpha=0.6, label=\"Gaussian process\", linewidth = 0.5)\n",
        "plt.fill_between(\n",
        "    X_test.ravel(),\n",
        "    sunnum_pred - std_sunnum_pred + y_mean,\n",
        "    sunnum_pred + std_sunnum_pred + y_mean, \n",
        "    color=\"tab:blue\",\n",
        "    alpha=0.2,\n",
        "    label = \"Deviation Bounds\"\n",
        ")\n",
        "plt.xlim(1997 + 1/12, 2024)\n",
        "plt.scatter(i, j, c = 'green', marker = \"1\", alpha=0.8, label = \"Recent Data\")\n",
        "plt.title(\"Natural Gas Prices\")\n",
        "plt.legend()\n",
        "plt.xlabel(\"Year\")\n",
        "plt.ylabel(\"Dollars per Million BTU\")"
      ],
      "outputs": [
        {
          "output_type": "execute_result",
          "execution_count": null,
          "data": {
            "text/plain": "Text(0, 0.5, 'Dollars per Million BTU')"
          },
          "metadata": {}
        },
        {
          "output_type": "display_data",
          "data": {
            "image/png": "[encoded data removed]"
          },
          "metadata": {}
        }
      ],
      "execution_count": null,
      "metadata": {
        "jupyter": {
          "outputs_hidden": false,
          "source_hidden": false
        },
        "noteable": {
          "cell_type": "code"
        },
        "ExecuteTime": {
          "end_time": "2023-04-30T18:41:50.595507+00:00",
          "start_time": "2023-04-30T18:41:50.067884+00:00"
        },
        "scrolled": true
      },
      "id": "1538a952-81cf-44ba-9a77-c6532bbb348a"
    }
  ],
  "metadata": {
    "selected_hardware_size": "small",
    "noteable": {
      "db_connection": "@noteable",
      "last_transaction_id": "9dfa7f26-e120-48d2-88bf-d74da39b8e55",
      "last_delta_id": "9dfa7f26-e120-48d2-88bf-d74da39b8e55"
    },
    "nteract": {
      "version": "noteable@2.9.0"
    }
  },
  "nbformat": 4,
  "nbformat_minor": 5
}