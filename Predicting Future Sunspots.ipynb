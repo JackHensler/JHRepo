{
  "cells": [
    {
      "cell_type": "code",
      "source": [
        "\"\"\"\n",
        "Day 1\n",
        "Jack and I figured out a platform where we can use realtime collaboration to simultaneously work on our Python code. It's a pretty epic combination between Jupyter Notebooka and Google Docs TBH\n",
        "\"\"\""
      ],
      "outputs": [
        {
          "output_type": "execute_result",
          "execution_count": null,
          "data": {
            "text/plain": "\"\\nDay 1\\nJack and I figured out a platform where we can use realtime collaboration to simultaneously work on our Python code. It's a pretty epic combination between Jupyter Notebooka and Google Docs TBH\\n\""
          },
          "metadata": {}
        }
      ],
      "execution_count": null,
      "metadata": {
        "noteable": {
          "cell_type": "python"
        },
        "ExecuteTime": {
          "end_time": "2023-04-24T19:12:01.534083+00:00",
          "start_time": "2023-04-24T19:12:01.371695+00:00"
        },
        "tags": [
          "show_line_numbers"
        ]
      },
      "id": "8c128b24-2755-4ec6-8e2c-94fe16139689"
    },
    {
      "cell_type": "code",
      "source": [
        "#GAS\n",
        "import numpy as np\n",
        "import pandas as pd\n",
        "import matplotlib.pyplot as plt\n",
        "\n",
        "sunspots = pd.read_csv('sunspots_data.csv')\n",
        "sunspots"
      ],
      "outputs": [
        {
          "output_type": "display_data",
          "data": {
            "application/vnd.dataresource+json": {
              "schema": {
                "fields": [
                  {
                    "name": "index",
                    "type": "integer"
                  },
                  {
                    "name": "Month",
                    "type": "string"
                  },
                  {
                    "name": "Sunspots",
                    "type": "number"
                  }
                ],
                "primaryKey": [
                  "index"
                ],
                "pandas_version": "1.4.0"
              },
              "data": [
                {
                  "index": 0,
                  "Month": "1749-01",
                  "Sunspots": 58
                },
                {
                  "index": 1,
                  "Month": "1749-02",
                  "Sunspots": 62.6
                },
                {
                  "index": 2,
                  "Month": "1749-03",
                  "Sunspots": 70
                },
                {
                  "index": 3,
                  "Month": "1749-04",
                  "Sunspots": 55.7
                },
                {
                  "index": 4,
                  "Month": "1749-05",
                  "Sunspots": 85
                },
                {
                  "index": 5,
                  "Month": "1749-06",
                  "Sunspots": 83.5
                },
                {
                  "index": 6,
                  "Month": "1749-07",
                  "Sunspots": 94.8
                },
                {
                  "index": 7,
                  "Month": "1749-08",
                  "Sunspots": 66.3
                },
                {
                  "index": 8,
                  "Month": "1749-09",
                  "Sunspots": 75.9
                },
                {
                  "index": 9,
                  "Month": "1749-10",
                  "Sunspots": 75.5
                },
                {
                  "index": 10,
                  "Month": "1749-11",
                  "Sunspots": 158.6
                },
                {
                  "index": 11,
                  "Month": "1749-12",
                  "Sunspots": 85.2
                },
                {
                  "index": 12,
                  "Month": "1750-01",
                  "Sunspots": 73.3
                },
                {
                  "index": 13,
                  "Month": "1750-02",
                  "Sunspots": 75.9
                },
                {
                  "index": 14,
                  "Month": "1750-03",
                  "Sunspots": 89.2
                },
                {
                  "index": 15,
                  "Month": "1750-04",
                  "Sunspots": 88.3
                },
                {
                  "index": 16,
                  "Month": "1750-05",
                  "Sunspots": 90
                },
                {
                  "index": 17,
                  "Month": "1750-06",
                  "Sunspots": 100
                },
                {
                  "index": 18,
                  "Month": "1750-07",
                  "Sunspots": 85.4
                },
                {
                  "index": 19,
                  "Month": "1750-08",
                  "Sunspots": 103
                },
                {
                  "index": 20,
                  "Month": "1750-09",
                  "Sunspots": 91.2
                },
                {
                  "index": 21,
                  "Month": "1750-10",
                  "Sunspots": 65.7
                },
                {
                  "index": 22,
                  "Month": "1750-11",
                  "Sunspots": 63.3
                },
                {
                  "index": 23,
                  "Month": "1750-12",
                  "Sunspots": 75.4
                },
                {
                  "index": 24,
                  "Month": "1751-01",
                  "Sunspots": 70
                },
                {
                  "index": 25,
                  "Month": "1751-02",
                  "Sunspots": 43.5
                },
                {
                  "index": 26,
                  "Month": "1751-03",
                  "Sunspots": 45.3
                },
                {
                  "index": 27,
                  "Month": "1751-04",
                  "Sunspots": 56.4
                },
                {
                  "index": 28,
                  "Month": "1751-05",
                  "Sunspots": 60.7
                },
                {
                  "index": 29,
                  "Month": "1751-06",
                  "Sunspots": 50.7
                },
                {
                  "index": 30,
                  "Month": "1751-07",
                  "Sunspots": 66.3
                },
                {
                  "index": 31,
                  "Month": "1751-08",
                  "Sunspots": 59.8
                },
                {
                  "index": 32,
                  "Month": "1751-09",
                  "Sunspots": 23.5
                },
                {
                  "index": 33,
                  "Month": "1751-10",
                  "Sunspots": 23.2
                },
                {
                  "index": 34,
                  "Month": "1751-11",
                  "Sunspots": 28.5
                },
                {
                  "index": 35,
                  "Month": "1751-12",
                  "Sunspots": 44
                },
                {
                  "index": 36,
                  "Month": "1752-01",
                  "Sunspots": 35
                },
                {
                  "index": 37,
                  "Month": "1752-02",
                  "Sunspots": 50
                },
                {
                  "index": 38,
                  "Month": "1752-03",
                  "Sunspots": 71
                },
                {
                  "index": 39,
                  "Month": "1752-04",
                  "Sunspots": 59.3
                },
                {
                  "index": 40,
                  "Month": "1752-05",
                  "Sunspots": 59.7
                },
                {
                  "index": 41,
                  "Month": "1752-06",
                  "Sunspots": 39.6
                },
                {
                  "index": 42,
                  "Month": "1752-07",
                  "Sunspots": 78.4
                },
                {
                  "index": 43,
                  "Month": "1752-08",
                  "Sunspots": 29.3
                },
                {
                  "index": 44,
                  "Month": "1752-09",
                  "Sunspots": 27.1
                },
                {
                  "index": 45,
                  "Month": "1752-10",
                  "Sunspots": 46.6
                },
                {
                  "index": 46,
                  "Month": "1752-11",
                  "Sunspots": 37.6
                },
                {
                  "index": 47,
                  "Month": "1752-12",
                  "Sunspots": 40
                },
                {
                  "index": 48,
                  "Month": "1753-01",
                  "Sunspots": 44
                },
                {
                  "index": 49,
                  "Month": "1753-02",
                  "Sunspots": 32
                },
                {
                  "index": 50,
                  "Month": "1753-03",
                  "Sunspots": 45.7
                },
                {
                  "index": 51,
                  "Month": "1753-04",
                  "Sunspots": 38
                },
                {
                  "index": 52,
                  "Month": "1753-05",
                  "Sunspots": 36
                },
                {
                  "index": 53,
                  "Month": "1753-06",
                  "Sunspots": 31.7
                },
                {
                  "index": 54,
                  "Month": "1753-07",
                  "Sunspots": 22.2
                },
                {
                  "index": 55,
                  "Month": "1753-08",
                  "Sunspots": 39
                },
                {
                  "index": 56,
                  "Month": "1753-09",
                  "Sunspots": 28
                },
                {
                  "index": 57,
                  "Month": "1753-10",
                  "Sunspots": 25
                },
                {
                  "index": 58,
                  "Month": "1753-11",
                  "Sunspots": 20
                },
                {
                  "index": 59,
                  "Month": "1753-12",
                  "Sunspots": 6.7
                },
                {
                  "index": 60,
                  "Month": "1754-01",
                  "Sunspots": 0
                },
                {
                  "index": 61,
                  "Month": "1754-02",
                  "Sunspots": 3
                },
                {
                  "index": 62,
                  "Month": "1754-03",
                  "Sunspots": 1.7
                },
                {
                  "index": 63,
                  "Month": "1754-04",
                  "Sunspots": 13.7
                },
                {
                  "index": 64,
                  "Month": "1754-05",
                  "Sunspots": 20.7
                },
                {
                  "index": 65,
                  "Month": "1754-06",
                  "Sunspots": 26.7
                },
                {
                  "index": 66,
                  "Month": "1754-07",
                  "Sunspots": 18.8
                },
                {
                  "index": 67,
                  "Month": "1754-08",
                  "Sunspots": 12.3
                },
                {
                  "index": 68,
                  "Month": "1754-09",
                  "Sunspots": 8.2
                },
                {
                  "index": 69,
                  "Month": "1754-10",
                  "Sunspots": 24.1
                },
                {
                  "index": 70,
                  "Month": "1754-11",
                  "Sunspots": 13.2
                },
                {
                  "index": 71,
                  "Month": "1754-12",
                  "Sunspots": 4.2
                },
                {
                  "index": 72,
                  "Month": "1755-01",
                  "Sunspots": 10.2
                },
                {
                  "index": 73,
                  "Month": "1755-02",
                  "Sunspots": 11.2
                },
                {
                  "index": 74,
                  "Month": "1755-03",
                  "Sunspots": 6.8
                },
                {
                  "index": 75,
                  "Month": "1755-04",
                  "Sunspots": 6.5
                },
                {
                  "index": 76,
                  "Month": "1755-05",
                  "Sunspots": 0
                },
                {
                  "index": 77,
                  "Month": "1755-06",
                  "Sunspots": 0
                },
                {
                  "index": 78,
                  "Month": "1755-07",
                  "Sunspots": 8.6
                },
                {
                  "index": 79,
                  "Month": "1755-08",
                  "Sunspots": 3.2
                },
                {
                  "index": 80,
                  "Month": "1755-09",
                  "Sunspots": 17.8
                },
                {
                  "index": 81,
                  "Month": "1755-10",
                  "Sunspots": 23.7
                },
                {
                  "index": 82,
                  "Month": "1755-11",
                  "Sunspots": 6.8
                },
                {
                  "index": 83,
                  "Month": "1755-12",
                  "Sunspots": 20
                },
                {
                  "index": 84,
                  "Month": "1756-01",
                  "Sunspots": 12.5
                },
                {
                  "index": 85,
                  "Month": "1756-02",
                  "Sunspots": 7.1
                },
                {
                  "index": 86,
                  "Month": "1756-03",
                  "Sunspots": 5.4
                },
                {
                  "index": 87,
                  "Month": "1756-04",
                  "Sunspots": 9.4
                },
                {
                  "index": 88,
                  "Month": "1756-05",
                  "Sunspots": 12.5
                },
                {
                  "index": 89,
                  "Month": "1756-06",
                  "Sunspots": 12.9
                },
                {
                  "index": 90,
                  "Month": "1756-07",
                  "Sunspots": 3.6
                },
                {
                  "index": 91,
                  "Month": "1756-08",
                  "Sunspots": 6.4
                },
                {
                  "index": 92,
                  "Month": "1756-09",
                  "Sunspots": 11.8
                },
                {
                  "index": 93,
                  "Month": "1756-10",
                  "Sunspots": 14.3
                },
                {
                  "index": 94,
                  "Month": "1756-11",
                  "Sunspots": 17
                },
                {
                  "index": 95,
                  "Month": "1756-12",
                  "Sunspots": 9.4
                },
                {
                  "index": 96,
                  "Month": "1757-01",
                  "Sunspots": 14.1
                },
                {
                  "index": 97,
                  "Month": "1757-02",
                  "Sunspots": 21.2
                },
                {
                  "index": 98,
                  "Month": "1757-03",
                  "Sunspots": 26.2
                },
                {
                  "index": 99,
                  "Month": "1757-04",
                  "Sunspots": 30
                },
                {
                  "index": 100,
                  "Month": "1757-05",
                  "Sunspots": 38.1
                },
                {
                  "index": 101,
                  "Month": "1757-06",
                  "Sunspots": 12.8
                },
                {
                  "index": 102,
                  "Month": "1757-07",
                  "Sunspots": 25
                },
                {
                  "index": 103,
                  "Month": "1757-08",
                  "Sunspots": 51.3
                },
                {
                  "index": 104,
                  "Month": "1757-09",
                  "Sunspots": 39.7
                },
                {
                  "index": 105,
                  "Month": "1757-10",
                  "Sunspots": 32.5
                },
                {
                  "index": 106,
                  "Month": "1757-11",
                  "Sunspots": 64.7
                },
                {
                  "index": 107,
                  "Month": "1757-12",
                  "Sunspots": 33.5
                },
                {
                  "index": 108,
                  "Month": "1758-01",
                  "Sunspots": 37.6
                },
                {
                  "index": 109,
                  "Month": "1758-02",
                  "Sunspots": 52
                },
                {
                  "index": 110,
                  "Month": "1758-03",
                  "Sunspots": 49
                },
                {
                  "index": 111,
                  "Month": "1758-04",
                  "Sunspots": 72.3
                },
                {
                  "index": 112,
                  "Month": "1758-05",
                  "Sunspots": 46.4
                },
                {
                  "index": 113,
                  "Month": "1758-06",
                  "Sunspots": 45
                },
                {
                  "index": 114,
                  "Month": "1758-07",
                  "Sunspots": 44
                },
                {
                  "index": 115,
                  "Month": "1758-08",
                  "Sunspots": 38.7
                },
                {
                  "index": 116,
                  "Month": "1758-09",
                  "Sunspots": 62.5
                },
                {
                  "index": 117,
                  "Month": "1758-10",
                  "Sunspots": 37.7
                },
                {
                  "index": 118,
                  "Month": "1758-11",
                  "Sunspots": 43
                },
                {
                  "index": 119,
                  "Month": "1758-12",
                  "Sunspots": 43
                },
                {
                  "index": 120,
                  "Month": "1759-01",
                  "Sunspots": 48.3
                },
                {
                  "index": 121,
                  "Month": "1759-02",
                  "Sunspots": 44
                },
                {
                  "index": 122,
                  "Month": "1759-03",
                  "Sunspots": 46.8
                },
                {
                  "index": 123,
                  "Month": "1759-04",
                  "Sunspots": 47
                },
                {
                  "index": 124,
                  "Month": "1759-05",
                  "Sunspots": 49
                },
                {
                  "index": 125,
                  "Month": "1759-06",
                  "Sunspots": 50
                },
                {
                  "index": 126,
                  "Month": "1759-07",
                  "Sunspots": 51
                },
                {
                  "index": 127,
                  "Month": "1759-08",
                  "Sunspots": 71.3
                },
                {
                  "index": 128,
                  "Month": "1759-09",
                  "Sunspots": 77.2
                },
                {
                  "index": 129,
                  "Month": "1759-10",
                  "Sunspots": 59.7
                },
                {
                  "index": 130,
                  "Month": "1759-11",
                  "Sunspots": 46.3
                },
                {
                  "index": 131,
                  "Month": "1759-12",
                  "Sunspots": 57
                },
                {
                  "index": 132,
                  "Month": "1760-01",
                  "Sunspots": 67.3
                },
                {
                  "index": 133,
                  "Month": "1760-02",
                  "Sunspots": 59.5
                },
                {
                  "index": 134,
                  "Month": "1760-03",
                  "Sunspots": 74.7
                },
                {
                  "index": 135,
                  "Month": "1760-04",
                  "Sunspots": 58.3
                },
                {
                  "index": 136,
                  "Month": "1760-05",
                  "Sunspots": 72
                },
                {
                  "index": 137,
                  "Month": "1760-06",
                  "Sunspots": 48.3
                },
                {
                  "index": 138,
                  "Month": "1760-07",
                  "Sunspots": 66
                },
                {
                  "index": 139,
                  "Month": "1760-08",
                  "Sunspots": 75.6
                },
                {
                  "index": 140,
                  "Month": "1760-09",
                  "Sunspots": 61.3
                },
                {
                  "index": 141,
                  "Month": "1760-10",
                  "Sunspots": 50.6
                },
                {
                  "index": 142,
                  "Month": "1760-11",
                  "Sunspots": 59.7
                },
                {
                  "index": 143,
                  "Month": "1760-12",
                  "Sunspots": 61
                },
                {
                  "index": 144,
                  "Month": "1761-01",
                  "Sunspots": 70
                },
                {
                  "index": 145,
                  "Month": "1761-02",
                  "Sunspots": 91
                },
                {
                  "index": 146,
                  "Month": "1761-03",
                  "Sunspots": 80.7
                },
                {
                  "index": 147,
                  "Month": "1761-04",
                  "Sunspots": 71.7
                },
                {
                  "index": 148,
                  "Month": "1761-05",
                  "Sunspots": 107.2
                },
                {
                  "index": 149,
                  "Month": "1761-06",
                  "Sunspots": 99.3
                },
                {
                  "index": 150,
                  "Month": "1761-07",
                  "Sunspots": 94.1
                },
                {
                  "index": 151,
                  "Month": "1761-08",
                  "Sunspots": 91.1
                },
                {
                  "index": 152,
                  "Month": "1761-09",
                  "Sunspots": 100.7
                },
                {
                  "index": 153,
                  "Month": "1761-10",
                  "Sunspots": 88.7
                },
                {
                  "index": 154,
                  "Month": "1761-11",
                  "Sunspots": 89.7
                },
                {
                  "index": 155,
                  "Month": "1761-12",
                  "Sunspots": 46
                },
                {
                  "index": 156,
                  "Month": "1762-01",
                  "Sunspots": 43.8
                },
                {
                  "index": 157,
                  "Month": "1762-02",
                  "Sunspots": 72.8
                },
                {
                  "index": 158,
                  "Month": "1762-03",
                  "Sunspots": 45.7
                },
                {
                  "index": 159,
                  "Month": "1762-04",
                  "Sunspots": 60.2
                },
                {
                  "index": 160,
                  "Month": "1762-05",
                  "Sunspots": 39.9
                },
                {
                  "index": 161,
                  "Month": "1762-06",
                  "Sunspots": 77.1
                },
                {
                  "index": 162,
                  "Month": "1762-07",
                  "Sunspots": 33.8
                },
                {
                  "index": 163,
                  "Month": "1762-08",
                  "Sunspots": 67.7
                },
                {
                  "index": 164,
                  "Month": "1762-09",
                  "Sunspots": 68.5
                },
                {
                  "index": 165,
                  "Month": "1762-10",
                  "Sunspots": 69.3
                },
                {
                  "index": 166,
                  "Month": "1762-11",
                  "Sunspots": 77.8
                },
                {
                  "index": 167,
                  "Month": "1762-12",
                  "Sunspots": 77.2
                },
                {
                  "index": 168,
                  "Month": "1763-01",
                  "Sunspots": 56.5
                },
                {
                  "index": 169,
                  "Month": "1763-02",
                  "Sunspots": 31.9
                },
                {
                  "index": 170,
                  "Month": "1763-03",
                  "Sunspots": 34.2
                },
                {
                  "index": 171,
                  "Month": "1763-04",
                  "Sunspots": 32.9
                },
                {
                  "index": 172,
                  "Month": "1763-05",
                  "Sunspots": 32.7
                },
                {
                  "index": 173,
                  "Month": "1763-06",
                  "Sunspots": 35.8
                },
                {
                  "index": 174,
                  "Month": "1763-07",
                  "Sunspots": 54.2
                },
                {
                  "index": 175,
                  "Month": "1763-08",
                  "Sunspots": 26.5
                },
                {
                  "index": 176,
                  "Month": "1763-09",
                  "Sunspots": 68.1
                },
                {
                  "index": 177,
                  "Month": "1763-10",
                  "Sunspots": 46.3
                },
                {
                  "index": 178,
                  "Month": "1763-11",
                  "Sunspots": 60.9
                },
                {
                  "index": 179,
                  "Month": "1763-12",
                  "Sunspots": 61.4
                },
                {
                  "index": 180,
                  "Month": "1764-01",
                  "Sunspots": 59.7
                },
                {
                  "index": 181,
                  "Month": "1764-02",
                  "Sunspots": 59.7
                },
                {
                  "index": 182,
                  "Month": "1764-03",
                  "Sunspots": 40.2
                },
                {
                  "index": 183,
                  "Month": "1764-04",
                  "Sunspots": 34.4
                },
                {
                  "index": 184,
                  "Month": "1764-05",
                  "Sunspots": 44.3
                },
                {
                  "index": 185,
                  "Month": "1764-06",
                  "Sunspots": 30
                },
                {
                  "index": 186,
                  "Month": "1764-07",
                  "Sunspots": 30
                },
                {
                  "index": 187,
                  "Month": "1764-08",
                  "Sunspots": 30
                },
                {
                  "index": 188,
                  "Month": "1764-09",
                  "Sunspots": 28.2
                },
                {
                  "index": 189,
                  "Month": "1764-10",
                  "Sunspots": 28
                },
                {
                  "index": 190,
                  "Month": "1764-11",
                  "Sunspots": 26
                },
                {
                  "index": 191,
                  "Month": "1764-12",
                  "Sunspots": 25.7
                },
                {
                  "index": 192,
                  "Month": "1765-01",
                  "Sunspots": 24
                },
                {
                  "index": 193,
                  "Month": "1765-02",
                  "Sunspots": 26
                },
                {
                  "index": 194,
                  "Month": "1765-03",
                  "Sunspots": 25
                },
                {
                  "index": 195,
                  "Month": "1765-04",
                  "Sunspots": 22
                },
                {
                  "index": 196,
                  "Month": "1765-05",
                  "Sunspots": 20.2
                },
                {
                  "index": 197,
                  "Month": "1765-06",
                  "Sunspots": 20
                },
                {
                  "index": 198,
                  "Month": "1765-07",
                  "Sunspots": 27
                },
                {
                  "index": 199,
                  "Month": "1765-08",
                  "Sunspots": 29.7
                },
                {
                  "index": 200,
                  "Month": "1765-09",
                  "Sunspots": 16
                },
                {
                  "index": 201,
                  "Month": "1765-10",
                  "Sunspots": 14
                },
                {
                  "index": 202,
                  "Month": "1765-11",
                  "Sunspots": 14
                },
                {
                  "index": 203,
                  "Month": "1765-12",
                  "Sunspots": 13
                },
                {
                  "index": 204,
                  "Month": "1766-01",
                  "Sunspots": 12
                },
                {
                  "index": 205,
                  "Month": "1766-02",
                  "Sunspots": 11
                },
                {
                  "index": 206,
                  "Month": "1766-03",
                  "Sunspots": 36.6
                },
                {
                  "index": 207,
                  "Month": "1766-04",
                  "Sunspots": 6
                },
                {
                  "index": 208,
                  "Month": "1766-05",
                  "Sunspots": 26.8
                },
                {
                  "index": 209,
                  "Month": "1766-06",
                  "Sunspots": 3
                },
                {
                  "index": 210,
                  "Month": "1766-07",
                  "Sunspots": 3.3
                },
                {
                  "index": 211,
                  "Month": "1766-08",
                  "Sunspots": 4
                },
                {
                  "index": 212,
                  "Month": "1766-09",
                  "Sunspots": 4.3
                },
                {
                  "index": 213,
                  "Month": "1766-10",
                  "Sunspots": 5
                },
                {
                  "index": 214,
                  "Month": "1766-11",
                  "Sunspots": 5.7
                },
                {
                  "index": 215,
                  "Month": "1766-12",
                  "Sunspots": 19.2
                },
                {
                  "index": 216,
                  "Month": "1767-01",
                  "Sunspots": 27.4
                },
                {
                  "index": 217,
                  "Month": "1767-02",
                  "Sunspots": 30
                },
                {
                  "index": 218,
                  "Month": "1767-03",
                  "Sunspots": 43
                },
                {
                  "index": 219,
                  "Month": "1767-04",
                  "Sunspots": 32.9
                },
                {
                  "index": 220,
                  "Month": "1767-05",
                  "Sunspots": 29.8
                },
                {
                  "index": 221,
                  "Month": "1767-06",
                  "Sunspots": 33.3
                },
                {
                  "index": 222,
                  "Month": "1767-07",
                  "Sunspots": 21.9
                },
                {
                  "index": 223,
                  "Month": "1767-08",
                  "Sunspots": 40.8
                },
                {
                  "index": 224,
                  "Month": "1767-09",
                  "Sunspots": 42.7
                },
                {
                  "index": 225,
                  "Month": "1767-10",
                  "Sunspots": 44.1
                },
                {
                  "index": 226,
                  "Month": "1767-11",
                  "Sunspots": 54.7
                },
                {
                  "index": 227,
                  "Month": "1767-12",
                  "Sunspots": 53.3
                },
                {
                  "index": 228,
                  "Month": "1768-01",
                  "Sunspots": 53.5
                },
                {
                  "index": 229,
                  "Month": "1768-02",
                  "Sunspots": 66.1
                },
                {
                  "index": 230,
                  "Month": "1768-03",
                  "Sunspots": 46.3
                },
                {
                  "index": 231,
                  "Month": "1768-04",
                  "Sunspots": 42.7
                },
                {
                  "index": 232,
                  "Month": "1768-05",
                  "Sunspots": 77.7
                },
                {
                  "index": 233,
                  "Month": "1768-06",
                  "Sunspots": 77.4
                },
                {
                  "index": 234,
                  "Month": "1768-07",
                  "Sunspots": 52.6
                },
                {
                  "index": 235,
                  "Month": "1768-08",
                  "Sunspots": 66.8
                },
                {
                  "index": 236,
                  "Month": "1768-09",
                  "Sunspots": 74.8
                },
                {
                  "index": 237,
                  "Month": "1768-10",
                  "Sunspots": 77.8
                },
                {
                  "index": 238,
                  "Month": "1768-11",
                  "Sunspots": 90.6
                },
                {
                  "index": 239,
                  "Month": "1768-12",
                  "Sunspots": 111.8
                },
                {
                  "index": 240,
                  "Month": "1769-01",
                  "Sunspots": 73.9
                },
                {
                  "index": 241,
                  "Month": "1769-02",
                  "Sunspots": 64.2
                },
                {
                  "index": 242,
                  "Month": "1769-03",
                  "Sunspots": 64.3
                },
                {
                  "index": 243,
                  "Month": "1769-04",
                  "Sunspots": 96.7
                },
                {
                  "index": 244,
                  "Month": "1769-05",
                  "Sunspots": 73.6
                },
                {
                  "index": 245,
                  "Month": "1769-06",
                  "Sunspots": 94.4
                },
                {
                  "index": 246,
                  "Month": "1769-07",
                  "Sunspots": 118.6
                },
                {
                  "index": 247,
                  "Month": "1769-08",
                  "Sunspots": 120.3
                },
                {
                  "index": 248,
                  "Month": "1769-09",
                  "Sunspots": 148.8
                },
                {
                  "index": 249,
                  "Month": "1769-10",
                  "Sunspots": 158.2
                },
                {
                  "index": 250,
                  "Month": "1769-11",
                  "Sunspots": 148.1
                },
                {
                  "index": 251,
                  "Month": "1769-12",
                  "Sunspots": 112
                },
                {
                  "index": 252,
                  "Month": "1770-01",
                  "Sunspots": 104
                },
                {
                  "index": 253,
                  "Month": "1770-02",
                  "Sunspots": 142.5
                },
                {
                  "index": 254,
                  "Month": "1770-03",
                  "Sunspots": 80.1
                },
                {
                  "index": 255,
                  "Month": "1770-04",
                  "Sunspots": 51
                },
                {
                  "index": 256,
                  "Month": "1770-05",
                  "Sunspots": 70.1
                },
                {
                  "index": 257,
                  "Month": "1770-06",
                  "Sunspots": 83.3
                },
                {
                  "index": 258,
                  "Month": "1770-07",
                  "Sunspots": 109.8
                },
                {
                  "index": 259,
                  "Month": "1770-08",
                  "Sunspots": 126.3
                },
                {
                  "index": 260,
                  "Month": "1770-09",
                  "Sunspots": 104.4
                },
                {
                  "index": 261,
                  "Month": "1770-10",
                  "Sunspots": 103.6
                },
                {
                  "index": 262,
                  "Month": "1770-11",
                  "Sunspots": 132.2
                },
                {
                  "index": 263,
                  "Month": "1770-12",
                  "Sunspots": 102.3
                },
                {
                  "index": 264,
                  "Month": "1771-01",
                  "Sunspots": 36
                },
                {
                  "index": 265,
                  "Month": "1771-02",
                  "Sunspots": 46.2
                },
                {
                  "index": 266,
                  "Month": "1771-03",
                  "Sunspots": 46.7
                },
                {
                  "index": 267,
                  "Month": "1771-04",
                  "Sunspots": 64.9
                },
                {
                  "index": 268,
                  "Month": "1771-05",
                  "Sunspots": 152.7
                },
                {
                  "index": 269,
                  "Month": "1771-06",
                  "Sunspots": 119.5
                },
                {
                  "index": 270,
                  "Month": "1771-07",
                  "Sunspots": 67.7
                },
                {
                  "index": 271,
                  "Month": "1771-08",
                  "Sunspots": 58.5
                },
                {
                  "index": 272,
                  "Month": "1771-09",
                  "Sunspots": 101.4
                },
                {
                  "index": 273,
                  "Month": "1771-10",
                  "Sunspots": 90
                },
                {
                  "index": 274,
                  "Month": "1771-11",
                  "Sunspots": 99.7
                },
                {
                  "index": 275,
                  "Month": "1771-12",
                  "Sunspots": 95.7
                },
                {
                  "index": 276,
                  "Month": "1772-01",
                  "Sunspots": 100.9
                },
                {
                  "index": 277,
                  "Month": "1772-02",
                  "Sunspots": 90.8
                },
                {
                  "index": 278,
                  "Month": "1772-03",
                  "Sunspots": 31.1
                },
                {
                  "index": 279,
                  "Month": "1772-04",
                  "Sunspots": 92.2
                },
                {
                  "index": 280,
                  "Month": "1772-05",
                  "Sunspots": 38
                },
                {
                  "index": 281,
                  "Month": "1772-06",
                  "Sunspots": 57
                },
                {
                  "index": 282,
                  "Month": "1772-07",
                  "Sunspots": 77.3
                },
                {
                  "index": 283,
                  "Month": "1772-08",
                  "Sunspots": 56.2
                },
                {
                  "index": 284,
                  "Month": "1772-09",
                  "Sunspots": 50.5
                },
                {
                  "index": 285,
                  "Month": "1772-10",
                  "Sunspots": 78.6
                },
                {
                  "index": 286,
                  "Month": "1772-11",
                  "Sunspots": 61.3
                },
                {
                  "index": 287,
                  "Month": "1772-12",
                  "Sunspots": 64
                },
                {
                  "index": 288,
                  "Month": "1773-01",
                  "Sunspots": 54.6
                },
                {
                  "index": 289,
                  "Month": "1773-02",
                  "Sunspots": 29
                },
                {
                  "index": 290,
                  "Month": "1773-03",
                  "Sunspots": 51.2
                },
                {
                  "index": 291,
                  "Month": "1773-04",
                  "Sunspots": 32.9
                },
                {
                  "index": 292,
                  "Month": "1773-05",
                  "Sunspots": 41.1
                },
                {
                  "index": 293,
                  "Month": "1773-06",
                  "Sunspots": 28.4
                },
                {
                  "index": 294,
                  "Month": "1773-07",
                  "Sunspots": 27.7
                },
                {
                  "index": 295,
                  "Month": "1773-08",
                  "Sunspots": 12.7
                },
                {
                  "index": 296,
                  "Month": "1773-09",
                  "Sunspots": 29.3
                },
                {
                  "index": 297,
                  "Month": "1773-10",
                  "Sunspots": 26.3
                },
                {
                  "index": 298,
                  "Month": "1773-11",
                  "Sunspots": 40.9
                },
                {
                  "index": 299,
                  "Month": "1773-12",
                  "Sunspots": 43.2
                },
                {
                  "index": 300,
                  "Month": "1774-01",
                  "Sunspots": 46.8
                },
                {
                  "index": 301,
                  "Month": "1774-02",
                  "Sunspots": 65.4
                },
                {
                  "index": 302,
                  "Month": "1774-03",
                  "Sunspots": 55.7
                },
                {
                  "index": 303,
                  "Month": "1774-04",
                  "Sunspots": 43.8
                },
                {
                  "index": 304,
                  "Month": "1774-05",
                  "Sunspots": 51.3
                },
                {
                  "index": 305,
                  "Month": "1774-06",
                  "Sunspots": 28.5
                },
                {
                  "index": 306,
                  "Month": "1774-07",
                  "Sunspots": 17.5
                },
                {
                  "index": 307,
                  "Month": "1774-08",
                  "Sunspots": 6.6
                },
                {
                  "index": 308,
                  "Month": "1774-09",
                  "Sunspots": 7.9
                },
                {
                  "index": 309,
                  "Month": "1774-10",
                  "Sunspots": 14
                },
                {
                  "index": 310,
                  "Month": "1774-11",
                  "Sunspots": 17.7
                },
                {
                  "index": 311,
                  "Month": "1774-12",
                  "Sunspots": 12.2
                },
                {
                  "index": 312,
                  "Month": "1775-01",
                  "Sunspots": 4.4
                },
                {
                  "index": 313,
                  "Month": "1775-02",
                  "Sunspots": 0
                },
                {
                  "index": 314,
                  "Month": "1775-03",
                  "Sunspots": 11.6
                },
                {
                  "index": 315,
                  "Month": "1775-04",
                  "Sunspots": 11.2
                },
                {
                  "index": 316,
                  "Month": "1775-05",
                  "Sunspots": 3.9
                },
                {
                  "index": 317,
                  "Month": "1775-06",
                  "Sunspots": 12.3
                },
                {
                  "index": 318,
                  "Month": "1775-07",
                  "Sunspots": 1
                },
                {
                  "index": 319,
                  "Month": "1775-08",
                  "Sunspots": 7.9
                },
                {
                  "index": 320,
                  "Month": "1775-09",
                  "Sunspots": 3.2
                },
                {
                  "index": 321,
                  "Month": "1775-10",
                  "Sunspots": 5.6
                },
                {
                  "index": 322,
                  "Month": "1775-11",
                  "Sunspots": 15.1
                },
                {
                  "index": 323,
                  "Month": "1775-12",
                  "Sunspots": 7.9
                },
                {
                  "index": 324,
                  "Month": "1776-01",
                  "Sunspots": 21.7
                },
                {
                  "index": 325,
                  "Month": "1776-02",
                  "Sunspots": 11.6
                },
                {
                  "index": 326,
                  "Month": "1776-03",
                  "Sunspots": 6.3
                },
                {
                  "index": 327,
                  "Month": "1776-04",
                  "Sunspots": 21.8
                },
                {
                  "index": 328,
                  "Month": "1776-05",
                  "Sunspots": 11.2
                },
                {
                  "index": 329,
                  "Month": "1776-06",
                  "Sunspots": 19
                },
                {
                  "index": 330,
                  "Month": "1776-07",
                  "Sunspots": 1
                },
                {
                  "index": 331,
                  "Month": "1776-08",
                  "Sunspots": 24.2
                },
                {
                  "index": 332,
                  "Month": "1776-09",
                  "Sunspots": 16
                },
                {
                  "index": 333,
                  "Month": "1776-10",
                  "Sunspots": 30
                },
                {
                  "index": 334,
                  "Month": "1776-11",
                  "Sunspots": 35
                },
                {
                  "index": 335,
                  "Month": "1776-12",
                  "Sunspots": 40
                },
                {
                  "index": 336,
                  "Month": "1777-01",
                  "Sunspots": 45
                },
                {
                  "index": 337,
                  "Month": "1777-02",
                  "Sunspots": 36.5
                },
                {
                  "index": 338,
                  "Month": "1777-03",
                  "Sunspots": 39
                },
                {
                  "index": 339,
                  "Month": "1777-04",
                  "Sunspots": 95.5
                },
                {
                  "index": 340,
                  "Month": "1777-05",
                  "Sunspots": 80.3
                },
                {
                  "index": 341,
                  "Month": "1777-06",
                  "Sunspots": 80.7
                },
                {
                  "index": 342,
                  "Month": "1777-07",
                  "Sunspots": 95
                },
                {
                  "index": 343,
                  "Month": "1777-08",
                  "Sunspots": 112
                },
                {
                  "index": 344,
                  "Month": "1777-09",
                  "Sunspots": 116.2
                },
                {
                  "index": 345,
                  "Month": "1777-10",
                  "Sunspots": 106.5
                },
                {
                  "index": 346,
                  "Month": "1777-11",
                  "Sunspots": 146
                },
                {
                  "index": 347,
                  "Month": "1777-12",
                  "Sunspots": 157.3
                },
                {
                  "index": 348,
                  "Month": "1778-01",
                  "Sunspots": 177.3
                },
                {
                  "index": 349,
                  "Month": "1778-02",
                  "Sunspots": 109.3
                },
                {
                  "index": 350,
                  "Month": "1778-03",
                  "Sunspots": 134
                },
                {
                  "index": 351,
                  "Month": "1778-04",
                  "Sunspots": 145
                },
                {
                  "index": 352,
                  "Month": "1778-05",
                  "Sunspots": 238.9
                },
                {
                  "index": 353,
                  "Month": "1778-06",
                  "Sunspots": 171.6
                },
                {
                  "index": 354,
                  "Month": "1778-07",
                  "Sunspots": 153
                },
                {
                  "index": 355,
                  "Month": "1778-08",
                  "Sunspots": 140
                },
                {
                  "index": 356,
                  "Month": "1778-09",
                  "Sunspots": 171.7
                },
                {
                  "index": 357,
                  "Month": "1778-10",
                  "Sunspots": 156.3
                },
                {
                  "index": 358,
                  "Month": "1778-11",
                  "Sunspots": 150.3
                },
                {
                  "index": 359,
                  "Month": "1778-12",
                  "Sunspots": 105
                },
                {
                  "index": 360,
                  "Month": "1779-01",
                  "Sunspots": 114.7
                },
                {
                  "index": 361,
                  "Month": "1779-02",
                  "Sunspots": 165.7
                },
                {
                  "index": 362,
                  "Month": "1779-03",
                  "Sunspots": 118
                },
                {
                  "index": 363,
                  "Month": "1779-04",
                  "Sunspots": 145
                },
                {
                  "index": 364,
                  "Month": "1779-05",
                  "Sunspots": 140
                },
                {
                  "index": 365,
                  "Month": "1779-06",
                  "Sunspots": 113.7
                },
                {
                  "index": 366,
                  "Month": "1779-07",
                  "Sunspots": 143
                },
                {
                  "index": 367,
                  "Month": "1779-08",
                  "Sunspots": 112
                },
                {
                  "index": 368,
                  "Month": "1779-09",
                  "Sunspots": 111
                },
                {
                  "index": 369,
                  "Month": "1779-10",
                  "Sunspots": 124
                },
                {
                  "index": 370,
                  "Month": "1779-11",
                  "Sunspots": 114
                },
                {
                  "index": 371,
                  "Month": "1779-12",
                  "Sunspots": 110
                },
                {
                  "index": 372,
                  "Month": "1780-01",
                  "Sunspots": 70
                },
                {
                  "index": 373,
                  "Month": "1780-02",
                  "Sunspots": 98
                },
                {
                  "index": 374,
                  "Month": "1780-03",
                  "Sunspots": 98
                },
                {
                  "index": 375,
                  "Month": "1780-04",
                  "Sunspots": 95
                },
                {
                  "index": 376,
                  "Month": "1780-05",
                  "Sunspots": 107.2
                },
                {
                  "index": 377,
                  "Month": "1780-06",
                  "Sunspots": 88
                },
                {
                  "index": 378,
                  "Month": "1780-07",
                  "Sunspots": 86
                },
                {
                  "index": 379,
                  "Month": "1780-08",
                  "Sunspots": 86
                },
                {
                  "index": 380,
                  "Month": "1780-09",
                  "Sunspots": 93.7
                },
                {
                  "index": 381,
                  "Month": "1780-10",
                  "Sunspots": 77
                },
                {
                  "index": 382,
                  "Month": "1780-11",
                  "Sunspots": 60
                },
                {
                  "index": 383,
                  "Month": "1780-12",
                  "Sunspots": 58.7
                },
                {
                  "index": 384,
                  "Month": "1781-01",
                  "Sunspots": 98.7
                },
                {
                  "index": 385,
                  "Month": "1781-02",
                  "Sunspots": 74.7
                },
                {
                  "index": 386,
                  "Month": "1781-03",
                  "Sunspots": 53
                },
                {
                  "index": 387,
                  "Month": "1781-04",
                  "Sunspots": 68.3
                },
                {
                  "index": 388,
                  "Month": "1781-05",
                  "Sunspots": 104.7
                },
                {
                  "index": 389,
                  "Month": "1781-06",
                  "Sunspots": 97.7
                },
                {
                  "index": 390,
                  "Month": "1781-07",
                  "Sunspots": 73.5
                },
                {
                  "index": 391,
                  "Month": "1781-08",
                  "Sunspots": 66
                },
                {
                  "index": 392,
                  "Month": "1781-09",
                  "Sunspots": 51
                },
                {
                  "index": 393,
                  "Month": "1781-10",
                  "Sunspots": 27.3
                },
                {
                  "index": 394,
                  "Month": "1781-11",
                  "Sunspots": 67
                },
                {
                  "index": 395,
                  "Month": "1781-12",
                  "Sunspots": 35.2
                },
                {
                  "index": 396,
                  "Month": "1782-01",
                  "Sunspots": 54
                },
                {
                  "index": 397,
                  "Month": "1782-02",
                  "Sunspots": 37.5
                },
                {
                  "index": 398,
                  "Month": "1782-03",
                  "Sunspots": 37
                },
                {
                  "index": 399,
                  "Month": "1782-04",
                  "Sunspots": 41
                },
                {
                  "index": 400,
                  "Month": "1782-05",
                  "Sunspots": 54.3
                },
                {
                  "index": 401,
                  "Month": "1782-06",
                  "Sunspots": 38
                },
                {
                  "index": 402,
                  "Month": "1782-07",
                  "Sunspots": 37
                },
                {
                  "index": 403,
                  "Month": "1782-08",
                  "Sunspots": 44
                },
                {
                  "index": 404,
                  "Month": "1782-09",
                  "Sunspots": 34
                },
                {
                  "index": 405,
                  "Month": "1782-10",
                  "Sunspots": 23.2
                },
                {
                  "index": 406,
                  "Month": "1782-11",
                  "Sunspots": 31.5
                },
                {
                  "index": 407,
                  "Month": "1782-12",
                  "Sunspots": 30
                },
                {
                  "index": 408,
                  "Month": "1783-01",
                  "Sunspots": 28
                },
                {
                  "index": 409,
                  "Month": "1783-02",
                  "Sunspots": 38.7
                },
                {
                  "index": 410,
                  "Month": "1783-03",
                  "Sunspots": 26.7
                },
                {
                  "index": 411,
                  "Month": "1783-04",
                  "Sunspots": 28.3
                },
                {
                  "index": 412,
                  "Month": "1783-05",
                  "Sunspots": 23
                },
                {
                  "index": 413,
                  "Month": "1783-06",
                  "Sunspots": 25.2
                },
                {
                  "index": 414,
                  "Month": "1783-07",
                  "Sunspots": 32.2
                },
                {
                  "index": 415,
                  "Month": "1783-08",
                  "Sunspots": 20
                },
                {
                  "index": 416,
                  "Month": "1783-09",
                  "Sunspots": 18
                },
                {
                  "index": 417,
                  "Month": "1783-10",
                  "Sunspots": 8
                },
                {
                  "index": 418,
                  "Month": "1783-11",
                  "Sunspots": 15
                },
                {
                  "index": 419,
                  "Month": "1783-12",
                  "Sunspots": 10.5
                },
                {
                  "index": 420,
                  "Month": "1784-01",
                  "Sunspots": 13
                },
                {
                  "index": 421,
                  "Month": "1784-02",
                  "Sunspots": 8
                },
                {
                  "index": 422,
                  "Month": "1784-03",
                  "Sunspots": 11
                },
                {
                  "index": 423,
                  "Month": "1784-04",
                  "Sunspots": 10
                },
                {
                  "index": 424,
                  "Month": "1784-05",
                  "Sunspots": 6
                },
                {
                  "index": 425,
                  "Month": "1784-06",
                  "Sunspots": 9
                },
                {
                  "index": 426,
                  "Month": "1784-07",
                  "Sunspots": 6
                },
                {
                  "index": 427,
                  "Month": "1784-08",
                  "Sunspots": 10
                },
                {
                  "index": 428,
                  "Month": "1784-09",
                  "Sunspots": 10
                },
                {
                  "index": 429,
                  "Month": "1784-10",
                  "Sunspots": 8
                },
                {
                  "index": 430,
                  "Month": "1784-11",
                  "Sunspots": 17
                },
                {
                  "index": 431,
                  "Month": "1784-12",
                  "Sunspots": 14
                },
                {
                  "index": 432,
                  "Month": "1785-01",
                  "Sunspots": 6.5
                },
                {
                  "index": 433,
                  "Month": "1785-02",
                  "Sunspots": 8
                },
                {
                  "index": 434,
                  "Month": "1785-03",
                  "Sunspots": 9
                },
                {
                  "index": 435,
                  "Month": "1785-04",
                  "Sunspots": 15.7
                },
                {
                  "index": 436,
                  "Month": "1785-05",
                  "Sunspots": 20.7
                },
                {
                  "index": 437,
                  "Month": "1785-06",
                  "Sunspots": 26.3
                },
                {
                  "index": 438,
                  "Month": "1785-07",
                  "Sunspots": 36.3
                },
                {
                  "index": 439,
                  "Month": "1785-08",
                  "Sunspots": 20
                },
                {
                  "index": 440,
                  "Month": "1785-09",
                  "Sunspots": 32
                },
                {
                  "index": 441,
                  "Month": "1785-10",
                  "Sunspots": 47.2
                },
                {
                  "index": 442,
                  "Month": "1785-11",
                  "Sunspots": 40.2
                },
                {
                  "index": 443,
                  "Month": "1785-12",
                  "Sunspots": 27.3
                },
                {
                  "index": 444,
                  "Month": "1786-01",
                  "Sunspots": 37.2
                },
                {
                  "index": 445,
                  "Month": "1786-02",
                  "Sunspots": 47.6
                },
                {
                  "index": 446,
                  "Month": "1786-03",
                  "Sunspots": 47.7
                },
                {
                  "index": 447,
                  "Month": "1786-04",
                  "Sunspots": 85.4
                },
                {
                  "index": 448,
                  "Month": "1786-05",
                  "Sunspots": 92.3
                },
                {
                  "index": 449,
                  "Month": "1786-06",
                  "Sunspots": 59
                },
                {
                  "index": 450,
                  "Month": "1786-07",
                  "Sunspots": 83
                },
                {
                  "index": 451,
                  "Month": "1786-08",
                  "Sunspots": 89.7
                },
                {
                  "index": 452,
                  "Month": "1786-09",
                  "Sunspots": 111.5
                },
                {
                  "index": 453,
                  "Month": "1786-10",
                  "Sunspots": 112.3
                },
                {
                  "index": 454,
                  "Month": "1786-11",
                  "Sunspots": 116
                },
                {
                  "index": 455,
                  "Month": "1786-12",
                  "Sunspots": 112.7
                },
                {
                  "index": 456,
                  "Month": "1787-01",
                  "Sunspots": 134.7
                },
                {
                  "index": 457,
                  "Month": "1787-02",
                  "Sunspots": 106
                },
                {
                  "index": 458,
                  "Month": "1787-03",
                  "Sunspots": 87.4
                },
                {
                  "index": 459,
                  "Month": "1787-04",
                  "Sunspots": 127.2
                },
                {
                  "index": 460,
                  "Month": "1787-05",
                  "Sunspots": 134.8
                },
                {
                  "index": 461,
                  "Month": "1787-06",
                  "Sunspots": 99.2
                },
                {
                  "index": 462,
                  "Month": "1787-07",
                  "Sunspots": 128
                },
                {
                  "index": 463,
                  "Month": "1787-08",
                  "Sunspots": 137.2
                },
                {
                  "index": 464,
                  "Month": "1787-09",
                  "Sunspots": 157.3
                },
                {
                  "index": 465,
                  "Month": "1787-10",
                  "Sunspots": 157
                },
                {
                  "index": 466,
                  "Month": "1787-11",
                  "Sunspots": 141.5
                },
                {
                  "index": 467,
                  "Month": "1787-12",
                  "Sunspots": 174
                },
                {
                  "index": 468,
                  "Month": "1788-01",
                  "Sunspots": 138
                },
                {
                  "index": 469,
                  "Month": "1788-02",
                  "Sunspots": 129.2
                },
                {
                  "index": 470,
                  "Month": "1788-03",
                  "Sunspots": 143.3
                },
                {
                  "index": 471,
                  "Month": "1788-04",
                  "Sunspots": 108.5
                },
                {
                  "index": 472,
                  "Month": "1788-05",
                  "Sunspots": 113
                },
                {
                  "index": 473,
                  "Month": "1788-06",
                  "Sunspots": 154.2
                },
                {
                  "index": 474,
                  "Month": "1788-07",
                  "Sunspots": 141.5
                },
                {
                  "index": 475,
                  "Month": "1788-08",
                  "Sunspots": 136
                },
                {
                  "index": 476,
                  "Month": "1788-09",
                  "Sunspots": 141
                },
                {
                  "index": 477,
                  "Month": "1788-10",
                  "Sunspots": 142
                },
                {
                  "index": 478,
                  "Month": "1788-11",
                  "Sunspots": 94.7
                },
                {
                  "index": 479,
                  "Month": "1788-12",
                  "Sunspots": 129.5
                },
                {
                  "index": 480,
                  "Month": "1789-01",
                  "Sunspots": 114
                },
                {
                  "index": 481,
                  "Month": "1789-02",
                  "Sunspots": 125.3
                },
                {
                  "index": 482,
                  "Month": "1789-03",
                  "Sunspots": 120
                },
                {
                  "index": 483,
                  "Month": "1789-04",
                  "Sunspots": 123.3
                },
                {
                  "index": 484,
                  "Month": "1789-05",
                  "Sunspots": 123.5
                },
                {
                  "index": 485,
                  "Month": "1789-06",
                  "Sunspots": 120
                },
                {
                  "index": 486,
                  "Month": "1789-07",
                  "Sunspots": 117
                },
                {
                  "index": 487,
                  "Month": "1789-08",
                  "Sunspots": 103
                },
                {
                  "index": 488,
                  "Month": "1789-09",
                  "Sunspots": 112
                },
                {
                  "index": 489,
                  "Month": "1789-10",
                  "Sunspots": 89.7
                },
                {
                  "index": 490,
                  "Month": "1789-11",
                  "Sunspots": 134
                },
                {
                  "index": 491,
                  "Month": "1789-12",
                  "Sunspots": 135.5
                },
                {
                  "index": 492,
                  "Month": "1790-01",
                  "Sunspots": 103
                },
                {
                  "index": 493,
                  "Month": "1790-02",
                  "Sunspots": 127.5
                },
                {
                  "index": 494,
                  "Month": "1790-03",
                  "Sunspots": 96.3
                },
                {
                  "index": 495,
                  "Month": "1790-04",
                  "Sunspots": 94
                },
                {
                  "index": 496,
                  "Month": "1790-05",
                  "Sunspots": 93
                },
                {
                  "index": 497,
                  "Month": "1790-06",
                  "Sunspots": 91
                },
                {
                  "index": 498,
                  "Month": "1790-07",
                  "Sunspots": 69.3
                },
                {
                  "index": 499,
                  "Month": "1790-08",
                  "Sunspots": 87
                },
                {
                  "index": 500,
                  "Month": "1790-09",
                  "Sunspots": 77.3
                },
                {
                  "index": 501,
                  "Month": "1790-10",
                  "Sunspots": 84.3
                },
                {
                  "index": 502,
                  "Month": "1790-11",
                  "Sunspots": 82
                },
                {
                  "index": 503,
                  "Month": "1790-12",
                  "Sunspots": 74
                },
                {
                  "index": 504,
                  "Month": "1791-01",
                  "Sunspots": 72.7
                },
                {
                  "index": 505,
                  "Month": "1791-02",
                  "Sunspots": 62
                },
                {
                  "index": 506,
                  "Month": "1791-03",
                  "Sunspots": 74
                },
                {
                  "index": 507,
                  "Month": "1791-04",
                  "Sunspots": 77.2
                },
                {
                  "index": 508,
                  "Month": "1791-05",
                  "Sunspots": 73.7
                },
                {
                  "index": 509,
                  "Month": "1791-06",
                  "Sunspots": 64.2
                },
                {
                  "index": 510,
                  "Month": "1791-07",
                  "Sunspots": 71
                },
                {
                  "index": 511,
                  "Month": "1791-08",
                  "Sunspots": 43
                },
                {
                  "index": 512,
                  "Month": "1791-09",
                  "Sunspots": 66.5
                },
                {
                  "index": 513,
                  "Month": "1791-10",
                  "Sunspots": 61.7
                },
                {
                  "index": 514,
                  "Month": "1791-11",
                  "Sunspots": 67
                },
                {
                  "index": 515,
                  "Month": "1791-12",
                  "Sunspots": 66
                },
                {
                  "index": 516,
                  "Month": "1792-01",
                  "Sunspots": 58
                },
                {
                  "index": 517,
                  "Month": "1792-02",
                  "Sunspots": 64
                },
                {
                  "index": 518,
                  "Month": "1792-03",
                  "Sunspots": 63
                },
                {
                  "index": 519,
                  "Month": "1792-04",
                  "Sunspots": 75.7
                },
                {
                  "index": 520,
                  "Month": "1792-05",
                  "Sunspots": 62
                },
                {
                  "index": 521,
                  "Month": "1792-06",
                  "Sunspots": 61
                },
                {
                  "index": 522,
                  "Month": "1792-07",
                  "Sunspots": 45.8
                },
                {
                  "index": 523,
                  "Month": "1792-08",
                  "Sunspots": 60
                },
                {
                  "index": 524,
                  "Month": "1792-09",
                  "Sunspots": 59
                },
                {
                  "index": 525,
                  "Month": "1792-10",
                  "Sunspots": 59
                },
                {
                  "index": 526,
                  "Month": "1792-11",
                  "Sunspots": 57
                },
                {
                  "index": 527,
                  "Month": "1792-12",
                  "Sunspots": 56
                },
                {
                  "index": 528,
                  "Month": "1793-01",
                  "Sunspots": 56
                },
                {
                  "index": 529,
                  "Month": "1793-02",
                  "Sunspots": 55
                },
                {
                  "index": 530,
                  "Month": "1793-03",
                  "Sunspots": 55.5
                },
                {
                  "index": 531,
                  "Month": "1793-04",
                  "Sunspots": 53
                },
                {
                  "index": 532,
                  "Month": "1793-05",
                  "Sunspots": 52.3
                },
                {
                  "index": 533,
                  "Month": "1793-06",
                  "Sunspots": 51
                },
                {
                  "index": 534,
                  "Month": "1793-07",
                  "Sunspots": 50
                },
                {
                  "index": 535,
                  "Month": "1793-08",
                  "Sunspots": 29.3
                },
                {
                  "index": 536,
                  "Month": "1793-09",
                  "Sunspots": 24
                },
                {
                  "index": 537,
                  "Month": "1793-10",
                  "Sunspots": 47
                },
                {
                  "index": 538,
                  "Month": "1793-11",
                  "Sunspots": 44
                },
                {
                  "index": 539,
                  "Month": "1793-12",
                  "Sunspots": 45.7
                },
                {
                  "index": 540,
                  "Month": "1794-01",
                  "Sunspots": 45
                },
                {
                  "index": 541,
                  "Month": "1794-02",
                  "Sunspots": 44
                },
                {
                  "index": 542,
                  "Month": "1794-03",
                  "Sunspots": 38
                },
                {
                  "index": 543,
                  "Month": "1794-04",
                  "Sunspots": 28.4
                },
                {
                  "index": 544,
                  "Month": "1794-05",
                  "Sunspots": 55.7
                },
                {
                  "index": 545,
                  "Month": "1794-06",
                  "Sunspots": 41.5
                },
                {
                  "index": 546,
                  "Month": "1794-07",
                  "Sunspots": 41
                },
                {
                  "index": 547,
                  "Month": "1794-08",
                  "Sunspots": 40
                },
                {
                  "index": 548,
                  "Month": "1794-09",
                  "Sunspots": 11.1
                },
                {
                  "index": 549,
                  "Month": "1794-10",
                  "Sunspots": 28.5
                },
                {
                  "index": 550,
                  "Month": "1794-11",
                  "Sunspots": 67.4
                },
                {
                  "index": 551,
                  "Month": "1794-12",
                  "Sunspots": 51.4
                },
                {
                  "index": 552,
                  "Month": "1795-01",
                  "Sunspots": 21.4
                },
                {
                  "index": 553,
                  "Month": "1795-02",
                  "Sunspots": 39.9
                },
                {
                  "index": 554,
                  "Month": "1795-03",
                  "Sunspots": 12.6
                },
                {
                  "index": 555,
                  "Month": "1795-04",
                  "Sunspots": 18.6
                },
                {
                  "index": 556,
                  "Month": "1795-05",
                  "Sunspots": 31
                },
                {
                  "index": 557,
                  "Month": "1795-06",
                  "Sunspots": 17.1
                },
                {
                  "index": 558,
                  "Month": "1795-07",
                  "Sunspots": 12.9
                },
                {
                  "index": 559,
                  "Month": "1795-08",
                  "Sunspots": 25.7
                },
                {
                  "index": 560,
                  "Month": "1795-09",
                  "Sunspots": 13.5
                },
                {
                  "index": 561,
                  "Month": "1795-10",
                  "Sunspots": 19.5
                },
                {
                  "index": 562,
                  "Month": "1795-11",
                  "Sunspots": 25
                },
                {
                  "index": 563,
                  "Month": "1795-12",
                  "Sunspots": 18
                },
                {
                  "index": 564,
                  "Month": "1796-01",
                  "Sunspots": 22
                },
                {
                  "index": 565,
                  "Month": "1796-02",
                  "Sunspots": 23.8
                },
                {
                  "index": 566,
                  "Month": "1796-03",
                  "Sunspots": 15.7
                },
                {
                  "index": 567,
                  "Month": "1796-04",
                  "Sunspots": 31.7
                },
                {
                  "index": 568,
                  "Month": "1796-05",
                  "Sunspots": 21
                },
                {
                  "index": 569,
                  "Month": "1796-06",
                  "Sunspots": 6.7
                },
                {
                  "index": 570,
                  "Month": "1796-07",
                  "Sunspots": 26.9
                },
                {
                  "index": 571,
                  "Month": "1796-08",
                  "Sunspots": 1.5
                },
                {
                  "index": 572,
                  "Month": "1796-09",
                  "Sunspots": 18.4
                },
                {
                  "index": 573,
                  "Month": "1796-10",
                  "Sunspots": 11
                },
                {
                  "index": 574,
                  "Month": "1796-11",
                  "Sunspots": 8.4
                },
                {
                  "index": 575,
                  "Month": "1796-12",
                  "Sunspots": 5.1
                },
                {
                  "index": 576,
                  "Month": "1797-01",
                  "Sunspots": 14.4
                },
                {
                  "index": 577,
                  "Month": "1797-02",
                  "Sunspots": 4.2
                },
                {
                  "index": 578,
                  "Month": "1797-03",
                  "Sunspots": 4
                },
                {
                  "index": 579,
                  "Month": "1797-04",
                  "Sunspots": 4
                },
                {
                  "index": 580,
                  "Month": "1797-05",
                  "Sunspots": 7.3
                },
                {
                  "index": 581,
                  "Month": "1797-06",
                  "Sunspots": 11.1
                },
                {
                  "index": 582,
                  "Month": "1797-07",
                  "Sunspots": 4.3
                },
                {
                  "index": 583,
                  "Month": "1797-08",
                  "Sunspots": 6
                },
                {
                  "index": 584,
                  "Month": "1797-09",
                  "Sunspots": 5.7
                },
                {
                  "index": 585,
                  "Month": "1797-10",
                  "Sunspots": 6.9
                },
                {
                  "index": 586,
                  "Month": "1797-11",
                  "Sunspots": 5.8
                },
                {
                  "index": 587,
                  "Month": "1797-12",
                  "Sunspots": 3
                },
                {
                  "index": 588,
                  "Month": "1798-01",
                  "Sunspots": 2
                },
                {
                  "index": 589,
                  "Month": "1798-02",
                  "Sunspots": 4
                },
                {
                  "index": 590,
                  "Month": "1798-03",
                  "Sunspots": 12.4
                },
                {
                  "index": 591,
                  "Month": "1798-04",
                  "Sunspots": 1.1
                },
                {
                  "index": 592,
                  "Month": "1798-05",
                  "Sunspots": 0
                },
                {
                  "index": 593,
                  "Month": "1798-06",
                  "Sunspots": 0
                },
                {
                  "index": 594,
                  "Month": "1798-07",
                  "Sunspots": 0
                },
                {
                  "index": 595,
                  "Month": "1798-08",
                  "Sunspots": 3
                },
                {
                  "index": 596,
                  "Month": "1798-09",
                  "Sunspots": 2.4
                },
                {
                  "index": 597,
                  "Month": "1798-10",
                  "Sunspots": 1.5
                },
                {
                  "index": 598,
                  "Month": "1798-11",
                  "Sunspots": 12.5
                },
                {
                  "index": 599,
                  "Month": "1798-12",
                  "Sunspots": 9.9
                },
                {
                  "index": 600,
                  "Month": "1799-01",
                  "Sunspots": 1.6
                },
                {
                  "index": 601,
                  "Month": "1799-02",
                  "Sunspots": 12.6
                },
                {
                  "index": 602,
                  "Month": "1799-03",
                  "Sunspots": 21.7
                },
                {
                  "index": 603,
                  "Month": "1799-04",
                  "Sunspots": 8.4
                },
                {
                  "index": 604,
                  "Month": "1799-05",
                  "Sunspots": 8.2
                },
                {
                  "index": 605,
                  "Month": "1799-06",
                  "Sunspots": 10.6
                },
                {
                  "index": 606,
                  "Month": "1799-07",
                  "Sunspots": 2.1
                },
                {
                  "index": 607,
                  "Month": "1799-08",
                  "Sunspots": 0
                },
                {
                  "index": 608,
                  "Month": "1799-09",
                  "Sunspots": 0
                },
                {
                  "index": 609,
                  "Month": "1799-10",
                  "Sunspots": 4.6
                },
                {
                  "index": 610,
                  "Month": "1799-11",
                  "Sunspots": 2.7
                },
                {
                  "index": 611,
                  "Month": "1799-12",
                  "Sunspots": 8.6
                },
                {
                  "index": 612,
                  "Month": "1800-01",
                  "Sunspots": 6.9
                },
                {
                  "index": 613,
                  "Month": "1800-02",
                  "Sunspots": 9.3
                },
                {
                  "index": 614,
                  "Month": "1800-03",
                  "Sunspots": 13.9
                },
                {
                  "index": 615,
                  "Month": "1800-04",
                  "Sunspots": 0
                },
                {
                  "index": 616,
                  "Month": "1800-05",
                  "Sunspots": 5
                },
                {
                  "index": 617,
                  "Month": "1800-06",
                  "Sunspots": 23.7
                },
                {
                  "index": 618,
                  "Month": "1800-07",
                  "Sunspots": 21
                },
                {
                  "index": 619,
                  "Month": "1800-08",
                  "Sunspots": 19.5
                },
                {
                  "index": 620,
                  "Month": "1800-09",
                  "Sunspots": 11.5
                },
                {
                  "index": 621,
                  "Month": "1800-10",
                  "Sunspots": 12.3
                },
                {
                  "index": 622,
                  "Month": "1800-11",
                  "Sunspots": 10.5
                },
                {
                  "index": 623,
                  "Month": "1800-12",
                  "Sunspots": 40.1
                },
                {
                  "index": 624,
                  "Month": "1801-01",
                  "Sunspots": 27
                },
                {
                  "index": 625,
                  "Month": "1801-02",
                  "Sunspots": 29
                },
                {
                  "index": 626,
                  "Month": "1801-03",
                  "Sunspots": 30
                },
                {
                  "index": 627,
                  "Month": "1801-04",
                  "Sunspots": 31
                },
                {
                  "index": 628,
                  "Month": "1801-05",
                  "Sunspots": 32
                },
                {
                  "index": 629,
                  "Month": "1801-06",
                  "Sunspots": 31.2
                },
                {
                  "index": 630,
                  "Month": "1801-07",
                  "Sunspots": 35
                },
                {
                  "index": 631,
                  "Month": "1801-08",
                  "Sunspots": 38.7
                },
                {
                  "index": 632,
                  "Month": "1801-09",
                  "Sunspots": 33.5
                },
                {
                  "index": 633,
                  "Month": "1801-10",
                  "Sunspots": 32.6
                },
                {
                  "index": 634,
                  "Month": "1801-11",
                  "Sunspots": 39.8
                },
                {
                  "index": 635,
                  "Month": "1801-12",
                  "Sunspots": 48.2
                },
                {
                  "index": 636,
                  "Month": "1802-01",
                  "Sunspots": 47.8
                },
                {
                  "index": 637,
                  "Month": "1802-02",
                  "Sunspots": 47
                },
                {
                  "index": 638,
                  "Month": "1802-03",
                  "Sunspots": 40.8
                },
                {
                  "index": 639,
                  "Month": "1802-04",
                  "Sunspots": 42
                },
                {
                  "index": 640,
                  "Month": "1802-05",
                  "Sunspots": 44
                },
                {
                  "index": 641,
                  "Month": "1802-06",
                  "Sunspots": 46
                },
                {
                  "index": 642,
                  "Month": "1802-07",
                  "Sunspots": 48
                },
                {
                  "index": 643,
                  "Month": "1802-08",
                  "Sunspots": 50
                },
                {
                  "index": 644,
                  "Month": "1802-09",
                  "Sunspots": 51.8
                },
                {
                  "index": 645,
                  "Month": "1802-10",
                  "Sunspots": 38.5
                },
                {
                  "index": 646,
                  "Month": "1802-11",
                  "Sunspots": 34.5
                },
                {
                  "index": 647,
                  "Month": "1802-12",
                  "Sunspots": 50
                },
                {
                  "index": 648,
                  "Month": "1803-01",
                  "Sunspots": 50
                },
                {
                  "index": 649,
                  "Month": "1803-02",
                  "Sunspots": 50.8
                },
                {
                  "index": 650,
                  "Month": "1803-03",
                  "Sunspots": 29.5
                },
                {
                  "index": 651,
                  "Month": "1803-04",
                  "Sunspots": 25
                },
                {
                  "index": 652,
                  "Month": "1803-05",
                  "Sunspots": 44.3
                },
                {
                  "index": 653,
                  "Month": "1803-06",
                  "Sunspots": 36
                },
                {
                  "index": 654,
                  "Month": "1803-07",
                  "Sunspots": 48.3
                },
                {
                  "index": 655,
                  "Month": "1803-08",
                  "Sunspots": 34.1
                },
                {
                  "index": 656,
                  "Month": "1803-09",
                  "Sunspots": 45.3
                },
                {
                  "index": 657,
                  "Month": "1803-10",
                  "Sunspots": 54.3
                },
                {
                  "index": 658,
                  "Month": "1803-11",
                  "Sunspots": 51
                },
                {
                  "index": 659,
                  "Month": "1803-12",
                  "Sunspots": 48
                },
                {
                  "index": 660,
                  "Month": "1804-01",
                  "Sunspots": 45.3
                },
                {
                  "index": 661,
                  "Month": "1804-02",
                  "Sunspots": 48.3
                },
                {
                  "index": 662,
                  "Month": "1804-03",
                  "Sunspots": 48
                },
                {
                  "index": 663,
                  "Month": "1804-04",
                  "Sunspots": 50.6
                },
                {
                  "index": 664,
                  "Month": "1804-05",
                  "Sunspots": 33.4
                },
                {
                  "index": 665,
                  "Month": "1804-06",
                  "Sunspots": 34.8
                },
                {
                  "index": 666,
                  "Month": "1804-07",
                  "Sunspots": 29.8
                },
                {
                  "index": 667,
                  "Month": "1804-08",
                  "Sunspots": 43.1
                },
                {
                  "index": 668,
                  "Month": "1804-09",
                  "Sunspots": 53
                },
                {
                  "index": 669,
                  "Month": "1804-10",
                  "Sunspots": 62.3
                },
                {
                  "index": 670,
                  "Month": "1804-11",
                  "Sunspots": 61
                },
                {
                  "index": 671,
                  "Month": "1804-12",
                  "Sunspots": 60
                },
                {
                  "index": 672,
                  "Month": "1805-01",
                  "Sunspots": 61
                },
                {
                  "index": 673,
                  "Month": "1805-02",
                  "Sunspots": 44.1
                },
                {
                  "index": 674,
                  "Month": "1805-03",
                  "Sunspots": 51.4
                },
                {
                  "index": 675,
                  "Month": "1805-04",
                  "Sunspots": 37.5
                },
                {
                  "index": 676,
                  "Month": "1805-05",
                  "Sunspots": 39
                },
                {
                  "index": 677,
                  "Month": "1805-06",
                  "Sunspots": 40.5
                },
                {
                  "index": 678,
                  "Month": "1805-07",
                  "Sunspots": 37.6
                },
                {
                  "index": 679,
                  "Month": "1805-08",
                  "Sunspots": 42.7
                },
                {
                  "index": 680,
                  "Month": "1805-09",
                  "Sunspots": 44.4
                },
                {
                  "index": 681,
                  "Month": "1805-10",
                  "Sunspots": 29.4
                },
                {
                  "index": 682,
                  "Month": "1805-11",
                  "Sunspots": 41
                },
                {
                  "index": 683,
                  "Month": "1805-12",
                  "Sunspots": 38.3
                },
                {
                  "index": 684,
                  "Month": "1806-01",
                  "Sunspots": 39
                },
                {
                  "index": 685,
                  "Month": "1806-02",
                  "Sunspots": 29.6
                },
                {
                  "index": 686,
                  "Month": "1806-03",
                  "Sunspots": 32.7
                },
                {
                  "index": 687,
                  "Month": "1806-04",
                  "Sunspots": 27.7
                },
                {
                  "index": 688,
                  "Month": "1806-05",
                  "Sunspots": 26.4
                },
                {
                  "index": 689,
                  "Month": "1806-06",
                  "Sunspots": 25.6
                },
                {
                  "index": 690,
                  "Month": "1806-07",
                  "Sunspots": 30
                },
                {
                  "index": 691,
                  "Month": "1806-08",
                  "Sunspots": 26.3
                },
                {
                  "index": 692,
                  "Month": "1806-09",
                  "Sunspots": 24
                },
                {
                  "index": 693,
                  "Month": "1806-10",
                  "Sunspots": 27
                },
                {
                  "index": 694,
                  "Month": "1806-11",
                  "Sunspots": 25
                },
                {
                  "index": 695,
                  "Month": "1806-12",
                  "Sunspots": 24
                },
                {
                  "index": 696,
                  "Month": "1807-01",
                  "Sunspots": 12
                },
                {
                  "index": 697,
                  "Month": "1807-02",
                  "Sunspots": 12.2
                },
                {
                  "index": 698,
                  "Month": "1807-03",
                  "Sunspots": 9.6
                },
                {
                  "index": 699,
                  "Month": "1807-04",
                  "Sunspots": 23.8
                },
                {
                  "index": 700,
                  "Month": "1807-05",
                  "Sunspots": 10
                },
                {
                  "index": 701,
                  "Month": "1807-06",
                  "Sunspots": 12
                },
                {
                  "index": 702,
                  "Month": "1807-07",
                  "Sunspots": 12.7
                },
                {
                  "index": 703,
                  "Month": "1807-08",
                  "Sunspots": 12
                },
                {
                  "index": 704,
                  "Month": "1807-09",
                  "Sunspots": 5.7
                },
                {
                  "index": 705,
                  "Month": "1807-10",
                  "Sunspots": 8
                },
                {
                  "index": 706,
                  "Month": "1807-11",
                  "Sunspots": 2.6
                },
                {
                  "index": 707,
                  "Month": "1807-12",
                  "Sunspots": 0
                },
                {
                  "index": 708,
                  "Month": "1808-01",
                  "Sunspots": 0
                },
                {
                  "index": 709,
                  "Month": "1808-02",
                  "Sunspots": 4.5
                },
                {
                  "index": 710,
                  "Month": "1808-03",
                  "Sunspots": 0
                },
                {
                  "index": 711,
                  "Month": "1808-04",
                  "Sunspots": 12.3
                },
                {
                  "index": 712,
                  "Month": "1808-05",
                  "Sunspots": 13.5
                },
                {
                  "index": 713,
                  "Month": "1808-06",
                  "Sunspots": 13.5
                },
                {
                  "index": 714,
                  "Month": "1808-07",
                  "Sunspots": 6.7
                },
                {
                  "index": 715,
                  "Month": "1808-08",
                  "Sunspots": 8
                },
                {
                  "index": 716,
                  "Month": "1808-09",
                  "Sunspots": 11.7
                },
                {
                  "index": 717,
                  "Month": "1808-10",
                  "Sunspots": 4.7
                },
                {
                  "index": 718,
                  "Month": "1808-11",
                  "Sunspots": 10.5
                },
                {
                  "index": 719,
                  "Month": "1808-12",
                  "Sunspots": 12.3
                },
                {
                  "index": 720,
                  "Month": "1809-01",
                  "Sunspots": 7.2
                },
                {
                  "index": 721,
                  "Month": "1809-02",
                  "Sunspots": 9.2
                },
                {
                  "index": 722,
                  "Month": "1809-03",
                  "Sunspots": 0.9
                },
                {
                  "index": 723,
                  "Month": "1809-04",
                  "Sunspots": 2.5
                },
                {
                  "index": 724,
                  "Month": "1809-05",
                  "Sunspots": 2
                },
                {
                  "index": 725,
                  "Month": "1809-06",
                  "Sunspots": 7.7
                },
                {
                  "index": 726,
                  "Month": "1809-07",
                  "Sunspots": 0.3
                },
                {
                  "index": 727,
                  "Month": "1809-08",
                  "Sunspots": 0.2
                },
                {
                  "index": 728,
                  "Month": "1809-09",
                  "Sunspots": 0.4
                },
                {
                  "index": 729,
                  "Month": "1809-10",
                  "Sunspots": 0
                },
                {
                  "index": 730,
                  "Month": "1809-11",
                  "Sunspots": 0
                },
                {
                  "index": 731,
                  "Month": "1809-12",
                  "Sunspots": 0
                },
                {
                  "index": 732,
                  "Month": "1810-01",
                  "Sunspots": 0
                },
                {
                  "index": 733,
                  "Month": "1810-02",
                  "Sunspots": 0
                },
                {
                  "index": 734,
                  "Month": "1810-03",
                  "Sunspots": 0
                },
                {
                  "index": 735,
                  "Month": "1810-04",
                  "Sunspots": 0
                },
                {
                  "index": 736,
                  "Month": "1810-05",
                  "Sunspots": 0
                },
                {
                  "index": 737,
                  "Month": "1810-06",
                  "Sunspots": 0
                },
                {
                  "index": 738,
                  "Month": "1810-07",
                  "Sunspots": 0
                },
                {
                  "index": 739,
                  "Month": "1810-08",
                  "Sunspots": 0
                },
                {
                  "index": 740,
                  "Month": "1810-09",
                  "Sunspots": 0
                },
                {
                  "index": 741,
                  "Month": "1810-10",
                  "Sunspots": 0
                },
                {
                  "index": 742,
                  "Month": "1810-11",
                  "Sunspots": 0
                },
                {
                  "index": 743,
                  "Month": "1810-12",
                  "Sunspots": 0
                },
                {
                  "index": 744,
                  "Month": "1811-01",
                  "Sunspots": 0
                },
                {
                  "index": 745,
                  "Month": "1811-02",
                  "Sunspots": 0
                },
                {
                  "index": 746,
                  "Month": "1811-03",
                  "Sunspots": 0
                },
                {
                  "index": 747,
                  "Month": "1811-04",
                  "Sunspots": 0
                },
                {
                  "index": 748,
                  "Month": "1811-05",
                  "Sunspots": 0
                },
                {
                  "index": 749,
                  "Month": "1811-06",
                  "Sunspots": 0
                },
                {
                  "index": 750,
                  "Month": "1811-07",
                  "Sunspots": 6.6
                },
                {
                  "index": 751,
                  "Month": "1811-08",
                  "Sunspots": 0
                },
                {
                  "index": 752,
                  "Month": "1811-09",
                  "Sunspots": 2.4
                },
                {
                  "index": 753,
                  "Month": "1811-10",
                  "Sunspots": 6.1
                },
                {
                  "index": 754,
                  "Month": "1811-11",
                  "Sunspots": 0.8
                },
                {
                  "index": 755,
                  "Month": "1811-12",
                  "Sunspots": 1.1
                },
                {
                  "index": 756,
                  "Month": "1812-01",
                  "Sunspots": 11.3
                },
                {
                  "index": 757,
                  "Month": "1812-02",
                  "Sunspots": 1.9
                },
                {
                  "index": 758,
                  "Month": "1812-03",
                  "Sunspots": 0.7
                },
                {
                  "index": 759,
                  "Month": "1812-04",
                  "Sunspots": 0
                },
                {
                  "index": 760,
                  "Month": "1812-05",
                  "Sunspots": 1
                },
                {
                  "index": 761,
                  "Month": "1812-06",
                  "Sunspots": 1.3
                },
                {
                  "index": 762,
                  "Month": "1812-07",
                  "Sunspots": 0.5
                },
                {
                  "index": 763,
                  "Month": "1812-08",
                  "Sunspots": 15.6
                },
                {
                  "index": 764,
                  "Month": "1812-09",
                  "Sunspots": 5.2
                },
                {
                  "index": 765,
                  "Month": "1812-10",
                  "Sunspots": 3.9
                },
                {
                  "index": 766,
                  "Month": "1812-11",
                  "Sunspots": 7.9
                },
                {
                  "index": 767,
                  "Month": "1812-12",
                  "Sunspots": 10.1
                },
                {
                  "index": 768,
                  "Month": "1813-01",
                  "Sunspots": 0
                },
                {
                  "index": 769,
                  "Month": "1813-02",
                  "Sunspots": 10.3
                },
                {
                  "index": 770,
                  "Month": "1813-03",
                  "Sunspots": 1.9
                },
                {
                  "index": 771,
                  "Month": "1813-04",
                  "Sunspots": 16.6
                },
                {
                  "index": 772,
                  "Month": "1813-05",
                  "Sunspots": 5.5
                },
                {
                  "index": 773,
                  "Month": "1813-06",
                  "Sunspots": 11.2
                },
                {
                  "index": 774,
                  "Month": "1813-07",
                  "Sunspots": 18.3
                },
                {
                  "index": 775,
                  "Month": "1813-08",
                  "Sunspots": 8.4
                },
                {
                  "index": 776,
                  "Month": "1813-09",
                  "Sunspots": 15.3
                },
                {
                  "index": 777,
                  "Month": "1813-10",
                  "Sunspots": 27.8
                },
                {
                  "index": 778,
                  "Month": "1813-11",
                  "Sunspots": 16.7
                },
                {
                  "index": 779,
                  "Month": "1813-12",
                  "Sunspots": 14.3
                },
                {
                  "index": 780,
                  "Month": "1814-01",
                  "Sunspots": 22.2
                },
                {
                  "index": 781,
                  "Month": "1814-02",
                  "Sunspots": 12
                },
                {
                  "index": 782,
                  "Month": "1814-03",
                  "Sunspots": 5.7
                },
                {
                  "index": 783,
                  "Month": "1814-04",
                  "Sunspots": 23.8
                },
                {
                  "index": 784,
                  "Month": "1814-05",
                  "Sunspots": 5.8
                },
                {
                  "index": 785,
                  "Month": "1814-06",
                  "Sunspots": 14.9
                },
                {
                  "index": 786,
                  "Month": "1814-07",
                  "Sunspots": 18.5
                },
                {
                  "index": 787,
                  "Month": "1814-08",
                  "Sunspots": 2.3
                },
                {
                  "index": 788,
                  "Month": "1814-09",
                  "Sunspots": 8.1
                },
                {
                  "index": 789,
                  "Month": "1814-10",
                  "Sunspots": 19.3
                },
                {
                  "index": 790,
                  "Month": "1814-11",
                  "Sunspots": 14.5
                },
                {
                  "index": 791,
                  "Month": "1814-12",
                  "Sunspots": 20.1
                },
                {
                  "index": 792,
                  "Month": "1815-01",
                  "Sunspots": 19.2
                },
                {
                  "index": 793,
                  "Month": "1815-02",
                  "Sunspots": 32.2
                },
                {
                  "index": 794,
                  "Month": "1815-03",
                  "Sunspots": 26.2
                },
                {
                  "index": 795,
                  "Month": "1815-04",
                  "Sunspots": 31.6
                },
                {
                  "index": 796,
                  "Month": "1815-05",
                  "Sunspots": 9.8
                },
                {
                  "index": 797,
                  "Month": "1815-06",
                  "Sunspots": 55.9
                },
                {
                  "index": 798,
                  "Month": "1815-07",
                  "Sunspots": 35.5
                },
                {
                  "index": 799,
                  "Month": "1815-08",
                  "Sunspots": 47.2
                },
                {
                  "index": 800,
                  "Month": "1815-09",
                  "Sunspots": 31.5
                },
                {
                  "index": 801,
                  "Month": "1815-10",
                  "Sunspots": 33.5
                },
                {
                  "index": 802,
                  "Month": "1815-11",
                  "Sunspots": 37.2
                },
                {
                  "index": 803,
                  "Month": "1815-12",
                  "Sunspots": 65
                },
                {
                  "index": 804,
                  "Month": "1816-01",
                  "Sunspots": 26.3
                },
                {
                  "index": 805,
                  "Month": "1816-02",
                  "Sunspots": 68.8
                },
                {
                  "index": 806,
                  "Month": "1816-03",
                  "Sunspots": 73.7
                },
                {
                  "index": 807,
                  "Month": "1816-04",
                  "Sunspots": 58.8
                },
                {
                  "index": 808,
                  "Month": "1816-05",
                  "Sunspots": 44.3
                },
                {
                  "index": 809,
                  "Month": "1816-06",
                  "Sunspots": 43.6
                },
                {
                  "index": 810,
                  "Month": "1816-07",
                  "Sunspots": 38.8
                },
                {
                  "index": 811,
                  "Month": "1816-08",
                  "Sunspots": 23.2
                },
                {
                  "index": 812,
                  "Month": "1816-09",
                  "Sunspots": 47.8
                },
                {
                  "index": 813,
                  "Month": "1816-10",
                  "Sunspots": 56.4
                },
                {
                  "index": 814,
                  "Month": "1816-11",
                  "Sunspots": 38.1
                },
                {
                  "index": 815,
                  "Month": "1816-12",
                  "Sunspots": 29.9
                },
                {
                  "index": 816,
                  "Month": "1817-01",
                  "Sunspots": 36.4
                },
                {
                  "index": 817,
                  "Month": "1817-02",
                  "Sunspots": 57.9
                },
                {
                  "index": 818,
                  "Month": "1817-03",
                  "Sunspots": 96.2
                },
                {
                  "index": 819,
                  "Month": "1817-04",
                  "Sunspots": 26.4
                },
                {
                  "index": 820,
                  "Month": "1817-05",
                  "Sunspots": 21.2
                },
                {
                  "index": 821,
                  "Month": "1817-06",
                  "Sunspots": 40
                },
                {
                  "index": 822,
                  "Month": "1817-07",
                  "Sunspots": 50
                },
                {
                  "index": 823,
                  "Month": "1817-08",
                  "Sunspots": 45
                },
                {
                  "index": 824,
                  "Month": "1817-09",
                  "Sunspots": 36.7
                },
                {
                  "index": 825,
                  "Month": "1817-10",
                  "Sunspots": 25.6
                },
                {
                  "index": 826,
                  "Month": "1817-11",
                  "Sunspots": 28.9
                },
                {
                  "index": 827,
                  "Month": "1817-12",
                  "Sunspots": 28.4
                },
                {
                  "index": 828,
                  "Month": "1818-01",
                  "Sunspots": 34.9
                },
                {
                  "index": 829,
                  "Month": "1818-02",
                  "Sunspots": 22.4
                },
                {
                  "index": 830,
                  "Month": "1818-03",
                  "Sunspots": 25.4
                },
                {
                  "index": 831,
                  "Month": "1818-04",
                  "Sunspots": 34.5
                },
                {
                  "index": 832,
                  "Month": "1818-05",
                  "Sunspots": 53.1
                },
                {
                  "index": 833,
                  "Month": "1818-06",
                  "Sunspots": 36.4
                },
                {
                  "index": 834,
                  "Month": "1818-07",
                  "Sunspots": 28
                },
                {
                  "index": 835,
                  "Month": "1818-08",
                  "Sunspots": 31.5
                },
                {
                  "index": 836,
                  "Month": "1818-09",
                  "Sunspots": 26.1
                },
                {
                  "index": 837,
                  "Month": "1818-10",
                  "Sunspots": 31.7
                },
                {
                  "index": 838,
                  "Month": "1818-11",
                  "Sunspots": 10.9
                },
                {
                  "index": 839,
                  "Month": "1818-12",
                  "Sunspots": 25.8
                },
                {
                  "index": 840,
                  "Month": "1819-01",
                  "Sunspots": 32.5
                },
                {
                  "index": 841,
                  "Month": "1819-02",
                  "Sunspots": 20.7
                },
                {
                  "index": 842,
                  "Month": "1819-03",
                  "Sunspots": 3.7
                },
                {
                  "index": 843,
                  "Month": "1819-04",
                  "Sunspots": 20.2
                },
                {
                  "index": 844,
                  "Month": "1819-05",
                  "Sunspots": 19.6
                },
                {
                  "index": 845,
                  "Month": "1819-06",
                  "Sunspots": 35
                },
                {
                  "index": 846,
                  "Month": "1819-07",
                  "Sunspots": 31.4
                },
                {
                  "index": 847,
                  "Month": "1819-08",
                  "Sunspots": 26.1
                },
                {
                  "index": 848,
                  "Month": "1819-09",
                  "Sunspots": 14.9
                },
                {
                  "index": 849,
                  "Month": "1819-10",
                  "Sunspots": 27.5
                },
                {
                  "index": 850,
                  "Month": "1819-11",
                  "Sunspots": 25.1
                },
                {
                  "index": 851,
                  "Month": "1819-12",
                  "Sunspots": 30.6
                },
                {
                  "index": 852,
                  "Month": "1820-01",
                  "Sunspots": 19.2
                },
                {
                  "index": 853,
                  "Month": "1820-02",
                  "Sunspots": 26.6
                },
                {
                  "index": 854,
                  "Month": "1820-03",
                  "Sunspots": 4.5
                },
                {
                  "index": 855,
                  "Month": "1820-04",
                  "Sunspots": 19.4
                },
                {
                  "index": 856,
                  "Month": "1820-05",
                  "Sunspots": 29.3
                },
                {
                  "index": 857,
                  "Month": "1820-06",
                  "Sunspots": 10.8
                },
                {
                  "index": 858,
                  "Month": "1820-07",
                  "Sunspots": 20.6
                },
                {
                  "index": 859,
                  "Month": "1820-08",
                  "Sunspots": 25.9
                },
                {
                  "index": 860,
                  "Month": "1820-09",
                  "Sunspots": 5.2
                },
                {
                  "index": 861,
                  "Month": "1820-10",
                  "Sunspots": 9
                },
                {
                  "index": 862,
                  "Month": "1820-11",
                  "Sunspots": 7.9
                },
                {
                  "index": 863,
                  "Month": "1820-12",
                  "Sunspots": 9.7
                },
                {
                  "index": 864,
                  "Month": "1821-01",
                  "Sunspots": 21.5
                },
                {
                  "index": 865,
                  "Month": "1821-02",
                  "Sunspots": 4.3
                },
                {
                  "index": 866,
                  "Month": "1821-03",
                  "Sunspots": 5.7
                },
                {
                  "index": 867,
                  "Month": "1821-04",
                  "Sunspots": 9.2
                },
                {
                  "index": 868,
                  "Month": "1821-05",
                  "Sunspots": 1.7
                },
                {
                  "index": 869,
                  "Month": "1821-06",
                  "Sunspots": 1.8
                },
                {
                  "index": 870,
                  "Month": "1821-07",
                  "Sunspots": 2.5
                },
                {
                  "index": 871,
                  "Month": "1821-08",
                  "Sunspots": 4.8
                },
                {
                  "index": 872,
                  "Month": "1821-09",
                  "Sunspots": 4.4
                },
                {
                  "index": 873,
                  "Month": "1821-10",
                  "Sunspots": 18.8
                },
                {
                  "index": 874,
                  "Month": "1821-11",
                  "Sunspots": 4.4
                },
                {
                  "index": 875,
                  "Month": "1821-12",
                  "Sunspots": 0
                },
                {
                  "index": 876,
                  "Month": "1822-01",
                  "Sunspots": 0
                },
                {
                  "index": 877,
                  "Month": "1822-02",
                  "Sunspots": 0.9
                },
                {
                  "index": 878,
                  "Month": "1822-03",
                  "Sunspots": 16.1
                },
                {
                  "index": 879,
                  "Month": "1822-04",
                  "Sunspots": 13.5
                },
                {
                  "index": 880,
                  "Month": "1822-05",
                  "Sunspots": 1.5
                },
                {
                  "index": 881,
                  "Month": "1822-06",
                  "Sunspots": 5.6
                },
                {
                  "index": 882,
                  "Month": "1822-07",
                  "Sunspots": 7.9
                },
                {
                  "index": 883,
                  "Month": "1822-08",
                  "Sunspots": 2.1
                },
                {
                  "index": 884,
                  "Month": "1822-09",
                  "Sunspots": 0
                },
                {
                  "index": 885,
                  "Month": "1822-10",
                  "Sunspots": 0.4
                },
                {
                  "index": 886,
                  "Month": "1822-11",
                  "Sunspots": 0
                },
                {
                  "index": 887,
                  "Month": "1822-12",
                  "Sunspots": 0
                },
                {
                  "index": 888,
                  "Month": "1823-01",
                  "Sunspots": 0
                },
                {
                  "index": 889,
                  "Month": "1823-02",
                  "Sunspots": 0
                },
                {
                  "index": 890,
                  "Month": "1823-03",
                  "Sunspots": 0.6
                },
                {
                  "index": 891,
                  "Month": "1823-04",
                  "Sunspots": 0
                },
                {
                  "index": 892,
                  "Month": "1823-05",
                  "Sunspots": 0
                },
                {
                  "index": 893,
                  "Month": "1823-06",
                  "Sunspots": 0
                },
                {
                  "index": 894,
                  "Month": "1823-07",
                  "Sunspots": 0.5
                },
                {
                  "index": 895,
                  "Month": "1823-08",
                  "Sunspots": 0
                },
                {
                  "index": 896,
                  "Month": "1823-09",
                  "Sunspots": 0
                },
                {
                  "index": 897,
                  "Month": "1823-10",
                  "Sunspots": 0
                },
                {
                  "index": 898,
                  "Month": "1823-11",
                  "Sunspots": 0
                },
                {
                  "index": 899,
                  "Month": "1823-12",
                  "Sunspots": 20.4
                },
                {
                  "index": 900,
                  "Month": "1824-01",
                  "Sunspots": 21.6
                },
                {
                  "index": 901,
                  "Month": "1824-02",
                  "Sunspots": 10.8
                },
                {
                  "index": 902,
                  "Month": "1824-03",
                  "Sunspots": 0
                },
                {
                  "index": 903,
                  "Month": "1824-04",
                  "Sunspots": 19.4
                },
                {
                  "index": 904,
                  "Month": "1824-05",
                  "Sunspots": 2.8
                },
                {
                  "index": 905,
                  "Month": "1824-06",
                  "Sunspots": 0
                },
                {
                  "index": 906,
                  "Month": "1824-07",
                  "Sunspots": 0
                },
                {
                  "index": 907,
                  "Month": "1824-08",
                  "Sunspots": 1.4
                },
                {
                  "index": 908,
                  "Month": "1824-09",
                  "Sunspots": 20.5
                },
                {
                  "index": 909,
                  "Month": "1824-10",
                  "Sunspots": 25.2
                },
                {
                  "index": 910,
                  "Month": "1824-11",
                  "Sunspots": 0
                },
                {
                  "index": 911,
                  "Month": "1824-12",
                  "Sunspots": 0.8
                },
                {
                  "index": 912,
                  "Month": "1825-01",
                  "Sunspots": 5
                },
                {
                  "index": 913,
                  "Month": "1825-02",
                  "Sunspots": 15.5
                },
                {
                  "index": 914,
                  "Month": "1825-03",
                  "Sunspots": 22.4
                },
                {
                  "index": 915,
                  "Month": "1825-04",
                  "Sunspots": 3.8
                },
                {
                  "index": 916,
                  "Month": "1825-05",
                  "Sunspots": 15.4
                },
                {
                  "index": 917,
                  "Month": "1825-06",
                  "Sunspots": 15.4
                },
                {
                  "index": 918,
                  "Month": "1825-07",
                  "Sunspots": 30.9
                },
                {
                  "index": 919,
                  "Month": "1825-08",
                  "Sunspots": 25.4
                },
                {
                  "index": 920,
                  "Month": "1825-09",
                  "Sunspots": 15.7
                },
                {
                  "index": 921,
                  "Month": "1825-10",
                  "Sunspots": 15.6
                },
                {
                  "index": 922,
                  "Month": "1825-11",
                  "Sunspots": 11.7
                },
                {
                  "index": 923,
                  "Month": "1825-12",
                  "Sunspots": 22
                },
                {
                  "index": 924,
                  "Month": "1826-01",
                  "Sunspots": 17.7
                },
                {
                  "index": 925,
                  "Month": "1826-02",
                  "Sunspots": 18.2
                },
                {
                  "index": 926,
                  "Month": "1826-03",
                  "Sunspots": 36.7
                },
                {
                  "index": 927,
                  "Month": "1826-04",
                  "Sunspots": 24
                },
                {
                  "index": 928,
                  "Month": "1826-05",
                  "Sunspots": 32.4
                },
                {
                  "index": 929,
                  "Month": "1826-06",
                  "Sunspots": 37.1
                },
                {
                  "index": 930,
                  "Month": "1826-07",
                  "Sunspots": 52.5
                },
                {
                  "index": 931,
                  "Month": "1826-08",
                  "Sunspots": 39.6
                },
                {
                  "index": 932,
                  "Month": "1826-09",
                  "Sunspots": 18.9
                },
                {
                  "index": 933,
                  "Month": "1826-10",
                  "Sunspots": 50.6
                },
                {
                  "index": 934,
                  "Month": "1826-11",
                  "Sunspots": 39.5
                },
                {
                  "index": 935,
                  "Month": "1826-12",
                  "Sunspots": 68.1
                },
                {
                  "index": 936,
                  "Month": "1827-01",
                  "Sunspots": 34.6
                },
                {
                  "index": 937,
                  "Month": "1827-02",
                  "Sunspots": 47.4
                },
                {
                  "index": 938,
                  "Month": "1827-03",
                  "Sunspots": 57.8
                },
                {
                  "index": 939,
                  "Month": "1827-04",
                  "Sunspots": 46
                },
                {
                  "index": 940,
                  "Month": "1827-05",
                  "Sunspots": 56.3
                },
                {
                  "index": 941,
                  "Month": "1827-06",
                  "Sunspots": 56.7
                },
                {
                  "index": 942,
                  "Month": "1827-07",
                  "Sunspots": 42.9
                },
                {
                  "index": 943,
                  "Month": "1827-08",
                  "Sunspots": 53.7
                },
                {
                  "index": 944,
                  "Month": "1827-09",
                  "Sunspots": 49.6
                },
                {
                  "index": 945,
                  "Month": "1827-10",
                  "Sunspots": 57.2
                },
                {
                  "index": 946,
                  "Month": "1827-11",
                  "Sunspots": 48.2
                },
                {
                  "index": 947,
                  "Month": "1827-12",
                  "Sunspots": 46.1
                },
                {
                  "index": 948,
                  "Month": "1828-01",
                  "Sunspots": 52.8
                },
                {
                  "index": 949,
                  "Month": "1828-02",
                  "Sunspots": 64.4
                },
                {
                  "index": 950,
                  "Month": "1828-03",
                  "Sunspots": 65
                },
                {
                  "index": 951,
                  "Month": "1828-04",
                  "Sunspots": 61.1
                },
                {
                  "index": 952,
                  "Month": "1828-05",
                  "Sunspots": 89.1
                },
                {
                  "index": 953,
                  "Month": "1828-06",
                  "Sunspots": 98
                },
                {
                  "index": 954,
                  "Month": "1828-07",
                  "Sunspots": 54.3
                },
                {
                  "index": 955,
                  "Month": "1828-08",
                  "Sunspots": 76.4
                },
                {
                  "index": 956,
                  "Month": "1828-09",
                  "Sunspots": 50.4
                },
                {
                  "index": 957,
                  "Month": "1828-10",
                  "Sunspots": 54.7
                },
                {
                  "index": 958,
                  "Month": "1828-11",
                  "Sunspots": 57
                },
                {
                  "index": 959,
                  "Month": "1828-12",
                  "Sunspots": 46.6
                },
                {
                  "index": 960,
                  "Month": "1829-01",
                  "Sunspots": 43
                },
                {
                  "index": 961,
                  "Month": "1829-02",
                  "Sunspots": 49.4
                },
                {
                  "index": 962,
                  "Month": "1829-03",
                  "Sunspots": 72.3
                },
                {
                  "index": 963,
                  "Month": "1829-04",
                  "Sunspots": 95
                },
                {
                  "index": 964,
                  "Month": "1829-05",
                  "Sunspots": 67.5
                },
                {
                  "index": 965,
                  "Month": "1829-06",
                  "Sunspots": 73.9
                },
                {
                  "index": 966,
                  "Month": "1829-07",
                  "Sunspots": 90.8
                },
                {
                  "index": 967,
                  "Month": "1829-08",
                  "Sunspots": 78.3
                },
                {
                  "index": 968,
                  "Month": "1829-09",
                  "Sunspots": 52.8
                },
                {
                  "index": 969,
                  "Month": "1829-10",
                  "Sunspots": 57.2
                },
                {
                  "index": 970,
                  "Month": "1829-11",
                  "Sunspots": 67.6
                },
                {
                  "index": 971,
                  "Month": "1829-12",
                  "Sunspots": 56.5
                },
                {
                  "index": 972,
                  "Month": "1830-01",
                  "Sunspots": 52.2
                },
                {
                  "index": 973,
                  "Month": "1830-02",
                  "Sunspots": 72.1
                },
                {
                  "index": 974,
                  "Month": "1830-03",
                  "Sunspots": 84.6
                },
                {
                  "index": 975,
                  "Month": "1830-04",
                  "Sunspots": 107.1
                },
                {
                  "index": 976,
                  "Month": "1830-05",
                  "Sunspots": 66.3
                },
                {
                  "index": 977,
                  "Month": "1830-06",
                  "Sunspots": 65.1
                },
                {
                  "index": 978,
                  "Month": "1830-07",
                  "Sunspots": 43.9
                },
                {
                  "index": 979,
                  "Month": "1830-08",
                  "Sunspots": 50.7
                },
                {
                  "index": 980,
                  "Month": "1830-09",
                  "Sunspots": 62.1
                },
                {
                  "index": 981,
                  "Month": "1830-10",
                  "Sunspots": 84.4
                },
                {
                  "index": 982,
                  "Month": "1830-11",
                  "Sunspots": 81.2
                },
                {
                  "index": 983,
                  "Month": "1830-12",
                  "Sunspots": 82.1
                },
                {
                  "index": 984,
                  "Month": "1831-01",
                  "Sunspots": 47.5
                },
                {
                  "index": 985,
                  "Month": "1831-02",
                  "Sunspots": 50.1
                },
                {
                  "index": 986,
                  "Month": "1831-03",
                  "Sunspots": 93.4
                },
                {
                  "index": 987,
                  "Month": "1831-04",
                  "Sunspots": 54.6
                },
                {
                  "index": 988,
                  "Month": "1831-05",
                  "Sunspots": 38.1
                },
                {
                  "index": 989,
                  "Month": "1831-06",
                  "Sunspots": 33.4
                },
                {
                  "index": 990,
                  "Month": "1831-07",
                  "Sunspots": 45.2
                },
                {
                  "index": 991,
                  "Month": "1831-08",
                  "Sunspots": 54.9
                },
                {
                  "index": 992,
                  "Month": "1831-09",
                  "Sunspots": 37.9
                },
                {
                  "index": 993,
                  "Month": "1831-10",
                  "Sunspots": 46.2
                },
                {
                  "index": 994,
                  "Month": "1831-11",
                  "Sunspots": 43.5
                },
                {
                  "index": 995,
                  "Month": "1831-12",
                  "Sunspots": 28.9
                },
                {
                  "index": 996,
                  "Month": "1832-01",
                  "Sunspots": 30.9
                },
                {
                  "index": 997,
                  "Month": "1832-02",
                  "Sunspots": 55.5
                },
                {
                  "index": 998,
                  "Month": "1832-03",
                  "Sunspots": 55.1
                },
                {
                  "index": 999,
                  "Month": "1832-04",
                  "Sunspots": 26.9
                },
                {
                  "index": 1000,
                  "Month": "1832-05",
                  "Sunspots": 41.3
                },
                {
                  "index": 1001,
                  "Month": "1832-06",
                  "Sunspots": 26.7
                },
                {
                  "index": 1002,
                  "Month": "1832-07",
                  "Sunspots": 13.9
                },
                {
                  "index": 1003,
                  "Month": "1832-08",
                  "Sunspots": 8.9
                },
                {
                  "index": 1004,
                  "Month": "1832-09",
                  "Sunspots": 8.2
                },
                {
                  "index": 1005,
                  "Month": "1832-10",
                  "Sunspots": 21.1
                },
                {
                  "index": 1006,
                  "Month": "1832-11",
                  "Sunspots": 14.3
                },
                {
                  "index": 1007,
                  "Month": "1832-12",
                  "Sunspots": 27.5
                },
                {
                  "index": 1008,
                  "Month": "1833-01",
                  "Sunspots": 11.3
                },
                {
                  "index": 1009,
                  "Month": "1833-02",
                  "Sunspots": 14.9
                },
                {
                  "index": 1010,
                  "Month": "1833-03",
                  "Sunspots": 11.8
                },
                {
                  "index": 1011,
                  "Month": "1833-04",
                  "Sunspots": 2.8
                },
                {
                  "index": 1012,
                  "Month": "1833-05",
                  "Sunspots": 12.9
                },
                {
                  "index": 1013,
                  "Month": "1833-06",
                  "Sunspots": 1
                },
                {
                  "index": 1014,
                  "Month": "1833-07",
                  "Sunspots": 7
                },
                {
                  "index": 1015,
                  "Month": "1833-08",
                  "Sunspots": 5.7
                },
                {
                  "index": 1016,
                  "Month": "1833-09",
                  "Sunspots": 11.6
                },
                {
                  "index": 1017,
                  "Month": "1833-10",
                  "Sunspots": 7.5
                },
                {
                  "index": 1018,
                  "Month": "1833-11",
                  "Sunspots": 5.9
                },
                {
                  "index": 1019,
                  "Month": "1833-12",
                  "Sunspots": 9.9
                },
                {
                  "index": 1020,
                  "Month": "1834-01",
                  "Sunspots": 4.9
                },
                {
                  "index": 1021,
                  "Month": "1834-02",
                  "Sunspots": 18.1
                },
                {
                  "index": 1022,
                  "Month": "1834-03",
                  "Sunspots": 3.9
                },
                {
                  "index": 1023,
                  "Month": "1834-04",
                  "Sunspots": 1.4
                },
                {
                  "index": 1024,
                  "Month": "1834-05",
                  "Sunspots": 8.8
                },
                {
                  "index": 1025,
                  "Month": "1834-06",
                  "Sunspots": 7.8
                },
                {
                  "index": 1026,
                  "Month": "1834-07",
                  "Sunspots": 8.7
                },
                {
                  "index": 1027,
                  "Month": "1834-08",
                  "Sunspots": 4
                },
                {
                  "index": 1028,
                  "Month": "1834-09",
                  "Sunspots": 11.5
                },
                {
                  "index": 1029,
                  "Month": "1834-10",
                  "Sunspots": 24.8
                },
                {
                  "index": 1030,
                  "Month": "1834-11",
                  "Sunspots": 30.5
                },
                {
                  "index": 1031,
                  "Month": "1834-12",
                  "Sunspots": 34.5
                },
                {
                  "index": 1032,
                  "Month": "1835-01",
                  "Sunspots": 7.5
                },
                {
                  "index": 1033,
                  "Month": "1835-02",
                  "Sunspots": 24.5
                },
                {
                  "index": 1034,
                  "Month": "1835-03",
                  "Sunspots": 19.7
                },
                {
                  "index": 1035,
                  "Month": "1835-04",
                  "Sunspots": 61.5
                },
                {
                  "index": 1036,
                  "Month": "1835-05",
                  "Sunspots": 43.6
                },
                {
                  "index": 1037,
                  "Month": "1835-06",
                  "Sunspots": 33.2
                },
                {
                  "index": 1038,
                  "Month": "1835-07",
                  "Sunspots": 59.8
                },
                {
                  "index": 1039,
                  "Month": "1835-08",
                  "Sunspots": 59
                },
                {
                  "index": 1040,
                  "Month": "1835-09",
                  "Sunspots": 100.8
                },
                {
                  "index": 1041,
                  "Month": "1835-10",
                  "Sunspots": 95.2
                },
                {
                  "index": 1042,
                  "Month": "1835-11",
                  "Sunspots": 100
                },
                {
                  "index": 1043,
                  "Month": "1835-12",
                  "Sunspots": 77.5
                },
                {
                  "index": 1044,
                  "Month": "1836-01",
                  "Sunspots": 88.6
                },
                {
                  "index": 1045,
                  "Month": "1836-02",
                  "Sunspots": 107.6
                },
                {
                  "index": 1046,
                  "Month": "1836-03",
                  "Sunspots": 98.1
                },
                {
                  "index": 1047,
                  "Month": "1836-04",
                  "Sunspots": 142.9
                },
                {
                  "index": 1048,
                  "Month": "1836-05",
                  "Sunspots": 111.4
                },
                {
                  "index": 1049,
                  "Month": "1836-06",
                  "Sunspots": 124.7
                },
                {
                  "index": 1050,
                  "Month": "1836-07",
                  "Sunspots": 116.7
                },
                {
                  "index": 1051,
                  "Month": "1836-08",
                  "Sunspots": 107.8
                },
                {
                  "index": 1052,
                  "Month": "1836-09",
                  "Sunspots": 95.1
                },
                {
                  "index": 1053,
                  "Month": "1836-10",
                  "Sunspots": 137.4
                },
                {
                  "index": 1054,
                  "Month": "1836-11",
                  "Sunspots": 120.9
                },
                {
                  "index": 1055,
                  "Month": "1836-12",
                  "Sunspots": 206.2
                },
                {
                  "index": 1056,
                  "Month": "1837-01",
                  "Sunspots": 188
                },
                {
                  "index": 1057,
                  "Month": "1837-02",
                  "Sunspots": 175.6
                },
                {
                  "index": 1058,
                  "Month": "1837-03",
                  "Sunspots": 134.6
                },
                {
                  "index": 1059,
                  "Month": "1837-04",
                  "Sunspots": 138.2
                },
                {
                  "index": 1060,
                  "Month": "1837-05",
                  "Sunspots": 111.3
                },
                {
                  "index": 1061,
                  "Month": "1837-06",
                  "Sunspots": 158
                },
                {
                  "index": 1062,
                  "Month": "1837-07",
                  "Sunspots": 162.8
                },
                {
                  "index": 1063,
                  "Month": "1837-08",
                  "Sunspots": 134
                },
                {
                  "index": 1064,
                  "Month": "1837-09",
                  "Sunspots": 96.3
                },
                {
                  "index": 1065,
                  "Month": "1837-10",
                  "Sunspots": 123.7
                },
                {
                  "index": 1066,
                  "Month": "1837-11",
                  "Sunspots": 107
                },
                {
                  "index": 1067,
                  "Month": "1837-12",
                  "Sunspots": 129.8
                },
                {
                  "index": 1068,
                  "Month": "1838-01",
                  "Sunspots": 144.9
                },
                {
                  "index": 1069,
                  "Month": "1838-02",
                  "Sunspots": 84.8
                },
                {
                  "index": 1070,
                  "Month": "1838-03",
                  "Sunspots": 140.8
                },
                {
                  "index": 1071,
                  "Month": "1838-04",
                  "Sunspots": 126.6
                },
                {
                  "index": 1072,
                  "Month": "1838-05",
                  "Sunspots": 137.6
                },
                {
                  "index": 1073,
                  "Month": "1838-06",
                  "Sunspots": 94.5
                },
                {
                  "index": 1074,
                  "Month": "1838-07",
                  "Sunspots": 108.2
                },
                {
                  "index": 1075,
                  "Month": "1838-08",
                  "Sunspots": 78.8
                },
                {
                  "index": 1076,
                  "Month": "1838-09",
                  "Sunspots": 73.6
                },
                {
                  "index": 1077,
                  "Month": "1838-10",
                  "Sunspots": 90.8
                },
                {
                  "index": 1078,
                  "Month": "1838-11",
                  "Sunspots": 77.4
                },
                {
                  "index": 1079,
                  "Month": "1838-12",
                  "Sunspots": 79.8
                },
                {
                  "index": 1080,
                  "Month": "1839-01",
                  "Sunspots": 107.6
                },
                {
                  "index": 1081,
                  "Month": "1839-02",
                  "Sunspots": 102.5
                },
                {
                  "index": 1082,
                  "Month": "1839-03",
                  "Sunspots": 77.7
                },
                {
                  "index": 1083,
                  "Month": "1839-04",
                  "Sunspots": 61.8
                },
                {
                  "index": 1084,
                  "Month": "1839-05",
                  "Sunspots": 53.8
                },
                {
                  "index": 1085,
                  "Month": "1839-06",
                  "Sunspots": 54.6
                },
                {
                  "index": 1086,
                  "Month": "1839-07",
                  "Sunspots": 84.7
                },
                {
                  "index": 1087,
                  "Month": "1839-08",
                  "Sunspots": 131.2
                },
                {
                  "index": 1088,
                  "Month": "1839-09",
                  "Sunspots": 132.7
                },
                {
                  "index": 1089,
                  "Month": "1839-10",
                  "Sunspots": 90.8
                },
                {
                  "index": 1090,
                  "Month": "1839-11",
                  "Sunspots": 68.8
                },
                {
                  "index": 1091,
                  "Month": "1839-12",
                  "Sunspots": 63.6
                },
                {
                  "index": 1092,
                  "Month": "1840-01",
                  "Sunspots": 81.2
                },
                {
                  "index": 1093,
                  "Month": "1840-02",
                  "Sunspots": 87.7
                },
                {
                  "index": 1094,
                  "Month": "1840-03",
                  "Sunspots": 55.5
                },
                {
                  "index": 1095,
                  "Month": "1840-04",
                  "Sunspots": 65.9
                },
                {
                  "index": 1096,
                  "Month": "1840-05",
                  "Sunspots": 69.2
                },
                {
                  "index": 1097,
                  "Month": "1840-06",
                  "Sunspots": 48.5
                },
                {
                  "index": 1098,
                  "Month": "1840-07",
                  "Sunspots": 60.7
                },
                {
                  "index": 1099,
                  "Month": "1840-08",
                  "Sunspots": 57.8
                },
                {
                  "index": 1100,
                  "Month": "1840-09",
                  "Sunspots": 74
                },
                {
                  "index": 1101,
                  "Month": "1840-10",
                  "Sunspots": 49.8
                },
                {
                  "index": 1102,
                  "Month": "1840-11",
                  "Sunspots": 54.3
                },
                {
                  "index": 1103,
                  "Month": "1840-12",
                  "Sunspots": 53.7
                },
                {
                  "index": 1104,
                  "Month": "1841-01",
                  "Sunspots": 24
                },
                {
                  "index": 1105,
                  "Month": "1841-02",
                  "Sunspots": 29.9
                },
                {
                  "index": 1106,
                  "Month": "1841-03",
                  "Sunspots": 29.7
                },
                {
                  "index": 1107,
                  "Month": "1841-04",
                  "Sunspots": 42.6
                },
                {
                  "index": 1108,
                  "Month": "1841-05",
                  "Sunspots": 67.4
                },
                {
                  "index": 1109,
                  "Month": "1841-06",
                  "Sunspots": 55.7
                },
                {
                  "index": 1110,
                  "Month": "1841-07",
                  "Sunspots": 30.8
                },
                {
                  "index": 1111,
                  "Month": "1841-08",
                  "Sunspots": 39.3
                },
                {
                  "index": 1112,
                  "Month": "1841-09",
                  "Sunspots": 35.1
                },
                {
                  "index": 1113,
                  "Month": "1841-10",
                  "Sunspots": 28.5
                },
                {
                  "index": 1114,
                  "Month": "1841-11",
                  "Sunspots": 19.8
                },
                {
                  "index": 1115,
                  "Month": "1841-12",
                  "Sunspots": 38.8
                },
                {
                  "index": 1116,
                  "Month": "1842-01",
                  "Sunspots": 20.4
                },
                {
                  "index": 1117,
                  "Month": "1842-02",
                  "Sunspots": 22.1
                },
                {
                  "index": 1118,
                  "Month": "1842-03",
                  "Sunspots": 21.7
                },
                {
                  "index": 1119,
                  "Month": "1842-04",
                  "Sunspots": 26.9
                },
                {
                  "index": 1120,
                  "Month": "1842-05",
                  "Sunspots": 24.9
                },
                {
                  "index": 1121,
                  "Month": "1842-06",
                  "Sunspots": 20.5
                },
                {
                  "index": 1122,
                  "Month": "1842-07",
                  "Sunspots": 12.6
                },
                {
                  "index": 1123,
                  "Month": "1842-08",
                  "Sunspots": 26.5
                },
                {
                  "index": 1124,
                  "Month": "1842-09",
                  "Sunspots": 18.5
                },
                {
                  "index": 1125,
                  "Month": "1842-10",
                  "Sunspots": 38.1
                },
                {
                  "index": 1126,
                  "Month": "1842-11",
                  "Sunspots": 40.5
                },
                {
                  "index": 1127,
                  "Month": "1842-12",
                  "Sunspots": 17.6
                },
                {
                  "index": 1128,
                  "Month": "1843-01",
                  "Sunspots": 13.3
                },
                {
                  "index": 1129,
                  "Month": "1843-02",
                  "Sunspots": 3.5
                },
                {
                  "index": 1130,
                  "Month": "1843-03",
                  "Sunspots": 8.3
                },
                {
                  "index": 1131,
                  "Month": "1843-04",
                  "Sunspots": 8.8
                },
                {
                  "index": 1132,
                  "Month": "1843-05",
                  "Sunspots": 21.1
                },
                {
                  "index": 1133,
                  "Month": "1843-06",
                  "Sunspots": 10.5
                },
                {
                  "index": 1134,
                  "Month": "1843-07",
                  "Sunspots": 9.5
                },
                {
                  "index": 1135,
                  "Month": "1843-08",
                  "Sunspots": 11.8
                },
                {
                  "index": 1136,
                  "Month": "1843-09",
                  "Sunspots": 4.2
                },
                {
                  "index": 1137,
                  "Month": "1843-10",
                  "Sunspots": 5.3
                },
                {
                  "index": 1138,
                  "Month": "1843-11",
                  "Sunspots": 19.1
                },
                {
                  "index": 1139,
                  "Month": "1843-12",
                  "Sunspots": 12.7
                },
                {
                  "index": 1140,
                  "Month": "1844-01",
                  "Sunspots": 9.4
                },
                {
                  "index": 1141,
                  "Month": "1844-02",
                  "Sunspots": 14.7
                },
                {
                  "index": 1142,
                  "Month": "1844-03",
                  "Sunspots": 13.6
                },
                {
                  "index": 1143,
                  "Month": "1844-04",
                  "Sunspots": 20.8
                },
                {
                  "index": 1144,
                  "Month": "1844-05",
                  "Sunspots": 12
                },
                {
                  "index": 1145,
                  "Month": "1844-06",
                  "Sunspots": 3.7
                },
                {
                  "index": 1146,
                  "Month": "1844-07",
                  "Sunspots": 21.2
                },
                {
                  "index": 1147,
                  "Month": "1844-08",
                  "Sunspots": 23.9
                },
                {
                  "index": 1148,
                  "Month": "1844-09",
                  "Sunspots": 6.9
                },
                {
                  "index": 1149,
                  "Month": "1844-10",
                  "Sunspots": 21.5
                },
                {
                  "index": 1150,
                  "Month": "1844-11",
                  "Sunspots": 10.7
                },
                {
                  "index": 1151,
                  "Month": "1844-12",
                  "Sunspots": 21.6
                },
                {
                  "index": 1152,
                  "Month": "1845-01",
                  "Sunspots": 25.7
                },
                {
                  "index": 1153,
                  "Month": "1845-02",
                  "Sunspots": 43.6
                },
                {
                  "index": 1154,
                  "Month": "1845-03",
                  "Sunspots": 43.3
                },
                {
                  "index": 1155,
                  "Month": "1845-04",
                  "Sunspots": 56.9
                },
                {
                  "index": 1156,
                  "Month": "1845-05",
                  "Sunspots": 47.8
                },
                {
                  "index": 1157,
                  "Month": "1845-06",
                  "Sunspots": 31.1
                },
                {
                  "index": 1158,
                  "Month": "1845-07",
                  "Sunspots": 30.6
                },
                {
                  "index": 1159,
                  "Month": "1845-08",
                  "Sunspots": 32.3
                },
                {
                  "index": 1160,
                  "Month": "1845-09",
                  "Sunspots": 29.6
                },
                {
                  "index": 1161,
                  "Month": "1845-10",
                  "Sunspots": 40.7
                },
                {
                  "index": 1162,
                  "Month": "1845-11",
                  "Sunspots": 39.4
                },
                {
                  "index": 1163,
                  "Month": "1845-12",
                  "Sunspots": 59.7
                },
                {
                  "index": 1164,
                  "Month": "1846-01",
                  "Sunspots": 38.7
                },
                {
                  "index": 1165,
                  "Month": "1846-02",
                  "Sunspots": 51
                },
                {
                  "index": 1166,
                  "Month": "1846-03",
                  "Sunspots": 63.9
                },
                {
                  "index": 1167,
                  "Month": "1846-04",
                  "Sunspots": 69.2
                },
                {
                  "index": 1168,
                  "Month": "1846-05",
                  "Sunspots": 59.9
                },
                {
                  "index": 1169,
                  "Month": "1846-06",
                  "Sunspots": 65.1
                },
                {
                  "index": 1170,
                  "Month": "1846-07",
                  "Sunspots": 46.5
                },
                {
                  "index": 1171,
                  "Month": "1846-08",
                  "Sunspots": 54.8
                },
                {
                  "index": 1172,
                  "Month": "1846-09",
                  "Sunspots": 107.1
                },
                {
                  "index": 1173,
                  "Month": "1846-10",
                  "Sunspots": 55.9
                },
                {
                  "index": 1174,
                  "Month": "1846-11",
                  "Sunspots": 60.4
                },
                {
                  "index": 1175,
                  "Month": "1846-12",
                  "Sunspots": 65.5
                },
                {
                  "index": 1176,
                  "Month": "1847-01",
                  "Sunspots": 62.6
                },
                {
                  "index": 1177,
                  "Month": "1847-02",
                  "Sunspots": 44.9
                },
                {
                  "index": 1178,
                  "Month": "1847-03",
                  "Sunspots": 85.7
                },
                {
                  "index": 1179,
                  "Month": "1847-04",
                  "Sunspots": 44.7
                },
                {
                  "index": 1180,
                  "Month": "1847-05",
                  "Sunspots": 75.4
                },
                {
                  "index": 1181,
                  "Month": "1847-06",
                  "Sunspots": 85.3
                },
                {
                  "index": 1182,
                  "Month": "1847-07",
                  "Sunspots": 52.2
                },
                {
                  "index": 1183,
                  "Month": "1847-08",
                  "Sunspots": 140.6
                },
                {
                  "index": 1184,
                  "Month": "1847-09",
                  "Sunspots": 161.2
                },
                {
                  "index": 1185,
                  "Month": "1847-10",
                  "Sunspots": 180.4
                },
                {
                  "index": 1186,
                  "Month": "1847-11",
                  "Sunspots": 138.9
                },
                {
                  "index": 1187,
                  "Month": "1847-12",
                  "Sunspots": 109.6
                },
                {
                  "index": 1188,
                  "Month": "1848-01",
                  "Sunspots": 159.1
                },
                {
                  "index": 1189,
                  "Month": "1848-02",
                  "Sunspots": 111.8
                },
                {
                  "index": 1190,
                  "Month": "1848-03",
                  "Sunspots": 108.9
                },
                {
                  "index": 1191,
                  "Month": "1848-04",
                  "Sunspots": 107.1
                },
                {
                  "index": 1192,
                  "Month": "1848-05",
                  "Sunspots": 102.2
                },
                {
                  "index": 1193,
                  "Month": "1848-06",
                  "Sunspots": 123.8
                },
                {
                  "index": 1194,
                  "Month": "1848-07",
                  "Sunspots": 139.2
                },
                {
                  "index": 1195,
                  "Month": "1848-08",
                  "Sunspots": 132.5
                },
                {
                  "index": 1196,
                  "Month": "1848-09",
                  "Sunspots": 100.3
                },
                {
                  "index": 1197,
                  "Month": "1848-10",
                  "Sunspots": 132.4
                },
                {
                  "index": 1198,
                  "Month": "1848-11",
                  "Sunspots": 114.6
                },
                {
                  "index": 1199,
                  "Month": "1848-12",
                  "Sunspots": 159.9
                },
                {
                  "index": 1200,
                  "Month": "1849-01",
                  "Sunspots": 156.7
                },
                {
                  "index": 1201,
                  "Month": "1849-02",
                  "Sunspots": 131.7
                },
                {
                  "index": 1202,
                  "Month": "1849-03",
                  "Sunspots": 96.5
                },
                {
                  "index": 1203,
                  "Month": "1849-04",
                  "Sunspots": 102.5
                },
                {
                  "index": 1204,
                  "Month": "1849-05",
                  "Sunspots": 80.6
                },
                {
                  "index": 1205,
                  "Month": "1849-06",
                  "Sunspots": 81.2
                },
                {
                  "index": 1206,
                  "Month": "1849-07",
                  "Sunspots": 78
                },
                {
                  "index": 1207,
                  "Month": "1849-08",
                  "Sunspots": 61.3
                },
                {
                  "index": 1208,
                  "Month": "1849-09",
                  "Sunspots": 93.7
                },
                {
                  "index": 1209,
                  "Month": "1849-10",
                  "Sunspots": 71.5
                },
                {
                  "index": 1210,
                  "Month": "1849-11",
                  "Sunspots": 99.7
                },
                {
                  "index": 1211,
                  "Month": "1849-12",
                  "Sunspots": 97
                },
                {
                  "index": 1212,
                  "Month": "1850-01",
                  "Sunspots": 78
                },
                {
                  "index": 1213,
                  "Month": "1850-02",
                  "Sunspots": 89.4
                },
                {
                  "index": 1214,
                  "Month": "1850-03",
                  "Sunspots": 82.6
                },
                {
                  "index": 1215,
                  "Month": "1850-04",
                  "Sunspots": 44.1
                },
                {
                  "index": 1216,
                  "Month": "1850-05",
                  "Sunspots": 61.6
                },
                {
                  "index": 1217,
                  "Month": "1850-06",
                  "Sunspots": 70
                },
                {
                  "index": 1218,
                  "Month": "1850-07",
                  "Sunspots": 39.1
                },
                {
                  "index": 1219,
                  "Month": "1850-08",
                  "Sunspots": 61.6
                },
                {
                  "index": 1220,
                  "Month": "1850-09",
                  "Sunspots": 86.2
                },
                {
                  "index": 1221,
                  "Month": "1850-10",
                  "Sunspots": 71
                },
                {
                  "index": 1222,
                  "Month": "1850-11",
                  "Sunspots": 54.8
                },
                {
                  "index": 1223,
                  "Month": "1850-12",
                  "Sunspots": 60
                },
                {
                  "index": 1224,
                  "Month": "1851-01",
                  "Sunspots": 75.5
                },
                {
                  "index": 1225,
                  "Month": "1851-02",
                  "Sunspots": 105.4
                },
                {
                  "index": 1226,
                  "Month": "1851-03",
                  "Sunspots": 64.6
                },
                {
                  "index": 1227,
                  "Month": "1851-04",
                  "Sunspots": 56.5
                },
                {
                  "index": 1228,
                  "Month": "1851-05",
                  "Sunspots": 62.6
                },
                {
                  "index": 1229,
                  "Month": "1851-06",
                  "Sunspots": 63.2
                },
                {
                  "index": 1230,
                  "Month": "1851-07",
                  "Sunspots": 36.1
                },
                {
                  "index": 1231,
                  "Month": "1851-08",
                  "Sunspots": 57.4
                },
                {
                  "index": 1232,
                  "Month": "1851-09",
                  "Sunspots": 67.9
                },
                {
                  "index": 1233,
                  "Month": "1851-10",
                  "Sunspots": 62.5
                },
                {
                  "index": 1234,
                  "Month": "1851-11",
                  "Sunspots": 50.9
                },
                {
                  "index": 1235,
                  "Month": "1851-12",
                  "Sunspots": 71.4
                },
                {
                  "index": 1236,
                  "Month": "1852-01",
                  "Sunspots": 68.4
                },
                {
                  "index": 1237,
                  "Month": "1852-02",
                  "Sunspots": 67.5
                },
                {
                  "index": 1238,
                  "Month": "1852-03",
                  "Sunspots": 61.2
                },
                {
                  "index": 1239,
                  "Month": "1852-04",
                  "Sunspots": 65.4
                },
                {
                  "index": 1240,
                  "Month": "1852-05",
                  "Sunspots": 54.9
                },
                {
                  "index": 1241,
                  "Month": "1852-06",
                  "Sunspots": 46.9
                },
                {
                  "index": 1242,
                  "Month": "1852-07",
                  "Sunspots": 42
                },
                {
                  "index": 1243,
                  "Month": "1852-08",
                  "Sunspots": 39.7
                },
                {
                  "index": 1244,
                  "Month": "1852-09",
                  "Sunspots": 37.5
                },
                {
                  "index": 1245,
                  "Month": "1852-10",
                  "Sunspots": 67.3
                },
                {
                  "index": 1246,
                  "Month": "1852-11",
                  "Sunspots": 54.3
                },
                {
                  "index": 1247,
                  "Month": "1852-12",
                  "Sunspots": 45.4
                },
                {
                  "index": 1248,
                  "Month": "1853-01",
                  "Sunspots": 41.1
                },
                {
                  "index": 1249,
                  "Month": "1853-02",
                  "Sunspots": 42.9
                },
                {
                  "index": 1250,
                  "Month": "1853-03",
                  "Sunspots": 37.7
                },
                {
                  "index": 1251,
                  "Month": "1853-04",
                  "Sunspots": 47.6
                },
                {
                  "index": 1252,
                  "Month": "1853-05",
                  "Sunspots": 34.7
                },
                {
                  "index": 1253,
                  "Month": "1853-06",
                  "Sunspots": 40
                },
                {
                  "index": 1254,
                  "Month": "1853-07",
                  "Sunspots": 45.9
                },
                {
                  "index": 1255,
                  "Month": "1853-08",
                  "Sunspots": 50.4
                },
                {
                  "index": 1256,
                  "Month": "1853-09",
                  "Sunspots": 33.5
                },
                {
                  "index": 1257,
                  "Month": "1853-10",
                  "Sunspots": 42.3
                },
                {
                  "index": 1258,
                  "Month": "1853-11",
                  "Sunspots": 28.8
                },
                {
                  "index": 1259,
                  "Month": "1853-12",
                  "Sunspots": 23.4
                },
                {
                  "index": 1260,
                  "Month": "1854-01",
                  "Sunspots": 15.4
                },
                {
                  "index": 1261,
                  "Month": "1854-02",
                  "Sunspots": 20
                },
                {
                  "index": 1262,
                  "Month": "1854-03",
                  "Sunspots": 20.7
                },
                {
                  "index": 1263,
                  "Month": "1854-04",
                  "Sunspots": 26.4
                },
                {
                  "index": 1264,
                  "Month": "1854-05",
                  "Sunspots": 24
                },
                {
                  "index": 1265,
                  "Month": "1854-06",
                  "Sunspots": 21.1
                },
                {
                  "index": 1266,
                  "Month": "1854-07",
                  "Sunspots": 18.7
                },
                {
                  "index": 1267,
                  "Month": "1854-08",
                  "Sunspots": 15.8
                },
                {
                  "index": 1268,
                  "Month": "1854-09",
                  "Sunspots": 22.4
                },
                {
                  "index": 1269,
                  "Month": "1854-10",
                  "Sunspots": 12.7
                },
                {
                  "index": 1270,
                  "Month": "1854-11",
                  "Sunspots": 28.2
                },
                {
                  "index": 1271,
                  "Month": "1854-12",
                  "Sunspots": 21.4
                },
                {
                  "index": 1272,
                  "Month": "1855-01",
                  "Sunspots": 12.3
                },
                {
                  "index": 1273,
                  "Month": "1855-02",
                  "Sunspots": 11.4
                },
                {
                  "index": 1274,
                  "Month": "1855-03",
                  "Sunspots": 17.4
                },
                {
                  "index": 1275,
                  "Month": "1855-04",
                  "Sunspots": 4.4
                },
                {
                  "index": 1276,
                  "Month": "1855-05",
                  "Sunspots": 9.1
                },
                {
                  "index": 1277,
                  "Month": "1855-06",
                  "Sunspots": 5.3
                },
                {
                  "index": 1278,
                  "Month": "1855-07",
                  "Sunspots": 0.4
                },
                {
                  "index": 1279,
                  "Month": "1855-08",
                  "Sunspots": 3.1
                },
                {
                  "index": 1280,
                  "Month": "1855-09",
                  "Sunspots": 0
                },
                {
                  "index": 1281,
                  "Month": "1855-10",
                  "Sunspots": 9.7
                },
                {
                  "index": 1282,
                  "Month": "1855-11",
                  "Sunspots": 4.3
                },
                {
                  "index": 1283,
                  "Month": "1855-12",
                  "Sunspots": 3.1
                },
                {
                  "index": 1284,
                  "Month": "1856-01",
                  "Sunspots": 0.5
                },
                {
                  "index": 1285,
                  "Month": "1856-02",
                  "Sunspots": 4.9
                },
                {
                  "index": 1286,
                  "Month": "1856-03",
                  "Sunspots": 0.4
                },
                {
                  "index": 1287,
                  "Month": "1856-04",
                  "Sunspots": 6.5
                },
                {
                  "index": 1288,
                  "Month": "1856-05",
                  "Sunspots": 0
                },
                {
                  "index": 1289,
                  "Month": "1856-06",
                  "Sunspots": 5
                },
                {
                  "index": 1290,
                  "Month": "1856-07",
                  "Sunspots": 4.6
                },
                {
                  "index": 1291,
                  "Month": "1856-08",
                  "Sunspots": 5.9
                },
                {
                  "index": 1292,
                  "Month": "1856-09",
                  "Sunspots": 4.4
                },
                {
                  "index": 1293,
                  "Month": "1856-10",
                  "Sunspots": 4.5
                },
                {
                  "index": 1294,
                  "Month": "1856-11",
                  "Sunspots": 7.7
                },
                {
                  "index": 1295,
                  "Month": "1856-12",
                  "Sunspots": 7.2
                },
                {
                  "index": 1296,
                  "Month": "1857-01",
                  "Sunspots": 13.7
                },
                {
                  "index": 1297,
                  "Month": "1857-02",
                  "Sunspots": 7.4
                },
                {
                  "index": 1298,
                  "Month": "1857-03",
                  "Sunspots": 5.2
                },
                {
                  "index": 1299,
                  "Month": "1857-04",
                  "Sunspots": 11.1
                },
                {
                  "index": 1300,
                  "Month": "1857-05",
                  "Sunspots": 29.2
                },
                {
                  "index": 1301,
                  "Month": "1857-06",
                  "Sunspots": 16
                },
                {
                  "index": 1302,
                  "Month": "1857-07",
                  "Sunspots": 22.2
                },
                {
                  "index": 1303,
                  "Month": "1857-08",
                  "Sunspots": 16.9
                },
                {
                  "index": 1304,
                  "Month": "1857-09",
                  "Sunspots": 42.4
                },
                {
                  "index": 1305,
                  "Month": "1857-10",
                  "Sunspots": 40.6
                },
                {
                  "index": 1306,
                  "Month": "1857-11",
                  "Sunspots": 31.4
                },
                {
                  "index": 1307,
                  "Month": "1857-12",
                  "Sunspots": 37.2
                },
                {
                  "index": 1308,
                  "Month": "1858-01",
                  "Sunspots": 39
                },
                {
                  "index": 1309,
                  "Month": "1858-02",
                  "Sunspots": 34.9
                },
                {
                  "index": 1310,
                  "Month": "1858-03",
                  "Sunspots": 57.5
                },
                {
                  "index": 1311,
                  "Month": "1858-04",
                  "Sunspots": 38.3
                },
                {
                  "index": 1312,
                  "Month": "1858-05",
                  "Sunspots": 41.4
                },
                {
                  "index": 1313,
                  "Month": "1858-06",
                  "Sunspots": 44.5
                },
                {
                  "index": 1314,
                  "Month": "1858-07",
                  "Sunspots": 56.7
                },
                {
                  "index": 1315,
                  "Month": "1858-08",
                  "Sunspots": 55.3
                },
                {
                  "index": 1316,
                  "Month": "1858-09",
                  "Sunspots": 80.1
                },
                {
                  "index": 1317,
                  "Month": "1858-10",
                  "Sunspots": 91.2
                },
                {
                  "index": 1318,
                  "Month": "1858-11",
                  "Sunspots": 51.9
                },
                {
                  "index": 1319,
                  "Month": "1858-12",
                  "Sunspots": 66.9
                },
                {
                  "index": 1320,
                  "Month": "1859-01",
                  "Sunspots": 83.7
                },
                {
                  "index": 1321,
                  "Month": "1859-02",
                  "Sunspots": 87.6
                },
                {
                  "index": 1322,
                  "Month": "1859-03",
                  "Sunspots": 90.3
                },
                {
                  "index": 1323,
                  "Month": "1859-04",
                  "Sunspots": 85.7
                },
                {
                  "index": 1324,
                  "Month": "1859-05",
                  "Sunspots": 91
                },
                {
                  "index": 1325,
                  "Month": "1859-06",
                  "Sunspots": 87.1
                },
                {
                  "index": 1326,
                  "Month": "1859-07",
                  "Sunspots": 95.2
                },
                {
                  "index": 1327,
                  "Month": "1859-08",
                  "Sunspots": 106.8
                },
                {
                  "index": 1328,
                  "Month": "1859-09",
                  "Sunspots": 105.8
                },
                {
                  "index": 1329,
                  "Month": "1859-10",
                  "Sunspots": 114.6
                },
                {
                  "index": 1330,
                  "Month": "1859-11",
                  "Sunspots": 97.2
                },
                {
                  "index": 1331,
                  "Month": "1859-12",
                  "Sunspots": 81
                },
                {
                  "index": 1332,
                  "Month": "1860-01",
                  "Sunspots": 81.5
                },
                {
                  "index": 1333,
                  "Month": "1860-02",
                  "Sunspots": 88
                },
                {
                  "index": 1334,
                  "Month": "1860-03",
                  "Sunspots": 98.9
                },
                {
                  "index": 1335,
                  "Month": "1860-04",
                  "Sunspots": 71.4
                },
                {
                  "index": 1336,
                  "Month": "1860-05",
                  "Sunspots": 107.1
                },
                {
                  "index": 1337,
                  "Month": "1860-06",
                  "Sunspots": 108.6
                },
                {
                  "index": 1338,
                  "Month": "1860-07",
                  "Sunspots": 116.7
                },
                {
                  "index": 1339,
                  "Month": "1860-08",
                  "Sunspots": 100.3
                },
                {
                  "index": 1340,
                  "Month": "1860-09",
                  "Sunspots": 92.2
                },
                {
                  "index": 1341,
                  "Month": "1860-10",
                  "Sunspots": 90.1
                },
                {
                  "index": 1342,
                  "Month": "1860-11",
                  "Sunspots": 97.9
                },
                {
                  "index": 1343,
                  "Month": "1860-12",
                  "Sunspots": 95.6
                },
                {
                  "index": 1344,
                  "Month": "1861-01",
                  "Sunspots": 62.3
                },
                {
                  "index": 1345,
                  "Month": "1861-02",
                  "Sunspots": 77.8
                },
                {
                  "index": 1346,
                  "Month": "1861-03",
                  "Sunspots": 101
                },
                {
                  "index": 1347,
                  "Month": "1861-04",
                  "Sunspots": 98.5
                },
                {
                  "index": 1348,
                  "Month": "1861-05",
                  "Sunspots": 56.8
                },
                {
                  "index": 1349,
                  "Month": "1861-06",
                  "Sunspots": 87.8
                },
                {
                  "index": 1350,
                  "Month": "1861-07",
                  "Sunspots": 78
                },
                {
                  "index": 1351,
                  "Month": "1861-08",
                  "Sunspots": 82.5
                },
                {
                  "index": 1352,
                  "Month": "1861-09",
                  "Sunspots": 79.9
                },
                {
                  "index": 1353,
                  "Month": "1861-10",
                  "Sunspots": 67.2
                },
                {
                  "index": 1354,
                  "Month": "1861-11",
                  "Sunspots": 53.7
                },
                {
                  "index": 1355,
                  "Month": "1861-12",
                  "Sunspots": 80.5
                },
                {
                  "index": 1356,
                  "Month": "1862-01",
                  "Sunspots": 63.1
                },
                {
                  "index": 1357,
                  "Month": "1862-02",
                  "Sunspots": 64.5
                },
                {
                  "index": 1358,
                  "Month": "1862-03",
                  "Sunspots": 43.6
                },
                {
                  "index": 1359,
                  "Month": "1862-04",
                  "Sunspots": 53.7
                },
                {
                  "index": 1360,
                  "Month": "1862-05",
                  "Sunspots": 64.4
                },
                {
                  "index": 1361,
                  "Month": "1862-06",
                  "Sunspots": 84
                },
                {
                  "index": 1362,
                  "Month": "1862-07",
                  "Sunspots": 73.4
                },
                {
                  "index": 1363,
                  "Month": "1862-08",
                  "Sunspots": 62.5
                },
                {
                  "index": 1364,
                  "Month": "1862-09",
                  "Sunspots": 66.6
                },
                {
                  "index": 1365,
                  "Month": "1862-10",
                  "Sunspots": 42
                },
                {
                  "index": 1366,
                  "Month": "1862-11",
                  "Sunspots": 50.6
                },
                {
                  "index": 1367,
                  "Month": "1862-12",
                  "Sunspots": 40.9
                },
                {
                  "index": 1368,
                  "Month": "1863-01",
                  "Sunspots": 48.3
                },
                {
                  "index": 1369,
                  "Month": "1863-02",
                  "Sunspots": 56.7
                },
                {
                  "index": 1370,
                  "Month": "1863-03",
                  "Sunspots": 66.4
                },
                {
                  "index": 1371,
                  "Month": "1863-04",
                  "Sunspots": 40.6
                },
                {
                  "index": 1372,
                  "Month": "1863-05",
                  "Sunspots": 53.8
                },
                {
                  "index": 1373,
                  "Month": "1863-06",
                  "Sunspots": 40.8
                },
                {
                  "index": 1374,
                  "Month": "1863-07",
                  "Sunspots": 32.7
                },
                {
                  "index": 1375,
                  "Month": "1863-08",
                  "Sunspots": 48.1
                },
                {
                  "index": 1376,
                  "Month": "1863-09",
                  "Sunspots": 22
                },
                {
                  "index": 1377,
                  "Month": "1863-10",
                  "Sunspots": 39.9
                },
                {
                  "index": 1378,
                  "Month": "1863-11",
                  "Sunspots": 37.7
                },
                {
                  "index": 1379,
                  "Month": "1863-12",
                  "Sunspots": 41.2
                },
                {
                  "index": 1380,
                  "Month": "1864-01",
                  "Sunspots": 57.7
                },
                {
                  "index": 1381,
                  "Month": "1864-02",
                  "Sunspots": 47.1
                },
                {
                  "index": 1382,
                  "Month": "1864-03",
                  "Sunspots": 66.3
                },
                {
                  "index": 1383,
                  "Month": "1864-04",
                  "Sunspots": 35.8
                },
                {
                  "index": 1384,
                  "Month": "1864-05",
                  "Sunspots": 40.6
                },
                {
                  "index": 1385,
                  "Month": "1864-06",
                  "Sunspots": 57.8
                },
                {
                  "index": 1386,
                  "Month": "1864-07",
                  "Sunspots": 54.7
                },
                {
                  "index": 1387,
                  "Month": "1864-08",
                  "Sunspots": 54.8
                },
                {
                  "index": 1388,
                  "Month": "1864-09",
                  "Sunspots": 28.5
                },
                {
                  "index": 1389,
                  "Month": "1864-10",
                  "Sunspots": 33.9
                },
                {
                  "index": 1390,
                  "Month": "1864-11",
                  "Sunspots": 57.6
                },
                {
                  "index": 1391,
                  "Month": "1864-12",
                  "Sunspots": 28.6
                },
                {
                  "index": 1392,
                  "Month": "1865-01",
                  "Sunspots": 48.7
                },
                {
                  "index": 1393,
                  "Month": "1865-02",
                  "Sunspots": 39.3
                },
                {
                  "index": 1394,
                  "Month": "1865-03",
                  "Sunspots": 39.5
                },
                {
                  "index": 1395,
                  "Month": "1865-04",
                  "Sunspots": 29.4
                },
                {
                  "index": 1396,
                  "Month": "1865-05",
                  "Sunspots": 34.5
                },
                {
                  "index": 1397,
                  "Month": "1865-06",
                  "Sunspots": 33.6
                },
                {
                  "index": 1398,
                  "Month": "1865-07",
                  "Sunspots": 26.8
                },
                {
                  "index": 1399,
                  "Month": "1865-08",
                  "Sunspots": 37.8
                },
                {
                  "index": 1400,
                  "Month": "1865-09",
                  "Sunspots": 21.6
                },
                {
                  "index": 1401,
                  "Month": "1865-10",
                  "Sunspots": 17.1
                },
                {
                  "index": 1402,
                  "Month": "1865-11",
                  "Sunspots": 24.6
                },
                {
                  "index": 1403,
                  "Month": "1865-12",
                  "Sunspots": 12.8
                },
                {
                  "index": 1404,
                  "Month": "1866-01",
                  "Sunspots": 31.6
                },
                {
                  "index": 1405,
                  "Month": "1866-02",
                  "Sunspots": 38.4
                },
                {
                  "index": 1406,
                  "Month": "1866-03",
                  "Sunspots": 24.6
                },
                {
                  "index": 1407,
                  "Month": "1866-04",
                  "Sunspots": 17.6
                },
                {
                  "index": 1408,
                  "Month": "1866-05",
                  "Sunspots": 12.9
                },
                {
                  "index": 1409,
                  "Month": "1866-06",
                  "Sunspots": 16.5
                },
                {
                  "index": 1410,
                  "Month": "1866-07",
                  "Sunspots": 9.3
                },
                {
                  "index": 1411,
                  "Month": "1866-08",
                  "Sunspots": 12.7
                },
                {
                  "index": 1412,
                  "Month": "1866-09",
                  "Sunspots": 7.3
                },
                {
                  "index": 1413,
                  "Month": "1866-10",
                  "Sunspots": 14.1
                },
                {
                  "index": 1414,
                  "Month": "1866-11",
                  "Sunspots": 9
                },
                {
                  "index": 1415,
                  "Month": "1866-12",
                  "Sunspots": 1.5
                },
                {
                  "index": 1416,
                  "Month": "1867-01",
                  "Sunspots": 0
                },
                {
                  "index": 1417,
                  "Month": "1867-02",
                  "Sunspots": 0.7
                },
                {
                  "index": 1418,
                  "Month": "1867-03",
                  "Sunspots": 9.2
                },
                {
                  "index": 1419,
                  "Month": "1867-04",
                  "Sunspots": 5.1
                },
                {
                  "index": 1420,
                  "Month": "1867-05",
                  "Sunspots": 2.9
                },
                {
                  "index": 1421,
                  "Month": "1867-06",
                  "Sunspots": 1.5
                },
                {
                  "index": 1422,
                  "Month": "1867-07",
                  "Sunspots": 5
                },
                {
                  "index": 1423,
                  "Month": "1867-08",
                  "Sunspots": 4.9
                },
                {
                  "index": 1424,
                  "Month": "1867-09",
                  "Sunspots": 9.8
                },
                {
                  "index": 1425,
                  "Month": "1867-10",
                  "Sunspots": 13.5
                },
                {
                  "index": 1426,
                  "Month": "1867-11",
                  "Sunspots": 9.3
                },
                {
                  "index": 1427,
                  "Month": "1867-12",
                  "Sunspots": 25.2
                },
                {
                  "index": 1428,
                  "Month": "1868-01",
                  "Sunspots": 15.6
                },
                {
                  "index": 1429,
                  "Month": "1868-02",
                  "Sunspots": 15.8
                },
                {
                  "index": 1430,
                  "Month": "1868-03",
                  "Sunspots": 26.5
                },
                {
                  "index": 1431,
                  "Month": "1868-04",
                  "Sunspots": 36.6
                },
                {
                  "index": 1432,
                  "Month": "1868-05",
                  "Sunspots": 26.7
                },
                {
                  "index": 1433,
                  "Month": "1868-06",
                  "Sunspots": 31.1
                },
                {
                  "index": 1434,
                  "Month": "1868-07",
                  "Sunspots": 28.6
                },
                {
                  "index": 1435,
                  "Month": "1868-08",
                  "Sunspots": 34.4
                },
                {
                  "index": 1436,
                  "Month": "1868-09",
                  "Sunspots": 43.8
                },
                {
                  "index": 1437,
                  "Month": "1868-10",
                  "Sunspots": 61.7
                },
                {
                  "index": 1438,
                  "Month": "1868-11",
                  "Sunspots": 59.1
                },
                {
                  "index": 1439,
                  "Month": "1868-12",
                  "Sunspots": 67.6
                },
                {
                  "index": 1440,
                  "Month": "1869-01",
                  "Sunspots": 60.9
                },
                {
                  "index": 1441,
                  "Month": "1869-02",
                  "Sunspots": 59.3
                },
                {
                  "index": 1442,
                  "Month": "1869-03",
                  "Sunspots": 52.7
                },
                {
                  "index": 1443,
                  "Month": "1869-04",
                  "Sunspots": 41
                },
                {
                  "index": 1444,
                  "Month": "1869-05",
                  "Sunspots": 104
                },
                {
                  "index": 1445,
                  "Month": "1869-06",
                  "Sunspots": 108.4
                },
                {
                  "index": 1446,
                  "Month": "1869-07",
                  "Sunspots": 59.2
                },
                {
                  "index": 1447,
                  "Month": "1869-08",
                  "Sunspots": 79.6
                },
                {
                  "index": 1448,
                  "Month": "1869-09",
                  "Sunspots": 80.6
                },
                {
                  "index": 1449,
                  "Month": "1869-10",
                  "Sunspots": 59.4
                },
                {
                  "index": 1450,
                  "Month": "1869-11",
                  "Sunspots": 77.4
                },
                {
                  "index": 1451,
                  "Month": "1869-12",
                  "Sunspots": 104.3
                },
                {
                  "index": 1452,
                  "Month": "1870-01",
                  "Sunspots": 77.3
                },
                {
                  "index": 1453,
                  "Month": "1870-02",
                  "Sunspots": 114.9
                },
                {
                  "index": 1454,
                  "Month": "1870-03",
                  "Sunspots": 159.4
                },
                {
                  "index": 1455,
                  "Month": "1870-04",
                  "Sunspots": 160
                },
                {
                  "index": 1456,
                  "Month": "1870-05",
                  "Sunspots": 176
                },
                {
                  "index": 1457,
                  "Month": "1870-06",
                  "Sunspots": 135.6
                },
                {
                  "index": 1458,
                  "Month": "1870-07",
                  "Sunspots": 132.4
                },
                {
                  "index": 1459,
                  "Month": "1870-08",
                  "Sunspots": 153.8
                },
                {
                  "index": 1460,
                  "Month": "1870-09",
                  "Sunspots": 136
                },
                {
                  "index": 1461,
                  "Month": "1870-10",
                  "Sunspots": 146.4
                },
                {
                  "index": 1462,
                  "Month": "1870-11",
                  "Sunspots": 147.5
                },
                {
                  "index": 1463,
                  "Month": "1870-12",
                  "Sunspots": 130
                },
                {
                  "index": 1464,
                  "Month": "1871-01",
                  "Sunspots": 88.3
                },
                {
                  "index": 1465,
                  "Month": "1871-02",
                  "Sunspots": 125.3
                },
                {
                  "index": 1466,
                  "Month": "1871-03",
                  "Sunspots": 143.2
                },
                {
                  "index": 1467,
                  "Month": "1871-04",
                  "Sunspots": 162.4
                },
                {
                  "index": 1468,
                  "Month": "1871-05",
                  "Sunspots": 145.5
                },
                {
                  "index": 1469,
                  "Month": "1871-06",
                  "Sunspots": 91.7
                },
                {
                  "index": 1470,
                  "Month": "1871-07",
                  "Sunspots": 103
                },
                {
                  "index": 1471,
                  "Month": "1871-08",
                  "Sunspots": 110
                },
                {
                  "index": 1472,
                  "Month": "1871-09",
                  "Sunspots": 80.3
                },
                {
                  "index": 1473,
                  "Month": "1871-10",
                  "Sunspots": 89
                },
                {
                  "index": 1474,
                  "Month": "1871-11",
                  "Sunspots": 105.4
                },
                {
                  "index": 1475,
                  "Month": "1871-12",
                  "Sunspots": 90.3
                },
                {
                  "index": 1476,
                  "Month": "1872-01",
                  "Sunspots": 79.5
                },
                {
                  "index": 1477,
                  "Month": "1872-02",
                  "Sunspots": 120.1
                },
                {
                  "index": 1478,
                  "Month": "1872-03",
                  "Sunspots": 88.4
                },
                {
                  "index": 1479,
                  "Month": "1872-04",
                  "Sunspots": 102.1
                },
                {
                  "index": 1480,
                  "Month": "1872-05",
                  "Sunspots": 107.6
                },
                {
                  "index": 1481,
                  "Month": "1872-06",
                  "Sunspots": 109.9
                },
                {
                  "index": 1482,
                  "Month": "1872-07",
                  "Sunspots": 105.5
                },
                {
                  "index": 1483,
                  "Month": "1872-08",
                  "Sunspots": 92.9
                },
                {
                  "index": 1484,
                  "Month": "1872-09",
                  "Sunspots": 114.6
                },
                {
                  "index": 1485,
                  "Month": "1872-10",
                  "Sunspots": 103.5
                },
                {
                  "index": 1486,
                  "Month": "1872-11",
                  "Sunspots": 112
                },
                {
                  "index": 1487,
                  "Month": "1872-12",
                  "Sunspots": 83.9
                },
                {
                  "index": 1488,
                  "Month": "1873-01",
                  "Sunspots": 86.7
                },
                {
                  "index": 1489,
                  "Month": "1873-02",
                  "Sunspots": 107
                },
                {
                  "index": 1490,
                  "Month": "1873-03",
                  "Sunspots": 98.3
                },
                {
                  "index": 1491,
                  "Month": "1873-04",
                  "Sunspots": 76.2
                },
                {
                  "index": 1492,
                  "Month": "1873-05",
                  "Sunspots": 47.9
                },
                {
                  "index": 1493,
                  "Month": "1873-06",
                  "Sunspots": 44.8
                },
                {
                  "index": 1494,
                  "Month": "1873-07",
                  "Sunspots": 66.9
                },
                {
                  "index": 1495,
                  "Month": "1873-08",
                  "Sunspots": 68.2
                },
                {
                  "index": 1496,
                  "Month": "1873-09",
                  "Sunspots": 47.5
                },
                {
                  "index": 1497,
                  "Month": "1873-10",
                  "Sunspots": 47.4
                },
                {
                  "index": 1498,
                  "Month": "1873-11",
                  "Sunspots": 55.4
                },
                {
                  "index": 1499,
                  "Month": "1873-12",
                  "Sunspots": 49.2
                },
                {
                  "index": 1500,
                  "Month": "1874-01",
                  "Sunspots": 60.8
                },
                {
                  "index": 1501,
                  "Month": "1874-02",
                  "Sunspots": 64.2
                },
                {
                  "index": 1502,
                  "Month": "1874-03",
                  "Sunspots": 46.4
                },
                {
                  "index": 1503,
                  "Month": "1874-04",
                  "Sunspots": 32
                },
                {
                  "index": 1504,
                  "Month": "1874-05",
                  "Sunspots": 44.6
                },
                {
                  "index": 1505,
                  "Month": "1874-06",
                  "Sunspots": 38.2
                },
                {
                  "index": 1506,
                  "Month": "1874-07",
                  "Sunspots": 67.8
                },
                {
                  "index": 1507,
                  "Month": "1874-08",
                  "Sunspots": 61.3
                },
                {
                  "index": 1508,
                  "Month": "1874-09",
                  "Sunspots": 28
                },
                {
                  "index": 1509,
                  "Month": "1874-10",
                  "Sunspots": 34.3
                },
                {
                  "index": 1510,
                  "Month": "1874-11",
                  "Sunspots": 28.9
                },
                {
                  "index": 1511,
                  "Month": "1874-12",
                  "Sunspots": 29.3
                },
                {
                  "index": 1512,
                  "Month": "1875-01",
                  "Sunspots": 14.6
                },
                {
                  "index": 1513,
                  "Month": "1875-02",
                  "Sunspots": 22.2
                },
                {
                  "index": 1514,
                  "Month": "1875-03",
                  "Sunspots": 33.8
                },
                {
                  "index": 1515,
                  "Month": "1875-04",
                  "Sunspots": 29.1
                },
                {
                  "index": 1516,
                  "Month": "1875-05",
                  "Sunspots": 11.5
                },
                {
                  "index": 1517,
                  "Month": "1875-06",
                  "Sunspots": 23.9
                },
                {
                  "index": 1518,
                  "Month": "1875-07",
                  "Sunspots": 12.5
                },
                {
                  "index": 1519,
                  "Month": "1875-08",
                  "Sunspots": 14.6
                },
                {
                  "index": 1520,
                  "Month": "1875-09",
                  "Sunspots": 2.4
                },
                {
                  "index": 1521,
                  "Month": "1875-10",
                  "Sunspots": 12.7
                },
                {
                  "index": 1522,
                  "Month": "1875-11",
                  "Sunspots": 17.7
                },
                {
                  "index": 1523,
                  "Month": "1875-12",
                  "Sunspots": 9.9
                },
                {
                  "index": 1524,
                  "Month": "1876-01",
                  "Sunspots": 14.3
                },
                {
                  "index": 1525,
                  "Month": "1876-02",
                  "Sunspots": 15
                },
                {
                  "index": 1526,
                  "Month": "1876-03",
                  "Sunspots": 31.2
                },
                {
                  "index": 1527,
                  "Month": "1876-04",
                  "Sunspots": 2.3
                },
                {
                  "index": 1528,
                  "Month": "1876-05",
                  "Sunspots": 5.1
                },
                {
                  "index": 1529,
                  "Month": "1876-06",
                  "Sunspots": 1.6
                },
                {
                  "index": 1530,
                  "Month": "1876-07",
                  "Sunspots": 15.2
                },
                {
                  "index": 1531,
                  "Month": "1876-08",
                  "Sunspots": 8.8
                },
                {
                  "index": 1532,
                  "Month": "1876-09",
                  "Sunspots": 9.9
                },
                {
                  "index": 1533,
                  "Month": "1876-10",
                  "Sunspots": 14.3
                },
                {
                  "index": 1534,
                  "Month": "1876-11",
                  "Sunspots": 9.9
                },
                {
                  "index": 1535,
                  "Month": "1876-12",
                  "Sunspots": 8.2
                },
                {
                  "index": 1536,
                  "Month": "1877-01",
                  "Sunspots": 24.4
                },
                {
                  "index": 1537,
                  "Month": "1877-02",
                  "Sunspots": 8.7
                },
                {
                  "index": 1538,
                  "Month": "1877-03",
                  "Sunspots": 11.7
                },
                {
                  "index": 1539,
                  "Month": "1877-04",
                  "Sunspots": 15.8
                },
                {
                  "index": 1540,
                  "Month": "1877-05",
                  "Sunspots": 21.2
                },
                {
                  "index": 1541,
                  "Month": "1877-06",
                  "Sunspots": 13.4
                },
                {
                  "index": 1542,
                  "Month": "1877-07",
                  "Sunspots": 5.9
                },
                {
                  "index": 1543,
                  "Month": "1877-08",
                  "Sunspots": 6.3
                },
                {
                  "index": 1544,
                  "Month": "1877-09",
                  "Sunspots": 16.4
                },
                {
                  "index": 1545,
                  "Month": "1877-10",
                  "Sunspots": 6.7
                },
                {
                  "index": 1546,
                  "Month": "1877-11",
                  "Sunspots": 14.5
                },
                {
                  "index": 1547,
                  "Month": "1877-12",
                  "Sunspots": 2.3
                },
                {
                  "index": 1548,
                  "Month": "1878-01",
                  "Sunspots": 3.3
                },
                {
                  "index": 1549,
                  "Month": "1878-02",
                  "Sunspots": 6
                },
                {
                  "index": 1550,
                  "Month": "1878-03",
                  "Sunspots": 7.8
                },
                {
                  "index": 1551,
                  "Month": "1878-04",
                  "Sunspots": 0.1
                },
                {
                  "index": 1552,
                  "Month": "1878-05",
                  "Sunspots": 5.8
                },
                {
                  "index": 1553,
                  "Month": "1878-06",
                  "Sunspots": 6.4
                },
                {
                  "index": 1554,
                  "Month": "1878-07",
                  "Sunspots": 0.1
                },
                {
                  "index": 1555,
                  "Month": "1878-08",
                  "Sunspots": 0
                },
                {
                  "index": 1556,
                  "Month": "1878-09",
                  "Sunspots": 5.3
                },
                {
                  "index": 1557,
                  "Month": "1878-10",
                  "Sunspots": 1.1
                },
                {
                  "index": 1558,
                  "Month": "1878-11",
                  "Sunspots": 4.1
                },
                {
                  "index": 1559,
                  "Month": "1878-12",
                  "Sunspots": 0.5
                },
                {
                  "index": 1560,
                  "Month": "1879-01",
                  "Sunspots": 0.8
                },
                {
                  "index": 1561,
                  "Month": "1879-02",
                  "Sunspots": 0.6
                },
                {
                  "index": 1562,
                  "Month": "1879-03",
                  "Sunspots": 0
                },
                {
                  "index": 1563,
                  "Month": "1879-04",
                  "Sunspots": 6.2
                },
                {
                  "index": 1564,
                  "Month": "1879-05",
                  "Sunspots": 2.4
                },
                {
                  "index": 1565,
                  "Month": "1879-06",
                  "Sunspots": 4.8
                },
                {
                  "index": 1566,
                  "Month": "1879-07",
                  "Sunspots": 7.5
                },
                {
                  "index": 1567,
                  "Month": "1879-08",
                  "Sunspots": 10.7
                },
                {
                  "index": 1568,
                  "Month": "1879-09",
                  "Sunspots": 6.1
                },
                {
                  "index": 1569,
                  "Month": "1879-10",
                  "Sunspots": 12.3
                },
                {
                  "index": 1570,
                  "Month": "1879-11",
                  "Sunspots": 12.9
                },
                {
                  "index": 1571,
                  "Month": "1879-12",
                  "Sunspots": 7.2
                },
                {
                  "index": 1572,
                  "Month": "1880-01",
                  "Sunspots": 24
                },
                {
                  "index": 1573,
                  "Month": "1880-02",
                  "Sunspots": 27.5
                },
                {
                  "index": 1574,
                  "Month": "1880-03",
                  "Sunspots": 19.5
                },
                {
                  "index": 1575,
                  "Month": "1880-04",
                  "Sunspots": 19.3
                },
                {
                  "index": 1576,
                  "Month": "1880-05",
                  "Sunspots": 23.5
                },
                {
                  "index": 1577,
                  "Month": "1880-06",
                  "Sunspots": 34.1
                },
                {
                  "index": 1578,
                  "Month": "1880-07",
                  "Sunspots": 21.9
                },
                {
                  "index": 1579,
                  "Month": "1880-08",
                  "Sunspots": 48.1
                },
                {
                  "index": 1580,
                  "Month": "1880-09",
                  "Sunspots": 66
                },
                {
                  "index": 1581,
                  "Month": "1880-10",
                  "Sunspots": 43
                },
                {
                  "index": 1582,
                  "Month": "1880-11",
                  "Sunspots": 30.7
                },
                {
                  "index": 1583,
                  "Month": "1880-12",
                  "Sunspots": 29.6
                },
                {
                  "index": 1584,
                  "Month": "1881-01",
                  "Sunspots": 36.4
                },
                {
                  "index": 1585,
                  "Month": "1881-02",
                  "Sunspots": 53.2
                },
                {
                  "index": 1586,
                  "Month": "1881-03",
                  "Sunspots": 51.5
                },
                {
                  "index": 1587,
                  "Month": "1881-04",
                  "Sunspots": 51.7
                },
                {
                  "index": 1588,
                  "Month": "1881-05",
                  "Sunspots": 43.5
                },
                {
                  "index": 1589,
                  "Month": "1881-06",
                  "Sunspots": 60.5
                },
                {
                  "index": 1590,
                  "Month": "1881-07",
                  "Sunspots": 76.9
                },
                {
                  "index": 1591,
                  "Month": "1881-08",
                  "Sunspots": 58
                },
                {
                  "index": 1592,
                  "Month": "1881-09",
                  "Sunspots": 53.2
                },
                {
                  "index": 1593,
                  "Month": "1881-10",
                  "Sunspots": 64
                },
                {
                  "index": 1594,
                  "Month": "1881-11",
                  "Sunspots": 54.8
                },
                {
                  "index": 1595,
                  "Month": "1881-12",
                  "Sunspots": 47.3
                },
                {
                  "index": 1596,
                  "Month": "1882-01",
                  "Sunspots": 45
                },
                {
                  "index": 1597,
                  "Month": "1882-02",
                  "Sunspots": 69.3
                },
                {
                  "index": 1598,
                  "Month": "1882-03",
                  "Sunspots": 67.5
                },
                {
                  "index": 1599,
                  "Month": "1882-04",
                  "Sunspots": 95.8
                },
                {
                  "index": 1600,
                  "Month": "1882-05",
                  "Sunspots": 64.1
                },
                {
                  "index": 1601,
                  "Month": "1882-06",
                  "Sunspots": 45.2
                },
                {
                  "index": 1602,
                  "Month": "1882-07",
                  "Sunspots": 45.4
                },
                {
                  "index": 1603,
                  "Month": "1882-08",
                  "Sunspots": 40.4
                },
                {
                  "index": 1604,
                  "Month": "1882-09",
                  "Sunspots": 57.7
                },
                {
                  "index": 1605,
                  "Month": "1882-10",
                  "Sunspots": 59.2
                },
                {
                  "index": 1606,
                  "Month": "1882-11",
                  "Sunspots": 84.4
                },
                {
                  "index": 1607,
                  "Month": "1882-12",
                  "Sunspots": 41.8
                },
                {
                  "index": 1608,
                  "Month": "1883-01",
                  "Sunspots": 60.6
                },
                {
                  "index": 1609,
                  "Month": "1883-02",
                  "Sunspots": 46.9
                },
                {
                  "index": 1610,
                  "Month": "1883-03",
                  "Sunspots": 42.8
                },
                {
                  "index": 1611,
                  "Month": "1883-04",
                  "Sunspots": 82.1
                },
                {
                  "index": 1612,
                  "Month": "1883-05",
                  "Sunspots": 32.1
                },
                {
                  "index": 1613,
                  "Month": "1883-06",
                  "Sunspots": 76.5
                },
                {
                  "index": 1614,
                  "Month": "1883-07",
                  "Sunspots": 80.6
                },
                {
                  "index": 1615,
                  "Month": "1883-08",
                  "Sunspots": 46
                },
                {
                  "index": 1616,
                  "Month": "1883-09",
                  "Sunspots": 52.6
                },
                {
                  "index": 1617,
                  "Month": "1883-10",
                  "Sunspots": 83.8
                },
                {
                  "index": 1618,
                  "Month": "1883-11",
                  "Sunspots": 84.5
                },
                {
                  "index": 1619,
                  "Month": "1883-12",
                  "Sunspots": 75.9
                },
                {
                  "index": 1620,
                  "Month": "1884-01",
                  "Sunspots": 91.5
                },
                {
                  "index": 1621,
                  "Month": "1884-02",
                  "Sunspots": 86.9
                },
                {
                  "index": 1622,
                  "Month": "1884-03",
                  "Sunspots": 86.8
                },
                {
                  "index": 1623,
                  "Month": "1884-04",
                  "Sunspots": 76.1
                },
                {
                  "index": 1624,
                  "Month": "1884-05",
                  "Sunspots": 66.5
                },
                {
                  "index": 1625,
                  "Month": "1884-06",
                  "Sunspots": 51.2
                },
                {
                  "index": 1626,
                  "Month": "1884-07",
                  "Sunspots": 53.1
                },
                {
                  "index": 1627,
                  "Month": "1884-08",
                  "Sunspots": 55.8
                },
                {
                  "index": 1628,
                  "Month": "1884-09",
                  "Sunspots": 61.9
                },
                {
                  "index": 1629,
                  "Month": "1884-10",
                  "Sunspots": 47.8
                },
                {
                  "index": 1630,
                  "Month": "1884-11",
                  "Sunspots": 36.6
                },
                {
                  "index": 1631,
                  "Month": "1884-12",
                  "Sunspots": 47.2
                },
                {
                  "index": 1632,
                  "Month": "1885-01",
                  "Sunspots": 42.8
                },
                {
                  "index": 1633,
                  "Month": "1885-02",
                  "Sunspots": 71.8
                },
                {
                  "index": 1634,
                  "Month": "1885-03",
                  "Sunspots": 49.8
                },
                {
                  "index": 1635,
                  "Month": "1885-04",
                  "Sunspots": 55
                },
                {
                  "index": 1636,
                  "Month": "1885-05",
                  "Sunspots": 73
                },
                {
                  "index": 1637,
                  "Month": "1885-06",
                  "Sunspots": 83.7
                },
                {
                  "index": 1638,
                  "Month": "1885-07",
                  "Sunspots": 66.5
                },
                {
                  "index": 1639,
                  "Month": "1885-08",
                  "Sunspots": 50
                },
                {
                  "index": 1640,
                  "Month": "1885-09",
                  "Sunspots": 39.6
                },
                {
                  "index": 1641,
                  "Month": "1885-10",
                  "Sunspots": 38.7
                },
                {
                  "index": 1642,
                  "Month": "1885-11",
                  "Sunspots": 33.3
                },
                {
                  "index": 1643,
                  "Month": "1885-12",
                  "Sunspots": 21.7
                },
                {
                  "index": 1644,
                  "Month": "1886-01",
                  "Sunspots": 29.9
                },
                {
                  "index": 1645,
                  "Month": "1886-02",
                  "Sunspots": 25.9
                },
                {
                  "index": 1646,
                  "Month": "1886-03",
                  "Sunspots": 57.3
                },
                {
                  "index": 1647,
                  "Month": "1886-04",
                  "Sunspots": 43.7
                },
                {
                  "index": 1648,
                  "Month": "1886-05",
                  "Sunspots": 30.7
                },
                {
                  "index": 1649,
                  "Month": "1886-06",
                  "Sunspots": 27.1
                },
                {
                  "index": 1650,
                  "Month": "1886-07",
                  "Sunspots": 30.3
                },
                {
                  "index": 1651,
                  "Month": "1886-08",
                  "Sunspots": 16.9
                },
                {
                  "index": 1652,
                  "Month": "1886-09",
                  "Sunspots": 21.4
                },
                {
                  "index": 1653,
                  "Month": "1886-10",
                  "Sunspots": 8.6
                },
                {
                  "index": 1654,
                  "Month": "1886-11",
                  "Sunspots": 0.3
                },
                {
                  "index": 1655,
                  "Month": "1886-12",
                  "Sunspots": 12.4
                },
                {
                  "index": 1656,
                  "Month": "1887-01",
                  "Sunspots": 10.3
                },
                {
                  "index": 1657,
                  "Month": "1887-02",
                  "Sunspots": 13.2
                },
                {
                  "index": 1658,
                  "Month": "1887-03",
                  "Sunspots": 4.2
                },
                {
                  "index": 1659,
                  "Month": "1887-04",
                  "Sunspots": 6.9
                },
                {
                  "index": 1660,
                  "Month": "1887-05",
                  "Sunspots": 20
                },
                {
                  "index": 1661,
                  "Month": "1887-06",
                  "Sunspots": 15.7
                },
                {
                  "index": 1662,
                  "Month": "1887-07",
                  "Sunspots": 23.3
                },
                {
                  "index": 1663,
                  "Month": "1887-08",
                  "Sunspots": 21.4
                },
                {
                  "index": 1664,
                  "Month": "1887-09",
                  "Sunspots": 7.4
                },
                {
                  "index": 1665,
                  "Month": "1887-10",
                  "Sunspots": 6.6
                },
                {
                  "index": 1666,
                  "Month": "1887-11",
                  "Sunspots": 6.9
                },
                {
                  "index": 1667,
                  "Month": "1887-12",
                  "Sunspots": 20.7
                },
                {
                  "index": 1668,
                  "Month": "1888-01",
                  "Sunspots": 12.7
                },
                {
                  "index": 1669,
                  "Month": "1888-02",
                  "Sunspots": 7.1
                },
                {
                  "index": 1670,
                  "Month": "1888-03",
                  "Sunspots": 7.8
                },
                {
                  "index": 1671,
                  "Month": "1888-04",
                  "Sunspots": 5.1
                },
                {
                  "index": 1672,
                  "Month": "1888-05",
                  "Sunspots": 7
                },
                {
                  "index": 1673,
                  "Month": "1888-06",
                  "Sunspots": 7.1
                },
                {
                  "index": 1674,
                  "Month": "1888-07",
                  "Sunspots": 3.1
                },
                {
                  "index": 1675,
                  "Month": "1888-08",
                  "Sunspots": 2.8
                },
                {
                  "index": 1676,
                  "Month": "1888-09",
                  "Sunspots": 8.8
                },
                {
                  "index": 1677,
                  "Month": "1888-10",
                  "Sunspots": 2.1
                },
                {
                  "index": 1678,
                  "Month": "1888-11",
                  "Sunspots": 10.7
                },
                {
                  "index": 1679,
                  "Month": "1888-12",
                  "Sunspots": 6.7
                },
                {
                  "index": 1680,
                  "Month": "1889-01",
                  "Sunspots": 0.8
                },
                {
                  "index": 1681,
                  "Month": "1889-02",
                  "Sunspots": 8.5
                },
                {
                  "index": 1682,
                  "Month": "1889-03",
                  "Sunspots": 7
                },
                {
                  "index": 1683,
                  "Month": "1889-04",
                  "Sunspots": 4.3
                },
                {
                  "index": 1684,
                  "Month": "1889-05",
                  "Sunspots": 2.4
                },
                {
                  "index": 1685,
                  "Month": "1889-06",
                  "Sunspots": 6.4
                },
                {
                  "index": 1686,
                  "Month": "1889-07",
                  "Sunspots": 9.7
                },
                {
                  "index": 1687,
                  "Month": "1889-08",
                  "Sunspots": 20.6
                },
                {
                  "index": 1688,
                  "Month": "1889-09",
                  "Sunspots": 6.5
                },
                {
                  "index": 1689,
                  "Month": "1889-10",
                  "Sunspots": 2.1
                },
                {
                  "index": 1690,
                  "Month": "1889-11",
                  "Sunspots": 0.2
                },
                {
                  "index": 1691,
                  "Month": "1889-12",
                  "Sunspots": 6.7
                },
                {
                  "index": 1692,
                  "Month": "1890-01",
                  "Sunspots": 5.3
                },
                {
                  "index": 1693,
                  "Month": "1890-02",
                  "Sunspots": 0.6
                },
                {
                  "index": 1694,
                  "Month": "1890-03",
                  "Sunspots": 5.1
                },
                {
                  "index": 1695,
                  "Month": "1890-04",
                  "Sunspots": 1.6
                },
                {
                  "index": 1696,
                  "Month": "1890-05",
                  "Sunspots": 4.8
                },
                {
                  "index": 1697,
                  "Month": "1890-06",
                  "Sunspots": 1.3
                },
                {
                  "index": 1698,
                  "Month": "1890-07",
                  "Sunspots": 11.6
                },
                {
                  "index": 1699,
                  "Month": "1890-08",
                  "Sunspots": 8.5
                },
                {
                  "index": 1700,
                  "Month": "1890-09",
                  "Sunspots": 17.2
                },
                {
                  "index": 1701,
                  "Month": "1890-10",
                  "Sunspots": 11.2
                },
                {
                  "index": 1702,
                  "Month": "1890-11",
                  "Sunspots": 9.6
                },
                {
                  "index": 1703,
                  "Month": "1890-12",
                  "Sunspots": 7.8
                },
                {
                  "index": 1704,
                  "Month": "1891-01",
                  "Sunspots": 13.5
                },
                {
                  "index": 1705,
                  "Month": "1891-02",
                  "Sunspots": 22.2
                },
                {
                  "index": 1706,
                  "Month": "1891-03",
                  "Sunspots": 10.4
                },
                {
                  "index": 1707,
                  "Month": "1891-04",
                  "Sunspots": 20.5
                },
                {
                  "index": 1708,
                  "Month": "1891-05",
                  "Sunspots": 41.1
                },
                {
                  "index": 1709,
                  "Month": "1891-06",
                  "Sunspots": 48.3
                },
                {
                  "index": 1710,
                  "Month": "1891-07",
                  "Sunspots": 58.8
                },
                {
                  "index": 1711,
                  "Month": "1891-08",
                  "Sunspots": 33.2
                },
                {
                  "index": 1712,
                  "Month": "1891-09",
                  "Sunspots": 53.8
                },
                {
                  "index": 1713,
                  "Month": "1891-10",
                  "Sunspots": 51.5
                },
                {
                  "index": 1714,
                  "Month": "1891-11",
                  "Sunspots": 41.9
                },
                {
                  "index": 1715,
                  "Month": "1891-12",
                  "Sunspots": 32.3
                },
                {
                  "index": 1716,
                  "Month": "1892-01",
                  "Sunspots": 69.1
                },
                {
                  "index": 1717,
                  "Month": "1892-02",
                  "Sunspots": 75.6
                },
                {
                  "index": 1718,
                  "Month": "1892-03",
                  "Sunspots": 49.9
                },
                {
                  "index": 1719,
                  "Month": "1892-04",
                  "Sunspots": 69.6
                },
                {
                  "index": 1720,
                  "Month": "1892-05",
                  "Sunspots": 79.6
                },
                {
                  "index": 1721,
                  "Month": "1892-06",
                  "Sunspots": 76.3
                },
                {
                  "index": 1722,
                  "Month": "1892-07",
                  "Sunspots": 76.8
                },
                {
                  "index": 1723,
                  "Month": "1892-08",
                  "Sunspots": 101.4
                },
                {
                  "index": 1724,
                  "Month": "1892-09",
                  "Sunspots": 62.8
                },
                {
                  "index": 1725,
                  "Month": "1892-10",
                  "Sunspots": 70.5
                },
                {
                  "index": 1726,
                  "Month": "1892-11",
                  "Sunspots": 65.4
                },
                {
                  "index": 1727,
                  "Month": "1892-12",
                  "Sunspots": 78.6
                },
                {
                  "index": 1728,
                  "Month": "1893-01",
                  "Sunspots": 75
                },
                {
                  "index": 1729,
                  "Month": "1893-02",
                  "Sunspots": 73
                },
                {
                  "index": 1730,
                  "Month": "1893-03",
                  "Sunspots": 65.7
                },
                {
                  "index": 1731,
                  "Month": "1893-04",
                  "Sunspots": 88.1
                },
                {
                  "index": 1732,
                  "Month": "1893-05",
                  "Sunspots": 84.7
                },
                {
                  "index": 1733,
                  "Month": "1893-06",
                  "Sunspots": 88.2
                },
                {
                  "index": 1734,
                  "Month": "1893-07",
                  "Sunspots": 88.8
                },
                {
                  "index": 1735,
                  "Month": "1893-08",
                  "Sunspots": 129.2
                },
                {
                  "index": 1736,
                  "Month": "1893-09",
                  "Sunspots": 77.9
                },
                {
                  "index": 1737,
                  "Month": "1893-10",
                  "Sunspots": 79.7
                },
                {
                  "index": 1738,
                  "Month": "1893-11",
                  "Sunspots": 75.1
                },
                {
                  "index": 1739,
                  "Month": "1893-12",
                  "Sunspots": 93.8
                },
                {
                  "index": 1740,
                  "Month": "1894-01",
                  "Sunspots": 83.2
                },
                {
                  "index": 1741,
                  "Month": "1894-02",
                  "Sunspots": 84.6
                },
                {
                  "index": 1742,
                  "Month": "1894-03",
                  "Sunspots": 52.3
                },
                {
                  "index": 1743,
                  "Month": "1894-04",
                  "Sunspots": 81.6
                },
                {
                  "index": 1744,
                  "Month": "1894-05",
                  "Sunspots": 101.2
                },
                {
                  "index": 1745,
                  "Month": "1894-06",
                  "Sunspots": 98.9
                },
                {
                  "index": 1746,
                  "Month": "1894-07",
                  "Sunspots": 106
                },
                {
                  "index": 1747,
                  "Month": "1894-08",
                  "Sunspots": 70.3
                },
                {
                  "index": 1748,
                  "Month": "1894-09",
                  "Sunspots": 65.9
                },
                {
                  "index": 1749,
                  "Month": "1894-10",
                  "Sunspots": 75.5
                },
                {
                  "index": 1750,
                  "Month": "1894-11",
                  "Sunspots": 56.6
                },
                {
                  "index": 1751,
                  "Month": "1894-12",
                  "Sunspots": 60
                },
                {
                  "index": 1752,
                  "Month": "1895-01",
                  "Sunspots": 63.3
                },
                {
                  "index": 1753,
                  "Month": "1895-02",
                  "Sunspots": 67.2
                },
                {
                  "index": 1754,
                  "Month": "1895-03",
                  "Sunspots": 61
                },
                {
                  "index": 1755,
                  "Month": "1895-04",
                  "Sunspots": 76.9
                },
                {
                  "index": 1756,
                  "Month": "1895-05",
                  "Sunspots": 67.5
                },
                {
                  "index": 1757,
                  "Month": "1895-06",
                  "Sunspots": 71.5
                },
                {
                  "index": 1758,
                  "Month": "1895-07",
                  "Sunspots": 47.8
                },
                {
                  "index": 1759,
                  "Month": "1895-08",
                  "Sunspots": 68.9
                },
                {
                  "index": 1760,
                  "Month": "1895-09",
                  "Sunspots": 57.7
                },
                {
                  "index": 1761,
                  "Month": "1895-10",
                  "Sunspots": 67.9
                },
                {
                  "index": 1762,
                  "Month": "1895-11",
                  "Sunspots": 47.2
                },
                {
                  "index": 1763,
                  "Month": "1895-12",
                  "Sunspots": 70.7
                },
                {
                  "index": 1764,
                  "Month": "1896-01",
                  "Sunspots": 29
                },
                {
                  "index": 1765,
                  "Month": "1896-02",
                  "Sunspots": 57.4
                },
                {
                  "index": 1766,
                  "Month": "1896-03",
                  "Sunspots": 52
                },
                {
                  "index": 1767,
                  "Month": "1896-04",
                  "Sunspots": 43.8
                },
                {
                  "index": 1768,
                  "Month": "1896-05",
                  "Sunspots": 27.7
                },
                {
                  "index": 1769,
                  "Month": "1896-06",
                  "Sunspots": 49
                },
                {
                  "index": 1770,
                  "Month": "1896-07",
                  "Sunspots": 45
                },
                {
                  "index": 1771,
                  "Month": "1896-08",
                  "Sunspots": 27.2
                },
                {
                  "index": 1772,
                  "Month": "1896-09",
                  "Sunspots": 61.3
                },
                {
                  "index": 1773,
                  "Month": "1896-10",
                  "Sunspots": 28.4
                },
                {
                  "index": 1774,
                  "Month": "1896-11",
                  "Sunspots": 38
                },
                {
                  "index": 1775,
                  "Month": "1896-12",
                  "Sunspots": 42.6
                },
                {
                  "index": 1776,
                  "Month": "1897-01",
                  "Sunspots": 40.6
                },
                {
                  "index": 1777,
                  "Month": "1897-02",
                  "Sunspots": 29.4
                },
                {
                  "index": 1778,
                  "Month": "1897-03",
                  "Sunspots": 29.1
                },
                {
                  "index": 1779,
                  "Month": "1897-04",
                  "Sunspots": 31
                },
                {
                  "index": 1780,
                  "Month": "1897-05",
                  "Sunspots": 20
                },
                {
                  "index": 1781,
                  "Month": "1897-06",
                  "Sunspots": 11.3
                },
                {
                  "index": 1782,
                  "Month": "1897-07",
                  "Sunspots": 27.6
                },
                {
                  "index": 1783,
                  "Month": "1897-08",
                  "Sunspots": 21.8
                },
                {
                  "index": 1784,
                  "Month": "1897-09",
                  "Sunspots": 48.1
                },
                {
                  "index": 1785,
                  "Month": "1897-10",
                  "Sunspots": 14.3
                },
                {
                  "index": 1786,
                  "Month": "1897-11",
                  "Sunspots": 8.4
                },
                {
                  "index": 1787,
                  "Month": "1897-12",
                  "Sunspots": 33.3
                },
                {
                  "index": 1788,
                  "Month": "1898-01",
                  "Sunspots": 30.2
                },
                {
                  "index": 1789,
                  "Month": "1898-02",
                  "Sunspots": 36.4
                },
                {
                  "index": 1790,
                  "Month": "1898-03",
                  "Sunspots": 38.3
                },
                {
                  "index": 1791,
                  "Month": "1898-04",
                  "Sunspots": 14.5
                },
                {
                  "index": 1792,
                  "Month": "1898-05",
                  "Sunspots": 25.8
                },
                {
                  "index": 1793,
                  "Month": "1898-06",
                  "Sunspots": 22.3
                },
                {
                  "index": 1794,
                  "Month": "1898-07",
                  "Sunspots": 9
                },
                {
                  "index": 1795,
                  "Month": "1898-08",
                  "Sunspots": 31.4
                },
                {
                  "index": 1796,
                  "Month": "1898-09",
                  "Sunspots": 34.8
                },
                {
                  "index": 1797,
                  "Month": "1898-10",
                  "Sunspots": 34.4
                },
                {
                  "index": 1798,
                  "Month": "1898-11",
                  "Sunspots": 30.9
                },
                {
                  "index": 1799,
                  "Month": "1898-12",
                  "Sunspots": 12.6
                },
                {
                  "index": 1800,
                  "Month": "1899-01",
                  "Sunspots": 19.5
                },
                {
                  "index": 1801,
                  "Month": "1899-02",
                  "Sunspots": 9.2
                },
                {
                  "index": 1802,
                  "Month": "1899-03",
                  "Sunspots": 18.1
                },
                {
                  "index": 1803,
                  "Month": "1899-04",
                  "Sunspots": 14.2
                },
                {
                  "index": 1804,
                  "Month": "1899-05",
                  "Sunspots": 7.7
                },
                {
                  "index": 1805,
                  "Month": "1899-06",
                  "Sunspots": 20.5
                },
                {
                  "index": 1806,
                  "Month": "1899-07",
                  "Sunspots": 13.5
                },
                {
                  "index": 1807,
                  "Month": "1899-08",
                  "Sunspots": 2.9
                },
                {
                  "index": 1808,
                  "Month": "1899-09",
                  "Sunspots": 8.4
                },
                {
                  "index": 1809,
                  "Month": "1899-10",
                  "Sunspots": 13
                },
                {
                  "index": 1810,
                  "Month": "1899-11",
                  "Sunspots": 7.8
                },
                {
                  "index": 1811,
                  "Month": "1899-12",
                  "Sunspots": 10.5
                },
                {
                  "index": 1812,
                  "Month": "1900-01",
                  "Sunspots": 9.4
                },
                {
                  "index": 1813,
                  "Month": "1900-02",
                  "Sunspots": 13.6
                },
                {
                  "index": 1814,
                  "Month": "1900-03",
                  "Sunspots": 8.6
                },
                {
                  "index": 1815,
                  "Month": "1900-04",
                  "Sunspots": 16
                },
                {
                  "index": 1816,
                  "Month": "1900-05",
                  "Sunspots": 15.2
                },
                {
                  "index": 1817,
                  "Month": "1900-06",
                  "Sunspots": 12.1
                },
                {
                  "index": 1818,
                  "Month": "1900-07",
                  "Sunspots": 8.3
                },
                {
                  "index": 1819,
                  "Month": "1900-08",
                  "Sunspots": 4.3
                },
                {
                  "index": 1820,
                  "Month": "1900-09",
                  "Sunspots": 8.3
                },
                {
                  "index": 1821,
                  "Month": "1900-10",
                  "Sunspots": 12.9
                },
                {
                  "index": 1822,
                  "Month": "1900-11",
                  "Sunspots": 4.5
                },
                {
                  "index": 1823,
                  "Month": "1900-12",
                  "Sunspots": 0.3
                },
                {
                  "index": 1824,
                  "Month": "1901-01",
                  "Sunspots": 0.2
                },
                {
                  "index": 1825,
                  "Month": "1901-02",
                  "Sunspots": 2.4
                },
                {
                  "index": 1826,
                  "Month": "1901-03",
                  "Sunspots": 4.5
                },
                {
                  "index": 1827,
                  "Month": "1901-04",
                  "Sunspots": 0
                },
                {
                  "index": 1828,
                  "Month": "1901-05",
                  "Sunspots": 10.2
                },
                {
                  "index": 1829,
                  "Month": "1901-06",
                  "Sunspots": 5.8
                },
                {
                  "index": 1830,
                  "Month": "1901-07",
                  "Sunspots": 0.7
                },
                {
                  "index": 1831,
                  "Month": "1901-08",
                  "Sunspots": 1
                },
                {
                  "index": 1832,
                  "Month": "1901-09",
                  "Sunspots": 0.6
                },
                {
                  "index": 1833,
                  "Month": "1901-10",
                  "Sunspots": 3.7
                },
                {
                  "index": 1834,
                  "Month": "1901-11",
                  "Sunspots": 3.8
                },
                {
                  "index": 1835,
                  "Month": "1901-12",
                  "Sunspots": 0
                },
                {
                  "index": 1836,
                  "Month": "1902-01",
                  "Sunspots": 5.2
                },
                {
                  "index": 1837,
                  "Month": "1902-02",
                  "Sunspots": 0
                },
                {
                  "index": 1838,
                  "Month": "1902-03",
                  "Sunspots": 12.4
                },
                {
                  "index": 1839,
                  "Month": "1902-04",
                  "Sunspots": 0
                },
                {
                  "index": 1840,
                  "Month": "1902-05",
                  "Sunspots": 2.8
                },
                {
                  "index": 1841,
                  "Month": "1902-06",
                  "Sunspots": 1.4
                },
                {
                  "index": 1842,
                  "Month": "1902-07",
                  "Sunspots": 0.9
                },
                {
                  "index": 1843,
                  "Month": "1902-08",
                  "Sunspots": 2.3
                },
                {
                  "index": 1844,
                  "Month": "1902-09",
                  "Sunspots": 7.6
                },
                {
                  "index": 1845,
                  "Month": "1902-10",
                  "Sunspots": 16.3
                },
                {
                  "index": 1846,
                  "Month": "1902-11",
                  "Sunspots": 10.3
                },
                {
                  "index": 1847,
                  "Month": "1902-12",
                  "Sunspots": 1.1
                },
                {
                  "index": 1848,
                  "Month": "1903-01",
                  "Sunspots": 8.3
                },
                {
                  "index": 1849,
                  "Month": "1903-02",
                  "Sunspots": 17
                },
                {
                  "index": 1850,
                  "Month": "1903-03",
                  "Sunspots": 13.5
                },
                {
                  "index": 1851,
                  "Month": "1903-04",
                  "Sunspots": 26.1
                },
                {
                  "index": 1852,
                  "Month": "1903-05",
                  "Sunspots": 14.6
                },
                {
                  "index": 1853,
                  "Month": "1903-06",
                  "Sunspots": 16.3
                },
                {
                  "index": 1854,
                  "Month": "1903-07",
                  "Sunspots": 27.9
                },
                {
                  "index": 1855,
                  "Month": "1903-08",
                  "Sunspots": 28.8
                },
                {
                  "index": 1856,
                  "Month": "1903-09",
                  "Sunspots": 11.1
                },
                {
                  "index": 1857,
                  "Month": "1903-10",
                  "Sunspots": 38.9
                },
                {
                  "index": 1858,
                  "Month": "1903-11",
                  "Sunspots": 44.5
                },
                {
                  "index": 1859,
                  "Month": "1903-12",
                  "Sunspots": 45.6
                },
                {
                  "index": 1860,
                  "Month": "1904-01",
                  "Sunspots": 31.6
                },
                {
                  "index": 1861,
                  "Month": "1904-02",
                  "Sunspots": 24.5
                },
                {
                  "index": 1862,
                  "Month": "1904-03",
                  "Sunspots": 37.2
                },
                {
                  "index": 1863,
                  "Month": "1904-04",
                  "Sunspots": 43
                },
                {
                  "index": 1864,
                  "Month": "1904-05",
                  "Sunspots": 39.5
                },
                {
                  "index": 1865,
                  "Month": "1904-06",
                  "Sunspots": 41.9
                },
                {
                  "index": 1866,
                  "Month": "1904-07",
                  "Sunspots": 50.6
                },
                {
                  "index": 1867,
                  "Month": "1904-08",
                  "Sunspots": 58.2
                },
                {
                  "index": 1868,
                  "Month": "1904-09",
                  "Sunspots": 30.1
                },
                {
                  "index": 1869,
                  "Month": "1904-10",
                  "Sunspots": 54.2
                },
                {
                  "index": 1870,
                  "Month": "1904-11",
                  "Sunspots": 38
                },
                {
                  "index": 1871,
                  "Month": "1904-12",
                  "Sunspots": 54.6
                },
                {
                  "index": 1872,
                  "Month": "1905-01",
                  "Sunspots": 54.8
                },
                {
                  "index": 1873,
                  "Month": "1905-02",
                  "Sunspots": 85.8
                },
                {
                  "index": 1874,
                  "Month": "1905-03",
                  "Sunspots": 56.5
                },
                {
                  "index": 1875,
                  "Month": "1905-04",
                  "Sunspots": 39.3
                },
                {
                  "index": 1876,
                  "Month": "1905-05",
                  "Sunspots": 48
                },
                {
                  "index": 1877,
                  "Month": "1905-06",
                  "Sunspots": 49
                },
                {
                  "index": 1878,
                  "Month": "1905-07",
                  "Sunspots": 73
                },
                {
                  "index": 1879,
                  "Month": "1905-08",
                  "Sunspots": 58.8
                },
                {
                  "index": 1880,
                  "Month": "1905-09",
                  "Sunspots": 55
                },
                {
                  "index": 1881,
                  "Month": "1905-10",
                  "Sunspots": 78.7
                },
                {
                  "index": 1882,
                  "Month": "1905-11",
                  "Sunspots": 107.2
                },
                {
                  "index": 1883,
                  "Month": "1905-12",
                  "Sunspots": 55.5
                },
                {
                  "index": 1884,
                  "Month": "1906-01",
                  "Sunspots": 45.5
                },
                {
                  "index": 1885,
                  "Month": "1906-02",
                  "Sunspots": 31.3
                },
                {
                  "index": 1886,
                  "Month": "1906-03",
                  "Sunspots": 64.5
                },
                {
                  "index": 1887,
                  "Month": "1906-04",
                  "Sunspots": 55.3
                },
                {
                  "index": 1888,
                  "Month": "1906-05",
                  "Sunspots": 57.7
                },
                {
                  "index": 1889,
                  "Month": "1906-06",
                  "Sunspots": 63.2
                },
                {
                  "index": 1890,
                  "Month": "1906-07",
                  "Sunspots": 103.6
                },
                {
                  "index": 1891,
                  "Month": "1906-08",
                  "Sunspots": 47.7
                },
                {
                  "index": 1892,
                  "Month": "1906-09",
                  "Sunspots": 56.1
                },
                {
                  "index": 1893,
                  "Month": "1906-10",
                  "Sunspots": 17.8
                },
                {
                  "index": 1894,
                  "Month": "1906-11",
                  "Sunspots": 38.9
                },
                {
                  "index": 1895,
                  "Month": "1906-12",
                  "Sunspots": 64.7
                },
                {
                  "index": 1896,
                  "Month": "1907-01",
                  "Sunspots": 76.4
                },
                {
                  "index": 1897,
                  "Month": "1907-02",
                  "Sunspots": 108.2
                },
                {
                  "index": 1898,
                  "Month": "1907-03",
                  "Sunspots": 60.7
                },
                {
                  "index": 1899,
                  "Month": "1907-04",
                  "Sunspots": 52.6
                },
                {
                  "index": 1900,
                  "Month": "1907-05",
                  "Sunspots": 42.9
                },
                {
                  "index": 1901,
                  "Month": "1907-06",
                  "Sunspots": 40.4
                },
                {
                  "index": 1902,
                  "Month": "1907-07",
                  "Sunspots": 49.7
                },
                {
                  "index": 1903,
                  "Month": "1907-08",
                  "Sunspots": 54.3
                },
                {
                  "index": 1904,
                  "Month": "1907-09",
                  "Sunspots": 85
                },
                {
                  "index": 1905,
                  "Month": "1907-10",
                  "Sunspots": 65.4
                },
                {
                  "index": 1906,
                  "Month": "1907-11",
                  "Sunspots": 61.5
                },
                {
                  "index": 1907,
                  "Month": "1907-12",
                  "Sunspots": 47.3
                },
                {
                  "index": 1908,
                  "Month": "1908-01",
                  "Sunspots": 39.2
                },
                {
                  "index": 1909,
                  "Month": "1908-02",
                  "Sunspots": 33.9
                },
                {
                  "index": 1910,
                  "Month": "1908-03",
                  "Sunspots": 28.7
                },
                {
                  "index": 1911,
                  "Month": "1908-04",
                  "Sunspots": 57.6
                },
                {
                  "index": 1912,
                  "Month": "1908-05",
                  "Sunspots": 40.8
                },
                {
                  "index": 1913,
                  "Month": "1908-06",
                  "Sunspots": 48.1
                },
                {
                  "index": 1914,
                  "Month": "1908-07",
                  "Sunspots": 39.5
                },
                {
                  "index": 1915,
                  "Month": "1908-08",
                  "Sunspots": 90.5
                },
                {
                  "index": 1916,
                  "Month": "1908-09",
                  "Sunspots": 86.9
                },
                {
                  "index": 1917,
                  "Month": "1908-10",
                  "Sunspots": 32.3
                },
                {
                  "index": 1918,
                  "Month": "1908-11",
                  "Sunspots": 45.5
                },
                {
                  "index": 1919,
                  "Month": "1908-12",
                  "Sunspots": 39.5
                },
                {
                  "index": 1920,
                  "Month": "1909-01",
                  "Sunspots": 56.7
                },
                {
                  "index": 1921,
                  "Month": "1909-02",
                  "Sunspots": 46.6
                },
                {
                  "index": 1922,
                  "Month": "1909-03",
                  "Sunspots": 66.3
                },
                {
                  "index": 1923,
                  "Month": "1909-04",
                  "Sunspots": 32.3
                },
                {
                  "index": 1924,
                  "Month": "1909-05",
                  "Sunspots": 36
                },
                {
                  "index": 1925,
                  "Month": "1909-06",
                  "Sunspots": 22.6
                },
                {
                  "index": 1926,
                  "Month": "1909-07",
                  "Sunspots": 35.8
                },
                {
                  "index": 1927,
                  "Month": "1909-08",
                  "Sunspots": 23.1
                },
                {
                  "index": 1928,
                  "Month": "1909-09",
                  "Sunspots": 38.8
                },
                {
                  "index": 1929,
                  "Month": "1909-10",
                  "Sunspots": 58.4
                },
                {
                  "index": 1930,
                  "Month": "1909-11",
                  "Sunspots": 55.8
                },
                {
                  "index": 1931,
                  "Month": "1909-12",
                  "Sunspots": 54.2
                },
                {
                  "index": 1932,
                  "Month": "1910-01",
                  "Sunspots": 26.4
                },
                {
                  "index": 1933,
                  "Month": "1910-02",
                  "Sunspots": 31.5
                },
                {
                  "index": 1934,
                  "Month": "1910-03",
                  "Sunspots": 21.4
                },
                {
                  "index": 1935,
                  "Month": "1910-04",
                  "Sunspots": 8.4
                },
                {
                  "index": 1936,
                  "Month": "1910-05",
                  "Sunspots": 22.2
                },
                {
                  "index": 1937,
                  "Month": "1910-06",
                  "Sunspots": 12.3
                },
                {
                  "index": 1938,
                  "Month": "1910-07",
                  "Sunspots": 14.1
                },
                {
                  "index": 1939,
                  "Month": "1910-08",
                  "Sunspots": 11.5
                },
                {
                  "index": 1940,
                  "Month": "1910-09",
                  "Sunspots": 26.2
                },
                {
                  "index": 1941,
                  "Month": "1910-10",
                  "Sunspots": 38.3
                },
                {
                  "index": 1942,
                  "Month": "1910-11",
                  "Sunspots": 4.9
                },
                {
                  "index": 1943,
                  "Month": "1910-12",
                  "Sunspots": 5.8
                },
                {
                  "index": 1944,
                  "Month": "1911-01",
                  "Sunspots": 3.4
                },
                {
                  "index": 1945,
                  "Month": "1911-02",
                  "Sunspots": 9
                },
                {
                  "index": 1946,
                  "Month": "1911-03",
                  "Sunspots": 7.8
                },
                {
                  "index": 1947,
                  "Month": "1911-04",
                  "Sunspots": 16.5
                },
                {
                  "index": 1948,
                  "Month": "1911-05",
                  "Sunspots": 9
                },
                {
                  "index": 1949,
                  "Month": "1911-06",
                  "Sunspots": 2.2
                },
                {
                  "index": 1950,
                  "Month": "1911-07",
                  "Sunspots": 3.5
                },
                {
                  "index": 1951,
                  "Month": "1911-08",
                  "Sunspots": 4
                },
                {
                  "index": 1952,
                  "Month": "1911-09",
                  "Sunspots": 4
                },
                {
                  "index": 1953,
                  "Month": "1911-10",
                  "Sunspots": 2.6
                },
                {
                  "index": 1954,
                  "Month": "1911-11",
                  "Sunspots": 4.2
                },
                {
                  "index": 1955,
                  "Month": "1911-12",
                  "Sunspots": 2.2
                },
                {
                  "index": 1956,
                  "Month": "1912-01",
                  "Sunspots": 0.3
                },
                {
                  "index": 1957,
                  "Month": "1912-02",
                  "Sunspots": 0
                },
                {
                  "index": 1958,
                  "Month": "1912-03",
                  "Sunspots": 4.9
                },
                {
                  "index": 1959,
                  "Month": "1912-04",
                  "Sunspots": 4.5
                },
                {
                  "index": 1960,
                  "Month": "1912-05",
                  "Sunspots": 4.4
                },
                {
                  "index": 1961,
                  "Month": "1912-06",
                  "Sunspots": 4.1
                },
                {
                  "index": 1962,
                  "Month": "1912-07",
                  "Sunspots": 3
                },
                {
                  "index": 1963,
                  "Month": "1912-08",
                  "Sunspots": 0.3
                },
                {
                  "index": 1964,
                  "Month": "1912-09",
                  "Sunspots": 9.5
                },
                {
                  "index": 1965,
                  "Month": "1912-10",
                  "Sunspots": 4.6
                },
                {
                  "index": 1966,
                  "Month": "1912-11",
                  "Sunspots": 1.1
                },
                {
                  "index": 1967,
                  "Month": "1912-12",
                  "Sunspots": 6.4
                },
                {
                  "index": 1968,
                  "Month": "1913-01",
                  "Sunspots": 2.3
                },
                {
                  "index": 1969,
                  "Month": "1913-02",
                  "Sunspots": 2.9
                },
                {
                  "index": 1970,
                  "Month": "1913-03",
                  "Sunspots": 0.5
                },
                {
                  "index": 1971,
                  "Month": "1913-04",
                  "Sunspots": 0.9
                },
                {
                  "index": 1972,
                  "Month": "1913-05",
                  "Sunspots": 0
                },
                {
                  "index": 1973,
                  "Month": "1913-06",
                  "Sunspots": 0
                },
                {
                  "index": 1974,
                  "Month": "1913-07",
                  "Sunspots": 1.7
                },
                {
                  "index": 1975,
                  "Month": "1913-08",
                  "Sunspots": 0.2
                },
                {
                  "index": 1976,
                  "Month": "1913-09",
                  "Sunspots": 1.2
                },
                {
                  "index": 1977,
                  "Month": "1913-10",
                  "Sunspots": 3.1
                },
                {
                  "index": 1978,
                  "Month": "1913-11",
                  "Sunspots": 0.7
                },
                {
                  "index": 1979,
                  "Month": "1913-12",
                  "Sunspots": 3.8
                },
                {
                  "index": 1980,
                  "Month": "1914-01",
                  "Sunspots": 2.8
                },
                {
                  "index": 1981,
                  "Month": "1914-02",
                  "Sunspots": 2.6
                },
                {
                  "index": 1982,
                  "Month": "1914-03",
                  "Sunspots": 3.1
                },
                {
                  "index": 1983,
                  "Month": "1914-04",
                  "Sunspots": 17.3
                },
                {
                  "index": 1984,
                  "Month": "1914-05",
                  "Sunspots": 5.2
                },
                {
                  "index": 1985,
                  "Month": "1914-06",
                  "Sunspots": 11.4
                },
                {
                  "index": 1986,
                  "Month": "1914-07",
                  "Sunspots": 5.4
                },
                {
                  "index": 1987,
                  "Month": "1914-08",
                  "Sunspots": 7.7
                },
                {
                  "index": 1988,
                  "Month": "1914-09",
                  "Sunspots": 12.7
                },
                {
                  "index": 1989,
                  "Month": "1914-10",
                  "Sunspots": 8.2
                },
                {
                  "index": 1990,
                  "Month": "1914-11",
                  "Sunspots": 16.4
                },
                {
                  "index": 1991,
                  "Month": "1914-12",
                  "Sunspots": 22.3
                },
                {
                  "index": 1992,
                  "Month": "1915-01",
                  "Sunspots": 23
                },
                {
                  "index": 1993,
                  "Month": "1915-02",
                  "Sunspots": 42.3
                },
                {
                  "index": 1994,
                  "Month": "1915-03",
                  "Sunspots": 38.8
                },
                {
                  "index": 1995,
                  "Month": "1915-04",
                  "Sunspots": 41.3
                },
                {
                  "index": 1996,
                  "Month": "1915-05",
                  "Sunspots": 33
                },
                {
                  "index": 1997,
                  "Month": "1915-06",
                  "Sunspots": 68.8
                },
                {
                  "index": 1998,
                  "Month": "1915-07",
                  "Sunspots": 71.6
                },
                {
                  "index": 1999,
                  "Month": "1915-08",
                  "Sunspots": 69.6
                },
                {
                  "index": 2000,
                  "Month": "1915-09",
                  "Sunspots": 49.5
                },
                {
                  "index": 2001,
                  "Month": "1915-10",
                  "Sunspots": 53.5
                },
                {
                  "index": 2002,
                  "Month": "1915-11",
                  "Sunspots": 42.5
                },
                {
                  "index": 2003,
                  "Month": "1915-12",
                  "Sunspots": 34.5
                },
                {
                  "index": 2004,
                  "Month": "1916-01",
                  "Sunspots": 45.3
                },
                {
                  "index": 2005,
                  "Month": "1916-02",
                  "Sunspots": 55.4
                },
                {
                  "index": 2006,
                  "Month": "1916-03",
                  "Sunspots": 67
                },
                {
                  "index": 2007,
                  "Month": "1916-04",
                  "Sunspots": 71.8
                },
                {
                  "index": 2008,
                  "Month": "1916-05",
                  "Sunspots": 74.5
                },
                {
                  "index": 2009,
                  "Month": "1916-06",
                  "Sunspots": 67.7
                },
                {
                  "index": 2010,
                  "Month": "1916-07",
                  "Sunspots": 53.5
                },
                {
                  "index": 2011,
                  "Month": "1916-08",
                  "Sunspots": 35.2
                },
                {
                  "index": 2012,
                  "Month": "1916-09",
                  "Sunspots": 45.1
                },
                {
                  "index": 2013,
                  "Month": "1916-10",
                  "Sunspots": 50.7
                },
                {
                  "index": 2014,
                  "Month": "1916-11",
                  "Sunspots": 65.6
                },
                {
                  "index": 2015,
                  "Month": "1916-12",
                  "Sunspots": 53
                },
                {
                  "index": 2016,
                  "Month": "1917-01",
                  "Sunspots": 74.7
                },
                {
                  "index": 2017,
                  "Month": "1917-02",
                  "Sunspots": 71.9
                },
                {
                  "index": 2018,
                  "Month": "1917-03",
                  "Sunspots": 94.8
                },
                {
                  "index": 2019,
                  "Month": "1917-04",
                  "Sunspots": 74.7
                },
                {
                  "index": 2020,
                  "Month": "1917-05",
                  "Sunspots": 114.1
                },
                {
                  "index": 2021,
                  "Month": "1917-06",
                  "Sunspots": 114.9
                },
                {
                  "index": 2022,
                  "Month": "1917-07",
                  "Sunspots": 119.8
                },
                {
                  "index": 2023,
                  "Month": "1917-08",
                  "Sunspots": 154.5
                },
                {
                  "index": 2024,
                  "Month": "1917-09",
                  "Sunspots": 129.4
                },
                {
                  "index": 2025,
                  "Month": "1917-10",
                  "Sunspots": 72.2
                },
                {
                  "index": 2026,
                  "Month": "1917-11",
                  "Sunspots": 96.4
                },
                {
                  "index": 2027,
                  "Month": "1917-12",
                  "Sunspots": 129.3
                },
                {
                  "index": 2028,
                  "Month": "1918-01",
                  "Sunspots": 96
                },
                {
                  "index": 2029,
                  "Month": "1918-02",
                  "Sunspots": 65.3
                },
                {
                  "index": 2030,
                  "Month": "1918-03",
                  "Sunspots": 72.2
                },
                {
                  "index": 2031,
                  "Month": "1918-04",
                  "Sunspots": 80.5
                },
                {
                  "index": 2032,
                  "Month": "1918-05",
                  "Sunspots": 76.7
                },
                {
                  "index": 2033,
                  "Month": "1918-06",
                  "Sunspots": 59.4
                },
                {
                  "index": 2034,
                  "Month": "1918-07",
                  "Sunspots": 107.6
                },
                {
                  "index": 2035,
                  "Month": "1918-08",
                  "Sunspots": 101.7
                },
                {
                  "index": 2036,
                  "Month": "1918-09",
                  "Sunspots": 79.9
                },
                {
                  "index": 2037,
                  "Month": "1918-10",
                  "Sunspots": 85
                },
                {
                  "index": 2038,
                  "Month": "1918-11",
                  "Sunspots": 83.4
                },
                {
                  "index": 2039,
                  "Month": "1918-12",
                  "Sunspots": 59.2
                },
                {
                  "index": 2040,
                  "Month": "1919-01",
                  "Sunspots": 48.1
                },
                {
                  "index": 2041,
                  "Month": "1919-02",
                  "Sunspots": 79.5
                },
                {
                  "index": 2042,
                  "Month": "1919-03",
                  "Sunspots": 66.5
                },
                {
                  "index": 2043,
                  "Month": "1919-04",
                  "Sunspots": 51.8
                },
                {
                  "index": 2044,
                  "Month": "1919-05",
                  "Sunspots": 88.1
                },
                {
                  "index": 2045,
                  "Month": "1919-06",
                  "Sunspots": 111.2
                },
                {
                  "index": 2046,
                  "Month": "1919-07",
                  "Sunspots": 64.7
                },
                {
                  "index": 2047,
                  "Month": "1919-08",
                  "Sunspots": 69
                },
                {
                  "index": 2048,
                  "Month": "1919-09",
                  "Sunspots": 54.7
                },
                {
                  "index": 2049,
                  "Month": "1919-10",
                  "Sunspots": 52.8
                },
                {
                  "index": 2050,
                  "Month": "1919-11",
                  "Sunspots": 42
                },
                {
                  "index": 2051,
                  "Month": "1919-12",
                  "Sunspots": 34.9
                },
                {
                  "index": 2052,
                  "Month": "1920-01",
                  "Sunspots": 51.1
                },
                {
                  "index": 2053,
                  "Month": "1920-02",
                  "Sunspots": 53.9
                },
                {
                  "index": 2054,
                  "Month": "1920-03",
                  "Sunspots": 70.2
                },
                {
                  "index": 2055,
                  "Month": "1920-04",
                  "Sunspots": 14.8
                },
                {
                  "index": 2056,
                  "Month": "1920-05",
                  "Sunspots": 33.3
                },
                {
                  "index": 2057,
                  "Month": "1920-06",
                  "Sunspots": 38.7
                },
                {
                  "index": 2058,
                  "Month": "1920-07",
                  "Sunspots": 27.5
                },
                {
                  "index": 2059,
                  "Month": "1920-08",
                  "Sunspots": 19.2
                },
                {
                  "index": 2060,
                  "Month": "1920-09",
                  "Sunspots": 36.3
                },
                {
                  "index": 2061,
                  "Month": "1920-10",
                  "Sunspots": 49.6
                },
                {
                  "index": 2062,
                  "Month": "1920-11",
                  "Sunspots": 27.2
                },
                {
                  "index": 2063,
                  "Month": "1920-12",
                  "Sunspots": 29.9
                },
                {
                  "index": 2064,
                  "Month": "1921-01",
                  "Sunspots": 31.5
                },
                {
                  "index": 2065,
                  "Month": "1921-02",
                  "Sunspots": 28.3
                },
                {
                  "index": 2066,
                  "Month": "1921-03",
                  "Sunspots": 26.7
                },
                {
                  "index": 2067,
                  "Month": "1921-04",
                  "Sunspots": 32.4
                },
                {
                  "index": 2068,
                  "Month": "1921-05",
                  "Sunspots": 22.2
                },
                {
                  "index": 2069,
                  "Month": "1921-06",
                  "Sunspots": 33.7
                },
                {
                  "index": 2070,
                  "Month": "1921-07",
                  "Sunspots": 41.9
                },
                {
                  "index": 2071,
                  "Month": "1921-08",
                  "Sunspots": 22.8
                },
                {
                  "index": 2072,
                  "Month": "1921-09",
                  "Sunspots": 17.8
                },
                {
                  "index": 2073,
                  "Month": "1921-10",
                  "Sunspots": 18.2
                },
                {
                  "index": 2074,
                  "Month": "1921-11",
                  "Sunspots": 17.8
                },
                {
                  "index": 2075,
                  "Month": "1921-12",
                  "Sunspots": 20.3
                },
                {
                  "index": 2076,
                  "Month": "1922-01",
                  "Sunspots": 11.8
                },
                {
                  "index": 2077,
                  "Month": "1922-02",
                  "Sunspots": 26.4
                },
                {
                  "index": 2078,
                  "Month": "1922-03",
                  "Sunspots": 54.7
                },
                {
                  "index": 2079,
                  "Month": "1922-04",
                  "Sunspots": 11
                },
                {
                  "index": 2080,
                  "Month": "1922-05",
                  "Sunspots": 8
                },
                {
                  "index": 2081,
                  "Month": "1922-06",
                  "Sunspots": 5.8
                },
                {
                  "index": 2082,
                  "Month": "1922-07",
                  "Sunspots": 10.9
                },
                {
                  "index": 2083,
                  "Month": "1922-08",
                  "Sunspots": 6.5
                },
                {
                  "index": 2084,
                  "Month": "1922-09",
                  "Sunspots": 4.7
                },
                {
                  "index": 2085,
                  "Month": "1922-10",
                  "Sunspots": 6.2
                },
                {
                  "index": 2086,
                  "Month": "1922-11",
                  "Sunspots": 7.4
                },
                {
                  "index": 2087,
                  "Month": "1922-12",
                  "Sunspots": 17.5
                },
                {
                  "index": 2088,
                  "Month": "1923-01",
                  "Sunspots": 4.5
                },
                {
                  "index": 2089,
                  "Month": "1923-02",
                  "Sunspots": 1.5
                },
                {
                  "index": 2090,
                  "Month": "1923-03",
                  "Sunspots": 3.3
                },
                {
                  "index": 2091,
                  "Month": "1923-04",
                  "Sunspots": 6.1
                },
                {
                  "index": 2092,
                  "Month": "1923-05",
                  "Sunspots": 3.2
                },
                {
                  "index": 2093,
                  "Month": "1923-06",
                  "Sunspots": 9.1
                },
                {
                  "index": 2094,
                  "Month": "1923-07",
                  "Sunspots": 3.5
                },
                {
                  "index": 2095,
                  "Month": "1923-08",
                  "Sunspots": 0.5
                },
                {
                  "index": 2096,
                  "Month": "1923-09",
                  "Sunspots": 13.2
                },
                {
                  "index": 2097,
                  "Month": "1923-10",
                  "Sunspots": 11.6
                },
                {
                  "index": 2098,
                  "Month": "1923-11",
                  "Sunspots": 10
                },
                {
                  "index": 2099,
                  "Month": "1923-12",
                  "Sunspots": 2.8
                },
                {
                  "index": 2100,
                  "Month": "1924-01",
                  "Sunspots": 0.5
                },
                {
                  "index": 2101,
                  "Month": "1924-02",
                  "Sunspots": 5.1
                },
                {
                  "index": 2102,
                  "Month": "1924-03",
                  "Sunspots": 1.8
                },
                {
                  "index": 2103,
                  "Month": "1924-04",
                  "Sunspots": 11.3
                },
                {
                  "index": 2104,
                  "Month": "1924-05",
                  "Sunspots": 20.8
                },
                {
                  "index": 2105,
                  "Month": "1924-06",
                  "Sunspots": 24
                },
                {
                  "index": 2106,
                  "Month": "1924-07",
                  "Sunspots": 28.1
                },
                {
                  "index": 2107,
                  "Month": "1924-08",
                  "Sunspots": 19.3
                },
                {
                  "index": 2108,
                  "Month": "1924-09",
                  "Sunspots": 25.1
                },
                {
                  "index": 2109,
                  "Month": "1924-10",
                  "Sunspots": 25.6
                },
                {
                  "index": 2110,
                  "Month": "1924-11",
                  "Sunspots": 22.5
                },
                {
                  "index": 2111,
                  "Month": "1924-12",
                  "Sunspots": 16.5
                },
                {
                  "index": 2112,
                  "Month": "1925-01",
                  "Sunspots": 5.5
                },
                {
                  "index": 2113,
                  "Month": "1925-02",
                  "Sunspots": 23.2
                },
                {
                  "index": 2114,
                  "Month": "1925-03",
                  "Sunspots": 18
                },
                {
                  "index": 2115,
                  "Month": "1925-04",
                  "Sunspots": 31.7
                },
                {
                  "index": 2116,
                  "Month": "1925-05",
                  "Sunspots": 42.8
                },
                {
                  "index": 2117,
                  "Month": "1925-06",
                  "Sunspots": 47.5
                },
                {
                  "index": 2118,
                  "Month": "1925-07",
                  "Sunspots": 38.5
                },
                {
                  "index": 2119,
                  "Month": "1925-08",
                  "Sunspots": 37.9
                },
                {
                  "index": 2120,
                  "Month": "1925-09",
                  "Sunspots": 60.2
                },
                {
                  "index": 2121,
                  "Month": "1925-10",
                  "Sunspots": 69.2
                },
                {
                  "index": 2122,
                  "Month": "1925-11",
                  "Sunspots": 58.6
                },
                {
                  "index": 2123,
                  "Month": "1925-12",
                  "Sunspots": 98.6
                },
                {
                  "index": 2124,
                  "Month": "1926-01",
                  "Sunspots": 71.8
                },
                {
                  "index": 2125,
                  "Month": "1926-02",
                  "Sunspots": 70
                },
                {
                  "index": 2126,
                  "Month": "1926-03",
                  "Sunspots": 62.5
                },
                {
                  "index": 2127,
                  "Month": "1926-04",
                  "Sunspots": 38.5
                },
                {
                  "index": 2128,
                  "Month": "1926-05",
                  "Sunspots": 64.3
                },
                {
                  "index": 2129,
                  "Month": "1926-06",
                  "Sunspots": 73.5
                },
                {
                  "index": 2130,
                  "Month": "1926-07",
                  "Sunspots": 52.3
                },
                {
                  "index": 2131,
                  "Month": "1926-08",
                  "Sunspots": 61.6
                },
                {
                  "index": 2132,
                  "Month": "1926-09",
                  "Sunspots": 60.8
                },
                {
                  "index": 2133,
                  "Month": "1926-10",
                  "Sunspots": 71.5
                },
                {
                  "index": 2134,
                  "Month": "1926-11",
                  "Sunspots": 60.5
                },
                {
                  "index": 2135,
                  "Month": "1926-12",
                  "Sunspots": 79.4
                },
                {
                  "index": 2136,
                  "Month": "1927-01",
                  "Sunspots": 81.6
                },
                {
                  "index": 2137,
                  "Month": "1927-02",
                  "Sunspots": 93
                },
                {
                  "index": 2138,
                  "Month": "1927-03",
                  "Sunspots": 69.6
                },
                {
                  "index": 2139,
                  "Month": "1927-04",
                  "Sunspots": 93.5
                },
                {
                  "index": 2140,
                  "Month": "1927-05",
                  "Sunspots": 79.1
                },
                {
                  "index": 2141,
                  "Month": "1927-06",
                  "Sunspots": 59.1
                },
                {
                  "index": 2142,
                  "Month": "1927-07",
                  "Sunspots": 54.9
                },
                {
                  "index": 2143,
                  "Month": "1927-08",
                  "Sunspots": 53.8
                },
                {
                  "index": 2144,
                  "Month": "1927-09",
                  "Sunspots": 68.4
                },
                {
                  "index": 2145,
                  "Month": "1927-10",
                  "Sunspots": 63.1
                },
                {
                  "index": 2146,
                  "Month": "1927-11",
                  "Sunspots": 67.2
                },
                {
                  "index": 2147,
                  "Month": "1927-12",
                  "Sunspots": 45.2
                },
                {
                  "index": 2148,
                  "Month": "1928-01",
                  "Sunspots": 83.5
                },
                {
                  "index": 2149,
                  "Month": "1928-02",
                  "Sunspots": 73.5
                },
                {
                  "index": 2150,
                  "Month": "1928-03",
                  "Sunspots": 85.4
                },
                {
                  "index": 2151,
                  "Month": "1928-04",
                  "Sunspots": 80.6
                },
                {
                  "index": 2152,
                  "Month": "1928-05",
                  "Sunspots": 76.9
                },
                {
                  "index": 2153,
                  "Month": "1928-06",
                  "Sunspots": 91.4
                },
                {
                  "index": 2154,
                  "Month": "1928-07",
                  "Sunspots": 98
                },
                {
                  "index": 2155,
                  "Month": "1928-08",
                  "Sunspots": 83.8
                },
                {
                  "index": 2156,
                  "Month": "1928-09",
                  "Sunspots": 89.7
                },
                {
                  "index": 2157,
                  "Month": "1928-10",
                  "Sunspots": 61.4
                },
                {
                  "index": 2158,
                  "Month": "1928-11",
                  "Sunspots": 50.3
                },
                {
                  "index": 2159,
                  "Month": "1928-12",
                  "Sunspots": 59
                },
                {
                  "index": 2160,
                  "Month": "1929-01",
                  "Sunspots": 68.9
                },
                {
                  "index": 2161,
                  "Month": "1929-02",
                  "Sunspots": 64.1
                },
                {
                  "index": 2162,
                  "Month": "1929-03",
                  "Sunspots": 50.2
                },
                {
                  "index": 2163,
                  "Month": "1929-04",
                  "Sunspots": 52.8
                },
                {
                  "index": 2164,
                  "Month": "1929-05",
                  "Sunspots": 58.2
                },
                {
                  "index": 2165,
                  "Month": "1929-06",
                  "Sunspots": 71.9
                },
                {
                  "index": 2166,
                  "Month": "1929-07",
                  "Sunspots": 70.2
                },
                {
                  "index": 2167,
                  "Month": "1929-08",
                  "Sunspots": 65.8
                },
                {
                  "index": 2168,
                  "Month": "1929-09",
                  "Sunspots": 34.4
                },
                {
                  "index": 2169,
                  "Month": "1929-10",
                  "Sunspots": 54
                },
                {
                  "index": 2170,
                  "Month": "1929-11",
                  "Sunspots": 81.1
                },
                {
                  "index": 2171,
                  "Month": "1929-12",
                  "Sunspots": 108
                },
                {
                  "index": 2172,
                  "Month": "1930-01",
                  "Sunspots": 65.3
                },
                {
                  "index": 2173,
                  "Month": "1930-02",
                  "Sunspots": 49.2
                },
                {
                  "index": 2174,
                  "Month": "1930-03",
                  "Sunspots": 35
                },
                {
                  "index": 2175,
                  "Month": "1930-04",
                  "Sunspots": 38.2
                },
                {
                  "index": 2176,
                  "Month": "1930-05",
                  "Sunspots": 36.8
                },
                {
                  "index": 2177,
                  "Month": "1930-06",
                  "Sunspots": 28.8
                },
                {
                  "index": 2178,
                  "Month": "1930-07",
                  "Sunspots": 21.9
                },
                {
                  "index": 2179,
                  "Month": "1930-08",
                  "Sunspots": 24.9
                },
                {
                  "index": 2180,
                  "Month": "1930-09",
                  "Sunspots": 32.1
                },
                {
                  "index": 2181,
                  "Month": "1930-10",
                  "Sunspots": 34.4
                },
                {
                  "index": 2182,
                  "Month": "1930-11",
                  "Sunspots": 35.6
                },
                {
                  "index": 2183,
                  "Month": "1930-12",
                  "Sunspots": 25.8
                },
                {
                  "index": 2184,
                  "Month": "1931-01",
                  "Sunspots": 14.6
                },
                {
                  "index": 2185,
                  "Month": "1931-02",
                  "Sunspots": 43.1
                },
                {
                  "index": 2186,
                  "Month": "1931-03",
                  "Sunspots": 30
                },
                {
                  "index": 2187,
                  "Month": "1931-04",
                  "Sunspots": 31.2
                },
                {
                  "index": 2188,
                  "Month": "1931-05",
                  "Sunspots": 24.6
                },
                {
                  "index": 2189,
                  "Month": "1931-06",
                  "Sunspots": 15.3
                },
                {
                  "index": 2190,
                  "Month": "1931-07",
                  "Sunspots": 17.4
                },
                {
                  "index": 2191,
                  "Month": "1931-08",
                  "Sunspots": 13
                },
                {
                  "index": 2192,
                  "Month": "1931-09",
                  "Sunspots": 19
                },
                {
                  "index": 2193,
                  "Month": "1931-10",
                  "Sunspots": 10
                },
                {
                  "index": 2194,
                  "Month": "1931-11",
                  "Sunspots": 18.7
                },
                {
                  "index": 2195,
                  "Month": "1931-12",
                  "Sunspots": 17.8
                },
                {
                  "index": 2196,
                  "Month": "1932-01",
                  "Sunspots": 12.1
                },
                {
                  "index": 2197,
                  "Month": "1932-02",
                  "Sunspots": 10.6
                },
                {
                  "index": 2198,
                  "Month": "1932-03",
                  "Sunspots": 11.2
                },
                {
                  "index": 2199,
                  "Month": "1932-04",
                  "Sunspots": 11.2
                },
                {
                  "index": 2200,
                  "Month": "1932-05",
                  "Sunspots": 17.9
                },
                {
                  "index": 2201,
                  "Month": "1932-06",
                  "Sunspots": 22.2
                },
                {
                  "index": 2202,
                  "Month": "1932-07",
                  "Sunspots": 9.6
                },
                {
                  "index": 2203,
                  "Month": "1932-08",
                  "Sunspots": 6.8
                },
                {
                  "index": 2204,
                  "Month": "1932-09",
                  "Sunspots": 4
                },
                {
                  "index": 2205,
                  "Month": "1932-10",
                  "Sunspots": 8.9
                },
                {
                  "index": 2206,
                  "Month": "1932-11",
                  "Sunspots": 8.2
                },
                {
                  "index": 2207,
                  "Month": "1932-12",
                  "Sunspots": 11
                },
                {
                  "index": 2208,
                  "Month": "1933-01",
                  "Sunspots": 12.3
                },
                {
                  "index": 2209,
                  "Month": "1933-02",
                  "Sunspots": 22.2
                },
                {
                  "index": 2210,
                  "Month": "1933-03",
                  "Sunspots": 10.1
                },
                {
                  "index": 2211,
                  "Month": "1933-04",
                  "Sunspots": 2.9
                },
                {
                  "index": 2212,
                  "Month": "1933-05",
                  "Sunspots": 3.2
                },
                {
                  "index": 2213,
                  "Month": "1933-06",
                  "Sunspots": 5.2
                },
                {
                  "index": 2214,
                  "Month": "1933-07",
                  "Sunspots": 2.8
                },
                {
                  "index": 2215,
                  "Month": "1933-08",
                  "Sunspots": 0.2
                },
                {
                  "index": 2216,
                  "Month": "1933-09",
                  "Sunspots": 5.1
                },
                {
                  "index": 2217,
                  "Month": "1933-10",
                  "Sunspots": 3
                },
                {
                  "index": 2218,
                  "Month": "1933-11",
                  "Sunspots": 0.6
                },
                {
                  "index": 2219,
                  "Month": "1933-12",
                  "Sunspots": 0.3
                },
                {
                  "index": 2220,
                  "Month": "1934-01",
                  "Sunspots": 3.4
                },
                {
                  "index": 2221,
                  "Month": "1934-02",
                  "Sunspots": 7.8
                },
                {
                  "index": 2222,
                  "Month": "1934-03",
                  "Sunspots": 4.3
                },
                {
                  "index": 2223,
                  "Month": "1934-04",
                  "Sunspots": 11.3
                },
                {
                  "index": 2224,
                  "Month": "1934-05",
                  "Sunspots": 19.7
                },
                {
                  "index": 2225,
                  "Month": "1934-06",
                  "Sunspots": 6.7
                },
                {
                  "index": 2226,
                  "Month": "1934-07",
                  "Sunspots": 9.3
                },
                {
                  "index": 2227,
                  "Month": "1934-08",
                  "Sunspots": 8.3
                },
                {
                  "index": 2228,
                  "Month": "1934-09",
                  "Sunspots": 4
                },
                {
                  "index": 2229,
                  "Month": "1934-10",
                  "Sunspots": 5.7
                },
                {
                  "index": 2230,
                  "Month": "1934-11",
                  "Sunspots": 8.7
                },
                {
                  "index": 2231,
                  "Month": "1934-12",
                  "Sunspots": 15.4
                },
                {
                  "index": 2232,
                  "Month": "1935-01",
                  "Sunspots": 18.9
                },
                {
                  "index": 2233,
                  "Month": "1935-02",
                  "Sunspots": 20.5
                },
                {
                  "index": 2234,
                  "Month": "1935-03",
                  "Sunspots": 23.1
                },
                {
                  "index": 2235,
                  "Month": "1935-04",
                  "Sunspots": 12.2
                },
                {
                  "index": 2236,
                  "Month": "1935-05",
                  "Sunspots": 27.3
                },
                {
                  "index": 2237,
                  "Month": "1935-06",
                  "Sunspots": 45.7
                },
                {
                  "index": 2238,
                  "Month": "1935-07",
                  "Sunspots": 33.9
                },
                {
                  "index": 2239,
                  "Month": "1935-08",
                  "Sunspots": 30.1
                },
                {
                  "index": 2240,
                  "Month": "1935-09",
                  "Sunspots": 42.1
                },
                {
                  "index": 2241,
                  "Month": "1935-10",
                  "Sunspots": 53.2
                },
                {
                  "index": 2242,
                  "Month": "1935-11",
                  "Sunspots": 64.2
                },
                {
                  "index": 2243,
                  "Month": "1935-12",
                  "Sunspots": 61.5
                },
                {
                  "index": 2244,
                  "Month": "1936-01",
                  "Sunspots": 62.8
                },
                {
                  "index": 2245,
                  "Month": "1936-02",
                  "Sunspots": 74.3
                },
                {
                  "index": 2246,
                  "Month": "1936-03",
                  "Sunspots": 77.1
                },
                {
                  "index": 2247,
                  "Month": "1936-04",
                  "Sunspots": 74.9
                },
                {
                  "index": 2248,
                  "Month": "1936-05",
                  "Sunspots": 54.6
                },
                {
                  "index": 2249,
                  "Month": "1936-06",
                  "Sunspots": 70
                },
                {
                  "index": 2250,
                  "Month": "1936-07",
                  "Sunspots": 52.3
                },
                {
                  "index": 2251,
                  "Month": "1936-08",
                  "Sunspots": 87
                },
                {
                  "index": 2252,
                  "Month": "1936-09",
                  "Sunspots": 76
                },
                {
                  "index": 2253,
                  "Month": "1936-10",
                  "Sunspots": 89
                },
                {
                  "index": 2254,
                  "Month": "1936-11",
                  "Sunspots": 115.4
                },
                {
                  "index": 2255,
                  "Month": "1936-12",
                  "Sunspots": 123.4
                },
                {
                  "index": 2256,
                  "Month": "1937-01",
                  "Sunspots": 132.5
                },
                {
                  "index": 2257,
                  "Month": "1937-02",
                  "Sunspots": 128.5
                },
                {
                  "index": 2258,
                  "Month": "1937-03",
                  "Sunspots": 83.9
                },
                {
                  "index": 2259,
                  "Month": "1937-04",
                  "Sunspots": 109.3
                },
                {
                  "index": 2260,
                  "Month": "1937-05",
                  "Sunspots": 116.7
                },
                {
                  "index": 2261,
                  "Month": "1937-06",
                  "Sunspots": 130.3
                },
                {
                  "index": 2262,
                  "Month": "1937-07",
                  "Sunspots": 145.1
                },
                {
                  "index": 2263,
                  "Month": "1937-08",
                  "Sunspots": 137.7
                },
                {
                  "index": 2264,
                  "Month": "1937-09",
                  "Sunspots": 100.7
                },
                {
                  "index": 2265,
                  "Month": "1937-10",
                  "Sunspots": 124.9
                },
                {
                  "index": 2266,
                  "Month": "1937-11",
                  "Sunspots": 74.4
                },
                {
                  "index": 2267,
                  "Month": "1937-12",
                  "Sunspots": 88.8
                },
                {
                  "index": 2268,
                  "Month": "1938-01",
                  "Sunspots": 98.4
                },
                {
                  "index": 2269,
                  "Month": "1938-02",
                  "Sunspots": 119.2
                },
                {
                  "index": 2270,
                  "Month": "1938-03",
                  "Sunspots": 86.5
                },
                {
                  "index": 2271,
                  "Month": "1938-04",
                  "Sunspots": 101
                },
                {
                  "index": 2272,
                  "Month": "1938-05",
                  "Sunspots": 127.4
                },
                {
                  "index": 2273,
                  "Month": "1938-06",
                  "Sunspots": 97.5
                },
                {
                  "index": 2274,
                  "Month": "1938-07",
                  "Sunspots": 165.3
                },
                {
                  "index": 2275,
                  "Month": "1938-08",
                  "Sunspots": 115.7
                },
                {
                  "index": 2276,
                  "Month": "1938-09",
                  "Sunspots": 89.6
                },
                {
                  "index": 2277,
                  "Month": "1938-10",
                  "Sunspots": 99.1
                },
                {
                  "index": 2278,
                  "Month": "1938-11",
                  "Sunspots": 122.2
                },
                {
                  "index": 2279,
                  "Month": "1938-12",
                  "Sunspots": 92.7
                },
                {
                  "index": 2280,
                  "Month": "1939-01",
                  "Sunspots": 80.3
                },
                {
                  "index": 2281,
                  "Month": "1939-02",
                  "Sunspots": 77.4
                },
                {
                  "index": 2282,
                  "Month": "1939-03",
                  "Sunspots": 64.6
                },
                {
                  "index": 2283,
                  "Month": "1939-04",
                  "Sunspots": 109.1
                },
                {
                  "index": 2284,
                  "Month": "1939-05",
                  "Sunspots": 118.3
                },
                {
                  "index": 2285,
                  "Month": "1939-06",
                  "Sunspots": 101
                },
                {
                  "index": 2286,
                  "Month": "1939-07",
                  "Sunspots": 97.6
                },
                {
                  "index": 2287,
                  "Month": "1939-08",
                  "Sunspots": 105.8
                },
                {
                  "index": 2288,
                  "Month": "1939-09",
                  "Sunspots": 112.6
                },
                {
                  "index": 2289,
                  "Month": "1939-10",
                  "Sunspots": 88.1
                },
                {
                  "index": 2290,
                  "Month": "1939-11",
                  "Sunspots": 68.1
                },
                {
                  "index": 2291,
                  "Month": "1939-12",
                  "Sunspots": 42.1
                },
                {
                  "index": 2292,
                  "Month": "1940-01",
                  "Sunspots": 50.5
                },
                {
                  "index": 2293,
                  "Month": "1940-02",
                  "Sunspots": 59.4
                },
                {
                  "index": 2294,
                  "Month": "1940-03",
                  "Sunspots": 83.3
                },
                {
                  "index": 2295,
                  "Month": "1940-04",
                  "Sunspots": 60.7
                },
                {
                  "index": 2296,
                  "Month": "1940-05",
                  "Sunspots": 54.4
                },
                {
                  "index": 2297,
                  "Month": "1940-06",
                  "Sunspots": 83.9
                },
                {
                  "index": 2298,
                  "Month": "1940-07",
                  "Sunspots": 67.5
                },
                {
                  "index": 2299,
                  "Month": "1940-08",
                  "Sunspots": 105.5
                },
                {
                  "index": 2300,
                  "Month": "1940-09",
                  "Sunspots": 66.5
                },
                {
                  "index": 2301,
                  "Month": "1940-10",
                  "Sunspots": 55
                },
                {
                  "index": 2302,
                  "Month": "1940-11",
                  "Sunspots": 58.4
                },
                {
                  "index": 2303,
                  "Month": "1940-12",
                  "Sunspots": 68.3
                },
                {
                  "index": 2304,
                  "Month": "1941-01",
                  "Sunspots": 45.6
                },
                {
                  "index": 2305,
                  "Month": "1941-02",
                  "Sunspots": 44.5
                },
                {
                  "index": 2306,
                  "Month": "1941-03",
                  "Sunspots": 46.4
                },
                {
                  "index": 2307,
                  "Month": "1941-04",
                  "Sunspots": 32.8
                },
                {
                  "index": 2308,
                  "Month": "1941-05",
                  "Sunspots": 29.5
                },
                {
                  "index": 2309,
                  "Month": "1941-06",
                  "Sunspots": 59.8
                },
                {
                  "index": 2310,
                  "Month": "1941-07",
                  "Sunspots": 66.9
                },
                {
                  "index": 2311,
                  "Month": "1941-08",
                  "Sunspots": 60
                },
                {
                  "index": 2312,
                  "Month": "1941-09",
                  "Sunspots": 65.9
                },
                {
                  "index": 2313,
                  "Month": "1941-10",
                  "Sunspots": 46.3
                },
                {
                  "index": 2314,
                  "Month": "1941-11",
                  "Sunspots": 38.3
                },
                {
                  "index": 2315,
                  "Month": "1941-12",
                  "Sunspots": 33.7
                },
                {
                  "index": 2316,
                  "Month": "1942-01",
                  "Sunspots": 35.6
                },
                {
                  "index": 2317,
                  "Month": "1942-02",
                  "Sunspots": 52.8
                },
                {
                  "index": 2318,
                  "Month": "1942-03",
                  "Sunspots": 54.2
                },
                {
                  "index": 2319,
                  "Month": "1942-04",
                  "Sunspots": 60.7
                },
                {
                  "index": 2320,
                  "Month": "1942-05",
                  "Sunspots": 25
                },
                {
                  "index": 2321,
                  "Month": "1942-06",
                  "Sunspots": 11.4
                },
                {
                  "index": 2322,
                  "Month": "1942-07",
                  "Sunspots": 17.7
                },
                {
                  "index": 2323,
                  "Month": "1942-08",
                  "Sunspots": 20.2
                },
                {
                  "index": 2324,
                  "Month": "1942-09",
                  "Sunspots": 17.2
                },
                {
                  "index": 2325,
                  "Month": "1942-10",
                  "Sunspots": 19.2
                },
                {
                  "index": 2326,
                  "Month": "1942-11",
                  "Sunspots": 30.7
                },
                {
                  "index": 2327,
                  "Month": "1942-12",
                  "Sunspots": 22.5
                },
                {
                  "index": 2328,
                  "Month": "1943-01",
                  "Sunspots": 12.4
                },
                {
                  "index": 2329,
                  "Month": "1943-02",
                  "Sunspots": 28.9
                },
                {
                  "index": 2330,
                  "Month": "1943-03",
                  "Sunspots": 27.4
                },
                {
                  "index": 2331,
                  "Month": "1943-04",
                  "Sunspots": 26.1
                },
                {
                  "index": 2332,
                  "Month": "1943-05",
                  "Sunspots": 14.1
                },
                {
                  "index": 2333,
                  "Month": "1943-06",
                  "Sunspots": 7.6
                },
                {
                  "index": 2334,
                  "Month": "1943-07",
                  "Sunspots": 13.2
                },
                {
                  "index": 2335,
                  "Month": "1943-08",
                  "Sunspots": 19.4
                },
                {
                  "index": 2336,
                  "Month": "1943-09",
                  "Sunspots": 10
                },
                {
                  "index": 2337,
                  "Month": "1943-10",
                  "Sunspots": 7.8
                },
                {
                  "index": 2338,
                  "Month": "1943-11",
                  "Sunspots": 10.2
                },
                {
                  "index": 2339,
                  "Month": "1943-12",
                  "Sunspots": 18.8
                },
                {
                  "index": 2340,
                  "Month": "1944-01",
                  "Sunspots": 3.7
                },
                {
                  "index": 2341,
                  "Month": "1944-02",
                  "Sunspots": 0.5
                },
                {
                  "index": 2342,
                  "Month": "1944-03",
                  "Sunspots": 11
                },
                {
                  "index": 2343,
                  "Month": "1944-04",
                  "Sunspots": 0.3
                },
                {
                  "index": 2344,
                  "Month": "1944-05",
                  "Sunspots": 2.5
                },
                {
                  "index": 2345,
                  "Month": "1944-06",
                  "Sunspots": 5
                },
                {
                  "index": 2346,
                  "Month": "1944-07",
                  "Sunspots": 5
                },
                {
                  "index": 2347,
                  "Month": "1944-08",
                  "Sunspots": 16.7
                },
                {
                  "index": 2348,
                  "Month": "1944-09",
                  "Sunspots": 14.3
                },
                {
                  "index": 2349,
                  "Month": "1944-10",
                  "Sunspots": 16.9
                },
                {
                  "index": 2350,
                  "Month": "1944-11",
                  "Sunspots": 10.8
                },
                {
                  "index": 2351,
                  "Month": "1944-12",
                  "Sunspots": 28.4
                },
                {
                  "index": 2352,
                  "Month": "1945-01",
                  "Sunspots": 18.5
                },
                {
                  "index": 2353,
                  "Month": "1945-02",
                  "Sunspots": 12.7
                },
                {
                  "index": 2354,
                  "Month": "1945-03",
                  "Sunspots": 21.5
                },
                {
                  "index": 2355,
                  "Month": "1945-04",
                  "Sunspots": 32
                },
                {
                  "index": 2356,
                  "Month": "1945-05",
                  "Sunspots": 30.6
                },
                {
                  "index": 2357,
                  "Month": "1945-06",
                  "Sunspots": 36.2
                },
                {
                  "index": 2358,
                  "Month": "1945-07",
                  "Sunspots": 42.6
                },
                {
                  "index": 2359,
                  "Month": "1945-08",
                  "Sunspots": 25.9
                },
                {
                  "index": 2360,
                  "Month": "1945-09",
                  "Sunspots": 34.9
                },
                {
                  "index": 2361,
                  "Month": "1945-10",
                  "Sunspots": 68.8
                },
                {
                  "index": 2362,
                  "Month": "1945-11",
                  "Sunspots": 46
                },
                {
                  "index": 2363,
                  "Month": "1945-12",
                  "Sunspots": 27.4
                },
                {
                  "index": 2364,
                  "Month": "1946-01",
                  "Sunspots": 47.6
                },
                {
                  "index": 2365,
                  "Month": "1946-02",
                  "Sunspots": 86.2
                },
                {
                  "index": 2366,
                  "Month": "1946-03",
                  "Sunspots": 76.6
                },
                {
                  "index": 2367,
                  "Month": "1946-04",
                  "Sunspots": 75.7
                },
                {
                  "index": 2368,
                  "Month": "1946-05",
                  "Sunspots": 84.9
                },
                {
                  "index": 2369,
                  "Month": "1946-06",
                  "Sunspots": 73.5
                },
                {
                  "index": 2370,
                  "Month": "1946-07",
                  "Sunspots": 116.2
                },
                {
                  "index": 2371,
                  "Month": "1946-08",
                  "Sunspots": 107.2
                },
                {
                  "index": 2372,
                  "Month": "1946-09",
                  "Sunspots": 94.4
                },
                {
                  "index": 2373,
                  "Month": "1946-10",
                  "Sunspots": 102.3
                },
                {
                  "index": 2374,
                  "Month": "1946-11",
                  "Sunspots": 123.8
                },
                {
                  "index": 2375,
                  "Month": "1946-12",
                  "Sunspots": 121.7
                },
                {
                  "index": 2376,
                  "Month": "1947-01",
                  "Sunspots": 115.7
                },
                {
                  "index": 2377,
                  "Month": "1947-02",
                  "Sunspots": 113.4
                },
                {
                  "index": 2378,
                  "Month": "1947-03",
                  "Sunspots": 129.8
                },
                {
                  "index": 2379,
                  "Month": "1947-04",
                  "Sunspots": 149.8
                },
                {
                  "index": 2380,
                  "Month": "1947-05",
                  "Sunspots": 201.3
                },
                {
                  "index": 2381,
                  "Month": "1947-06",
                  "Sunspots": 163.9
                },
                {
                  "index": 2382,
                  "Month": "1947-07",
                  "Sunspots": 157.9
                },
                {
                  "index": 2383,
                  "Month": "1947-08",
                  "Sunspots": 188.8
                },
                {
                  "index": 2384,
                  "Month": "1947-09",
                  "Sunspots": 169.4
                },
                {
                  "index": 2385,
                  "Month": "1947-10",
                  "Sunspots": 163.6
                },
                {
                  "index": 2386,
                  "Month": "1947-11",
                  "Sunspots": 128
                },
                {
                  "index": 2387,
                  "Month": "1947-12",
                  "Sunspots": 116.5
                },
                {
                  "index": 2388,
                  "Month": "1948-01",
                  "Sunspots": 108.5
                },
                {
                  "index": 2389,
                  "Month": "1948-02",
                  "Sunspots": 86.1
                },
                {
                  "index": 2390,
                  "Month": "1948-03",
                  "Sunspots": 94.8
                },
                {
                  "index": 2391,
                  "Month": "1948-04",
                  "Sunspots": 189.7
                },
                {
                  "index": 2392,
                  "Month": "1948-05",
                  "Sunspots": 174
                },
                {
                  "index": 2393,
                  "Month": "1948-06",
                  "Sunspots": 167.8
                },
                {
                  "index": 2394,
                  "Month": "1948-07",
                  "Sunspots": 142.2
                },
                {
                  "index": 2395,
                  "Month": "1948-08",
                  "Sunspots": 157.9
                },
                {
                  "index": 2396,
                  "Month": "1948-09",
                  "Sunspots": 143.3
                },
                {
                  "index": 2397,
                  "Month": "1948-10",
                  "Sunspots": 136.3
                },
                {
                  "index": 2398,
                  "Month": "1948-11",
                  "Sunspots": 95.8
                },
                {
                  "index": 2399,
                  "Month": "1948-12",
                  "Sunspots": 138
                },
                {
                  "index": 2400,
                  "Month": "1949-01",
                  "Sunspots": 119.1
                },
                {
                  "index": 2401,
                  "Month": "1949-02",
                  "Sunspots": 182.3
                },
                {
                  "index": 2402,
                  "Month": "1949-03",
                  "Sunspots": 157.5
                },
                {
                  "index": 2403,
                  "Month": "1949-04",
                  "Sunspots": 147
                },
                {
                  "index": 2404,
                  "Month": "1949-05",
                  "Sunspots": 106.2
                },
                {
                  "index": 2405,
                  "Month": "1949-06",
                  "Sunspots": 121.7
                },
                {
                  "index": 2406,
                  "Month": "1949-07",
                  "Sunspots": 125.8
                },
                {
                  "index": 2407,
                  "Month": "1949-08",
                  "Sunspots": 123.8
                },
                {
                  "index": 2408,
                  "Month": "1949-09",
                  "Sunspots": 145.3
                },
                {
                  "index": 2409,
                  "Month": "1949-10",
                  "Sunspots": 131.6
                },
                {
                  "index": 2410,
                  "Month": "1949-11",
                  "Sunspots": 143.5
                },
                {
                  "index": 2411,
                  "Month": "1949-12",
                  "Sunspots": 117.6
                },
                {
                  "index": 2412,
                  "Month": "1950-01",
                  "Sunspots": 101.6
                },
                {
                  "index": 2413,
                  "Month": "1950-02",
                  "Sunspots": 94.8
                },
                {
                  "index": 2414,
                  "Month": "1950-03",
                  "Sunspots": 109.7
                },
                {
                  "index": 2415,
                  "Month": "1950-04",
                  "Sunspots": 113.4
                },
                {
                  "index": 2416,
                  "Month": "1950-05",
                  "Sunspots": 106.2
                },
                {
                  "index": 2417,
                  "Month": "1950-06",
                  "Sunspots": 83.6
                },
                {
                  "index": 2418,
                  "Month": "1950-07",
                  "Sunspots": 91
                },
                {
                  "index": 2419,
                  "Month": "1950-08",
                  "Sunspots": 85.2
                },
                {
                  "index": 2420,
                  "Month": "1950-09",
                  "Sunspots": 51.3
                },
                {
                  "index": 2421,
                  "Month": "1950-10",
                  "Sunspots": 61.4
                },
                {
                  "index": 2422,
                  "Month": "1950-11",
                  "Sunspots": 54.8
                },
                {
                  "index": 2423,
                  "Month": "1950-12",
                  "Sunspots": 54.1
                },
                {
                  "index": 2424,
                  "Month": "1951-01",
                  "Sunspots": 59.9
                },
                {
                  "index": 2425,
                  "Month": "1951-02",
                  "Sunspots": 59.9
                },
                {
                  "index": 2426,
                  "Month": "1951-03",
                  "Sunspots": 59.9
                },
                {
                  "index": 2427,
                  "Month": "1951-04",
                  "Sunspots": 92.9
                },
                {
                  "index": 2428,
                  "Month": "1951-05",
                  "Sunspots": 108.5
                },
                {
                  "index": 2429,
                  "Month": "1951-06",
                  "Sunspots": 100.6
                },
                {
                  "index": 2430,
                  "Month": "1951-07",
                  "Sunspots": 61.5
                },
                {
                  "index": 2431,
                  "Month": "1951-08",
                  "Sunspots": 61
                },
                {
                  "index": 2432,
                  "Month": "1951-09",
                  "Sunspots": 83.1
                },
                {
                  "index": 2433,
                  "Month": "1951-10",
                  "Sunspots": 51.6
                },
                {
                  "index": 2434,
                  "Month": "1951-11",
                  "Sunspots": 52.4
                },
                {
                  "index": 2435,
                  "Month": "1951-12",
                  "Sunspots": 45.8
                },
                {
                  "index": 2436,
                  "Month": "1952-01",
                  "Sunspots": 40.7
                },
                {
                  "index": 2437,
                  "Month": "1952-02",
                  "Sunspots": 22.7
                },
                {
                  "index": 2438,
                  "Month": "1952-03",
                  "Sunspots": 22
                },
                {
                  "index": 2439,
                  "Month": "1952-04",
                  "Sunspots": 29.1
                },
                {
                  "index": 2440,
                  "Month": "1952-05",
                  "Sunspots": 23.4
                },
                {
                  "index": 2441,
                  "Month": "1952-06",
                  "Sunspots": 36.4
                },
                {
                  "index": 2442,
                  "Month": "1952-07",
                  "Sunspots": 39.3
                },
                {
                  "index": 2443,
                  "Month": "1952-08",
                  "Sunspots": 54.9
                },
                {
                  "index": 2444,
                  "Month": "1952-09",
                  "Sunspots": 28.2
                },
                {
                  "index": 2445,
                  "Month": "1952-10",
                  "Sunspots": 23.8
                },
                {
                  "index": 2446,
                  "Month": "1952-11",
                  "Sunspots": 22.1
                },
                {
                  "index": 2447,
                  "Month": "1952-12",
                  "Sunspots": 34.3
                },
                {
                  "index": 2448,
                  "Month": "1953-01",
                  "Sunspots": 26.5
                },
                {
                  "index": 2449,
                  "Month": "1953-02",
                  "Sunspots": 3.9
                },
                {
                  "index": 2450,
                  "Month": "1953-03",
                  "Sunspots": 10
                },
                {
                  "index": 2451,
                  "Month": "1953-04",
                  "Sunspots": 27.8
                },
                {
                  "index": 2452,
                  "Month": "1953-05",
                  "Sunspots": 12.5
                },
                {
                  "index": 2453,
                  "Month": "1953-06",
                  "Sunspots": 21.8
                },
                {
                  "index": 2454,
                  "Month": "1953-07",
                  "Sunspots": 8.6
                },
                {
                  "index": 2455,
                  "Month": "1953-08",
                  "Sunspots": 23.5
                },
                {
                  "index": 2456,
                  "Month": "1953-09",
                  "Sunspots": 19.3
                },
                {
                  "index": 2457,
                  "Month": "1953-10",
                  "Sunspots": 8.2
                },
                {
                  "index": 2458,
                  "Month": "1953-11",
                  "Sunspots": 1.6
                },
                {
                  "index": 2459,
                  "Month": "1953-12",
                  "Sunspots": 2.5
                },
                {
                  "index": 2460,
                  "Month": "1954-01",
                  "Sunspots": 0.2
                },
                {
                  "index": 2461,
                  "Month": "1954-02",
                  "Sunspots": 0.5
                },
                {
                  "index": 2462,
                  "Month": "1954-03",
                  "Sunspots": 10.9
                },
                {
                  "index": 2463,
                  "Month": "1954-04",
                  "Sunspots": 1.8
                },
                {
                  "index": 2464,
                  "Month": "1954-05",
                  "Sunspots": 0.8
                },
                {
                  "index": 2465,
                  "Month": "1954-06",
                  "Sunspots": 0.2
                },
                {
                  "index": 2466,
                  "Month": "1954-07",
                  "Sunspots": 4.8
                },
                {
                  "index": 2467,
                  "Month": "1954-08",
                  "Sunspots": 8.4
                },
                {
                  "index": 2468,
                  "Month": "1954-09",
                  "Sunspots": 1.5
                },
                {
                  "index": 2469,
                  "Month": "1954-10",
                  "Sunspots": 7
                },
                {
                  "index": 2470,
                  "Month": "1954-11",
                  "Sunspots": 9.2
                },
                {
                  "index": 2471,
                  "Month": "1954-12",
                  "Sunspots": 7.6
                },
                {
                  "index": 2472,
                  "Month": "1955-01",
                  "Sunspots": 23.1
                },
                {
                  "index": 2473,
                  "Month": "1955-02",
                  "Sunspots": 20.8
                },
                {
                  "index": 2474,
                  "Month": "1955-03",
                  "Sunspots": 4.9
                },
                {
                  "index": 2475,
                  "Month": "1955-04",
                  "Sunspots": 11.3
                },
                {
                  "index": 2476,
                  "Month": "1955-05",
                  "Sunspots": 28.9
                },
                {
                  "index": 2477,
                  "Month": "1955-06",
                  "Sunspots": 31.7
                },
                {
                  "index": 2478,
                  "Month": "1955-07",
                  "Sunspots": 26.7
                },
                {
                  "index": 2479,
                  "Month": "1955-08",
                  "Sunspots": 40.7
                },
                {
                  "index": 2480,
                  "Month": "1955-09",
                  "Sunspots": 42.7
                },
                {
                  "index": 2481,
                  "Month": "1955-10",
                  "Sunspots": 58.5
                },
                {
                  "index": 2482,
                  "Month": "1955-11",
                  "Sunspots": 89.2
                },
                {
                  "index": 2483,
                  "Month": "1955-12",
                  "Sunspots": 76.9
                },
                {
                  "index": 2484,
                  "Month": "1956-01",
                  "Sunspots": 73.6
                },
                {
                  "index": 2485,
                  "Month": "1956-02",
                  "Sunspots": 124
                },
                {
                  "index": 2486,
                  "Month": "1956-03",
                  "Sunspots": 118.4
                },
                {
                  "index": 2487,
                  "Month": "1956-04",
                  "Sunspots": 110.7
                },
                {
                  "index": 2488,
                  "Month": "1956-05",
                  "Sunspots": 136.6
                },
                {
                  "index": 2489,
                  "Month": "1956-06",
                  "Sunspots": 116.6
                },
                {
                  "index": 2490,
                  "Month": "1956-07",
                  "Sunspots": 129.1
                },
                {
                  "index": 2491,
                  "Month": "1956-08",
                  "Sunspots": 169.6
                },
                {
                  "index": 2492,
                  "Month": "1956-09",
                  "Sunspots": 173.2
                },
                {
                  "index": 2493,
                  "Month": "1956-10",
                  "Sunspots": 155.3
                },
                {
                  "index": 2494,
                  "Month": "1956-11",
                  "Sunspots": 201.3
                },
                {
                  "index": 2495,
                  "Month": "1956-12",
                  "Sunspots": 192.1
                },
                {
                  "index": 2496,
                  "Month": "1957-01",
                  "Sunspots": 165
                },
                {
                  "index": 2497,
                  "Month": "1957-02",
                  "Sunspots": 130.2
                },
                {
                  "index": 2498,
                  "Month": "1957-03",
                  "Sunspots": 157.4
                },
                {
                  "index": 2499,
                  "Month": "1957-04",
                  "Sunspots": 175.2
                },
                {
                  "index": 2500,
                  "Month": "1957-05",
                  "Sunspots": 164.6
                },
                {
                  "index": 2501,
                  "Month": "1957-06",
                  "Sunspots": 200.7
                },
                {
                  "index": 2502,
                  "Month": "1957-07",
                  "Sunspots": 187.2
                },
                {
                  "index": 2503,
                  "Month": "1957-08",
                  "Sunspots": 158
                },
                {
                  "index": 2504,
                  "Month": "1957-09",
                  "Sunspots": 235.8
                },
                {
                  "index": 2505,
                  "Month": "1957-10",
                  "Sunspots": 253.8
                },
                {
                  "index": 2506,
                  "Month": "1957-11",
                  "Sunspots": 210.9
                },
                {
                  "index": 2507,
                  "Month": "1957-12",
                  "Sunspots": 239.4
                },
                {
                  "index": 2508,
                  "Month": "1958-01",
                  "Sunspots": 202.5
                },
                {
                  "index": 2509,
                  "Month": "1958-02",
                  "Sunspots": 164.9
                },
                {
                  "index": 2510,
                  "Month": "1958-03",
                  "Sunspots": 190.7
                },
                {
                  "index": 2511,
                  "Month": "1958-04",
                  "Sunspots": 196
                },
                {
                  "index": 2512,
                  "Month": "1958-05",
                  "Sunspots": 175.3
                },
                {
                  "index": 2513,
                  "Month": "1958-06",
                  "Sunspots": 171.5
                },
                {
                  "index": 2514,
                  "Month": "1958-07",
                  "Sunspots": 191.4
                },
                {
                  "index": 2515,
                  "Month": "1958-08",
                  "Sunspots": 200.2
                },
                {
                  "index": 2516,
                  "Month": "1958-09",
                  "Sunspots": 201.2
                },
                {
                  "index": 2517,
                  "Month": "1958-10",
                  "Sunspots": 181.5
                },
                {
                  "index": 2518,
                  "Month": "1958-11",
                  "Sunspots": 152.3
                },
                {
                  "index": 2519,
                  "Month": "1958-12",
                  "Sunspots": 187.6
                },
                {
                  "index": 2520,
                  "Month": "1959-01",
                  "Sunspots": 217.4
                },
                {
                  "index": 2521,
                  "Month": "1959-02",
                  "Sunspots": 143.1
                },
                {
                  "index": 2522,
                  "Month": "1959-03",
                  "Sunspots": 185.7
                },
                {
                  "index": 2523,
                  "Month": "1959-04",
                  "Sunspots": 163.3
                },
                {
                  "index": 2524,
                  "Month": "1959-05",
                  "Sunspots": 172
                },
                {
                  "index": 2525,
                  "Month": "1959-06",
                  "Sunspots": 168.7
                },
                {
                  "index": 2526,
                  "Month": "1959-07",
                  "Sunspots": 149.6
                },
                {
                  "index": 2527,
                  "Month": "1959-08",
                  "Sunspots": 199.6
                },
                {
                  "index": 2528,
                  "Month": "1959-09",
                  "Sunspots": 145.2
                },
                {
                  "index": 2529,
                  "Month": "1959-10",
                  "Sunspots": 111.4
                },
                {
                  "index": 2530,
                  "Month": "1959-11",
                  "Sunspots": 124
                },
                {
                  "index": 2531,
                  "Month": "1959-12",
                  "Sunspots": 125
                },
                {
                  "index": 2532,
                  "Month": "1960-01",
                  "Sunspots": 146.3
                },
                {
                  "index": 2533,
                  "Month": "1960-02",
                  "Sunspots": 106
                },
                {
                  "index": 2534,
                  "Month": "1960-03",
                  "Sunspots": 102.2
                },
                {
                  "index": 2535,
                  "Month": "1960-04",
                  "Sunspots": 122
                },
                {
                  "index": 2536,
                  "Month": "1960-05",
                  "Sunspots": 119.6
                },
                {
                  "index": 2537,
                  "Month": "1960-06",
                  "Sunspots": 110.2
                },
                {
                  "index": 2538,
                  "Month": "1960-07",
                  "Sunspots": 121.7
                },
                {
                  "index": 2539,
                  "Month": "1960-08",
                  "Sunspots": 134.1
                },
                {
                  "index": 2540,
                  "Month": "1960-09",
                  "Sunspots": 127.2
                },
                {
                  "index": 2541,
                  "Month": "1960-10",
                  "Sunspots": 82.8
                },
                {
                  "index": 2542,
                  "Month": "1960-11",
                  "Sunspots": 89.6
                },
                {
                  "index": 2543,
                  "Month": "1960-12",
                  "Sunspots": 85.6
                },
                {
                  "index": 2544,
                  "Month": "1961-01",
                  "Sunspots": 57.9
                },
                {
                  "index": 2545,
                  "Month": "1961-02",
                  "Sunspots": 46.1
                },
                {
                  "index": 2546,
                  "Month": "1961-03",
                  "Sunspots": 53
                },
                {
                  "index": 2547,
                  "Month": "1961-04",
                  "Sunspots": 61.4
                },
                {
                  "index": 2548,
                  "Month": "1961-05",
                  "Sunspots": 51
                },
                {
                  "index": 2549,
                  "Month": "1961-06",
                  "Sunspots": 77.4
                },
                {
                  "index": 2550,
                  "Month": "1961-07",
                  "Sunspots": 70.2
                },
                {
                  "index": 2551,
                  "Month": "1961-08",
                  "Sunspots": 55.9
                },
                {
                  "index": 2552,
                  "Month": "1961-09",
                  "Sunspots": 63.6
                },
                {
                  "index": 2553,
                  "Month": "1961-10",
                  "Sunspots": 37.7
                },
                {
                  "index": 2554,
                  "Month": "1961-11",
                  "Sunspots": 32.6
                },
                {
                  "index": 2555,
                  "Month": "1961-12",
                  "Sunspots": 40
                },
                {
                  "index": 2556,
                  "Month": "1962-01",
                  "Sunspots": 38.7
                },
                {
                  "index": 2557,
                  "Month": "1962-02",
                  "Sunspots": 50.3
                },
                {
                  "index": 2558,
                  "Month": "1962-03",
                  "Sunspots": 45.6
                },
                {
                  "index": 2559,
                  "Month": "1962-04",
                  "Sunspots": 46.4
                },
                {
                  "index": 2560,
                  "Month": "1962-05",
                  "Sunspots": 43.7
                },
                {
                  "index": 2561,
                  "Month": "1962-06",
                  "Sunspots": 42
                },
                {
                  "index": 2562,
                  "Month": "1962-07",
                  "Sunspots": 21.8
                },
                {
                  "index": 2563,
                  "Month": "1962-08",
                  "Sunspots": 21.8
                },
                {
                  "index": 2564,
                  "Month": "1962-09",
                  "Sunspots": 51.3
                },
                {
                  "index": 2565,
                  "Month": "1962-10",
                  "Sunspots": 39.5
                },
                {
                  "index": 2566,
                  "Month": "1962-11",
                  "Sunspots": 26.9
                },
                {
                  "index": 2567,
                  "Month": "1962-12",
                  "Sunspots": 23.2
                },
                {
                  "index": 2568,
                  "Month": "1963-01",
                  "Sunspots": 19.8
                },
                {
                  "index": 2569,
                  "Month": "1963-02",
                  "Sunspots": 24.4
                },
                {
                  "index": 2570,
                  "Month": "1963-03",
                  "Sunspots": 17.1
                },
                {
                  "index": 2571,
                  "Month": "1963-04",
                  "Sunspots": 29.3
                },
                {
                  "index": 2572,
                  "Month": "1963-05",
                  "Sunspots": 43
                },
                {
                  "index": 2573,
                  "Month": "1963-06",
                  "Sunspots": 35.9
                },
                {
                  "index": 2574,
                  "Month": "1963-07",
                  "Sunspots": 19.6
                },
                {
                  "index": 2575,
                  "Month": "1963-08",
                  "Sunspots": 33.2
                },
                {
                  "index": 2576,
                  "Month": "1963-09",
                  "Sunspots": 38.8
                },
                {
                  "index": 2577,
                  "Month": "1963-10",
                  "Sunspots": 35.3
                },
                {
                  "index": 2578,
                  "Month": "1963-11",
                  "Sunspots": 23.4
                },
                {
                  "index": 2579,
                  "Month": "1963-12",
                  "Sunspots": 14.9
                },
                {
                  "index": 2580,
                  "Month": "1964-01",
                  "Sunspots": 15.3
                },
                {
                  "index": 2581,
                  "Month": "1964-02",
                  "Sunspots": 17.7
                },
                {
                  "index": 2582,
                  "Month": "1964-03",
                  "Sunspots": 16.5
                },
                {
                  "index": 2583,
                  "Month": "1964-04",
                  "Sunspots": 8.6
                },
                {
                  "index": 2584,
                  "Month": "1964-05",
                  "Sunspots": 9.5
                },
                {
                  "index": 2585,
                  "Month": "1964-06",
                  "Sunspots": 9.1
                },
                {
                  "index": 2586,
                  "Month": "1964-07",
                  "Sunspots": 3.1
                },
                {
                  "index": 2587,
                  "Month": "1964-08",
                  "Sunspots": 9.3
                },
                {
                  "index": 2588,
                  "Month": "1964-09",
                  "Sunspots": 4.7
                },
                {
                  "index": 2589,
                  "Month": "1964-10",
                  "Sunspots": 6.1
                },
                {
                  "index": 2590,
                  "Month": "1964-11",
                  "Sunspots": 7.4
                },
                {
                  "index": 2591,
                  "Month": "1964-12",
                  "Sunspots": 15.1
                },
                {
                  "index": 2592,
                  "Month": "1965-01",
                  "Sunspots": 17.5
                },
                {
                  "index": 2593,
                  "Month": "1965-02",
                  "Sunspots": 14.2
                },
                {
                  "index": 2594,
                  "Month": "1965-03",
                  "Sunspots": 11.7
                },
                {
                  "index": 2595,
                  "Month": "1965-04",
                  "Sunspots": 6.8
                },
                {
                  "index": 2596,
                  "Month": "1965-05",
                  "Sunspots": 24.1
                },
                {
                  "index": 2597,
                  "Month": "1965-06",
                  "Sunspots": 15.9
                },
                {
                  "index": 2598,
                  "Month": "1965-07",
                  "Sunspots": 11.9
                },
                {
                  "index": 2599,
                  "Month": "1965-08",
                  "Sunspots": 8.9
                },
                {
                  "index": 2600,
                  "Month": "1965-09",
                  "Sunspots": 16.8
                },
                {
                  "index": 2601,
                  "Month": "1965-10",
                  "Sunspots": 20.1
                },
                {
                  "index": 2602,
                  "Month": "1965-11",
                  "Sunspots": 15.8
                },
                {
                  "index": 2603,
                  "Month": "1965-12",
                  "Sunspots": 17
                },
                {
                  "index": 2604,
                  "Month": "1966-01",
                  "Sunspots": 28.2
                },
                {
                  "index": 2605,
                  "Month": "1966-02",
                  "Sunspots": 24.4
                },
                {
                  "index": 2606,
                  "Month": "1966-03",
                  "Sunspots": 25.3
                },
                {
                  "index": 2607,
                  "Month": "1966-04",
                  "Sunspots": 48.7
                },
                {
                  "index": 2608,
                  "Month": "1966-05",
                  "Sunspots": 45.3
                },
                {
                  "index": 2609,
                  "Month": "1966-06",
                  "Sunspots": 47.7
                },
                {
                  "index": 2610,
                  "Month": "1966-07",
                  "Sunspots": 56.7
                },
                {
                  "index": 2611,
                  "Month": "1966-08",
                  "Sunspots": 51.2
                },
                {
                  "index": 2612,
                  "Month": "1966-09",
                  "Sunspots": 50.2
                },
                {
                  "index": 2613,
                  "Month": "1966-10",
                  "Sunspots": 57.2
                },
                {
                  "index": 2614,
                  "Month": "1966-11",
                  "Sunspots": 57.2
                },
                {
                  "index": 2615,
                  "Month": "1966-12",
                  "Sunspots": 70.4
                },
                {
                  "index": 2616,
                  "Month": "1967-01",
                  "Sunspots": 110.9
                },
                {
                  "index": 2617,
                  "Month": "1967-02",
                  "Sunspots": 93.6
                },
                {
                  "index": 2618,
                  "Month": "1967-03",
                  "Sunspots": 111.8
                },
                {
                  "index": 2619,
                  "Month": "1967-04",
                  "Sunspots": 69.5
                },
                {
                  "index": 2620,
                  "Month": "1967-05",
                  "Sunspots": 86.5
                },
                {
                  "index": 2621,
                  "Month": "1967-06",
                  "Sunspots": 67.3
                },
                {
                  "index": 2622,
                  "Month": "1967-07",
                  "Sunspots": 91.5
                },
                {
                  "index": 2623,
                  "Month": "1967-08",
                  "Sunspots": 107.2
                },
                {
                  "index": 2624,
                  "Month": "1967-09",
                  "Sunspots": 76.8
                },
                {
                  "index": 2625,
                  "Month": "1967-10",
                  "Sunspots": 88.2
                },
                {
                  "index": 2626,
                  "Month": "1967-11",
                  "Sunspots": 94.3
                },
                {
                  "index": 2627,
                  "Month": "1967-12",
                  "Sunspots": 126.4
                },
                {
                  "index": 2628,
                  "Month": "1968-01",
                  "Sunspots": 121.8
                },
                {
                  "index": 2629,
                  "Month": "1968-02",
                  "Sunspots": 111.9
                },
                {
                  "index": 2630,
                  "Month": "1968-03",
                  "Sunspots": 92.2
                },
                {
                  "index": 2631,
                  "Month": "1968-04",
                  "Sunspots": 81.2
                },
                {
                  "index": 2632,
                  "Month": "1968-05",
                  "Sunspots": 127.2
                },
                {
                  "index": 2633,
                  "Month": "1968-06",
                  "Sunspots": 110.3
                },
                {
                  "index": 2634,
                  "Month": "1968-07",
                  "Sunspots": 96.1
                },
                {
                  "index": 2635,
                  "Month": "1968-08",
                  "Sunspots": 109.3
                },
                {
                  "index": 2636,
                  "Month": "1968-09",
                  "Sunspots": 117.2
                },
                {
                  "index": 2637,
                  "Month": "1968-10",
                  "Sunspots": 107.7
                },
                {
                  "index": 2638,
                  "Month": "1968-11",
                  "Sunspots": 86
                },
                {
                  "index": 2639,
                  "Month": "1968-12",
                  "Sunspots": 109.8
                },
                {
                  "index": 2640,
                  "Month": "1969-01",
                  "Sunspots": 104.4
                },
                {
                  "index": 2641,
                  "Month": "1969-02",
                  "Sunspots": 120.5
                },
                {
                  "index": 2642,
                  "Month": "1969-03",
                  "Sunspots": 135.8
                },
                {
                  "index": 2643,
                  "Month": "1969-04",
                  "Sunspots": 106.8
                },
                {
                  "index": 2644,
                  "Month": "1969-05",
                  "Sunspots": 120
                },
                {
                  "index": 2645,
                  "Month": "1969-06",
                  "Sunspots": 106
                },
                {
                  "index": 2646,
                  "Month": "1969-07",
                  "Sunspots": 96.8
                },
                {
                  "index": 2647,
                  "Month": "1969-08",
                  "Sunspots": 98
                },
                {
                  "index": 2648,
                  "Month": "1969-09",
                  "Sunspots": 91.3
                },
                {
                  "index": 2649,
                  "Month": "1969-10",
                  "Sunspots": 95.7
                },
                {
                  "index": 2650,
                  "Month": "1969-11",
                  "Sunspots": 93.5
                },
                {
                  "index": 2651,
                  "Month": "1969-12",
                  "Sunspots": 97.9
                },
                {
                  "index": 2652,
                  "Month": "1970-01",
                  "Sunspots": 111.5
                },
                {
                  "index": 2653,
                  "Month": "1970-02",
                  "Sunspots": 127.8
                },
                {
                  "index": 2654,
                  "Month": "1970-03",
                  "Sunspots": 102.9
                },
                {
                  "index": 2655,
                  "Month": "1970-04",
                  "Sunspots": 109.5
                },
                {
                  "index": 2656,
                  "Month": "1970-05",
                  "Sunspots": 127.5
                },
                {
                  "index": 2657,
                  "Month": "1970-06",
                  "Sunspots": 106.8
                },
                {
                  "index": 2658,
                  "Month": "1970-07",
                  "Sunspots": 112.5
                },
                {
                  "index": 2659,
                  "Month": "1970-08",
                  "Sunspots": 93
                },
                {
                  "index": 2660,
                  "Month": "1970-09",
                  "Sunspots": 99.5
                },
                {
                  "index": 2661,
                  "Month": "1970-10",
                  "Sunspots": 86.6
                },
                {
                  "index": 2662,
                  "Month": "1970-11",
                  "Sunspots": 95.2
                },
                {
                  "index": 2663,
                  "Month": "1970-12",
                  "Sunspots": 83.5
                },
                {
                  "index": 2664,
                  "Month": "1971-01",
                  "Sunspots": 91.3
                },
                {
                  "index": 2665,
                  "Month": "1971-02",
                  "Sunspots": 79
                },
                {
                  "index": 2666,
                  "Month": "1971-03",
                  "Sunspots": 60.7
                },
                {
                  "index": 2667,
                  "Month": "1971-04",
                  "Sunspots": 71.8
                },
                {
                  "index": 2668,
                  "Month": "1971-05",
                  "Sunspots": 57.5
                },
                {
                  "index": 2669,
                  "Month": "1971-06",
                  "Sunspots": 49.8
                },
                {
                  "index": 2670,
                  "Month": "1971-07",
                  "Sunspots": 81
                },
                {
                  "index": 2671,
                  "Month": "1971-08",
                  "Sunspots": 61.4
                },
                {
                  "index": 2672,
                  "Month": "1971-09",
                  "Sunspots": 50.2
                },
                {
                  "index": 2673,
                  "Month": "1971-10",
                  "Sunspots": 51.7
                },
                {
                  "index": 2674,
                  "Month": "1971-11",
                  "Sunspots": 63.2
                },
                {
                  "index": 2675,
                  "Month": "1971-12",
                  "Sunspots": 82.2
                },
                {
                  "index": 2676,
                  "Month": "1972-01",
                  "Sunspots": 61.5
                },
                {
                  "index": 2677,
                  "Month": "1972-02",
                  "Sunspots": 88.4
                },
                {
                  "index": 2678,
                  "Month": "1972-03",
                  "Sunspots": 80.1
                },
                {
                  "index": 2679,
                  "Month": "1972-04",
                  "Sunspots": 63.2
                },
                {
                  "index": 2680,
                  "Month": "1972-05",
                  "Sunspots": 80.5
                },
                {
                  "index": 2681,
                  "Month": "1972-06",
                  "Sunspots": 88
                },
                {
                  "index": 2682,
                  "Month": "1972-07",
                  "Sunspots": 76.5
                },
                {
                  "index": 2683,
                  "Month": "1972-08",
                  "Sunspots": 76.8
                },
                {
                  "index": 2684,
                  "Month": "1972-09",
                  "Sunspots": 64
                },
                {
                  "index": 2685,
                  "Month": "1972-10",
                  "Sunspots": 61.3
                },
                {
                  "index": 2686,
                  "Month": "1972-11",
                  "Sunspots": 41.6
                },
                {
                  "index": 2687,
                  "Month": "1972-12",
                  "Sunspots": 45.3
                },
                {
                  "index": 2688,
                  "Month": "1973-01",
                  "Sunspots": 43.4
                },
                {
                  "index": 2689,
                  "Month": "1973-02",
                  "Sunspots": 42.9
                },
                {
                  "index": 2690,
                  "Month": "1973-03",
                  "Sunspots": 46
                },
                {
                  "index": 2691,
                  "Month": "1973-04",
                  "Sunspots": 57.7
                },
                {
                  "index": 2692,
                  "Month": "1973-05",
                  "Sunspots": 42.4
                },
                {
                  "index": 2693,
                  "Month": "1973-06",
                  "Sunspots": 39.5
                },
                {
                  "index": 2694,
                  "Month": "1973-07",
                  "Sunspots": 23.1
                },
                {
                  "index": 2695,
                  "Month": "1973-08",
                  "Sunspots": 25.6
                },
                {
                  "index": 2696,
                  "Month": "1973-09",
                  "Sunspots": 59.3
                },
                {
                  "index": 2697,
                  "Month": "1973-10",
                  "Sunspots": 30.7
                },
                {
                  "index": 2698,
                  "Month": "1973-11",
                  "Sunspots": 23.9
                },
                {
                  "index": 2699,
                  "Month": "1973-12",
                  "Sunspots": 23.3
                },
                {
                  "index": 2700,
                  "Month": "1974-01",
                  "Sunspots": 27.6
                },
                {
                  "index": 2701,
                  "Month": "1974-02",
                  "Sunspots": 26
                },
                {
                  "index": 2702,
                  "Month": "1974-03",
                  "Sunspots": 21.3
                },
                {
                  "index": 2703,
                  "Month": "1974-04",
                  "Sunspots": 40.3
                },
                {
                  "index": 2704,
                  "Month": "1974-05",
                  "Sunspots": 39.5
                },
                {
                  "index": 2705,
                  "Month": "1974-06",
                  "Sunspots": 36
                },
                {
                  "index": 2706,
                  "Month": "1974-07",
                  "Sunspots": 55.8
                },
                {
                  "index": 2707,
                  "Month": "1974-08",
                  "Sunspots": 33.6
                },
                {
                  "index": 2708,
                  "Month": "1974-09",
                  "Sunspots": 40.2
                },
                {
                  "index": 2709,
                  "Month": "1974-10",
                  "Sunspots": 47.1
                },
                {
                  "index": 2710,
                  "Month": "1974-11",
                  "Sunspots": 25
                },
                {
                  "index": 2711,
                  "Month": "1974-12",
                  "Sunspots": 20.5
                },
                {
                  "index": 2712,
                  "Month": "1975-01",
                  "Sunspots": 18.9
                },
                {
                  "index": 2713,
                  "Month": "1975-02",
                  "Sunspots": 11.5
                },
                {
                  "index": 2714,
                  "Month": "1975-03",
                  "Sunspots": 11.5
                },
                {
                  "index": 2715,
                  "Month": "1975-04",
                  "Sunspots": 5.1
                },
                {
                  "index": 2716,
                  "Month": "1975-05",
                  "Sunspots": 9
                },
                {
                  "index": 2717,
                  "Month": "1975-06",
                  "Sunspots": 11.4
                },
                {
                  "index": 2718,
                  "Month": "1975-07",
                  "Sunspots": 28.2
                },
                {
                  "index": 2719,
                  "Month": "1975-08",
                  "Sunspots": 39.7
                },
                {
                  "index": 2720,
                  "Month": "1975-09",
                  "Sunspots": 13.9
                },
                {
                  "index": 2721,
                  "Month": "1975-10",
                  "Sunspots": 9.1
                },
                {
                  "index": 2722,
                  "Month": "1975-11",
                  "Sunspots": 19.4
                },
                {
                  "index": 2723,
                  "Month": "1975-12",
                  "Sunspots": 7.8
                },
                {
                  "index": 2724,
                  "Month": "1976-01",
                  "Sunspots": 8.1
                },
                {
                  "index": 2725,
                  "Month": "1976-02",
                  "Sunspots": 4.3
                },
                {
                  "index": 2726,
                  "Month": "1976-03",
                  "Sunspots": 21.9
                },
                {
                  "index": 2727,
                  "Month": "1976-04",
                  "Sunspots": 18.8
                },
                {
                  "index": 2728,
                  "Month": "1976-05",
                  "Sunspots": 12.4
                },
                {
                  "index": 2729,
                  "Month": "1976-06",
                  "Sunspots": 12.2
                },
                {
                  "index": 2730,
                  "Month": "1976-07",
                  "Sunspots": 1.9
                },
                {
                  "index": 2731,
                  "Month": "1976-08",
                  "Sunspots": 16.4
                },
                {
                  "index": 2732,
                  "Month": "1976-09",
                  "Sunspots": 13.5
                },
                {
                  "index": 2733,
                  "Month": "1976-10",
                  "Sunspots": 20.6
                },
                {
                  "index": 2734,
                  "Month": "1976-11",
                  "Sunspots": 5.2
                },
                {
                  "index": 2735,
                  "Month": "1976-12",
                  "Sunspots": 15.3
                },
                {
                  "index": 2736,
                  "Month": "1977-01",
                  "Sunspots": 16.4
                },
                {
                  "index": 2737,
                  "Month": "1977-02",
                  "Sunspots": 23.1
                },
                {
                  "index": 2738,
                  "Month": "1977-03",
                  "Sunspots": 8.7
                },
                {
                  "index": 2739,
                  "Month": "1977-04",
                  "Sunspots": 12.9
                },
                {
                  "index": 2740,
                  "Month": "1977-05",
                  "Sunspots": 18.6
                },
                {
                  "index": 2741,
                  "Month": "1977-06",
                  "Sunspots": 38.5
                },
                {
                  "index": 2742,
                  "Month": "1977-07",
                  "Sunspots": 21.4
                },
                {
                  "index": 2743,
                  "Month": "1977-08",
                  "Sunspots": 30.1
                },
                {
                  "index": 2744,
                  "Month": "1977-09",
                  "Sunspots": 44
                },
                {
                  "index": 2745,
                  "Month": "1977-10",
                  "Sunspots": 43.8
                },
                {
                  "index": 2746,
                  "Month": "1977-11",
                  "Sunspots": 29.1
                },
                {
                  "index": 2747,
                  "Month": "1977-12",
                  "Sunspots": 43.2
                },
                {
                  "index": 2748,
                  "Month": "1978-01",
                  "Sunspots": 51.9
                },
                {
                  "index": 2749,
                  "Month": "1978-02",
                  "Sunspots": 93.6
                },
                {
                  "index": 2750,
                  "Month": "1978-03",
                  "Sunspots": 76.5
                },
                {
                  "index": 2751,
                  "Month": "1978-04",
                  "Sunspots": 99.7
                },
                {
                  "index": 2752,
                  "Month": "1978-05",
                  "Sunspots": 82.7
                },
                {
                  "index": 2753,
                  "Month": "1978-06",
                  "Sunspots": 95.1
                },
                {
                  "index": 2754,
                  "Month": "1978-07",
                  "Sunspots": 70.4
                },
                {
                  "index": 2755,
                  "Month": "1978-08",
                  "Sunspots": 58.1
                },
                {
                  "index": 2756,
                  "Month": "1978-09",
                  "Sunspots": 138.2
                },
                {
                  "index": 2757,
                  "Month": "1978-10",
                  "Sunspots": 125.1
                },
                {
                  "index": 2758,
                  "Month": "1978-11",
                  "Sunspots": 97.9
                },
                {
                  "index": 2759,
                  "Month": "1978-12",
                  "Sunspots": 122.7
                },
                {
                  "index": 2760,
                  "Month": "1979-01",
                  "Sunspots": 166.6
                },
                {
                  "index": 2761,
                  "Month": "1979-02",
                  "Sunspots": 137.5
                },
                {
                  "index": 2762,
                  "Month": "1979-03",
                  "Sunspots": 138
                },
                {
                  "index": 2763,
                  "Month": "1979-04",
                  "Sunspots": 101.5
                },
                {
                  "index": 2764,
                  "Month": "1979-05",
                  "Sunspots": 134.4
                },
                {
                  "index": 2765,
                  "Month": "1979-06",
                  "Sunspots": 149.5
                },
                {
                  "index": 2766,
                  "Month": "1979-07",
                  "Sunspots": 159.4
                },
                {
                  "index": 2767,
                  "Month": "1979-08",
                  "Sunspots": 142.2
                },
                {
                  "index": 2768,
                  "Month": "1979-09",
                  "Sunspots": 188.4
                },
                {
                  "index": 2769,
                  "Month": "1979-10",
                  "Sunspots": 186.2
                },
                {
                  "index": 2770,
                  "Month": "1979-11",
                  "Sunspots": 183.3
                },
                {
                  "index": 2771,
                  "Month": "1979-12",
                  "Sunspots": 176.3
                },
                {
                  "index": 2772,
                  "Month": "1980-01",
                  "Sunspots": 159.6
                },
                {
                  "index": 2773,
                  "Month": "1980-02",
                  "Sunspots": 155
                },
                {
                  "index": 2774,
                  "Month": "1980-03",
                  "Sunspots": 126.2
                },
                {
                  "index": 2775,
                  "Month": "1980-04",
                  "Sunspots": 164.1
                },
                {
                  "index": 2776,
                  "Month": "1980-05",
                  "Sunspots": 179.9
                },
                {
                  "index": 2777,
                  "Month": "1980-06",
                  "Sunspots": 157.3
                },
                {
                  "index": 2778,
                  "Month": "1980-07",
                  "Sunspots": 136.3
                },
                {
                  "index": 2779,
                  "Month": "1980-08",
                  "Sunspots": 135.4
                },
                {
                  "index": 2780,
                  "Month": "1980-09",
                  "Sunspots": 155
                },
                {
                  "index": 2781,
                  "Month": "1980-10",
                  "Sunspots": 164.7
                },
                {
                  "index": 2782,
                  "Month": "1980-11",
                  "Sunspots": 147.9
                },
                {
                  "index": 2783,
                  "Month": "1980-12",
                  "Sunspots": 174.4
                },
                {
                  "index": 2784,
                  "Month": "1981-01",
                  "Sunspots": 114
                },
                {
                  "index": 2785,
                  "Month": "1981-02",
                  "Sunspots": 141.3
                },
                {
                  "index": 2786,
                  "Month": "1981-03",
                  "Sunspots": 135.5
                },
                {
                  "index": 2787,
                  "Month": "1981-04",
                  "Sunspots": 156.4
                },
                {
                  "index": 2788,
                  "Month": "1981-05",
                  "Sunspots": 127.5
                },
                {
                  "index": 2789,
                  "Month": "1981-06",
                  "Sunspots": 90
                },
                {
                  "index": 2790,
                  "Month": "1981-07",
                  "Sunspots": 143.8
                },
                {
                  "index": 2791,
                  "Month": "1981-08",
                  "Sunspots": 158.7
                },
                {
                  "index": 2792,
                  "Month": "1981-09",
                  "Sunspots": 167.3
                },
                {
                  "index": 2793,
                  "Month": "1981-10",
                  "Sunspots": 162.4
                },
                {
                  "index": 2794,
                  "Month": "1981-11",
                  "Sunspots": 137.5
                },
                {
                  "index": 2795,
                  "Month": "1981-12",
                  "Sunspots": 150.1
                },
                {
                  "index": 2796,
                  "Month": "1982-01",
                  "Sunspots": 111.2
                },
                {
                  "index": 2797,
                  "Month": "1982-02",
                  "Sunspots": 163.6
                },
                {
                  "index": 2798,
                  "Month": "1982-03",
                  "Sunspots": 153.8
                },
                {
                  "index": 2799,
                  "Month": "1982-04",
                  "Sunspots": 122
                },
                {
                  "index": 2800,
                  "Month": "1982-05",
                  "Sunspots": 82.2
                },
                {
                  "index": 2801,
                  "Month": "1982-06",
                  "Sunspots": 110.4
                },
                {
                  "index": 2802,
                  "Month": "1982-07",
                  "Sunspots": 106.1
                },
                {
                  "index": 2803,
                  "Month": "1982-08",
                  "Sunspots": 107.6
                },
                {
                  "index": 2804,
                  "Month": "1982-09",
                  "Sunspots": 118.8
                },
                {
                  "index": 2805,
                  "Month": "1982-10",
                  "Sunspots": 94.7
                },
                {
                  "index": 2806,
                  "Month": "1982-11",
                  "Sunspots": 98.1
                },
                {
                  "index": 2807,
                  "Month": "1982-12",
                  "Sunspots": 127
                },
                {
                  "index": 2808,
                  "Month": "1983-01",
                  "Sunspots": 84.3
                },
                {
                  "index": 2809,
                  "Month": "1983-02",
                  "Sunspots": 51
                },
                {
                  "index": 2810,
                  "Month": "1983-03",
                  "Sunspots": 66.5
                },
                {
                  "index": 2811,
                  "Month": "1983-04",
                  "Sunspots": 80.7
                },
                {
                  "index": 2812,
                  "Month": "1983-05",
                  "Sunspots": 99.2
                },
                {
                  "index": 2813,
                  "Month": "1983-06",
                  "Sunspots": 91.1
                },
                {
                  "index": 2814,
                  "Month": "1983-07",
                  "Sunspots": 82.2
                },
                {
                  "index": 2815,
                  "Month": "1983-08",
                  "Sunspots": 71.8
                },
                {
                  "index": 2816,
                  "Month": "1983-09",
                  "Sunspots": 50.3
                },
                {
                  "index": 2817,
                  "Month": "1983-10",
                  "Sunspots": 55.8
                },
                {
                  "index": 2818,
                  "Month": "1983-11",
                  "Sunspots": 33.3
                },
                {
                  "index": 2819,
                  "Month": "1983-12",
                  "Sunspots": 33.4
                }
              ],
              "datalink": {
                "display_id": "0fc0ade4-8b83-441a-98a7-dfe5c5bca9f6"
              }
            }
          },
          "metadata": {
            "application/vnd.dataresource+json": {
              "datalink": {
                "dataframe_info": {
                  "default_index_used": true,
                  "orig_size_bytes": 45248,
                  "orig_num_rows": 2820,
                  "orig_num_cols": 2,
                  "truncated_string_columns": [],
                  "truncated_size_bytes": 45248,
                  "truncated_num_rows": 2820,
                  "truncated_num_cols": 2
                },
                "dx_settings": {
                  "NUM_PAST_SAMPLES_TRACKED": 3,
                  "ENABLE_DATALINK": true,
                  "DISPLAY_MODE": "simple",
                  "GENERATE_DEX_METADATA": false,
                  "STRINGIFY_INDEX_VALUES": false,
                  "ALLOW_NOTEABLE_ATTRS": true,
                  "DISPLAY_MAX_COLUMNS": 100,
                  "HTML_TABLE_SCHEMA": false,
                  "SAMPLING_FACTOR": 0.1,
                  "LOG_LEVEL": 30,
                  "ENABLE_ASSIGNMENT": true,
                  "FLATTEN_INDEX_VALUES": false,
                  "DEV_MODE": false,
                  "COLUMN_SAMPLING_METHOD": "outer",
                  "FLATTEN_COLUMN_VALUES": true,
                  "DISPLAY_MAX_ROWS": 50000,
                  "ROW_SAMPLING_METHOD": "random",
                  "RANDOM_STATE": 12648430,
                  "DB_LOCATION": ":memory:",
                  "STRINGIFY_COLUMN_VALUES": true,
                  "SAMPLING_METHOD": "random",
                  "MAX_STRING_LENGTH": 250,
                  "MAX_RENDER_SIZE_BYTES": 104857600,
                  "RESET_INDEX_VALUES": false
                },
                "display_id": "0fc0ade4-8b83-441a-98a7-dfe5c5bca9f6",
                "applied_filters": [],
                "sample_history": [],
                "sampling_time": "2023-04-30T18:15:31.006937",
                "variable_name": "sunspots",
                "user_variable_name": "sunspots"
              },
              "display_id": "0fc0ade4-8b83-441a-98a7-dfe5c5bca9f6"
            }
          }
        }
      ],
      "execution_count": null,
      "metadata": {
        "jupyter": {
          "outputs_hidden": false,
          "source_hidden": false
        },
        "noteable": {
          "cell_type": "code"
        },
        "ExecuteTime": {
          "end_time": "2023-04-30T18:15:31.172149+00:00",
          "start_time": "2023-04-30T18:15:29.497172+00:00"
        },
        "tags": [
          "show_line_numbers"
        ],
        "datalink": {
          "40ed15b7-5d59-49d0-bb68-03464e0e8b0d": {
            "applied_filters": [],
            "dataframe_info": {
              "default_index_used": true,
              "orig_num_cols": 2,
              "orig_num_rows": 2820,
              "orig_size_bytes": 45248,
              "truncated_num_cols": 2,
              "truncated_num_rows": 2820,
              "truncated_size_bytes": 45248,
              "truncated_string_columns": []
            },
            "display_id": "40ed15b7-5d59-49d0-bb68-03464e0e8b0d",
            "dx_settings": {
              "ALLOW_NOTEABLE_ATTRS": true,
              "COLUMN_SAMPLING_METHOD": "outer",
              "DB_LOCATION": ":memory:",
              "DEV_MODE": false,
              "DISPLAY_MAX_COLUMNS": 100,
              "DISPLAY_MAX_ROWS": 50000,
              "DISPLAY_MODE": "simple",
              "ENABLE_ASSIGNMENT": true,
              "ENABLE_DATALINK": true,
              "FLATTEN_COLUMN_VALUES": true,
              "FLATTEN_INDEX_VALUES": false,
              "GENERATE_DEX_METADATA": false,
              "HTML_TABLE_SCHEMA": false,
              "LOG_LEVEL": 30,
              "MAX_RENDER_SIZE_BYTES": 104857600,
              "MAX_STRING_LENGTH": 250,
              "NUM_PAST_SAMPLES_TRACKED": 3,
              "RANDOM_STATE": 12648430,
              "RESET_INDEX_VALUES": false,
              "ROW_SAMPLING_METHOD": "random",
              "SAMPLING_FACTOR": 0.1,
              "SAMPLING_METHOD": "random",
              "STRINGIFY_COLUMN_VALUES": true,
              "STRINGIFY_INDEX_VALUES": false
            },
            "sample_history": [],
            "sampling_time": "2023-04-26T18:38:51.036431",
            "user_variable_name": "sunspots",
            "variable_name": "sunspots"
          },
          "9632954c-588a-4c80-99fc-82955d4fd736": {
            "applied_filters": [],
            "dataframe_info": {
              "default_index_used": true,
              "orig_num_cols": 2,
              "orig_num_rows": 2820,
              "orig_size_bytes": 45248,
              "truncated_num_cols": 2,
              "truncated_num_rows": 2820,
              "truncated_size_bytes": 45248,
              "truncated_string_columns": []
            },
            "display_id": "9632954c-588a-4c80-99fc-82955d4fd736",
            "dx_settings": {
              "ALLOW_NOTEABLE_ATTRS": true,
              "COLUMN_SAMPLING_METHOD": "outer",
              "DB_LOCATION": ":memory:",
              "DEV_MODE": false,
              "DISPLAY_MAX_COLUMNS": 100,
              "DISPLAY_MAX_ROWS": 50000,
              "DISPLAY_MODE": "simple",
              "ENABLE_ASSIGNMENT": true,
              "ENABLE_DATALINK": true,
              "FLATTEN_COLUMN_VALUES": true,
              "FLATTEN_INDEX_VALUES": false,
              "GENERATE_DEX_METADATA": false,
              "HTML_TABLE_SCHEMA": false,
              "LOG_LEVEL": 30,
              "MAX_RENDER_SIZE_BYTES": 104857600,
              "MAX_STRING_LENGTH": 250,
              "NUM_PAST_SAMPLES_TRACKED": 3,
              "RANDOM_STATE": 12648430,
              "RESET_INDEX_VALUES": false,
              "ROW_SAMPLING_METHOD": "random",
              "SAMPLING_FACTOR": 0.1,
              "SAMPLING_METHOD": "random",
              "STRINGIFY_COLUMN_VALUES": true,
              "STRINGIFY_INDEX_VALUES": false
            },
            "sample_history": [],
            "sampling_time": "2023-04-28T18:55:54.349489",
            "user_variable_name": "sunspots",
            "variable_name": "sunspots"
          },
          "dc82a868-cf62-41ee-938e-a25f637d871a": {
            "applied_filters": [],
            "dataframe_info": {
              "default_index_used": true,
              "orig_num_cols": 2,
              "orig_num_rows": 2820,
              "orig_size_bytes": 45248,
              "truncated_num_cols": 2,
              "truncated_num_rows": 2820,
              "truncated_size_bytes": 45248,
              "truncated_string_columns": []
            },
            "display_id": "dc82a868-cf62-41ee-938e-a25f637d871a",
            "dx_settings": {
              "ALLOW_NOTEABLE_ATTRS": true,
              "COLUMN_SAMPLING_METHOD": "outer",
              "DB_LOCATION": ":memory:",
              "DEV_MODE": false,
              "DISPLAY_MAX_COLUMNS": 100,
              "DISPLAY_MAX_ROWS": 50000,
              "DISPLAY_MODE": "simple",
              "ENABLE_ASSIGNMENT": true,
              "ENABLE_DATALINK": true,
              "FLATTEN_COLUMN_VALUES": true,
              "FLATTEN_INDEX_VALUES": false,
              "GENERATE_DEX_METADATA": false,
              "HTML_TABLE_SCHEMA": false,
              "LOG_LEVEL": 30,
              "MAX_RENDER_SIZE_BYTES": 104857600,
              "MAX_STRING_LENGTH": 250,
              "NUM_PAST_SAMPLES_TRACKED": 3,
              "RANDOM_STATE": 12648430,
              "RESET_INDEX_VALUES": false,
              "ROW_SAMPLING_METHOD": "random",
              "SAMPLING_FACTOR": 0.1,
              "SAMPLING_METHOD": "random",
              "STRINGIFY_COLUMN_VALUES": true,
              "STRINGIFY_INDEX_VALUES": false
            },
            "sample_history": [],
            "sampling_time": "2023-04-28T19:47:03.442977",
            "user_variable_name": "sunspots",
            "variable_name": "sunspots"
          },
          "0fc0ade4-8b83-441a-98a7-dfe5c5bca9f6": {
            "applied_filters": [],
            "dataframe_info": {
              "default_index_used": true,
              "orig_num_cols": 2,
              "orig_num_rows": 2820,
              "orig_size_bytes": 45248,
              "truncated_num_cols": 2,
              "truncated_num_rows": 2820,
              "truncated_size_bytes": 45248,
              "truncated_string_columns": []
            },
            "display_id": "0fc0ade4-8b83-441a-98a7-dfe5c5bca9f6",
            "dx_settings": {
              "ALLOW_NOTEABLE_ATTRS": true,
              "COLUMN_SAMPLING_METHOD": "outer",
              "DB_LOCATION": ":memory:",
              "DEV_MODE": false,
              "DISPLAY_MAX_COLUMNS": 100,
              "DISPLAY_MAX_ROWS": 50000,
              "DISPLAY_MODE": "simple",
              "ENABLE_ASSIGNMENT": true,
              "ENABLE_DATALINK": true,
              "FLATTEN_COLUMN_VALUES": true,
              "FLATTEN_INDEX_VALUES": false,
              "GENERATE_DEX_METADATA": false,
              "HTML_TABLE_SCHEMA": false,
              "LOG_LEVEL": 30,
              "MAX_RENDER_SIZE_BYTES": 104857600,
              "MAX_STRING_LENGTH": 250,
              "NUM_PAST_SAMPLES_TRACKED": 3,
              "RANDOM_STATE": 12648430,
              "RESET_INDEX_VALUES": false,
              "ROW_SAMPLING_METHOD": "random",
              "SAMPLING_FACTOR": 0.1,
              "SAMPLING_METHOD": "random",
              "STRINGIFY_COLUMN_VALUES": true,
              "STRINGIFY_INDEX_VALUES": false
            },
            "sample_history": [],
            "sampling_time": "2023-04-30T18:15:31.006937",
            "user_variable_name": "sunspots",
            "variable_name": "sunspots"
          }
        },
        "dx": {
          "dashboard": {
            "multiViews": []
          },
          "fieldMetadata": {
            "Month": {
              "columnPosition": 2
            },
            "Sunspots": {
              "aggregation": "MAX",
              "columnPosition": 3
            },
            "index": {
              "columnPosition": 1
            }
          },
          "updated": 1682708274940,
          "views": [
            {
              "annotationRules": [],
              "chart": {},
              "chartMode": "grid",
              "confoRules": [],
              "decoration": {
                "footer": "",
                "subtitle": "",
                "title": "Table"
              },
              "facets": [],
              "filterSettings": {
                "SHOW_FILTER_PANEL": true,
                "filters": []
              },
              "id": "first-view",
              "isDefault": true,
              "type": "public",
              "userID": ""
            },
            {
              "annotationRules": [],
              "chart": {},
              "chartMode": "grid",
              "confoRules": [],
              "decoration": {
                "footer": "",
                "subtitle": "",
                "title": "Table"
              },
              "facets": [],
              "filterSettings": {
                "SHOW_FILTER_PANEL": true,
                "filters": []
              },
              "id": "first-view",
              "isDefault": true,
              "isTransitory": true,
              "type": "public",
              "userID": ""
            }
          ]
        }
      },
      "id": "587cd11f-7ce5-4b17-a533-642ab427798f"
    },
    {
      "cell_type": "code",
      "source": [
        "x = np.linspace(1749.0, 1984.0, 2820, 1/12).reshape(-1, 1)\n",
        "y = sunspots['Sunspots'].to_numpy()"
      ],
      "outputs": [],
      "execution_count": null,
      "metadata": {
        "jupyter": {
          "outputs_hidden": false,
          "source_hidden": false
        },
        "noteable": {
          "cell_type": "code"
        },
        "ExecuteTime": {
          "end_time": "2023-04-30T18:15:31.625715+00:00",
          "start_time": "2023-04-30T18:15:31.468934+00:00"
        }
      },
      "id": "ccb60354-fb13-4044-8d81-11b9981ee24b"
    },
    {
      "cell_type": "code",
      "source": [
        "plt.scatter(x, y, c='k', s = 0.2)\n",
        "plt.xticks()"
      ],
      "outputs": [
        {
          "output_type": "execute_result",
          "execution_count": null,
          "data": {
            "text/plain": "(array([1700., 1750., 1800., 1850., 1900., 1950., 2000.]),\n [Text(1700.0, 0, '1700'),\n  Text(1750.0, 0, '1750'),\n  Text(1800.0, 0, '1800'),\n  Text(1850.0, 0, '1850'),\n  Text(1900.0, 0, '1900'),\n  Text(1950.0, 0, '1950'),\n  Text(2000.0, 0, '2000')])"
          },
          "metadata": {}
        },
        {
          "output_type": "display_data",
          "data": {
            "image/png": "[encoded data removed]"
          },
          "metadata": {}
        }
      ],
      "execution_count": null,
      "metadata": {
        "jupyter": {
          "outputs_hidden": false,
          "source_hidden": false
        },
        "noteable": {
          "cell_type": "code"
        },
        "ExecuteTime": {
          "end_time": "2023-04-30T18:15:32.166408+00:00",
          "start_time": "2023-04-30T18:15:31.633599+00:00"
        }
      },
      "id": "a06e27e5-012a-487c-8e4d-a32fd3d0d657"
    },
    {
      "cell_type": "code",
      "source": [
        "'''from sklearn.gaussian_process.kernels import RBF\n",
        "\n",
        "long_term_trend_kernel = 50.0**2 * RBF(length_scale=50.0)'''"
      ],
      "outputs": [
        {
          "output_type": "execute_result",
          "execution_count": null,
          "data": {
            "text/plain": "'from sklearn.gaussian_process.kernels import RBF\\n\\nlong_term_trend_kernel = 50.0**2 * RBF(length_scale=50.0)'"
          },
          "metadata": {}
        }
      ],
      "execution_count": null,
      "metadata": {
        "jupyter": {
          "outputs_hidden": false,
          "source_hidden": false
        },
        "noteable": {
          "cell_type": "code"
        },
        "ExecuteTime": {
          "end_time": "2023-04-30T18:15:32.514432+00:00",
          "start_time": "2023-04-30T18:15:32.356355+00:00"
        }
      },
      "id": "593c6d4c-7771-4dbf-8d8d-bc96516c77a3"
    },
    {
      "cell_type": "code",
      "source": [
        "from sklearn.gaussian_process.kernels import RBF\n",
        "\n",
        "long_term_trend_kernel = 1.0**2 * RBF(length_scale=1.0)"
      ],
      "outputs": [],
      "execution_count": null,
      "metadata": {
        "jupyter": {
          "outputs_hidden": false,
          "source_hidden": false
        },
        "noteable": {
          "cell_type": "code"
        },
        "ExecuteTime": {
          "end_time": "2023-04-30T18:15:32.701431+00:00",
          "start_time": "2023-04-30T18:15:32.544404+00:00"
        }
      },
      "id": "48117633-ad22-49ca-b470-8e42f21272b2"
    },
    {
      "cell_type": "code",
      "source": [
        "from sklearn.gaussian_process.kernels import ExpSineSquared\n",
        "sub_kernel = (\n",
        "    2.0**2\n",
        "    * RBF(length_scale=50.0)\n",
        "    * ExpSineSquared(length_scale=12.5, periodicity=12.5)\n",
        ")"
      ],
      "outputs": [],
      "execution_count": null,
      "metadata": {
        "jupyter": {
          "outputs_hidden": false,
          "source_hidden": false
        },
        "noteable": {
          "cell_type": "code"
        },
        "ExecuteTime": {
          "end_time": "2023-04-30T18:15:32.867793+00:00",
          "start_time": "2023-04-30T18:15:32.708822+00:00"
        }
      },
      "id": "81cc32b1-5a40-4c93-98c5-29de2a777651"
    },
    {
      "cell_type": "code",
      "source": [
        "from sklearn.gaussian_process.kernels import RationalQuadratic\n",
        "\n",
        "irregularities_kernel = 0.5**2 * RationalQuadratic(length_scale=1.0, alpha=1.0)"
      ],
      "outputs": [],
      "execution_count": null,
      "metadata": {
        "jupyter": {
          "outputs_hidden": false,
          "source_hidden": false
        },
        "noteable": {
          "cell_type": "code"
        },
        "ExecuteTime": {
          "end_time": "2023-04-30T18:15:33.033060+00:00",
          "start_time": "2023-04-30T18:15:32.876052+00:00"
        }
      },
      "id": "512f529c-c667-47ae-b89b-56848d8e51a0"
    },
    {
      "cell_type": "code",
      "source": [
        "from sklearn.gaussian_process.kernels import WhiteKernel\n",
        "\n",
        "noise_kernel = 0.1**2 * RBF(length_scale=0.1) + WhiteKernel(\n",
        "    noise_level=0.1**2, noise_level_bounds=(1e-5, 1e5)\n",
        ")"
      ],
      "outputs": [],
      "execution_count": null,
      "metadata": {
        "jupyter": {
          "outputs_hidden": false,
          "source_hidden": false
        },
        "noteable": {
          "cell_type": "code"
        },
        "ExecuteTime": {
          "end_time": "2023-04-30T18:15:33.198648+00:00",
          "start_time": "2023-04-30T18:15:33.042675+00:00"
        }
      },
      "id": "5b0ca923-4406-44b9-abcf-d33f540bd50c"
    },
    {
      "cell_type": "code",
      "source": [
        "main_kernel = (\n",
        "    sub_kernel + long_term_trend_kernel + irregularities_kernel + noise_kernel\n",
        ")"
      ],
      "outputs": [],
      "execution_count": null,
      "metadata": {
        "jupyter": {
          "outputs_hidden": false,
          "source_hidden": false
        },
        "noteable": {
          "cell_type": "code"
        },
        "ExecuteTime": {
          "end_time": "2023-04-30T18:15:33.362198+00:00",
          "start_time": "2023-04-30T18:15:33.207134+00:00"
        }
      },
      "id": "0c461344-81e4-492b-97df-f7f7a27ab7c8"
    },
    {
      "cell_type": "code",
      "source": [
        "from sklearn.gaussian_process import GaussianProcessRegressor\n",
        "\n",
        "y_mean = y.mean()\n",
        "gaussian_process = GaussianProcessRegressor(kernel=main_kernel, normalize_y=False)\n",
        "gaussian_process.fit(x, y - y_mean)"
      ],
      "outputs": [],
      "execution_count": null,
      "metadata": {
        "jupyter": {
          "outputs_hidden": false,
          "source_hidden": false
        },
        "noteable": {
          "cell_type": "code"
        },
        "ExecuteTime": {
          "end_time": "2023-04-30T18:32:58.573510+00:00",
          "start_time": "2023-04-30T18:15:33.370444+00:00"
        },
        "scrolled": true
      },
      "id": "c6476368-77e5-4747-ae45-3123b1751066"
    },
    {
      "cell_type": "code",
      "source": [
        "import datetime\n",
        "import numpy as np\n",
        "\n",
        "today = datetime.datetime.now()\n",
        "current_month = today.year + today.month / 12\n",
        "X_test = np.linspace(start=1749, stop=current_month, num=2820).reshape(-1, 1)\n",
        "sunnum_pred, std_sunnum_pred = gaussian_process.predict(X_test, return_std=True)"
      ],
      "outputs": [],
      "execution_count": null,
      "metadata": {
        "jupyter": {
          "outputs_hidden": false,
          "source_hidden": false
        },
        "noteable": {
          "cell_type": "code"
        },
        "ExecuteTime": {
          "end_time": "2023-04-30T18:33:02.868093+00:00",
          "start_time": "2023-04-30T18:32:58.581008+00:00"
        }
      },
      "id": "30c2d376-5ecd-45b0-a3f9-6cc20b42d508"
    },
    {
      "cell_type": "code",
      "source": [
        "plt.scatter(x, y, color=\"black\", s=0.2, label=\"Data\")\n",
        "plt.plot(X_test, sunnum_pred + y_mean, color=\"red\", alpha=0.6, label=\"Gaussian process\", linewidth = 0.5)\n",
        "plt.fill_between(\n",
        "    X_test.ravel(),\n",
        "    sunnum_pred - std_sunnum_pred + y_mean,\n",
        "    sunnum_pred + std_sunnum_pred + y_mean, \n",
        "    color=\"tab:blue\",\n",
        "    alpha=0.2,\n",
        "    label = \"Deviation Bounds\"\n",
        ")\n",
        "plt.legend()\n",
        "plt.title(\"Attempt at Predictive Sunspot Modelling\")\n",
        "plt.xlabel(\"Year\")\n",
        "plt.ylabel(\"Sunspot Count\")\n"
      ],
      "outputs": [
        {
          "output_type": "execute_result",
          "execution_count": null,
          "data": {
            "text/plain": "Text(0, 0.5, 'Sunspot Count')"
          },
          "metadata": {}
        },
        {
          "output_type": "display_data",
          "data": {
            "image/png": "[encoded data removed]"
          },
          "metadata": {}
        }
      ],
      "execution_count": null,
      "metadata": {
        "jupyter": {
          "outputs_hidden": false,
          "source_hidden": false
        },
        "noteable": {
          "cell_type": "code"
        },
        "ExecuteTime": {
          "end_time": "2023-04-30T18:42:31.935557+00:00",
          "start_time": "2023-04-30T18:42:31.184606+00:00"
        },
        "scrolled": true
      },
      "id": "1538a952-81cf-44ba-9a77-c6532bbb348a"
    },
    {
      "cell_type": "code",
      "source": [],
      "outputs": [],
      "execution_count": null,
      "metadata": {
        "jupyter": {
          "outputs_hidden": false,
          "source_hidden": false
        },
        "noteable": {
          "cell_type": "code"
        }
      },
      "id": "5c7288dc-0b7b-4738-a047-fc36c699c069"
    }
  ],
  "metadata": {
    "selected_hardware_size": "small",
    "noteable": {
      "last_transaction_id": "626cb565-9b1a-4e28-adb2-a8cbf8d2ba32",
      "db_connection": "@noteable",
      "last_delta_id": "626cb565-9b1a-4e28-adb2-a8cbf8d2ba32"
    },
    "nteract": {
      "version": "noteable@2.9.0"
    }
  },
  "nbformat": 4,
  "nbformat_minor": 5
}